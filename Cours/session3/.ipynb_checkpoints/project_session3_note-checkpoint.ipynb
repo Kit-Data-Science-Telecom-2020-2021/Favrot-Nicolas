{
 "cells": [
  {
   "cell_type": "code",
   "execution_count": 1,
   "metadata": {},
   "outputs": [],
   "source": [
    "# imports\n",
    "from bs4 import BeautifulSoup"
   ]
  },
  {
   "cell_type": "code",
   "execution_count": 144,
   "metadata": {},
   "outputs": [],
   "source": [
    "import unittest\n",
    "import requests\n",
    "import re\n",
    "\n",
    "URL_PAGE2 = \"https://kim.fspot.org/cours/page2.html\"\n",
    "URL_PAGE3 = \"https://kim.fspot.org/cours/page3.html\"\n",
    "\n",
    "# 1) Ecrire une fonction get_prices_from_url() qui extrait des informations à partir des 2 pages ci-dessus.\n",
    "# Exemple get_prices_from_url(URL_PAGE2) doit retourner :\n",
    "# {'Personal': {'price': '$5', 'storage': '1GB', 'databases': 1},\n",
    "#  'Small Business': {'price': '$25', 'storage': '10GB', 'databases': 5},\n",
    "#  'Enterprise': {'price': '$45', 'storage': '100GB', 'databases': 25}}\n",
    "\n",
    "def get_prices_from_url(url):\n",
    "    prices = {}\n",
    "    r = requests.get(url)\n",
    "    content = r.content.decode('utf-8')\n",
    "    soup = BeautifulSoup(content)\n",
    "    for i in range(len(soup.find_all('h2'))):\n",
    "        prix = soup.find_all('span', {'class': \"pricing-table-price\"})[i].text\n",
    "        tab = soup.find_all('ul', {'class': \"pricing-table-list\"})[i]\n",
    "        stor = tab.find_all('li')[3].text\n",
    "        data = tab.find_all('li')[4].text        \n",
    "        \n",
    "        prices[soup.find_all('h2')[i].text] = {'price': re.findall('[0-9$]+', prix)[0],\n",
    "                                               'storage':re.findall('[0-9A-Z]+', stor)[0],\n",
    "                                              'databases': data}\n",
    "    return prices\n",
    "\n",
    "\n",
    "# 2) Ecrire une fonction qui extrait des informations sur une bière de beowulf\n",
    "# Exemple URL: https://www.beerwulf.com/fr-fr/p/bieres/brouwerij-t-verzet-super-noah.33\n",
    "\n",
    "def extract_beer_infos(url):\n",
    "    r = requests.get(url)\n",
    "    content = r.content.decode('utf-8')\n",
    "    soup = BeautifulSoup(content)\n",
    "    \n",
    "    \n",
    "    infos = {\n",
    "        'name': soup.find_all('h1')[0].text,\n",
    "        'note': re.findall('[0-9,]+',soup.find_all('span', {'class' : \"label-stars\"})[0].text)[0],\n",
    "        'price': re.findall('[0-9,]+',soup.find_all('span', {'class' : \"price\"})[0].text)[0],\n",
    "        'volume': re.findall('[0-9 cl]+',soup.find_all('div', {'class' : \"product-subtext\"})[0].text)[-1],\n",
    "    }\n",
    "    return infos\n"
   ]
  },
  {
   "cell_type": "code",
   "execution_count": 146,
   "metadata": {
    "scrolled": true
   },
   "outputs": [
    {
     "data": {
      "text/plain": [
       "{'name': \"Brouwerij 'T Verzet Super NoAH\",\n",
       " 'note': '3,34',\n",
       " 'price': '2,59',\n",
       " 'volume': ' 33 cl'}"
      ]
     },
     "execution_count": 146,
     "metadata": {},
     "output_type": "execute_result"
    }
   ],
   "source": [
    "infos = extract_beer_infos('https://www.beerwulf.com/fr-fr/p/bieres/brouwerij-t-verzet-super-noah.33')\n",
    "infos"
   ]
  },
  {
   "cell_type": "code",
   "execution_count": 147,
   "metadata": {
    "scrolled": true
   },
   "outputs": [
    {
     "data": {
      "text/plain": [
       "{'name': 'Steamworks Killer Cucumber Ale',\n",
       " 'note': '3,41',\n",
       " 'price': '2,99',\n",
       " 'volume': ' 33 cl'}"
      ]
     },
     "execution_count": 147,
     "metadata": {},
     "output_type": "execute_result"
    }
   ],
   "source": [
    "infos = extract_beer_infos('https://www.beerwulf.com/fr-fr/p/bieres/steamworks-killer-cucumber-ale.33')\n",
    "infos"
   ]
  },
  {
   "cell_type": "code",
   "execution_count": 141,
   "metadata": {},
   "outputs": [
    {
     "data": {
      "text/plain": [
       "' 33 cl'"
      ]
     },
     "execution_count": 141,
     "metadata": {},
     "output_type": "execute_result"
    }
   ],
   "source": [
    "re.findall('[0-9 cl]+',soup.find_all('div', {'class' : \"product-subtext\"})[0].text)[-1]"
   ]
  },
  {
   "cell_type": "code",
   "execution_count": 68,
   "metadata": {},
   "outputs": [
    {
     "data": {
      "text/plain": [
       "[<span class=\"pricing-table-price\">\n",
       "                         $5 <span>per month</span>\n",
       " </span>,\n",
       " <span class=\"pricing-table-price\">\n",
       "                         $25 <span>per month</span>\n",
       " </span>,\n",
       " <span class=\"pricing-table-price\">\n",
       "                         $45 <span>per month</span>\n",
       " </span>]"
      ]
     },
     "execution_count": 68,
     "metadata": {},
     "output_type": "execute_result"
    }
   ],
   "source": [
    "soup.find_all('span', {'class': \"pricing-table-price\"})"
   ]
  },
  {
   "cell_type": "code",
   "execution_count": null,
   "metadata": {},
   "outputs": [],
   "source": [
    "text = soup.find_all('span', {'class': \"pricing-table-price\"})[1].text\n",
    "text"
   ]
  },
  {
   "cell_type": "code",
   "execution_count": 34,
   "metadata": {},
   "outputs": [
    {
     "data": {
      "text/plain": [
       "['$25']"
      ]
     },
     "execution_count": 34,
     "metadata": {},
     "output_type": "execute_result"
    }
   ],
   "source": [
    "re.findall('[0-9$]+', text)"
   ]
  },
  {
   "cell_type": "code",
   "execution_count": 95,
   "metadata": {},
   "outputs": [
    {
     "data": {
      "text/plain": [
       "'1GB'"
      ]
     },
     "execution_count": 95,
     "metadata": {},
     "output_type": "execute_result"
    }
   ],
   "source": [
    "text = soup.find_all('ul', {'class': \"pricing-table-list\"})[0]\n",
    "text = text.find_all('li')[3].text\n",
    "a = re.findall('[0-9A-Z]+', text)\n",
    "a[0]"
   ]
  },
  {
   "cell_type": "code",
   "execution_count": 63,
   "metadata": {},
   "outputs": [
    {
     "data": {
      "text/plain": [
       "'1 database'"
      ]
     },
     "execution_count": 63,
     "metadata": {},
     "output_type": "execute_result"
    }
   ],
   "source": [
    "text = soup.find_all('ul', {'class': \"pricing-table-list\"})[0]\n",
    "text = text.find_all('li')[4].text\n",
    "#re.findall('[0-9a-z]+', text)\n",
    "text"
   ]
  },
  {
   "cell_type": "code",
   "execution_count": 154,
   "metadata": {},
   "outputs": [],
   "source": [
    " import json \n",
    "# Cette URL retourne un JSON avec une liste de bières\n",
    "URL_BEERLIST_AUTRICHE = \"https://www.beerwulf.com/fr-FR/api/search/searchProducts?country=Autriche&container=Bouteille\"\n",
    "\n",
    "# 3) Ecrire une fonction qui prend l'argument \"url\" retourne les informations sur une liste de bière via l'API de beowulf.\n",
    "# Cette fonction doit retourner la liste des informations obtenues par la fonction extract_beer_infos() définie ci-dessus.\n",
    "# Chercher comment optimiser cette fonction en utilisant multiprocessing.Pool pour paralléliser les accès web.\n",
    "#\n",
    "# Exemple de retour :\n",
    "# [{'name': 'Engelszell Benno', 'note': 70, 'price': 4.29, 'volume': 33}\n",
    "#  {'name': 'Engelszell Trappisten Weiße', 'note': 70, 'price': 3.39, 'volume': 33}\n",
    "#  {'name': 'Engelszell Gregorius', 'note': 70, 'price': 4.49, 'volume': 33}\n",
    "#  {'name': 'Bevog Rudeen Black IPA', 'note': 80, 'price': 4.49, 'volume': 33}\n",
    "#  {'name': 'Bevog Tak Pale Ale', 'note': 70, 'price': 2.79, 'volume': 33}\n",
    "#  {'name': 'Brew Age Affenkönig', 'note': 70, 'price': 3.49, 'volume': 33}\n",
    "#  {'name': 'Stiegl Goldbraü', 'note': 70, 'price': 2.49, 'volume': 33}\n",
    "#  {'name': 'Stiegl Columbus 1492', 'note': 70, 'price': 2.49, 'volume': 33}\n",
    "#  {'name': 'Brew Age Hopfenauflauf', 'note': 70, 'price': 2.99, 'volume': 33}]\n",
    "\n",
    "def extract_beer_list_infos(url):\n",
    "    r = requests.get(url)\n",
    "    content = r.content.decode('utf-8')\n",
    "    beers = json.loads(content)\n",
    "    \n",
    "    # Collecter les pages de bières à partir du JSON\n",
    "    beer_pages = []\n",
    "    \n",
    "    # Sequential version (slow):\n",
    "    beers = []\n",
    "\n",
    "    # Parallel version (faster):\n",
    "    # beers = []\n",
    "\n",
    "    return beers\n"
   ]
  },
  {
   "cell_type": "code",
   "execution_count": 155,
   "metadata": {},
   "outputs": [
    {
     "data": {
      "text/plain": [
       "[]"
      ]
     },
     "execution_count": 155,
     "metadata": {},
     "output_type": "execute_result"
    }
   ],
   "source": [
    "extract_beer_list_infos(URL_BEERLIST_AUTRICHE)"
   ]
  },
  {
   "cell_type": "code",
   "execution_count": null,
   "metadata": {},
   "outputs": [],
   "source": []
  }
 ],
 "metadata": {
  "kernelspec": {
   "display_name": "Python 3",
   "language": "python",
   "name": "python3"
  },
  "language_info": {
   "codemirror_mode": {
    "name": "ipython",
    "version": 3
   },
   "file_extension": ".py",
   "mimetype": "text/x-python",
   "name": "python",
   "nbconvert_exporter": "python",
   "pygments_lexer": "ipython3",
   "version": "3.7.6"
  }
 },
 "nbformat": 4,
 "nbformat_minor": 4
}
