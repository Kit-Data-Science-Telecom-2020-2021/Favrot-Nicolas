{
 "cells": [
  {
   "cell_type": "markdown",
   "metadata": {},
   "source": [
    "# Télécom Paris - MDI721 - Session 3\n",
    "\n",
    "- **Parsing XML**\n",
    "- **Web scraping et parsing HTML**\n",
    "- **API**"
   ]
  },
  {
   "cell_type": "code",
   "execution_count": 1,
   "metadata": {},
   "outputs": [],
   "source": [
    "#test"
   ]
  },
  {
   "cell_type": "markdown",
   "metadata": {},
   "source": [
    "### Parsing XML (Extensible Markup Language)"
   ]
  },
  {
   "cell_type": "markdown",
   "metadata": {},
   "source": [
    "Documentation : https://fr.wikipedia.org/wiki/Extensible_Markup_Language\n",
    "\n",
    "Librairie lxml : https://lxml.de/tutorial.html"
   ]
  },
  {
   "cell_type": "code",
   "execution_count": 2,
   "metadata": {},
   "outputs": [],
   "source": [
    "# imports\n",
    "import pandas as pd\n",
    "from lxml import etree\n",
    "\n",
    "# options d'affichage\n",
    "pd.set_option(\"display.min_rows\", 16)"
   ]
  },
  {
   "cell_type": "markdown",
   "metadata": {},
   "source": [
    "**Exemple**\n",
    "\n",
    "Les 150 propositions de la Convention Citoyenne pour le Climat\n",
    "\n",
    "https://www.data.gouv.fr/fr/datasets/les-150-propositions-de-la-convention-citoyenne-pour-le-climat/"
   ]
  },
  {
   "cell_type": "code",
   "execution_count": 30,
   "metadata": {},
   "outputs": [],
   "source": [
    "# visualisation du fichier\n",
    "%pycat propositions.xml"
   ]
  },
  {
   "cell_type": "code",
   "execution_count": 4,
   "metadata": {},
   "outputs": [],
   "source": [
    "# parsing XML\n",
    "root = etree.parse('propositions.xml')"
   ]
  },
  {
   "cell_type": "code",
   "execution_count": 5,
   "metadata": {},
   "outputs": [
    {
     "data": {
      "text/plain": [
       "lxml.etree._ElementTree"
      ]
     },
     "execution_count": 5,
     "metadata": {},
     "output_type": "execute_result"
    }
   ],
   "source": [
    "# type\n",
    "type(root)"
   ]
  },
  {
   "cell_type": "code",
   "execution_count": 6,
   "metadata": {},
   "outputs": [],
   "source": [
    "# trouver un élément\n",
    "element = root.find('categorie')"
   ]
  },
  {
   "cell_type": "code",
   "execution_count": 7,
   "metadata": {},
   "outputs": [
    {
     "data": {
      "text/plain": [
       "lxml.etree._Element"
      ]
     },
     "execution_count": 7,
     "metadata": {},
     "output_type": "execute_result"
    }
   ],
   "source": [
    "# type\n",
    "type(element)"
   ]
  },
  {
   "cell_type": "code",
   "execution_count": 8,
   "metadata": {},
   "outputs": [
    {
     "data": {
      "text/plain": [
       "<Element propositions at 0x7faa2649f690>"
      ]
     },
     "execution_count": 8,
     "metadata": {},
     "output_type": "execute_result"
    }
   ],
   "source": [
    "# parent\n",
    "element.getparent()"
   ]
  },
  {
   "cell_type": "code",
   "execution_count": 9,
   "metadata": {},
   "outputs": [
    {
     "data": {
      "text/plain": [
       "'Modifications de la Constitution et des institutions'"
      ]
     },
     "execution_count": 9,
     "metadata": {},
     "output_type": "execute_result"
    }
   ],
   "source": [
    "# attribut\n",
    "element.attrib['titre']"
   ]
  },
  {
   "cell_type": "code",
   "execution_count": 10,
   "metadata": {},
   "outputs": [],
   "source": [
    "# trouver un élément\n",
    "element = root.find('categorie').find('sousCategorie').find('proposition')"
   ]
  },
  {
   "cell_type": "code",
   "execution_count": 11,
   "metadata": {},
   "outputs": [
    {
     "data": {
      "text/plain": [
       "'Ajout d\\'un alinéa dans le préambule de la Constitution : \"La conciliation des droits, libertés et principes qui en résultent ne saurait compromettre la préservation de l’environnement, patrimoine commun de l’humanité.\"'"
      ]
     },
     "execution_count": 11,
     "metadata": {},
     "output_type": "execute_result"
    }
   ],
   "source": [
    "# text\n",
    "element.text"
   ]
  },
  {
   "cell_type": "code",
   "execution_count": 12,
   "metadata": {},
   "outputs": [
    {
     "data": {
      "text/plain": [
       "6"
      ]
     },
     "execution_count": 12,
     "metadata": {},
     "output_type": "execute_result"
    }
   ],
   "source": [
    "# nombre de catégories: getiterator\n",
    "len([node for node in root.getiterator('categorie')])"
   ]
  },
  {
   "cell_type": "code",
   "execution_count": 13,
   "metadata": {},
   "outputs": [
    {
     "data": {
      "text/plain": [
       "33"
      ]
     },
     "execution_count": 13,
     "metadata": {},
     "output_type": "execute_result"
    }
   ],
   "source": [
    "# nombre de sous-catégories: getiterator\n",
    "len([node for node in root.getiterator('sousCategorie')])"
   ]
  },
  {
   "cell_type": "code",
   "execution_count": 14,
   "metadata": {},
   "outputs": [
    {
     "data": {
      "text/plain": [
       "149"
      ]
     },
     "execution_count": 14,
     "metadata": {},
     "output_type": "execute_result"
    }
   ],
   "source": [
    "# nombre de propositions: getiterator\n",
    "len([node for node in root.getiterator('proposition')])"
   ]
  },
  {
   "cell_type": "code",
   "execution_count": 16,
   "metadata": {},
   "outputs": [
    {
     "name": "stdout",
     "output_type": "stream",
     "text": [
      "Modifications de la Constitution et des institutions\n",
      ">  \n",
      ">>  Ajout d'un alinéa dans le préambule de la Constitution : \"La conciliation des droits, libertés et principes qui en résultent ne saurait compromettre la préservation de l’environnement, patrimoine commun de l’humanité.\"\n",
      ">>  Ajout d'un alinéa dans l'article premier de la Constitution : \"La République garantit la préservation de la biodiversité, de l'environnement et lutte contre le dérèglement climatique.\"\n",
      ">>  Création d'un \"Défenseur de l'environnement\", sur le modèle du Défenseur des droits\n",
      ">>  Renforcement du rôle du CESE, le Conseil Economique Social et Environnemental\n",
      "Se loger\n",
      ">  Sur la rénovation énergétique des bâtiments\n",
      ">>  Contraindre les propriétaires occupants et bailleurs à rénover leurs biens de manière globale\n",
      ">>  Obliger le changement des chaudières au fioul et à charbon d'ici à 2030 dans les bâtiments neufs et rénovés\n",
      ">>  Déployer un réseau harmonisé de guichets uniques\n",
      ">>  Système progressif d'aides à la rénovation, avec prêts et subventions pour les plus démunis\n",
      ">>  Former les professionnels du bâtiment pour répondre à la demande de rénovation globale et assurer une transition de tous les corps de métier du BTP vers des pratiques écoresponsables\n",
      ">  Réduire la consommation d'énergie\n",
      ">>  Contraindre par des mesures fortes les espaces publics et les bâtiments tertiaires à réduire leur consommation d’énergie\n",
      ">>  Changer en profondeur les comportements en incitant les particuliers à réduire leur consommation d'énergie\n",
      ">>  Inciter à limiter le recours au chauffage et à la climatisation dans les logements, les espaces publics et ceux ouverts au public ainsi que les bâtiments tertiaire (température moyenne maximale de 19°, renoncer à la climatisation en deçà de 25°)\n",
      ">  Lutter contre l'artificialisation des sols\n",
      ">>  Définir une enveloppe restrictive du nombre d'hectares maximum pouvant être artificialisés réduisant par 2 l’artificialisation des sols\n",
      ">>  Interdire toute artificialisation des terres tant que des réhabilitations ou friches commerciales, artisanales ou industrielles sont possibles dans l’enveloppe urbaine existante\n",
      ">>  Prendre immédiatement des mesures coercitives pour stopper les aménagements de zones commerciales périurbaines très consommatrices d'espace\n",
      ">>  Protéger fermement et définitivement les espaces naturels, les espaces agricoles périurbains et les forêts périurbaines. S’assurer d’une gestion durable de l’ensemble des forêts privées et publiques. S’assurer de la création de ceintures maraichères autour des pôles\n",
      ">>  Faciliter les changements d’usage des terrains artificialisés non occupés\n",
      ">>  Faciliter les réquisitions de logements et bureaux vacants\n",
      ">>  Faciliter les reprises et réhabilitations des friches, notamment par la possibilité pour les communes d’exproprier les friches délaissées depuis 10 ans ou plus\n",
      ">>  Évaluer le potentiel de réversibilité des bâtiments avant toute démolition\n",
      ">>  Permettre la construction d’immeubles collectifs dans les zones pavillonnaires\n",
      ">>  Renforcer les contrôles du respect des obligations de protection des espaces et de limitation de consommation des terres non urbanisés, sanctionner pénalement les manquements\n",
      ">>  Sensibiliser à l’importance et l’intérêt de la ville plus compacte, et construire une nouvelle culture de l’habitat collectif\n",
      ">>  Financer les rénovations des logements dans les petites communes\n",
      ">>  Rendre les centres plus attractifs par la revitalisation des commerces et le maintien des écoles en milieu rural\n",
      "Se nourrir\n",
      ">  Pour une alimentation plus durable\n",
      ">>  Mettre en place une prime à l'investissement pour les établissements leur permettant de s'équiper en matériel, de former les personnels, de mener des campagnes de sensibilisation afin d'atteindre les objectifs de la loi EGalim\n",
      ">>  Proposer un bonus de 10 cts par repas pour les petites cantines bio et locales (moins de 200 repas par jour) pour les aider à absorber le surcoût les 3 premières années de leur transition\n",
      ">>  Créer un \"observatoire de la restauration collective\" ayant pour objectif de partager les bonnes pratiques et de suivre l’atteinte des objectifs de la loi EGalim\n",
      ">>  Mettre en place un organisme de contrôle pour assurer la bonne mise en œuvre de la loi EGalim\n",
      ">>  Encourager la réflexion pour réécrire l'arrêté du 30 septembre 2011 relatif à la qualité nutritionnelle des repas servis en restauration scolaire\n",
      ">>  Étendre toutes les dispositions de la loi EGalim à la restauration collective privée à partir de 2025\n",
      ">>  Étendre la liste des produits éligibles aux 50% définis par la loi aux agriculteurs en transition vers le bio, et aux produits à faible coût environnemental\n",
      ">>  Aider à la structuration des filières afin qu’elles arrivent à faire reconnaître des produits dans des signes de qualité\n",
      ">>  Rendre les négociations tripartites plus justes pour les agriculteurs. Assurer la présence de la Direction générale de la concurrence, de la consommation et de la répression des fraudes (DGCCRF) dans les négociations, rendre la méthode obligatoire pour toutes les filières et organiser des rendez-vous réguliers à l'échelle des interprofessions, obliger à la transparence, les entreprises agroalimentaires et les centrales d’achats.\n",
      ">>  Utiliser le levier de la commande publique pour valoriser les produits issus de circuits courts, locaux et à faible coût environnemental, sous la forme d’un « guide d’achat » à adresser aux acheteurs publics.\n",
      ">>  Poursuivre les efforts sur la réduction du gaspillage alimentaire en restauration collective et au niveau individuel\n",
      ">  Pour une agriculture plus durable et faiblement émettrice de gaz à effet de serre\n",
      ">>  Atteindre 50% d'exploitations en agroécologie en 2040\n",
      ">>  Développer l'agriculture biologique (maintenir l'aide à la conversion, restaurer l'aide au maintien de l'agriculture biologique, faire supporter le coût de certification annuelle du label par l'État)\n",
      ">>  Engrais azotés : augmenter de la Taxe Générale sur les Activités Polluantes (TGAP)\n",
      ">>  Diminution de l’usage des pesticides avec une interdiction des produits CMR, diminution de l’usage des produits phytopharmaceutiques de 50% d’ici 2025 et interdiction des pesticides les plus dommageable pour l’environnement en 2035 \n",
      ">>  Aider à la structuration de la filière des protéagineux (augmentation de l'autonomie du cheptel animal français, 100% d'autonomie pour l'alimentation humaine en protéines végétales, accroissement de la diversification des cultures dans la PAC, mise en œuvre du Plan Protéines Végétales national)\n",
      ">>  Aider au maintien des prairies permanentes (éviter au maximum les terres nues en mettant en place un couvert végétal obligatoire, rémunérer les services rendus par les agriculteurs pour le stockage de carbone par leurs activités)\n",
      ">>  Interdire le financement d'implantation de nouveaux élevages qui ne respectent pas les conditions d'agroécologie et de faibles émissions de gaz à effet de serre, accompagner les éleveurs vers une restructuration de leurs cheptels pour améliorer la qualité de production\n",
      ">>  Réformer l'enseignement et la formation agricole : intégrer au tronc commun obligatoire l'enseignement de l'agroécologie, imposer des stages dans des exploitations qui appliquent les méthodes de l'agroécologie, ouvrir la formation continue sur les pratiques agroécologiques pour tous les agriculteurs, former les conseillers techniques aux pratiques de l'agroécologie.\n",
      ">>  Relever les niveaux d’exigences des conditions de verdissement\n",
      ">>  Transformer l’attribution des aides à l’hectare de la PAC vers des aides à l’actif agricole\n",
      ">>  Mettre en place un mécanisme de suivi et d’évaluation de l'atteinte de la performance climat du Plan Stratégique National (PSN)\n",
      ">>  Mettre en compatibilité le Plan Stratégique National (PSN)avec la Stratégie Nationale Bas Carbone (SNBC), la Stratégie Nationale pour la Biodiversité, le Plan National Santé Environnement, la Stratégie Nationale de lutte contre la Déforestation Importée (SNDI)\n",
      ">>  Intégrer toutes les dispositions concernant le développement de l'agroécologie au Plan Stratégique National (PSN)\n",
      ">  Pour une pêche à faible émission de gaz à effet de serre\n",
      ">>  Améliorer la connaissance des stocks/déplacements de poissons pour mieux définir les quotas et éliminer la surpêche\n",
      ">>  Poursuivre les efforts de limitation de la pêche dans les zones et pour les stocks fragiles, et affermir les contrôles sur l'interdiction de la pêche en eau profonde\n",
      ">>  Développer les fermes aquacoles raisonnées et respectueuses de l'environnement, afin d'éviter de pêcher les poissons dans leur milieu naturel\n",
      ">>  Protéger la capacité des océans à stocker du carbone, notamment en protégeant les baleines et les espèces marines\n",
      ">>  Diminuer les émissions de gaz à effet de serre dues à la pêche et au transport maritime en poursuivant la modernisation de la flotte de bateaux vers des systèmes de propulsion vert\n",
      ">  Pour un modèle de politique commerciale d'avenir\n",
      ">>  Renégocier le CETA au niveau européen pour y intégrer les objectifs climatiques de l’accord de Paris.\n",
      ">>  Demander au gouvernement français de défendre une réforme politique commerciale européenne : inscrire le principe de précaution dans les accords commerciaux, inscrire le respect des engagements de l'accord de Paris comme objectifs contraignants, mettre fin aux tribunaux d'arbitrage privés, garantir la transparence et permettre le contrôle démocratique des négociations.\n",
      ">>  Demander au gouvernement français de défendre des positions auprès de l'OMC : prendre en considération les accords de Paris dans les négociations commerciales, mise en place de sanctions pour les États récalcitrants, inclure les clauses environnementales dans les négociations d'accords commerciaux.\n",
      ">  Mieux informer les consommateurs\n",
      ">>  Mieux informer le consommateur en renforçant la communication autour du Plan National Nutrition Santé Climat (PNNSC)\n",
      ">>  Interdire la publicité sur les produits proscrits par le PNNS\n",
      ">>  Concevoir une nouvelle solidarité nationale alimentaire pour permettre aux ménages modestes d’avoir accès à une alimentation durable\n",
      ">>  Réformer le fonctionnement des labels en supprimant les labels privés et en mettant en place un label pour les produits issus de l’agriculture agro écologique\n",
      ">  Mettre l'éthique au coeur de notre alimentation\n",
      ">>  Informer les consommateurs du degré de transformation des produits, notamment via un étiquetage obligatoire et la mise en place d’une charte éthique agroalimentaire qui renseigne et qualifie en termes de gaz à effet de serre les auxiliaires techniques et les additifs alimentaires. Informer rapidement et manière obligatoire sur les accidents alimentaires\n",
      ">>  Interdire l'importation des produits qui sont composés d'auxiliaires technologiques proscrits par l'Union européenne\n",
      ">>  Interdire progressivement l'usage des auxiliaires de production et des additifs alimentaires sous 5 ans\n",
      ">>  Taxer les produits ultra transformés à forte empreinte carbone et faible apport nutritionnel\n",
      ">>  Mettre en place des chèques alimentaires pour les plus démunis à utiliser dans les AMAP ou pour des produits bios\n",
      ">  Légiférer sur le crime d'écocide\n",
      ">>  Adopter une loi qui pénalise le crime d'écocide dans le cadre des 9 limites planétaires, et qui intègre le devoir de vigilance et le délit d'imprudence, dont la mise en œuvre est garantie par la Haute Autorité des Limites Planétaires\n",
      "Consommer\n",
      ">  Affichage\n",
      ">>  Développer puis mettre en place un score carbone sur tous les produits de consommation et les services\n",
      ">>  Rendre obligatoire l’affichage des émissions de gaz à effet de serre dans les commerces et lieux de consommation ainsi que dans les publicités pour les marques\n",
      ">  Publicité\n",
      ">>  Interdire de manière efficace et opérante la publicité des produits les plus émetteurs de GES, sur tous les supports publicitaires\n",
      ">>  Réguler la publicité pour limiter fortement les incitations quotidiennes et non choisies à la consommation\n",
      ">>  Mettre en place des mentions pour inciter à moins consommer\n",
      ">  Suremballage\n",
      ">>  Mettre en place progressivement une obligation de l’implantation du vrac dans tous les magasins et l’imposition d’un pourcentage aux centrales d’achat\n",
      ">>  Mise en place progressive d’un système de consigne de verre (lavable et réutilisable) jusqu’à une mise en place généralisée en 2025\n",
      ">>  Favoriser le développement les emballages biosourcés compostables pour assurer la transition avant la fin de l’emballage plastique à usage unique\n",
      ">>  Remplacer une part significative de la Taxe d’Enlèvement des Ordures Ménagères (TEOM) par des modalités plus justes et favorisant les comportements écoresponsables\n",
      ">  Education\n",
      ">>  Modifier le code de l’éducation pour une généralisation de l’éducation à l’environnement et au développement durable (EEDD) dans le modèle scolaire français\n",
      ">>  Renforcer les modalités d’éducation à l’environnement et au développement durable en en faisant une mission transversale des enseignants\n",
      ">>  Sensibiliser l'ensemble de la population française en reliant compréhension de l’urgence climatique et passage à l’action\n",
      ">  Suivi et contrôle des politiques publiques environnementales\n",
      ">>  Contrôler et sanctionner plus efficacement et rapidement les atteintes aux règles en matière environnementale\n",
      ">>  Renforcer et centraliser l’évaluation et le suivi des politiques publiques en matière environnementale\n",
      "Se déplacer\n",
      ">  Sortir de l'usage de la voiture en solo\n",
      ">>  Inciter à utiliser des moyens de transports doux ou partagés, notamment pour les trajets domicile-travail, en généralisant et en améliorant le forfait mobilité durable, prévue par la récente loi d’orientation des mobilités\n",
      ">>  Réduire les incitations à l’utilisation de la voiture en réformant le système d’indemnité kilométrique de l’impôt sur le revenu\n",
      ">>  Inciter à utiliser des moyens de transports doux ou partagés\n",
      ">  Aménagements de la voie publique\n",
      ">>  Créer des parkings relais\n",
      ">>  Interdire les centres villes pour les véhicules les plus émetteurs de gaz à effet de serre\n",
      ">>  Augmenter les montants du Fonds Vélo de 50 à 200 millions d’euros par an pour financer des pistes cyclables\n",
      ">>  Généraliser les aménagements de voies réservées aux véhicules partagés et aux transports collectifs sur les autoroutes et voies rapides\n",
      ">  Réduire les émissions de gaz à effet de serre sur les autoroutes et voies rapides\n",
      ">>  Réduire la vitesse sur autoroute à 110 km/h maximum\n",
      ">  Retour fort à l'usage du train\n",
      ">>  Réduire la TVA sur les billets de train de 10% à 5,5%\n",
      ">>  Généraliser les mesures tarifaires attractives déjà pratiquées par certaines régions\n",
      ">>  Développer un plan d’investissement massif pour moderniser les infrastructures, les matériels roulants et les gares pour en faire des pôles multimodaux (lien avec les voitures, cars, vélos...)\n",
      ">  Réduire le transport routier de marchandises\n",
      ">>  Développer les autoroutes de fret maritime (et fluvial), sur des trajets déterminés\n",
      ">>  Imposer un suivi régulier de la formation des chauffeurs à l’écoconduite\n",
      ">>  Imposer aux constructeurs de poids lourds d’adopter la même filière énergétique dans leur recherche et développement\n",
      ">>  Sortir progressivement des avantages fiscaux sur le gazole, en échange de compensations fortes pour les transporteurs sous forme d’aides au financement accrues pour l’achat de poids-lourds neufs plus propres en remplacement des poids lourds polluants\n",
      ">>  Inciter, par des obligations réglementaires et fiscales, au report partiel vers d’autres moyens de transport de marchandises moins émetteurs\n",
      ">>  Obliger les chargeurs à intégrer des clauses environnementales\n",
      ">>  Favoriser le transport de marchandises sur des circuits courts par une modulation de la TVA\n",
      ">  Réduire à zéro les émissions des navires dans les ports\n",
      ">>  Interdire l’usage des moteurs polluants lors des arrêts dans les ports\n",
      ">>  Mettre à disposition les moyens d’alimenter en électricité les navires à quai pour permettre une réduction des émissions liées à l’usage des moteurs\n",
      ">>  Agir sur la réglementation internationale pour encadrer les émissions des gaz à effet de serre des navires\n",
      ">  Transition vers un parc de véhicules plus propre\n",
      ">>  Augmenter le bonus pour les véhicules peu polluants, afin d’aider davantage les ménages et les professionnels dans leur évolution\n",
      ">>  Renforcer très fortement le malus sur les véhicules polluants et introduire le poids comme un des critères à prendre en compte\n",
      ">>  Interdire dès 2025 la commercialisation de véhicules neufs très émetteurs ; les véhicules anciens pouvant continuer de circuler\n",
      ">>  Moduler les taxes sur les contrats d’assurance en fonction de l’émission de CO2 pour encourager les véhicules propres\n",
      ">>  Permettre l’accès à des véhicules propres en développant la location de longue durée\n",
      ">>  Proposer des prêts à taux zéro, avec la garantie de l’État, pour l’achat d’un véhicule peu émetteur\n",
      ">>  Créer des vignettes vertes à positionner sur les plaques d’immatriculation pour les véhicules les plus propres et donnant accès à des services particuliers : accès au centre-ville, places de parking, etc.\n",
      ">>  Prévoir un plan de formation pour les garagistes, et plus largement de la filière « pétrole », pour accompagner la transformation progressive du parc automobile (nouveaux moteurs, carburants, systèmes)\n",
      ">  Mieux organiser les déplacements avec les entreprises et les administrations\n",
      ">>  Renforcer les plans de mobilité en les rendant obligatoires pour toutes les entreprises\n",
      ">>  Les Autorités organisatrices de la mobilité (AOM) peuvent aider à mettre en place ces plans de mobilité en accompagnant les entreprises\n",
      ">>  Favoriser les plans interentreprises et intra-entreprise (covoiturage, ramassage des salariés en bus, vélo ...) dans le cadre des plans de mobilité\n",
      ">>  Favoriser des nouvelles modalités d’organisation du travail\n",
      ">  Portail unique sur les dispositifs et moyens de transport sur un territoire\n",
      ">>  Mettre en place un portail unique permettant de savoir à tout moment, rapidement et simplement, quels sont les moyens et dispositifs existants sur un territoire pour se déplacer\n",
      ">>  Développer un projet d’unification des titres de transport ou de carte multimodale\n",
      ">  Autorités organisatrices de la mobilité\n",
      ">>  Intégrer les citoyens aux Autorités organisatrices de la mobilité à toutes les échelles\n",
      ">  Limiter les effets néfastes du transport aérien\n",
      ">>  Adopter une écocontribution kilométrique renforcée\n",
      ">>  Organiser progressivement la fin du trafic aérien sur les vols intérieurs d’ici 2025, uniquement sur les lignes où il existe une alternative bas carbone satisfaisante en prix et en temps (sur un trajet de moins de 4h)\n",
      ">>  Interdire la construction de nouveaux aéroports et l’extension des aéroports existants\n",
      ">>  Taxer davantage le carburant pour l'aviation de loisir\n",
      ">>  Promouvoir l’idée d’une écocontribution européenne\n",
      ">>  Garantir que l’ensemble des émissions qui ne pourraient être éliminées soient intégralement compensées par des puits de carbone\n",
      ">>  Soutenir, à moyen terme, la R&D dans le développement d’une filière biocarburants pour les avions\n",
      "Produire et travailler\n",
      ">  Transformer l'outil de production\n",
      ">>  Augmenter la longévité des produits et réduire la pollution\n",
      ">>  Faire respecter la loi sur l’interdiction de l’obsolescence programmée\n",
      ">>  Rendre obligatoire la possibilité de réparation des produits manufacturés qui sont vendus en France (1), la disponibilité des pièces détachées d’origine pendant une durée définie (2). Mettre en place et à proximité des filières et ateliers de réparation, et rendre accessibles les services après-vente (3)\n",
      ">>  Rendre obligatoire le recyclage de tous les objets en plastique dès 2023. Supprimer tous les plastiques à usage unique dès 2023 – Développer le recyclage des autres matières\n",
      ">>  Durcir et appliquer la réglementation sur la gestion des déchets\n",
      ">  Soutenir l'innovation\n",
      ">>  D’ici 2025 tout soutien à l’innovation doit s’inscrire dans une logique de sortie d’un modèle basé sur le carbone\n",
      ">  Soutenir le financement de la transformation de l'outil de production\n",
      ">>  Réglementer l'utilisation de l'épargne réglementée gérée par la Caisse des Dépôts et Consignations (CDC) et les banques pour financer des investissements verts\n",
      ">>  Faire évoluer la gouvernance de la CDC pour soutenir cette logique\n",
      ">>  Les entreprises qui distribuent plus de 10M€ de dividendes annuels participeront à l’effort de financement collectif de la transition écologique, à hauteur de 4 % du montant des dividendes distribués, chaque année\n",
      ">>  Mettre en place les modalités de financement par loi ou décret avec un emprunt d’État dédié au financement de la transformation des entreprises\n",
      ">  Transformer l'emploi\n",
      ">>  Accompagner les salariés et les entreprises dans la transition\n",
      ">>  Créer une nouvelle gouvernance de la transition des emplois et compétences au niveau national et régional\n",
      ">>  Réduire le temps de travail sans perte de salaire dans un objectif de sobriété et de réduction de gaz à effet de serre\n",
      ">  Renforcer les obligations relatives à la préservation de l'environnement\n",
      ">>  Annualiser le reporting et l'étendre à toutes les organisations - champ d'émissions au scope 3 - Sanction pour non-réalisation en % du chiffre d'affaire\n",
      ">>  Élargir le périmètre de reporting au secteur financier\n",
      ">>  Renforcer les obligations de rapportage au secteur de la finance\n",
      ">>  Bonus pour les entreprises ayant une évolution positive\n",
      ">>  Conditionner les aides publiques à l'évolution positive du bilan gaz à effet de serre\n",
      ">>  Renforcer les clauses environnementales dans les marchés publics\n",
      ">>  Protection des écosystèmes et de la biodiversité\n",
      ">>  Ajustement carbone aux frontières de l’UE (en fonction de l'empreinte carbone) et prise en compte les enjeux de redistribution pour éviter de peser sur les ménages les moins favorisés\n",
      ">  Production, stockage et sobriété énergétique\n",
      ">>  Amélioration de la gouvernance territoriale/régionale\n",
      ">>  Participation des citoyens, entreprises locales, associations locales et collectivités locales aux projets énergies renouvelables (EnR)\n",
      ">>  Développement de l’autoconsommation\n",
      ">>  Accompagner l’évolution du numérique pour réduire ses impacts environnementaux\n"
     ]
    }
   ],
   "source": [
    "# print categorie / sousCategorie / proposition\n",
    "for node_categorie in root.getiterator('categorie'):\n",
    "    \n",
    "    print(node_categorie.attrib['titre'])\n",
    "    \n",
    "    for node_sousCategorie in node_categorie.getiterator('sousCategorie'):\n",
    "        \n",
    "        print('> ', node_sousCategorie.attrib['titre'])\n",
    "        \n",
    "        for node_proposition in node_sousCategorie.getiterator('proposition'):\n",
    "            \n",
    "            print('>> ', node_proposition.text)"
   ]
  },
  {
   "cell_type": "code",
   "execution_count": 17,
   "metadata": {},
   "outputs": [
    {
     "data": {
      "text/html": [
       "<div>\n",
       "<style scoped>\n",
       "    .dataframe tbody tr th:only-of-type {\n",
       "        vertical-align: middle;\n",
       "    }\n",
       "\n",
       "    .dataframe tbody tr th {\n",
       "        vertical-align: top;\n",
       "    }\n",
       "\n",
       "    .dataframe thead th {\n",
       "        text-align: right;\n",
       "    }\n",
       "</style>\n",
       "<table border=\"1\" class=\"dataframe\">\n",
       "  <thead>\n",
       "    <tr style=\"text-align: right;\">\n",
       "      <th></th>\n",
       "      <th>a</th>\n",
       "      <th>b</th>\n",
       "    </tr>\n",
       "  </thead>\n",
       "  <tbody>\n",
       "    <tr>\n",
       "      <th>0</th>\n",
       "      <td>1</td>\n",
       "      <td>2</td>\n",
       "    </tr>\n",
       "    <tr>\n",
       "      <th>1</th>\n",
       "      <td>3</td>\n",
       "      <td>4</td>\n",
       "    </tr>\n",
       "    <tr>\n",
       "      <th>2</th>\n",
       "      <td>5</td>\n",
       "      <td>6</td>\n",
       "    </tr>\n",
       "  </tbody>\n",
       "</table>\n",
       "</div>"
      ],
      "text/plain": [
       "   a  b\n",
       "0  1  2\n",
       "1  3  4\n",
       "2  5  6"
      ]
     },
     "execution_count": 17,
     "metadata": {},
     "output_type": "execute_result"
    }
   ],
   "source": [
    "# imports\n",
    "import pandas as pd\n",
    "\n",
    "# fabrication d'un DataFrame à partir d'une liste de dict\n",
    "l = [\n",
    "    {'a': 1, 'b': 2},\n",
    "    {'a': 3, 'b': 4},\n",
    "    {'a': 5, 'b': 6},\n",
    "]\n",
    "\n",
    "pd.DataFrame(l)"
   ]
  },
  {
   "cell_type": "code",
   "execution_count": 21,
   "metadata": {},
   "outputs": [
    {
     "data": {
      "text/html": [
       "<div>\n",
       "<style scoped>\n",
       "    .dataframe tbody tr th:only-of-type {\n",
       "        vertical-align: middle;\n",
       "    }\n",
       "\n",
       "    .dataframe tbody tr th {\n",
       "        vertical-align: top;\n",
       "    }\n",
       "\n",
       "    .dataframe thead th {\n",
       "        text-align: right;\n",
       "    }\n",
       "</style>\n",
       "<table border=\"1\" class=\"dataframe\">\n",
       "  <thead>\n",
       "    <tr style=\"text-align: right;\">\n",
       "      <th></th>\n",
       "      <th>categorie</th>\n",
       "      <th>sousCategorie</th>\n",
       "      <th>proposition</th>\n",
       "    </tr>\n",
       "  </thead>\n",
       "  <tbody>\n",
       "    <tr>\n",
       "      <th>0</th>\n",
       "      <td>Modifications de la Constitution et des instit...</td>\n",
       "      <td></td>\n",
       "      <td>Ajout d'un alinéa dans le préambule de la Cons...</td>\n",
       "    </tr>\n",
       "    <tr>\n",
       "      <th>1</th>\n",
       "      <td>Modifications de la Constitution et des instit...</td>\n",
       "      <td></td>\n",
       "      <td>Ajout d'un alinéa dans l'article premier de la...</td>\n",
       "    </tr>\n",
       "    <tr>\n",
       "      <th>2</th>\n",
       "      <td>Modifications de la Constitution et des instit...</td>\n",
       "      <td></td>\n",
       "      <td>Création d'un \"Défenseur de l'environnement\", ...</td>\n",
       "    </tr>\n",
       "    <tr>\n",
       "      <th>3</th>\n",
       "      <td>Modifications de la Constitution et des instit...</td>\n",
       "      <td></td>\n",
       "      <td>Renforcement du rôle du CESE, le Conseil Econo...</td>\n",
       "    </tr>\n",
       "    <tr>\n",
       "      <th>4</th>\n",
       "      <td>Se loger</td>\n",
       "      <td>Sur la rénovation énergétique des bâtiments</td>\n",
       "      <td>Contraindre les propriétaires occupants et bai...</td>\n",
       "    </tr>\n",
       "    <tr>\n",
       "      <th>5</th>\n",
       "      <td>Se loger</td>\n",
       "      <td>Sur la rénovation énergétique des bâtiments</td>\n",
       "      <td>Obliger le changement des chaudières au fioul ...</td>\n",
       "    </tr>\n",
       "    <tr>\n",
       "      <th>6</th>\n",
       "      <td>Se loger</td>\n",
       "      <td>Sur la rénovation énergétique des bâtiments</td>\n",
       "      <td>Déployer un réseau harmonisé de guichets uniques</td>\n",
       "    </tr>\n",
       "    <tr>\n",
       "      <th>7</th>\n",
       "      <td>Se loger</td>\n",
       "      <td>Sur la rénovation énergétique des bâtiments</td>\n",
       "      <td>Système progressif d'aides à la rénovation, av...</td>\n",
       "    </tr>\n",
       "    <tr>\n",
       "      <th>...</th>\n",
       "      <td>...</td>\n",
       "      <td>...</td>\n",
       "      <td>...</td>\n",
       "    </tr>\n",
       "    <tr>\n",
       "      <th>141</th>\n",
       "      <td>Produire et travailler</td>\n",
       "      <td>Renforcer les obligations relatives à la prése...</td>\n",
       "      <td>Conditionner les aides publiques à l'évolution...</td>\n",
       "    </tr>\n",
       "    <tr>\n",
       "      <th>142</th>\n",
       "      <td>Produire et travailler</td>\n",
       "      <td>Renforcer les obligations relatives à la prése...</td>\n",
       "      <td>Renforcer les clauses environnementales dans l...</td>\n",
       "    </tr>\n",
       "    <tr>\n",
       "      <th>143</th>\n",
       "      <td>Produire et travailler</td>\n",
       "      <td>Renforcer les obligations relatives à la prése...</td>\n",
       "      <td>Protection des écosystèmes et de la biodiversité</td>\n",
       "    </tr>\n",
       "    <tr>\n",
       "      <th>144</th>\n",
       "      <td>Produire et travailler</td>\n",
       "      <td>Renforcer les obligations relatives à la prése...</td>\n",
       "      <td>Ajustement carbone aux frontières de l’UE (en ...</td>\n",
       "    </tr>\n",
       "    <tr>\n",
       "      <th>145</th>\n",
       "      <td>Produire et travailler</td>\n",
       "      <td>Production, stockage et sobriété énergétique</td>\n",
       "      <td>Amélioration de la gouvernance territoriale/ré...</td>\n",
       "    </tr>\n",
       "    <tr>\n",
       "      <th>146</th>\n",
       "      <td>Produire et travailler</td>\n",
       "      <td>Production, stockage et sobriété énergétique</td>\n",
       "      <td>Participation des citoyens, entreprises locale...</td>\n",
       "    </tr>\n",
       "    <tr>\n",
       "      <th>147</th>\n",
       "      <td>Produire et travailler</td>\n",
       "      <td>Production, stockage et sobriété énergétique</td>\n",
       "      <td>Développement de l’autoconsommation</td>\n",
       "    </tr>\n",
       "    <tr>\n",
       "      <th>148</th>\n",
       "      <td>Produire et travailler</td>\n",
       "      <td>Production, stockage et sobriété énergétique</td>\n",
       "      <td>Accompagner l’évolution du numérique pour rédu...</td>\n",
       "    </tr>\n",
       "  </tbody>\n",
       "</table>\n",
       "<p>149 rows × 3 columns</p>\n",
       "</div>"
      ],
      "text/plain": [
       "                                             categorie  \\\n",
       "0    Modifications de la Constitution et des instit...   \n",
       "1    Modifications de la Constitution et des instit...   \n",
       "2    Modifications de la Constitution et des instit...   \n",
       "3    Modifications de la Constitution et des instit...   \n",
       "4                                             Se loger   \n",
       "5                                             Se loger   \n",
       "6                                             Se loger   \n",
       "7                                             Se loger   \n",
       "..                                                 ...   \n",
       "141                             Produire et travailler   \n",
       "142                             Produire et travailler   \n",
       "143                             Produire et travailler   \n",
       "144                             Produire et travailler   \n",
       "145                             Produire et travailler   \n",
       "146                             Produire et travailler   \n",
       "147                             Produire et travailler   \n",
       "148                             Produire et travailler   \n",
       "\n",
       "                                         sousCategorie  \\\n",
       "0                                                        \n",
       "1                                                        \n",
       "2                                                        \n",
       "3                                                        \n",
       "4          Sur la rénovation énergétique des bâtiments   \n",
       "5          Sur la rénovation énergétique des bâtiments   \n",
       "6          Sur la rénovation énergétique des bâtiments   \n",
       "7          Sur la rénovation énergétique des bâtiments   \n",
       "..                                                 ...   \n",
       "141  Renforcer les obligations relatives à la prése...   \n",
       "142  Renforcer les obligations relatives à la prése...   \n",
       "143  Renforcer les obligations relatives à la prése...   \n",
       "144  Renforcer les obligations relatives à la prése...   \n",
       "145       Production, stockage et sobriété énergétique   \n",
       "146       Production, stockage et sobriété énergétique   \n",
       "147       Production, stockage et sobriété énergétique   \n",
       "148       Production, stockage et sobriété énergétique   \n",
       "\n",
       "                                           proposition  \n",
       "0    Ajout d'un alinéa dans le préambule de la Cons...  \n",
       "1    Ajout d'un alinéa dans l'article premier de la...  \n",
       "2    Création d'un \"Défenseur de l'environnement\", ...  \n",
       "3    Renforcement du rôle du CESE, le Conseil Econo...  \n",
       "4    Contraindre les propriétaires occupants et bai...  \n",
       "5    Obliger le changement des chaudières au fioul ...  \n",
       "6     Déployer un réseau harmonisé de guichets uniques  \n",
       "7    Système progressif d'aides à la rénovation, av...  \n",
       "..                                                 ...  \n",
       "141  Conditionner les aides publiques à l'évolution...  \n",
       "142  Renforcer les clauses environnementales dans l...  \n",
       "143   Protection des écosystèmes et de la biodiversité  \n",
       "144  Ajustement carbone aux frontières de l’UE (en ...  \n",
       "145  Amélioration de la gouvernance territoriale/ré...  \n",
       "146  Participation des citoyens, entreprises locale...  \n",
       "147                Développement de l’autoconsommation  \n",
       "148  Accompagner l’évolution du numérique pour rédu...  \n",
       "\n",
       "[149 rows x 3 columns]"
      ]
     },
     "execution_count": 21,
     "metadata": {},
     "output_type": "execute_result"
    }
   ],
   "source": [
    "# fabrication d'un DataFrame à partir du XML\n",
    "liste = [\n",
    "    {'categorie': node_category.attrib['titre'],\n",
    "    'sousCategorie': node_subcategory.attrib['titre'],\n",
    "    'proposition': node_proposition.text}\n",
    "        for node_category in root.getiterator('categorie')\n",
    "            for node_subcategory in node_category.getiterator('sousCategorie')\n",
    "                for node_proposition in node_subcategory.getiterator('proposition')]\n",
    "\n",
    "df = pd.DataFrame(liste)\n",
    "df"
   ]
  },
  {
   "cell_type": "code",
   "execution_count": 22,
   "metadata": {},
   "outputs": [
    {
     "data": {
      "text/plain": [
       "<lxml.etree.ElementDepthFirstIterator at 0x7faa2750cbe0>"
      ]
     },
     "execution_count": 22,
     "metadata": {},
     "output_type": "execute_result"
    }
   ],
   "source": [
    "root.getiterator('categorie')"
   ]
  },
  {
   "cell_type": "code",
   "execution_count": 23,
   "metadata": {},
   "outputs": [
    {
     "data": {
      "text/plain": [
       "Se déplacer                                             43\n",
       "Se nourrir                                              42\n",
       "Produire et travailler                                  25\n",
       "Se loger                                                21\n",
       "Consommer                                               14\n",
       "Modifications de la Constitution et des institutions     4\n",
       "Name: categorie, dtype: int64"
      ]
     },
     "execution_count": 23,
     "metadata": {},
     "output_type": "execute_result"
    }
   ],
   "source": [
    "# catégories\n",
    "df['categorie'].value_counts()"
   ]
  },
  {
   "cell_type": "code",
   "execution_count": 25,
   "metadata": {},
   "outputs": [
    {
     "data": {
      "text/html": [
       "<div>\n",
       "<style scoped>\n",
       "    .dataframe tbody tr th:only-of-type {\n",
       "        vertical-align: middle;\n",
       "    }\n",
       "\n",
       "    .dataframe tbody tr th {\n",
       "        vertical-align: top;\n",
       "    }\n",
       "\n",
       "    .dataframe thead th {\n",
       "        text-align: right;\n",
       "    }\n",
       "</style>\n",
       "<table border=\"1\" class=\"dataframe\">\n",
       "  <thead>\n",
       "    <tr style=\"text-align: right;\">\n",
       "      <th></th>\n",
       "      <th>categorie</th>\n",
       "      <th>sousCategorie</th>\n",
       "      <th>proposition</th>\n",
       "    </tr>\n",
       "  </thead>\n",
       "  <tbody>\n",
       "    <tr>\n",
       "      <th>1</th>\n",
       "      <td>Modifications de la Constitution et des instit...</td>\n",
       "      <td></td>\n",
       "      <td>Ajout d'un alinéa dans l'article premier de la...</td>\n",
       "    </tr>\n",
       "    <tr>\n",
       "      <th>143</th>\n",
       "      <td>Produire et travailler</td>\n",
       "      <td>Renforcer les obligations relatives à la prése...</td>\n",
       "      <td>Protection des écosystèmes et de la biodiversité</td>\n",
       "    </tr>\n",
       "  </tbody>\n",
       "</table>\n",
       "</div>"
      ],
      "text/plain": [
       "                                             categorie  \\\n",
       "1    Modifications de la Constitution et des instit...   \n",
       "143                             Produire et travailler   \n",
       "\n",
       "                                         sousCategorie  \\\n",
       "1                                                        \n",
       "143  Renforcer les obligations relatives à la prése...   \n",
       "\n",
       "                                           proposition  \n",
       "1    Ajout d'un alinéa dans l'article premier de la...  \n",
       "143   Protection des écosystèmes et de la biodiversité  "
      ]
     },
     "execution_count": 25,
     "metadata": {},
     "output_type": "execute_result"
    }
   ],
   "source": [
    "# requêtes\n",
    "df.loc[df['proposition'].str.contains('biodiversité')]"
   ]
  },
  {
   "cell_type": "code",
   "execution_count": 26,
   "metadata": {},
   "outputs": [
    {
     "name": "stdout",
     "output_type": "stream",
     "text": [
      "Ajout d'un alinéa dans l'article premier de la Constitution : \"La République garantit la préservation de la biodiversité, de l'environnement et lutte contre le dérèglement climatique.\"\n",
      "\n",
      "Protection des écosystèmes et de la biodiversité\n"
     ]
    }
   ],
   "source": [
    "# requêtes\n",
    "print(*df.loc[df['proposition'].str.contains('biodiversité'), 'proposition'].values, sep='\\n\\n')"
   ]
  },
  {
   "cell_type": "code",
   "execution_count": 27,
   "metadata": {},
   "outputs": [
    {
     "data": {
      "text/plain": [
       "3"
      ]
     },
     "execution_count": 27,
     "metadata": {},
     "output_type": "execute_result"
    }
   ],
   "source": [
    "# requêtes\n",
    "df['proposition'].str.contains('énergie').sum()"
   ]
  },
  {
   "cell_type": "code",
   "execution_count": 29,
   "metadata": {},
   "outputs": [
    {
     "name": "stdout",
     "output_type": "stream",
     "text": [
      "Contraindre par des mesures fortes les espaces publics et les bâtiments tertiaires à réduire leur consommation d’énergie\n",
      "\n",
      "Changer en profondeur les comportements en incitant les particuliers à réduire leur consommation d'énergie\n",
      "\n",
      "Participation des citoyens, entreprises locales, associations locales et collectivités locales aux projets énergies renouvelables (EnR)\n"
     ]
    }
   ],
   "source": [
    "# requêtes\n",
    "print(*df.loc[df['proposition'].str.contains('énergie'), 'proposition'].values, sep='\\n\\n')"
   ]
  },
  {
   "cell_type": "markdown",
   "metadata": {},
   "source": [
    "**Exercice 1**\n",
    "\n",
    "Produire un DataFrame avec les colonnes : categorie, sousCategorie, oui (float)."
   ]
  },
  {
   "cell_type": "code",
   "execution_count": 36,
   "metadata": {},
   "outputs": [
    {
     "data": {
      "text/html": [
       "<div>\n",
       "<style scoped>\n",
       "    .dataframe tbody tr th:only-of-type {\n",
       "        vertical-align: middle;\n",
       "    }\n",
       "\n",
       "    .dataframe tbody tr th {\n",
       "        vertical-align: top;\n",
       "    }\n",
       "\n",
       "    .dataframe thead th {\n",
       "        text-align: right;\n",
       "    }\n",
       "</style>\n",
       "<table border=\"1\" class=\"dataframe\">\n",
       "  <thead>\n",
       "    <tr style=\"text-align: right;\">\n",
       "      <th></th>\n",
       "      <th>categorie</th>\n",
       "      <th>sousCategorie</th>\n",
       "      <th>oui</th>\n",
       "    </tr>\n",
       "  </thead>\n",
       "  <tbody>\n",
       "    <tr>\n",
       "      <th>0</th>\n",
       "      <td>Se loger</td>\n",
       "      <td>Sur la rénovation énergétique des bâtiments</td>\n",
       "      <td>87.3</td>\n",
       "    </tr>\n",
       "    <tr>\n",
       "      <th>1</th>\n",
       "      <td>Se loger</td>\n",
       "      <td>Réduire la consommation d'énergie</td>\n",
       "      <td>92.0</td>\n",
       "    </tr>\n",
       "    <tr>\n",
       "      <th>2</th>\n",
       "      <td>Se loger</td>\n",
       "      <td>Lutter contre l'artificialisation des sols</td>\n",
       "      <td>99.0</td>\n",
       "    </tr>\n",
       "    <tr>\n",
       "      <th>3</th>\n",
       "      <td>Consommer</td>\n",
       "      <td>Affichage</td>\n",
       "      <td>98.8</td>\n",
       "    </tr>\n",
       "    <tr>\n",
       "      <th>4</th>\n",
       "      <td>Consommer</td>\n",
       "      <td>Publicité</td>\n",
       "      <td>89.6</td>\n",
       "    </tr>\n",
       "    <tr>\n",
       "      <th>5</th>\n",
       "      <td>Consommer</td>\n",
       "      <td>Suremballage</td>\n",
       "      <td>95.9</td>\n",
       "    </tr>\n",
       "    <tr>\n",
       "      <th>6</th>\n",
       "      <td>Consommer</td>\n",
       "      <td>Education</td>\n",
       "      <td>97.9</td>\n",
       "    </tr>\n",
       "    <tr>\n",
       "      <th>7</th>\n",
       "      <td>Consommer</td>\n",
       "      <td>Suivi et contrôle des politiques publiques env...</td>\n",
       "      <td>95.9</td>\n",
       "    </tr>\n",
       "    <tr>\n",
       "      <th>8</th>\n",
       "      <td>Se déplacer</td>\n",
       "      <td>Sortir de l'usage de la voiture en solo</td>\n",
       "      <td>96.4</td>\n",
       "    </tr>\n",
       "    <tr>\n",
       "      <th>9</th>\n",
       "      <td>Se déplacer</td>\n",
       "      <td>Aménagements de la voie publique</td>\n",
       "      <td>98.6</td>\n",
       "    </tr>\n",
       "    <tr>\n",
       "      <th>10</th>\n",
       "      <td>Se déplacer</td>\n",
       "      <td>Retour fort à l'usage du train</td>\n",
       "      <td>95.9</td>\n",
       "    </tr>\n",
       "    <tr>\n",
       "      <th>11</th>\n",
       "      <td>Se déplacer</td>\n",
       "      <td>Réduire le transport routier de marchandises</td>\n",
       "      <td>97.3</td>\n",
       "    </tr>\n",
       "    <tr>\n",
       "      <th>12</th>\n",
       "      <td>Se déplacer</td>\n",
       "      <td>Réduire à zéro les émissions des navires dans ...</td>\n",
       "      <td>95.9</td>\n",
       "    </tr>\n",
       "    <tr>\n",
       "      <th>13</th>\n",
       "      <td>Se déplacer</td>\n",
       "      <td>Transition vers un parc de véhicules plus propre</td>\n",
       "      <td>86.6</td>\n",
       "    </tr>\n",
       "    <tr>\n",
       "      <th>14</th>\n",
       "      <td>Se déplacer</td>\n",
       "      <td>Mieux organiser les déplacements avec les entr...</td>\n",
       "      <td>89.9</td>\n",
       "    </tr>\n",
       "    <tr>\n",
       "      <th>15</th>\n",
       "      <td>Se déplacer</td>\n",
       "      <td>Portail unique sur les dispositifs et moyens d...</td>\n",
       "      <td>95.8</td>\n",
       "    </tr>\n",
       "    <tr>\n",
       "      <th>16</th>\n",
       "      <td>Se déplacer</td>\n",
       "      <td>Autorités organisatrices de la mobilité</td>\n",
       "      <td>96.6</td>\n",
       "    </tr>\n",
       "    <tr>\n",
       "      <th>17</th>\n",
       "      <td>Se déplacer</td>\n",
       "      <td>Limiter les effets néfastes du transport aérien</td>\n",
       "      <td>88.1</td>\n",
       "    </tr>\n",
       "  </tbody>\n",
       "</table>\n",
       "</div>"
      ],
      "text/plain": [
       "      categorie                                      sousCategorie   oui\n",
       "0      Se loger        Sur la rénovation énergétique des bâtiments  87.3\n",
       "1      Se loger                  Réduire la consommation d'énergie  92.0\n",
       "2      Se loger         Lutter contre l'artificialisation des sols  99.0\n",
       "3     Consommer                                          Affichage  98.8\n",
       "4     Consommer                                          Publicité  89.6\n",
       "5     Consommer                                       Suremballage  95.9\n",
       "6     Consommer                                          Education  97.9\n",
       "7     Consommer  Suivi et contrôle des politiques publiques env...  95.9\n",
       "8   Se déplacer            Sortir de l'usage de la voiture en solo  96.4\n",
       "9   Se déplacer                   Aménagements de la voie publique  98.6\n",
       "10  Se déplacer                     Retour fort à l'usage du train  95.9\n",
       "11  Se déplacer       Réduire le transport routier de marchandises  97.3\n",
       "12  Se déplacer  Réduire à zéro les émissions des navires dans ...  95.9\n",
       "13  Se déplacer   Transition vers un parc de véhicules plus propre  86.6\n",
       "14  Se déplacer  Mieux organiser les déplacements avec les entr...  89.9\n",
       "15  Se déplacer  Portail unique sur les dispositifs et moyens d...  95.8\n",
       "16  Se déplacer            Autorités organisatrices de la mobilité  96.6\n",
       "17  Se déplacer    Limiter les effets néfastes du transport aérien  88.1"
      ]
     },
     "execution_count": 36,
     "metadata": {},
     "output_type": "execute_result"
    }
   ],
   "source": [
    "# fabrication d'un DataFrame à partir du XML\n",
    "liste = [\n",
    "    {'categorie': node_category.attrib['titre'],\n",
    "    'sousCategorie': node_subcategory.attrib['titre'],\n",
    "    'oui': node_oui.text}\n",
    "        for node_category in root.getiterator('categorie')\n",
    "            for node_subcategory in node_category.getiterator('sousCategorie')\n",
    "                for node_oui in node_subcategory.getiterator('oui')]\n",
    "\n",
    "df = pd.DataFrame(liste)\n",
    "df['oui'] = df['oui'].str.replace(',','.',1).astype(float)\n",
    "df"
   ]
  },
  {
   "cell_type": "code",
   "execution_count": 37,
   "metadata": {},
   "outputs": [],
   "source": [
    "a = root.find('categorie').find('sousCategorie').find('proposition').find('vote')"
   ]
  },
  {
   "cell_type": "markdown",
   "metadata": {},
   "source": [
    "**Exercice 2**\n",
    "\n",
    "- Produire un DataFrame avec les colonnes : categorie, sousCategorie, oui (float), non (float), blancs (float).\n",
    "- Calculer les sommes oui + non + blancs et oui + non &#9786;"
   ]
  },
  {
   "cell_type": "code",
   "execution_count": 50,
   "metadata": {
    "collapsed": true
   },
   "outputs": [
    {
     "data": {
      "text/html": [
       "<div>\n",
       "<style scoped>\n",
       "    .dataframe tbody tr th:only-of-type {\n",
       "        vertical-align: middle;\n",
       "    }\n",
       "\n",
       "    .dataframe tbody tr th {\n",
       "        vertical-align: top;\n",
       "    }\n",
       "\n",
       "    .dataframe thead th {\n",
       "        text-align: right;\n",
       "    }\n",
       "</style>\n",
       "<table border=\"1\" class=\"dataframe\">\n",
       "  <thead>\n",
       "    <tr style=\"text-align: right;\">\n",
       "      <th></th>\n",
       "      <th>categorie</th>\n",
       "      <th>sousCategorie</th>\n",
       "      <th>oui</th>\n",
       "      <th>non</th>\n",
       "      <th>blancs</th>\n",
       "    </tr>\n",
       "  </thead>\n",
       "  <tbody>\n",
       "    <tr>\n",
       "      <th>0</th>\n",
       "      <td>Se loger</td>\n",
       "      <td>Sur la rénovation énergétique des bâtiments</td>\n",
       "      <td>87.3</td>\n",
       "      <td>12.7</td>\n",
       "      <td>9.5</td>\n",
       "    </tr>\n",
       "    <tr>\n",
       "      <th>1</th>\n",
       "      <td>Se loger</td>\n",
       "      <td>Réduire la consommation d'énergie</td>\n",
       "      <td>92.0</td>\n",
       "      <td>8.0</td>\n",
       "      <td>3.0</td>\n",
       "    </tr>\n",
       "    <tr>\n",
       "      <th>2</th>\n",
       "      <td>Se loger</td>\n",
       "      <td>Lutter contre l'artificialisation des sols</td>\n",
       "      <td>99.0</td>\n",
       "      <td>1.0</td>\n",
       "      <td>1.0</td>\n",
       "    </tr>\n",
       "    <tr>\n",
       "      <th>3</th>\n",
       "      <td>Consommer</td>\n",
       "      <td>Affichage</td>\n",
       "      <td>98.8</td>\n",
       "      <td>2.0</td>\n",
       "      <td>0.7</td>\n",
       "    </tr>\n",
       "    <tr>\n",
       "      <th>4</th>\n",
       "      <td>Consommer</td>\n",
       "      <td>Publicité</td>\n",
       "      <td>89.6</td>\n",
       "      <td>10.4</td>\n",
       "      <td>4.0</td>\n",
       "    </tr>\n",
       "    <tr>\n",
       "      <th>5</th>\n",
       "      <td>Consommer</td>\n",
       "      <td>Suremballage</td>\n",
       "      <td>95.9</td>\n",
       "      <td>4.1</td>\n",
       "      <td>2.7</td>\n",
       "    </tr>\n",
       "    <tr>\n",
       "      <th>6</th>\n",
       "      <td>Consommer</td>\n",
       "      <td>Education</td>\n",
       "      <td>97.9</td>\n",
       "      <td>2.1</td>\n",
       "      <td>2.7</td>\n",
       "    </tr>\n",
       "    <tr>\n",
       "      <th>7</th>\n",
       "      <td>Consommer</td>\n",
       "      <td>Suivi et contrôle des politiques publiques env...</td>\n",
       "      <td>95.9</td>\n",
       "      <td>4.1</td>\n",
       "      <td>2.7</td>\n",
       "    </tr>\n",
       "    <tr>\n",
       "      <th>8</th>\n",
       "      <td>Se déplacer</td>\n",
       "      <td>Sortir de l'usage de la voiture en solo</td>\n",
       "      <td>96.4</td>\n",
       "      <td>3.6</td>\n",
       "      <td>4.1</td>\n",
       "    </tr>\n",
       "    <tr>\n",
       "      <th>9</th>\n",
       "      <td>Se déplacer</td>\n",
       "      <td>Aménagements de la voie publique</td>\n",
       "      <td>98.6</td>\n",
       "      <td>1.4</td>\n",
       "      <td>2.0</td>\n",
       "    </tr>\n",
       "    <tr>\n",
       "      <th>10</th>\n",
       "      <td>Se déplacer</td>\n",
       "      <td>Retour fort à l'usage du train</td>\n",
       "      <td>95.9</td>\n",
       "      <td>4.1</td>\n",
       "      <td>1.3</td>\n",
       "    </tr>\n",
       "    <tr>\n",
       "      <th>11</th>\n",
       "      <td>Se déplacer</td>\n",
       "      <td>Réduire le transport routier de marchandises</td>\n",
       "      <td>97.3</td>\n",
       "      <td>2.7</td>\n",
       "      <td>0.0</td>\n",
       "    </tr>\n",
       "    <tr>\n",
       "      <th>12</th>\n",
       "      <td>Se déplacer</td>\n",
       "      <td>Réduire à zéro les émissions des navires dans ...</td>\n",
       "      <td>95.9</td>\n",
       "      <td>4.1</td>\n",
       "      <td>2.7</td>\n",
       "    </tr>\n",
       "    <tr>\n",
       "      <th>13</th>\n",
       "      <td>Se déplacer</td>\n",
       "      <td>Transition vers un parc de véhicules plus propre</td>\n",
       "      <td>86.6</td>\n",
       "      <td>13.4</td>\n",
       "      <td>4.7</td>\n",
       "    </tr>\n",
       "    <tr>\n",
       "      <th>14</th>\n",
       "      <td>Se déplacer</td>\n",
       "      <td>Mieux organiser les déplacements avec les entr...</td>\n",
       "      <td>89.9</td>\n",
       "      <td>10.1</td>\n",
       "      <td>8.0</td>\n",
       "    </tr>\n",
       "    <tr>\n",
       "      <th>15</th>\n",
       "      <td>Se déplacer</td>\n",
       "      <td>Portail unique sur les dispositifs et moyens d...</td>\n",
       "      <td>95.8</td>\n",
       "      <td>4.2</td>\n",
       "      <td>3.4</td>\n",
       "    </tr>\n",
       "    <tr>\n",
       "      <th>16</th>\n",
       "      <td>Se déplacer</td>\n",
       "      <td>Autorités organisatrices de la mobilité</td>\n",
       "      <td>96.6</td>\n",
       "      <td>3.4</td>\n",
       "      <td>2.7</td>\n",
       "    </tr>\n",
       "    <tr>\n",
       "      <th>17</th>\n",
       "      <td>Se déplacer</td>\n",
       "      <td>Limiter les effets néfastes du transport aérien</td>\n",
       "      <td>88.1</td>\n",
       "      <td>11.9</td>\n",
       "      <td>8.2</td>\n",
       "    </tr>\n",
       "  </tbody>\n",
       "</table>\n",
       "</div>"
      ],
      "text/plain": [
       "      categorie                                      sousCategorie   oui  \\\n",
       "0      Se loger        Sur la rénovation énergétique des bâtiments  87.3   \n",
       "1      Se loger                  Réduire la consommation d'énergie  92.0   \n",
       "2      Se loger         Lutter contre l'artificialisation des sols  99.0   \n",
       "3     Consommer                                          Affichage  98.8   \n",
       "4     Consommer                                          Publicité  89.6   \n",
       "5     Consommer                                       Suremballage  95.9   \n",
       "6     Consommer                                          Education  97.9   \n",
       "7     Consommer  Suivi et contrôle des politiques publiques env...  95.9   \n",
       "8   Se déplacer            Sortir de l'usage de la voiture en solo  96.4   \n",
       "9   Se déplacer                   Aménagements de la voie publique  98.6   \n",
       "10  Se déplacer                     Retour fort à l'usage du train  95.9   \n",
       "11  Se déplacer       Réduire le transport routier de marchandises  97.3   \n",
       "12  Se déplacer  Réduire à zéro les émissions des navires dans ...  95.9   \n",
       "13  Se déplacer   Transition vers un parc de véhicules plus propre  86.6   \n",
       "14  Se déplacer  Mieux organiser les déplacements avec les entr...  89.9   \n",
       "15  Se déplacer  Portail unique sur les dispositifs et moyens d...  95.8   \n",
       "16  Se déplacer            Autorités organisatrices de la mobilité  96.6   \n",
       "17  Se déplacer    Limiter les effets néfastes du transport aérien  88.1   \n",
       "\n",
       "     non  blancs  \n",
       "0   12.7     9.5  \n",
       "1    8.0     3.0  \n",
       "2    1.0     1.0  \n",
       "3    2.0     0.7  \n",
       "4   10.4     4.0  \n",
       "5    4.1     2.7  \n",
       "6    2.1     2.7  \n",
       "7    4.1     2.7  \n",
       "8    3.6     4.1  \n",
       "9    1.4     2.0  \n",
       "10   4.1     1.3  \n",
       "11   2.7     0.0  \n",
       "12   4.1     2.7  \n",
       "13  13.4     4.7  \n",
       "14  10.1     8.0  \n",
       "15   4.2     3.4  \n",
       "16   3.4     2.7  \n",
       "17  11.9     8.2  "
      ]
     },
     "execution_count": 50,
     "metadata": {},
     "output_type": "execute_result"
    }
   ],
   "source": [
    "# fabrication d'un DataFrame à partir du XML\n",
    "liste = [\n",
    "    {'categorie': node_category.attrib['titre'],\n",
    "    'sousCategorie': node_subcategory.attrib['titre'],\n",
    "    'oui': node_oui.text,\n",
    "    'non': node_non.text,\n",
    "    'blancs': node_blancs.text}\n",
    "        for node_category in root.getiterator('categorie')\n",
    "            for node_subcategory in node_category.getiterator('sousCategorie')\n",
    "                for node_oui in node_subcategory.getiterator('oui')\n",
    "                    for node_non in node_subcategory.getiterator('non')\n",
    "                        for node_blancs in node_subcategory.getiterator('blancs')]\n",
    "\n",
    "df = pd.DataFrame(liste)\n",
    "df['oui'] = df['oui'].str.replace(',','.',1).astype(float)\n",
    "df['non'] = df['non'].str.replace(',','.',1).astype(float)\n",
    "df['blancs'] = df['blancs'].str.replace(',','.',1).astype(float)\n",
    "\n",
    "df"
   ]
  },
  {
   "cell_type": "code",
   "execution_count": 31,
   "metadata": {},
   "outputs": [
    {
     "data": {
      "text/html": [
       "<div>\n",
       "<style scoped>\n",
       "    .dataframe tbody tr th:only-of-type {\n",
       "        vertical-align: middle;\n",
       "    }\n",
       "\n",
       "    .dataframe tbody tr th {\n",
       "        vertical-align: top;\n",
       "    }\n",
       "\n",
       "    .dataframe thead th {\n",
       "        text-align: right;\n",
       "    }\n",
       "</style>\n",
       "<table border=\"1\" class=\"dataframe\">\n",
       "  <thead>\n",
       "    <tr style=\"text-align: right;\">\n",
       "      <th></th>\n",
       "      <th>categorie</th>\n",
       "      <th>sousCategorie</th>\n",
       "      <th>oui</th>\n",
       "      <th>non</th>\n",
       "      <th>blancs</th>\n",
       "    </tr>\n",
       "  </thead>\n",
       "  <tbody>\n",
       "    <tr>\n",
       "      <th>0</th>\n",
       "      <td>Se loger</td>\n",
       "      <td>Sur la rénovation énergétique des bâtiments</td>\n",
       "      <td>87.3</td>\n",
       "      <td>12.7</td>\n",
       "      <td>9.5</td>\n",
       "    </tr>\n",
       "    <tr>\n",
       "      <th>1</th>\n",
       "      <td>Se loger</td>\n",
       "      <td>Réduire la consommation d'énergie</td>\n",
       "      <td>92.0</td>\n",
       "      <td>8.0</td>\n",
       "      <td>3.0</td>\n",
       "    </tr>\n",
       "    <tr>\n",
       "      <th>2</th>\n",
       "      <td>Se loger</td>\n",
       "      <td>Lutter contre l'artificialisation des sols</td>\n",
       "      <td>99.0</td>\n",
       "      <td>1.0</td>\n",
       "      <td>1.0</td>\n",
       "    </tr>\n",
       "    <tr>\n",
       "      <th>3</th>\n",
       "      <td>Consommer</td>\n",
       "      <td>Affichage</td>\n",
       "      <td>98.8</td>\n",
       "      <td>2.0</td>\n",
       "      <td>0.7</td>\n",
       "    </tr>\n",
       "    <tr>\n",
       "      <th>4</th>\n",
       "      <td>Consommer</td>\n",
       "      <td>Publicité</td>\n",
       "      <td>89.6</td>\n",
       "      <td>10.4</td>\n",
       "      <td>4.0</td>\n",
       "    </tr>\n",
       "    <tr>\n",
       "      <th>5</th>\n",
       "      <td>Consommer</td>\n",
       "      <td>Suremballage</td>\n",
       "      <td>95.9</td>\n",
       "      <td>4.1</td>\n",
       "      <td>2.7</td>\n",
       "    </tr>\n",
       "    <tr>\n",
       "      <th>6</th>\n",
       "      <td>Consommer</td>\n",
       "      <td>Education</td>\n",
       "      <td>97.9</td>\n",
       "      <td>2.1</td>\n",
       "      <td>2.7</td>\n",
       "    </tr>\n",
       "    <tr>\n",
       "      <th>7</th>\n",
       "      <td>Consommer</td>\n",
       "      <td>Suivi et contrôle des politiques publiques env...</td>\n",
       "      <td>95.9</td>\n",
       "      <td>4.1</td>\n",
       "      <td>2.7</td>\n",
       "    </tr>\n",
       "    <tr>\n",
       "      <th>8</th>\n",
       "      <td>Se déplacer</td>\n",
       "      <td>Sortir de l'usage de la voiture en solo</td>\n",
       "      <td>96.4</td>\n",
       "      <td>3.6</td>\n",
       "      <td>4.1</td>\n",
       "    </tr>\n",
       "    <tr>\n",
       "      <th>9</th>\n",
       "      <td>Se déplacer</td>\n",
       "      <td>Aménagements de la voie publique</td>\n",
       "      <td>98.6</td>\n",
       "      <td>1.4</td>\n",
       "      <td>2.0</td>\n",
       "    </tr>\n",
       "    <tr>\n",
       "      <th>10</th>\n",
       "      <td>Se déplacer</td>\n",
       "      <td>Retour fort à l'usage du train</td>\n",
       "      <td>95.9</td>\n",
       "      <td>4.1</td>\n",
       "      <td>1.3</td>\n",
       "    </tr>\n",
       "    <tr>\n",
       "      <th>11</th>\n",
       "      <td>Se déplacer</td>\n",
       "      <td>Réduire le transport routier de marchandises</td>\n",
       "      <td>97.3</td>\n",
       "      <td>2.7</td>\n",
       "      <td>0.0</td>\n",
       "    </tr>\n",
       "    <tr>\n",
       "      <th>12</th>\n",
       "      <td>Se déplacer</td>\n",
       "      <td>Réduire à zéro les émissions des navires dans ...</td>\n",
       "      <td>95.9</td>\n",
       "      <td>4.1</td>\n",
       "      <td>2.7</td>\n",
       "    </tr>\n",
       "    <tr>\n",
       "      <th>13</th>\n",
       "      <td>Se déplacer</td>\n",
       "      <td>Transition vers un parc de véhicules plus propre</td>\n",
       "      <td>86.6</td>\n",
       "      <td>13.4</td>\n",
       "      <td>4.7</td>\n",
       "    </tr>\n",
       "    <tr>\n",
       "      <th>14</th>\n",
       "      <td>Se déplacer</td>\n",
       "      <td>Mieux organiser les déplacements avec les entr...</td>\n",
       "      <td>89.9</td>\n",
       "      <td>10.1</td>\n",
       "      <td>8.0</td>\n",
       "    </tr>\n",
       "    <tr>\n",
       "      <th>15</th>\n",
       "      <td>Se déplacer</td>\n",
       "      <td>Portail unique sur les dispositifs et moyens d...</td>\n",
       "      <td>95.8</td>\n",
       "      <td>4.2</td>\n",
       "      <td>3.4</td>\n",
       "    </tr>\n",
       "    <tr>\n",
       "      <th>16</th>\n",
       "      <td>Se déplacer</td>\n",
       "      <td>Autorités organisatrices de la mobilité</td>\n",
       "      <td>96.6</td>\n",
       "      <td>3.4</td>\n",
       "      <td>2.7</td>\n",
       "    </tr>\n",
       "    <tr>\n",
       "      <th>17</th>\n",
       "      <td>Se déplacer</td>\n",
       "      <td>Limiter les effets néfastes du transport aérien</td>\n",
       "      <td>88.1</td>\n",
       "      <td>11.9</td>\n",
       "      <td>8.2</td>\n",
       "    </tr>\n",
       "  </tbody>\n",
       "</table>\n",
       "</div>"
      ],
      "text/plain": [
       "      categorie                                      sousCategorie   oui  \\\n",
       "0      Se loger        Sur la rénovation énergétique des bâtiments  87.3   \n",
       "1      Se loger                  Réduire la consommation d'énergie  92.0   \n",
       "2      Se loger         Lutter contre l'artificialisation des sols  99.0   \n",
       "3     Consommer                                          Affichage  98.8   \n",
       "4     Consommer                                          Publicité  89.6   \n",
       "5     Consommer                                       Suremballage  95.9   \n",
       "6     Consommer                                          Education  97.9   \n",
       "7     Consommer  Suivi et contrôle des politiques publiques env...  95.9   \n",
       "8   Se déplacer            Sortir de l'usage de la voiture en solo  96.4   \n",
       "9   Se déplacer                   Aménagements de la voie publique  98.6   \n",
       "10  Se déplacer                     Retour fort à l'usage du train  95.9   \n",
       "11  Se déplacer       Réduire le transport routier de marchandises  97.3   \n",
       "12  Se déplacer  Réduire à zéro les émissions des navires dans ...  95.9   \n",
       "13  Se déplacer   Transition vers un parc de véhicules plus propre  86.6   \n",
       "14  Se déplacer  Mieux organiser les déplacements avec les entr...  89.9   \n",
       "15  Se déplacer  Portail unique sur les dispositifs et moyens d...  95.8   \n",
       "16  Se déplacer            Autorités organisatrices de la mobilité  96.6   \n",
       "17  Se déplacer    Limiter les effets néfastes du transport aérien  88.1   \n",
       "\n",
       "     non  blancs  \n",
       "0   12.7     9.5  \n",
       "1    8.0     3.0  \n",
       "2    1.0     1.0  \n",
       "3    2.0     0.7  \n",
       "4   10.4     4.0  \n",
       "5    4.1     2.7  \n",
       "6    2.1     2.7  \n",
       "7    4.1     2.7  \n",
       "8    3.6     4.1  \n",
       "9    1.4     2.0  \n",
       "10   4.1     1.3  \n",
       "11   2.7     0.0  \n",
       "12   4.1     2.7  \n",
       "13  13.4     4.7  \n",
       "14  10.1     8.0  \n",
       "15   4.2     3.4  \n",
       "16   3.4     2.7  \n",
       "17  11.9     8.2  "
      ]
     },
     "execution_count": 31,
     "metadata": {},
     "output_type": "execute_result"
    }
   ],
   "source": [
    "# CORRECTION\n",
    "liste = [\n",
    "    {'categorie': node_category.attrib['titre'],\n",
    "    'sousCategorie': node_subcategory.attrib['titre'],\n",
    "    'oui': node_vote.find('oui').text,\n",
    "    'non': node_vote.find('non').text,\n",
    "    'blancs': node_vote.find('blancs').text}\n",
    "        for node_category in root.getiterator('categorie')\n",
    "            for node_subcategory in node_category.getiterator('sousCategorie')\n",
    "                for node_vote in node_subcategory.getiterator('vote')]\n",
    "\n",
    "df = pd.DataFrame(liste)\n",
    "df[['oui', 'non', 'blancs']] = df[['oui', 'non', 'blancs']]\\\n",
    "                                    .applymap(lambda x: x.replace(',', '.')).astype(float)\n",
    "df"
   ]
  },
  {
   "cell_type": "code",
   "execution_count": 51,
   "metadata": {},
   "outputs": [
    {
     "data": {
      "text/plain": [
       "0     109.5\n",
       "1     103.0\n",
       "2     101.0\n",
       "3     101.5\n",
       "4     104.0\n",
       "5     102.7\n",
       "6     102.7\n",
       "7     102.7\n",
       "8     104.1\n",
       "9     102.0\n",
       "10    101.3\n",
       "11    100.0\n",
       "12    102.7\n",
       "13    104.7\n",
       "14    108.0\n",
       "15    103.4\n",
       "16    102.7\n",
       "17    108.2\n",
       "dtype: float64"
      ]
     },
     "execution_count": 51,
     "metadata": {},
     "output_type": "execute_result"
    }
   ],
   "source": [
    "df[['oui', 'non', 'blancs']].sum(axis = 1)"
   ]
  },
  {
   "cell_type": "markdown",
   "metadata": {},
   "source": [
    "**Exercice 3**\n",
    "\n",
    "- Calculer un dictionnaire fréquentiel des mots  des propositions.\n",
    "- Le mettre dans un objet de type Series."
   ]
  },
  {
   "cell_type": "code",
   "execution_count": 56,
   "metadata": {},
   "outputs": [
    {
     "data": {
      "text/html": [
       "<div>\n",
       "<style scoped>\n",
       "    .dataframe tbody tr th:only-of-type {\n",
       "        vertical-align: middle;\n",
       "    }\n",
       "\n",
       "    .dataframe tbody tr th {\n",
       "        vertical-align: top;\n",
       "    }\n",
       "\n",
       "    .dataframe thead th {\n",
       "        text-align: right;\n",
       "    }\n",
       "</style>\n",
       "<table border=\"1\" class=\"dataframe\">\n",
       "  <thead>\n",
       "    <tr style=\"text-align: right;\">\n",
       "      <th></th>\n",
       "      <th>categorie</th>\n",
       "      <th>sousCategorie</th>\n",
       "      <th>proposition</th>\n",
       "    </tr>\n",
       "  </thead>\n",
       "  <tbody>\n",
       "    <tr>\n",
       "      <th>0</th>\n",
       "      <td>Modifications de la Constitution et des instit...</td>\n",
       "      <td></td>\n",
       "      <td>Ajout d'un alinéa dans le préambule de la Cons...</td>\n",
       "    </tr>\n",
       "    <tr>\n",
       "      <th>1</th>\n",
       "      <td>Modifications de la Constitution et des instit...</td>\n",
       "      <td></td>\n",
       "      <td>Ajout d'un alinéa dans l'article premier de la...</td>\n",
       "    </tr>\n",
       "    <tr>\n",
       "      <th>2</th>\n",
       "      <td>Modifications de la Constitution et des instit...</td>\n",
       "      <td></td>\n",
       "      <td>Création d'un \"Défenseur de l'environnement\", ...</td>\n",
       "    </tr>\n",
       "    <tr>\n",
       "      <th>3</th>\n",
       "      <td>Modifications de la Constitution et des instit...</td>\n",
       "      <td></td>\n",
       "      <td>Renforcement du rôle du CESE, le Conseil Econo...</td>\n",
       "    </tr>\n",
       "    <tr>\n",
       "      <th>4</th>\n",
       "      <td>Se loger</td>\n",
       "      <td>Sur la rénovation énergétique des bâtiments</td>\n",
       "      <td>Contraindre les propriétaires occupants et bai...</td>\n",
       "    </tr>\n",
       "  </tbody>\n",
       "</table>\n",
       "</div>"
      ],
      "text/plain": [
       "                                           categorie  \\\n",
       "0  Modifications de la Constitution et des instit...   \n",
       "1  Modifications de la Constitution et des instit...   \n",
       "2  Modifications de la Constitution et des instit...   \n",
       "3  Modifications de la Constitution et des instit...   \n",
       "4                                           Se loger   \n",
       "\n",
       "                                 sousCategorie  \\\n",
       "0                                                \n",
       "1                                                \n",
       "2                                                \n",
       "3                                                \n",
       "4  Sur la rénovation énergétique des bâtiments   \n",
       "\n",
       "                                         proposition  \n",
       "0  Ajout d'un alinéa dans le préambule de la Cons...  \n",
       "1  Ajout d'un alinéa dans l'article premier de la...  \n",
       "2  Création d'un \"Défenseur de l'environnement\", ...  \n",
       "3  Renforcement du rôle du CESE, le Conseil Econo...  \n",
       "4  Contraindre les propriétaires occupants et bai...  "
      ]
     },
     "execution_count": 56,
     "metadata": {},
     "output_type": "execute_result"
    }
   ],
   "source": [
    "# fabrication d'un DataFrame à partir du XML\n",
    "liste = [\n",
    "    {'categorie': node_category.attrib['titre'],\n",
    "    'sousCategorie': node_subcategory.attrib['titre'],\n",
    "    'proposition': node_proposition.text}\n",
    "        for node_category in root.getiterator('categorie')\n",
    "            for node_subcategory in node_category.getiterator('sousCategorie')\n",
    "                for node_proposition in node_subcategory.getiterator('proposition')]\n",
    "\n",
    "df = pd.DataFrame(liste)\n",
    "df.head()"
   ]
  },
  {
   "cell_type": "code",
   "execution_count": 39,
   "metadata": {},
   "outputs": [
    {
     "data": {
      "text/plain": [
       "['la', 'fonction', 'findall', 'est', 'très', 'utile']"
      ]
     },
     "execution_count": 39,
     "metadata": {},
     "output_type": "execute_result"
    }
   ],
   "source": [
    "# re.findall()\n",
    "import re\n",
    "re.findall('[A-Za-zÀ-ÿ0-9]+', 'la fonction findall est très utile.')"
   ]
  },
  {
   "cell_type": "code",
   "execution_count": 40,
   "metadata": {},
   "outputs": [
    {
     "data": {
      "text/plain": [
       "Counter({'la': 1,\n",
       "         'fonction': 1,\n",
       "         'findall': 1,\n",
       "         'est': 2,\n",
       "         'très': 1,\n",
       "         'utile': 2,\n",
       "         'un': 1,\n",
       "         'objet': 1,\n",
       "         'de': 1,\n",
       "         'type': 1,\n",
       "         'counter': 1,\n",
       "         'aussi': 1})"
      ]
     },
     "execution_count": 40,
     "metadata": {},
     "output_type": "execute_result"
    }
   ],
   "source": [
    "# Counter\n",
    "from collections import Counter\n",
    "c = Counter()\n",
    "c.update(['la', 'fonction', 'findall', 'est', 'très', 'utile',\n",
    "          'un', 'objet', 'de', 'type', 'counter', 'est', 'aussi', 'utile'])\n",
    "c"
   ]
  },
  {
   "cell_type": "code",
   "execution_count": 61,
   "metadata": {},
   "outputs": [
    {
     "data": {
      "text/plain": [
       "Counter({'ajout': 2,\n",
       "         'd': 61,\n",
       "         'un': 27,\n",
       "         'alinéa': 2,\n",
       "         'dans': 31,\n",
       "         'le': 49,\n",
       "         'préambule': 1,\n",
       "         'de': 190,\n",
       "         'la': 110,\n",
       "         'constitution': 2,\n",
       "         'conciliation': 1,\n",
       "         'des': 108,\n",
       "         'droits': 2,\n",
       "         'libertés': 1,\n",
       "         'et': 93,\n",
       "         'principes': 1,\n",
       "         'qui': 10,\n",
       "         'en': 69,\n",
       "         'résultent': 1,\n",
       "         'ne': 3,\n",
       "         'saurait': 1,\n",
       "         'compromettre': 1,\n",
       "         'préservation': 2,\n",
       "         'l': 82,\n",
       "         'environnement': 8,\n",
       "         'patrimoine': 1,\n",
       "         'commun': 2,\n",
       "         'humanité': 1,\n",
       "         'article': 1,\n",
       "         'premier': 1,\n",
       "         'république': 1,\n",
       "         'garantit': 1,\n",
       "         'biodiversité': 3,\n",
       "         'lutte': 2,\n",
       "         'contre': 2,\n",
       "         'dérèglement': 1,\n",
       "         'climatique': 2,\n",
       "         'création': 2,\n",
       "         'défenseur': 2,\n",
       "         'sur': 28,\n",
       "         'modèle': 3,\n",
       "         'du': 25,\n",
       "         'renforcement': 1,\n",
       "         'rôle': 1,\n",
       "         'cese': 1,\n",
       "         'conseil': 1,\n",
       "         'economique': 1,\n",
       "         'social': 1,\n",
       "         'environnemental': 3,\n",
       "         'contraindre': 2,\n",
       "         'les': 158,\n",
       "         'propriétaires': 1,\n",
       "         'occupants': 1,\n",
       "         'bailleurs': 1,\n",
       "         'à': 74,\n",
       "         'rénover': 1,\n",
       "         'leurs': 3,\n",
       "         'biens': 1,\n",
       "         'manière': 3,\n",
       "         'globale': 2,\n",
       "         'obliger': 3,\n",
       "         'changement': 1,\n",
       "         'chaudières': 1,\n",
       "         'au': 23,\n",
       "         'fioul': 1,\n",
       "         'charbon': 1,\n",
       "         'ici': 4,\n",
       "         '2030': 1,\n",
       "         'bâtiments': 4,\n",
       "         'neufs': 3,\n",
       "         'rénovés': 1,\n",
       "         'déployer': 1,\n",
       "         'réseau': 1,\n",
       "         'harmonisé': 1,\n",
       "         'guichets': 1,\n",
       "         'uniques': 1,\n",
       "         'système': 3,\n",
       "         'progressif': 1,\n",
       "         'aides': 5,\n",
       "         'rénovation': 2,\n",
       "         'avec': 6,\n",
       "         'prêts': 2,\n",
       "         'subventions': 1,\n",
       "         'pour': 57,\n",
       "         'plus': 15,\n",
       "         'démunis': 2,\n",
       "         'former': 3,\n",
       "         'professionnels': 2,\n",
       "         'bâtiment': 1,\n",
       "         'répondre': 1,\n",
       "         'demande': 1,\n",
       "         'assurer': 6,\n",
       "         'une': 27,\n",
       "         'transition': 7,\n",
       "         'tous': 7,\n",
       "         'corps': 1,\n",
       "         'métier': 1,\n",
       "         'btp': 1,\n",
       "         'vers': 6,\n",
       "         'pratiques': 4,\n",
       "         'écoresponsables': 2,\n",
       "         'par': 22,\n",
       "         'mesures': 3,\n",
       "         'fortes': 2,\n",
       "         'espaces': 5,\n",
       "         'publics': 4,\n",
       "         'tertiaires': 1,\n",
       "         'réduire': 8,\n",
       "         'leur': 7,\n",
       "         'consommation': 7,\n",
       "         'énergie': 2,\n",
       "         'changer': 1,\n",
       "         'profondeur': 1,\n",
       "         'comportements': 2,\n",
       "         'incitant': 1,\n",
       "         'particuliers': 2,\n",
       "         'inciter': 5,\n",
       "         'limiter': 2,\n",
       "         'recours': 1,\n",
       "         'chauffage': 1,\n",
       "         'climatisation': 2,\n",
       "         'logements': 3,\n",
       "         'ceux': 1,\n",
       "         'ouverts': 1,\n",
       "         'public': 1,\n",
       "         'ainsi': 2,\n",
       "         'que': 4,\n",
       "         'tertiaire': 1,\n",
       "         'température': 1,\n",
       "         'moyenne': 1,\n",
       "         'maximale': 1,\n",
       "         '19': 1,\n",
       "         'renoncer': 1,\n",
       "         'deçà': 1,\n",
       "         '25': 1,\n",
       "         'définir': 2,\n",
       "         'enveloppe': 2,\n",
       "         'restrictive': 1,\n",
       "         'nombre': 1,\n",
       "         'hectares': 1,\n",
       "         'maximum': 3,\n",
       "         'pouvant': 2,\n",
       "         'être': 2,\n",
       "         'artificialisés': 2,\n",
       "         'réduisant': 1,\n",
       "         '2': 2,\n",
       "         'artificialisation': 2,\n",
       "         'sols': 1,\n",
       "         'interdire': 10,\n",
       "         'toute': 2,\n",
       "         'terres': 3,\n",
       "         'tant': 1,\n",
       "         'réhabilitations': 2,\n",
       "         'ou': 8,\n",
       "         'friches': 3,\n",
       "         'commerciales': 3,\n",
       "         'artisanales': 1,\n",
       "         'industrielles': 1,\n",
       "         'sont': 4,\n",
       "         'possibles': 1,\n",
       "         'urbaine': 1,\n",
       "         'existante': 1,\n",
       "         'prendre': 3,\n",
       "         'immédiatement': 1,\n",
       "         'coercitives': 1,\n",
       "         'stopper': 1,\n",
       "         'aménagements': 2,\n",
       "         'zones': 3,\n",
       "         'périurbaines': 2,\n",
       "         'très': 3,\n",
       "         'consommatrices': 1,\n",
       "         'espace': 1,\n",
       "         'protéger': 2,\n",
       "         'fermement': 1,\n",
       "         'définitivement': 1,\n",
       "         'naturels': 1,\n",
       "         'agricoles': 1,\n",
       "         'périurbains': 1,\n",
       "         'forêts': 2,\n",
       "         's': 4,\n",
       "         'gestion': 2,\n",
       "         'durable': 5,\n",
       "         'ensemble': 3,\n",
       "         'privées': 1,\n",
       "         'publiques': 3,\n",
       "         'ceintures': 1,\n",
       "         'maraichères': 1,\n",
       "         'autour': 2,\n",
       "         'pôles': 2,\n",
       "         'faciliter': 3,\n",
       "         'changements': 1,\n",
       "         'usage': 8,\n",
       "         'terrains': 1,\n",
       "         'non': 4,\n",
       "         'occupés': 1,\n",
       "         'réquisitions': 1,\n",
       "         'bureaux': 1,\n",
       "         'vacants': 1,\n",
       "         'reprises': 1,\n",
       "         'notamment': 4,\n",
       "         'possibilité': 2,\n",
       "         'communes': 2,\n",
       "         'exproprier': 1,\n",
       "         'délaissées': 1,\n",
       "         'depuis': 1,\n",
       "         '10': 3,\n",
       "         'ans': 2,\n",
       "         'évaluer': 1,\n",
       "         'potentiel': 1,\n",
       "         'réversibilité': 1,\n",
       "         'avant': 2,\n",
       "         'démolition': 1,\n",
       "         'permettre': 5,\n",
       "         'construction': 2,\n",
       "         'immeubles': 1,\n",
       "         'collectifs': 2,\n",
       "         'pavillonnaires': 1,\n",
       "         'renforcer': 7,\n",
       "         'contrôles': 2,\n",
       "         'respect': 2,\n",
       "         'obligations': 3,\n",
       "         'protection': 2,\n",
       "         'limitation': 2,\n",
       "         'urbanisés': 1,\n",
       "         'sanctionner': 2,\n",
       "         'pénalement': 1,\n",
       "         'manquements': 1,\n",
       "         'sensibiliser': 2,\n",
       "         'importance': 1,\n",
       "         'intérêt': 1,\n",
       "         'ville': 2,\n",
       "         'compacte': 1,\n",
       "         'construire': 1,\n",
       "         'nouvelle': 3,\n",
       "         'culture': 1,\n",
       "         'habitat': 1,\n",
       "         'collectif': 2,\n",
       "         'financer': 3,\n",
       "         'rénovations': 1,\n",
       "         'petites': 2,\n",
       "         'rendre': 7,\n",
       "         'centres': 2,\n",
       "         'attractifs': 1,\n",
       "         'revitalisation': 1,\n",
       "         'commerces': 2,\n",
       "         'maintien': 3,\n",
       "         'écoles': 1,\n",
       "         'milieu': 2,\n",
       "         'rural': 1,\n",
       "         'mettre': 14,\n",
       "         'place': 17,\n",
       "         'prime': 1,\n",
       "         'investissement': 2,\n",
       "         'établissements': 1,\n",
       "         'permettant': 2,\n",
       "         'équiper': 1,\n",
       "         'matériel': 1,\n",
       "         'personnels': 1,\n",
       "         'mener': 1,\n",
       "         'campagnes': 1,\n",
       "         'sensibilisation': 1,\n",
       "         'afin': 4,\n",
       "         'atteindre': 2,\n",
       "         'objectifs': 4,\n",
       "         'loi': 9,\n",
       "         'egalim': 4,\n",
       "         'proposer': 2,\n",
       "         'bonus': 3,\n",
       "         'cts': 1,\n",
       "         'repas': 3,\n",
       "         'cantines': 1,\n",
       "         'bio': 2,\n",
       "         'locales': 4,\n",
       "         'moins': 5,\n",
       "         '200': 2,\n",
       "         'jour': 1,\n",
       "         'aider': 6,\n",
       "         'absorber': 1,\n",
       "         'surcoût': 1,\n",
       "         '3': 3,\n",
       "         'premières': 1,\n",
       "         'années': 1,\n",
       "         'créer': 4,\n",
       "         'observatoire': 1,\n",
       "         'restauration': 4,\n",
       "         'collective': 3,\n",
       "         'ayant': 2,\n",
       "         'objectif': 2,\n",
       "         'partager': 1,\n",
       "         'bonnes': 1,\n",
       "         'suivre': 1,\n",
       "         'atteinte': 2,\n",
       "         'organisme': 1,\n",
       "         'contrôle': 2,\n",
       "         'bonne': 1,\n",
       "         'mise': 7,\n",
       "         'uvre': 3,\n",
       "         'encourager': 2,\n",
       "         'réflexion': 1,\n",
       "         'réécrire': 1,\n",
       "         'arrêté': 1,\n",
       "         '30': 1,\n",
       "         'septembre': 1,\n",
       "         '2011': 1,\n",
       "         'relatif': 1,\n",
       "         'qualité': 3,\n",
       "         'nutritionnelle': 1,\n",
       "         'servis': 1,\n",
       "         'scolaire': 2,\n",
       "         'étendre': 3,\n",
       "         'toutes': 6,\n",
       "         'dispositions': 2,\n",
       "         'privée': 1,\n",
       "         'partir': 1,\n",
       "         '2025': 6,\n",
       "         'liste': 1,\n",
       "         'produits': 16,\n",
       "         'éligibles': 1,\n",
       "         'aux': 15,\n",
       "         '50': 4,\n",
       "         'définis': 1,\n",
       "         'agriculteurs': 4,\n",
       "         'faible': 3,\n",
       "         'coût': 3,\n",
       "         'structuration': 2,\n",
       "         'filières': 3,\n",
       "         'qu': 1,\n",
       "         'elles': 1,\n",
       "         'arrivent': 1,\n",
       "         'faire': 5,\n",
       "         'reconnaître': 1,\n",
       "         'signes': 1,\n",
       "         'négociations': 5,\n",
       "         'tripartites': 1,\n",
       "         'justes': 2,\n",
       "         'présence': 1,\n",
       "         'direction': 1,\n",
       "         'générale': 2,\n",
       "         'concurrence': 1,\n",
       "         'répression': 1,\n",
       "         'fraudes': 1,\n",
       "         'dgccrf': 1,\n",
       "         'méthode': 1,\n",
       "         'obligatoire': 8,\n",
       "         'organiser': 2,\n",
       "         'rendez': 1,\n",
       "         'vous': 1,\n",
       "         'réguliers': 1,\n",
       "         'échelle': 1,\n",
       "         'interprofessions': 1,\n",
       "         'transparence': 2,\n",
       "         'entreprises': 8,\n",
       "         'agroalimentaires': 1,\n",
       "         'centrales': 2,\n",
       "         'achats': 1,\n",
       "         'utiliser': 4,\n",
       "         'levier': 1,\n",
       "         'commande': 1,\n",
       "         'publique': 1,\n",
       "         'valoriser': 1,\n",
       "         'issus': 2,\n",
       "         'circuits': 2,\n",
       "         'courts': 2,\n",
       "         'locaux': 1,\n",
       "         'sous': 3,\n",
       "         'forme': 2,\n",
       "         'guide': 1,\n",
       "         'achat': 4,\n",
       "         'adresser': 1,\n",
       "         'acheteurs': 1,\n",
       "         'poursuivre': 2,\n",
       "         'efforts': 2,\n",
       "         'réduction': 3,\n",
       "         'gaspillage': 1,\n",
       "         'alimentaire': 2,\n",
       "         'niveau': 3,\n",
       "         'individuel': 1,\n",
       "         'exploitations': 2,\n",
       "         'agroécologie': 6,\n",
       "         '2040': 1,\n",
       "         'développer': 7,\n",
       "         'agriculture': 3,\n",
       "         'biologique': 2,\n",
       "         'maintenir': 1,\n",
       "         'aide': 2,\n",
       "         'conversion': 1,\n",
       "         'restaurer': 1,\n",
       "         'supporter': 1,\n",
       "         'certification': 1,\n",
       "         'annuelle': 1,\n",
       "         'label': 2,\n",
       "         'état': 3,\n",
       "         'engrais': 1,\n",
       "         'azotés': 1,\n",
       "         'augmenter': 4,\n",
       "         'taxe': 2,\n",
       "         'activités': 2,\n",
       "         'polluantes': 1,\n",
       "         'tgap': 1,\n",
       "         'diminution': 2,\n",
       "         'pesticides': 2,\n",
       "         'interdiction': 4,\n",
       "         'cmr': 1,\n",
       "         'phytopharmaceutiques': 1,\n",
       "         'dommageable': 1,\n",
       "         '2035': 1,\n",
       "         'filière': 4,\n",
       "         'protéagineux': 1,\n",
       "         'augmentation': 1,\n",
       "         'autonomie': 2,\n",
       "         'cheptel': 1,\n",
       "         'animal': 1,\n",
       "         'français': 4,\n",
       "         '100': 1,\n",
       "         'alimentation': 2,\n",
       "         'humaine': 1,\n",
       "         'protéines': 2,\n",
       "         'végétales': 2,\n",
       "         'accroissement': 1,\n",
       "         'diversification': 1,\n",
       "         'cultures': 1,\n",
       "         'pac': 2,\n",
       "         'plan': 8,\n",
       "         'national': 7,\n",
       "         'prairies': 1,\n",
       "         'permanentes': 1,\n",
       "         'éviter': 3,\n",
       "         'nues': 1,\n",
       "         'mettant': 2,\n",
       "         'couvert': 1,\n",
       "         'végétal': 1,\n",
       "         'rémunérer': 1,\n",
       "         'services': 4,\n",
       "         'rendus': 1,\n",
       "         'stockage': 1,\n",
       "         'carbone': 10,\n",
       "         'financement': 5,\n",
       "         'implantation': 2,\n",
       "         'nouveaux': 3,\n",
       "         'élevages': 1,\n",
       "         'respectent': 1,\n",
       "         'pas': 1,\n",
       "         'conditions': 2,\n",
       "         'faibles': 1,\n",
       "         'émissions': 7,\n",
       "         'gaz': 8,\n",
       "         'effet': 8,\n",
       "         'serre': 8,\n",
       "         'accompagner': 4,\n",
       "         'éleveurs': 1,\n",
       "         'restructuration': 1,\n",
       "         'cheptels': 1,\n",
       "         'améliorer': 2,\n",
       "         'production': 2,\n",
       "         'réformer': 2,\n",
       "         'enseignement': 2,\n",
       "         'formation': 4,\n",
       "         'agricole': 2,\n",
       "         'intégrer': 5,\n",
       "         'tronc': 1,\n",
       "         'imposer': 3,\n",
       "         'stages': 1,\n",
       "         'appliquent': 1,\n",
       "         'méthodes': 1,\n",
       "         'ouvrir': 1,\n",
       "         'continue': 1,\n",
       "         'agroécologiques': 1,\n",
       "         'conseillers': 1,\n",
       "         'techniques': 2,\n",
       "         'relever': 1,\n",
       "         'niveaux': 1,\n",
       "         'exigences': 1,\n",
       "         'verdissement': 1,\n",
       "         'transformer': 1,\n",
       "         'attribution': 1,\n",
       "         'hectare': 1,\n",
       "         'actif': 1,\n",
       "         'mécanisme': 1,\n",
       "         'suivi': 3,\n",
       "         'évaluation': 2,\n",
       "         'performance': 1,\n",
       "         'climat': 2,\n",
       "         'stratégique': 3,\n",
       "         'psn': 3,\n",
       "         'compatibilité': 1,\n",
       "         'stratégie': 3,\n",
       "         'nationale': 4,\n",
       "         'bas': 2,\n",
       "         'snbc': 1,\n",
       "         'santé': 2,\n",
       "         'déforestation': 1,\n",
       "         'importée': 1,\n",
       "         'sndi': 1,\n",
       "         'concernant': 1,\n",
       "         'développement': 7,\n",
       "         'connaissance': 1,\n",
       "         'stocks': 2,\n",
       "         'déplacements': 1,\n",
       "         'poissons': 2,\n",
       "         'mieux': 2,\n",
       "         'quotas': 1,\n",
       "         'éliminer': 1,\n",
       "         'surpêche': 1,\n",
       "         'pêche': 3,\n",
       "         'fragiles': 1,\n",
       "         'affermir': 1,\n",
       "         'eau': 1,\n",
       "         'profonde': 1,\n",
       "         'fermes': 1,\n",
       "         'aquacoles': 1,\n",
       "         'raisonnées': 1,\n",
       "         'respectueuses': 1,\n",
       "         'pêcher': 1,\n",
       "         'naturel': 1,\n",
       "         'capacité': 1,\n",
       "         'océans': 1,\n",
       "         'stocker': 1,\n",
       "         'protégeant': 1,\n",
       "         'baleines': 1,\n",
       "         'espèces': 1,\n",
       "         'marines': 1,\n",
       "         'diminuer': 1,\n",
       "         'dues': 1,\n",
       "         'transport': 4,\n",
       "         'maritime': 2,\n",
       "         'poursuivant': 1,\n",
       "         'modernisation': 1,\n",
       "         'flotte': 1,\n",
       "         'bateaux': 1,\n",
       "         'systèmes': 2,\n",
       "         'propulsion': 1,\n",
       "         'vert': 1,\n",
       "         'renégocier': 1,\n",
       "         'ceta': 1,\n",
       "         'européen': 1,\n",
       "         'y': 1,\n",
       "         'climatiques': 1,\n",
       "         'accord': 2,\n",
       "         'paris': 3,\n",
       "         'demander': 2,\n",
       "         'gouvernement': 2,\n",
       "         'défendre': 2,\n",
       "         'réforme': 1,\n",
       "         'politique': 1,\n",
       "         'commerciale': 1,\n",
       "         'européenne': 3,\n",
       "         'inscrire': 3,\n",
       "         'principe': 1,\n",
       "         'précaution': 1,\n",
       "         'accords': 3,\n",
       "         'commerciaux': 2,\n",
       "         'engagements': 1,\n",
       "         'comme': 2,\n",
       "         'contraignants': 1,\n",
       "         'fin': 3,\n",
       "         'tribunaux': 1,\n",
       "         'arbitrage': 1,\n",
       "         'privés': 2,\n",
       "         'garantir': 2,\n",
       "         'démocratique': 1,\n",
       "         'positions': 1,\n",
       "         'auprès': 1,\n",
       "         'omc': 1,\n",
       "         'considération': 1,\n",
       "         'sanctions': 1,\n",
       "         'états': 1,\n",
       "         'récalcitrants': 1,\n",
       "         'inclure': 1,\n",
       "         'clauses': 3,\n",
       "         'environnementales': 3,\n",
       "         'informer': 3,\n",
       "         'consommateur': 1,\n",
       "         'renforçant': 1,\n",
       "         'communication': 1,\n",
       "         'nutrition': 1,\n",
       "         'pnnsc': 1,\n",
       "         'publicité': 3,\n",
       "         'proscrits': 2,\n",
       "         'pnns': 1,\n",
       "         'concevoir': 1,\n",
       "         'solidarité': 1,\n",
       "         'ménages': 3,\n",
       "         'modestes': 1,\n",
       "         'avoir': 1,\n",
       "         'accès': 4,\n",
       "         'fonctionnement': 1,\n",
       "         'labels': 2,\n",
       "         'supprimant': 1,\n",
       "         'agro': 1,\n",
       "         'écologique': 2,\n",
       "         'consommateurs': 1,\n",
       "         'degré': 1,\n",
       "         'transformation': 3,\n",
       "         'via': 1,\n",
       "         'étiquetage': 1,\n",
       "         'charte': 1,\n",
       "         'éthique': 1,\n",
       "         'agroalimentaire': 1,\n",
       "         'renseigne': 1,\n",
       "         'qualifie': 1,\n",
       "         'termes': 1,\n",
       "         'auxiliaires': 3,\n",
       "         'additifs': 2,\n",
       "         'alimentaires': 4,\n",
       "         'rapidement': 3,\n",
       "         'accidents': 1,\n",
       "         'importation': 1,\n",
       "         'composés': 1,\n",
       "         'technologiques': 1,\n",
       "         'union': 1,\n",
       "         'progressivement': 4,\n",
       "         '5': 3,\n",
       "         'taxer': 2,\n",
       "         'ultra': 1,\n",
       "         'transformés': 1,\n",
       "         'forte': 1,\n",
       "         'empreinte': 2,\n",
       "         'apport': 1,\n",
       "         'nutritionnel': 1,\n",
       "         'chèques': 1,\n",
       "         'amap': 1,\n",
       "         'bios': 1,\n",
       "         'adopter': 3,\n",
       "         'pénalise': 1,\n",
       "         'crime': 1,\n",
       "         'écocide': 1,\n",
       "         'cadre': 2,\n",
       "         '9': 1,\n",
       "         'limites': 2,\n",
       "         'planétaires': 2,\n",
       "         'intègre': 1,\n",
       "         'devoir': 1,\n",
       "         'vigilance': 1,\n",
       "         'délit': 1,\n",
       "         'imprudence': 1,\n",
       "         'dont': 1,\n",
       "         'est': 1,\n",
       "         'garantie': 2,\n",
       "         'haute': 1,\n",
       "         'autorité': 1,\n",
       "         'puis': 1,\n",
       "         'score': 1,\n",
       "         'affichage': 1,\n",
       "         'lieux': 1,\n",
       "         'publicités': 1,\n",
       "         'marques': 1,\n",
       "         'efficace': 1,\n",
       "         'opérante': 1,\n",
       "         'émetteurs': 4,\n",
       "         'ges': 1,\n",
       "         'supports': 1,\n",
       "         'publicitaires': 1,\n",
       "         'réguler': 1,\n",
       "         'fortement': 2,\n",
       "         'incitations': 2,\n",
       "         'quotidiennes': 1,\n",
       "         'choisies': 1,\n",
       "         'mentions': 1,\n",
       "         'consommer': 1,\n",
       "         'obligation': 1,\n",
       "         'vrac': 1,\n",
       "         'magasins': 1,\n",
       "         'imposition': 1,\n",
       "         'pourcentage': 1,\n",
       "         'progressive': 2,\n",
       "         'consigne': 1,\n",
       "         'verre': 1,\n",
       "         'lavable': 1,\n",
       "         'réutilisable': 1,\n",
       "         'jusqu': 1,\n",
       "         'généralisée': 1,\n",
       "         'favoriser': 4,\n",
       "         'emballages': 1,\n",
       "         'biosourcés': 1,\n",
       "         'compostables': 1,\n",
       "         'emballage': 1,\n",
       "         'plastique': 2,\n",
       "         'unique': 3,\n",
       "         'remplacer': 1,\n",
       "         'part': 1,\n",
       "         'significative': 1,\n",
       "         'enlèvement': 1,\n",
       "         'ordures': 1,\n",
       "         'ménagères': 1,\n",
       "         'teom': 1,\n",
       "         'modalités': 4,\n",
       "         'favorisant': 1,\n",
       "         'modifier': 1,\n",
       "         'code': 1,\n",
       "         'éducation': 3,\n",
       "         'généralisation': 1,\n",
       "         'eedd': 1,\n",
       "         'faisant': 1,\n",
       "         'mission': 1,\n",
       "         'transversale': 1,\n",
       "         'enseignants': 1,\n",
       "         'population': 1,\n",
       "         'française': 1,\n",
       "         'reliant': 1,\n",
       "         'compréhension': 1,\n",
       "         'urgence': 1,\n",
       "         'passage': 1,\n",
       "         'action': 1,\n",
       "         'contrôler': 1,\n",
       "         'efficacement': 1,\n",
       "         'atteintes': 1,\n",
       "         'règles': 1,\n",
       "         'matière': 2,\n",
       "         'environnementale': 2,\n",
       "         'centraliser': 1,\n",
       "         'politiques': 1,\n",
       "         'moyens': 5,\n",
       "         'transports': 3,\n",
       "         'doux': 2,\n",
       "         'partagés': 3,\n",
       "         'trajets': 2,\n",
       "         'domicile': 1,\n",
       "         'travail': 3,\n",
       "         'généralisant': 1,\n",
       "         'améliorant': 1,\n",
       "         'forfait': 1,\n",
       "         'mobilité': 6,\n",
       "         'prévue': 1,\n",
       "         'récente': 1,\n",
       "         'orientation': 1,\n",
       "         'mobilités': 1,\n",
       "         'utilisation': 2,\n",
       "         'voiture': 1,\n",
       "         'réformant': 1,\n",
       "         'indemnité': 1,\n",
       "         'kilométrique': 2,\n",
       "         'impôt': 1,\n",
       "         'revenu': 1,\n",
       "         'parkings': 1,\n",
       "         'relais': 1,\n",
       "         'villes': 1,\n",
       "         'véhicules': 9,\n",
       "         'montants': 1,\n",
       "         'fonds': 1,\n",
       "         'vélo': 2,\n",
       "         'millions': 1,\n",
       "         'euros': 1,\n",
       "         'an': 1,\n",
       "         'pistes': 1,\n",
       "         'cyclables': 1,\n",
       "         'généraliser': 2,\n",
       "         'voies': 2,\n",
       "         'réservées': 1,\n",
       "         'autoroutes': 2,\n",
       "         'rapides': 1,\n",
       "         'vitesse': 1,\n",
       "         'autoroute': 1,\n",
       "         '110': 1,\n",
       "         'km': 1,\n",
       "         'h': 1,\n",
       "         'tva': 2,\n",
       "         'billets': 1,\n",
       "         'train': 1,\n",
       "         'tarifaires': 1,\n",
       "         'attractives': 1,\n",
       "         'déjà': 1,\n",
       "         'pratiquées': 1,\n",
       "         'certaines': 1,\n",
       "         'régions': 1,\n",
       "         'massif': 1,\n",
       "         'moderniser': 1,\n",
       "         'infrastructures': 1,\n",
       "         'matériels': 1,\n",
       "         'roulants': 1,\n",
       "         'gares': 1,\n",
       "         'multimodaux': 1,\n",
       "         'lien': 1,\n",
       "         'voitures': 1,\n",
       "         'cars': 1,\n",
       "         'vélos': 1,\n",
       "         'fret': 1,\n",
       "         'fluvial': 1,\n",
       "         'déterminés': 1,\n",
       "         'régulier': 1,\n",
       "         'chauffeurs': 1,\n",
       "         'écoconduite': 1,\n",
       "         'constructeurs': 1,\n",
       "         'poids': 4,\n",
       "         'lourds': 3,\n",
       "         'même': 1,\n",
       "         'énergétique': 1,\n",
       "         'recherche': 1,\n",
       "         'sortir': 1,\n",
       "         'avantages': 1,\n",
       "         'fiscaux': 1,\n",
       "         'gazole': 1,\n",
       "         'échange': 1,\n",
       "         'compensations': 1,\n",
       "         'transporteurs': 1,\n",
       "         'accrues': 1,\n",
       "         'propres': 4,\n",
       "         'remplacement': 1,\n",
       "         'polluants': 4,\n",
       "         'réglementaires': 1,\n",
       "         'fiscales': 1,\n",
       "         'report': 1,\n",
       "         'partiel': 1,\n",
       "         'autres': 2,\n",
       "         'marchandises': 2,\n",
       "         'chargeurs': 1,\n",
       "         'modulation': 1,\n",
       "         'moteurs': 3,\n",
       "         'lors': 1,\n",
       "         'arrêts': 1,\n",
       "         'ports': 1,\n",
       "         'disposition': 1,\n",
       "         'alimenter': 1,\n",
       "         'électricité': 1,\n",
       "         'navires': 2,\n",
       "         'quai': 1,\n",
       "         'liées': 1,\n",
       "         'agir': 1,\n",
       "         'réglementation': 2,\n",
       "         'internationale': 1,\n",
       "         'encadrer': 1,\n",
       "         'peu': 2,\n",
       "         'davantage': 2,\n",
       "         'évolution': 4,\n",
       "         'malus': 1,\n",
       "         'introduire': 1,\n",
       "         'critères': 1,\n",
       "         'compte': 2,\n",
       "         'dès': 3,\n",
       "         'commercialisation': 1,\n",
       "         'anciens': 1,\n",
       "         'continuer': 1,\n",
       "         'circuler': 1,\n",
       "         'moduler': 1,\n",
       "         'taxes': 1,\n",
       "         'contrats': 1,\n",
       "         'assurance': 1,\n",
       "         'fonction': 2,\n",
       "         'émission': 1,\n",
       "         'co2': 1,\n",
       "         'développant': 1,\n",
       "         'location': 1,\n",
       "         'longue': 1,\n",
       "         'durée': 2,\n",
       "         'taux': 1,\n",
       "         'zéro': 1,\n",
       "         'véhicule': 1,\n",
       "         'émetteur': 1,\n",
       "         'vignettes': 1,\n",
       "         'vertes': 1,\n",
       "         'positionner': 1,\n",
       "         'plaques': 1,\n",
       "         'immatriculation': 1,\n",
       "         'donnant': 1,\n",
       "         'centre': 1,\n",
       "         'places': 1,\n",
       "         'parking': 1,\n",
       "         'etc': 1,\n",
       "         'prévoir': 1,\n",
       "         'garagistes': 1,\n",
       "         'largement': 1,\n",
       "         'pétrole': 1,\n",
       "         'parc': 1,\n",
       "         'automobile': 1,\n",
       "         'carburants': 1,\n",
       "         'plans': 4,\n",
       "         'rendant': 1,\n",
       "         'obligatoires': 1,\n",
       "         'autorités': 2,\n",
       "         'organisatrices': 2,\n",
       "         'aom': 1,\n",
       "         'peuvent': 1,\n",
       "         'ces': 1,\n",
       "         'accompagnant': 1,\n",
       "         'interentreprises': 1,\n",
       "         'intra': 1,\n",
       "         'entreprise': 1,\n",
       "         'covoiturage': 1,\n",
       "         'ramassage': 1,\n",
       "         'salariés': 2,\n",
       "         'bus': 1,\n",
       "         'nouvelles': 1,\n",
       "         'organisation': 1,\n",
       "         'portail': 1,\n",
       "         'savoir': 1,\n",
       "         'tout': 2,\n",
       "         'moment': 1,\n",
       "         'simplement': 1,\n",
       "         'quels': 1,\n",
       "         'dispositifs': 1,\n",
       "         'existants': 2,\n",
       "         'territoire': 1,\n",
       "         'se': 1,\n",
       "         'déplacer': 1,\n",
       "         'projet': 1,\n",
       "         'unification': 1,\n",
       "         'titres': 1,\n",
       "         'carte': 1,\n",
       "         'multimodale': 1,\n",
       "         'citoyens': 2,\n",
       "         'échelles': 1,\n",
       "         'écocontribution': 2,\n",
       "         'renforcée': 1,\n",
       "         'trafic': 1,\n",
       "         'aérien': 1,\n",
       "         'vols': 1,\n",
       "         'intérieurs': 1,\n",
       "         'uniquement': 1,\n",
       "         'lignes': 1,\n",
       "         'où': 1,\n",
       "         'il': 1,\n",
       "         'existe': 1,\n",
       "         'alternative': 1,\n",
       "         'satisfaisante': 1,\n",
       "         'prix': 1,\n",
       "         'temps': 2,\n",
       "         'trajet': 1,\n",
       "         '4h': 1,\n",
       "         'aéroports': 2,\n",
       "         'extension': 1,\n",
       "         'carburant': 1,\n",
       "         'aviation': 1,\n",
       "         'loisir': 1,\n",
       "         'promouvoir': 1,\n",
       "         'idée': 1,\n",
       "         'pourraient': 1,\n",
       "         'éliminées': 1,\n",
       "         'soient': 1,\n",
       "         'intégralement': 1,\n",
       "         'compensées': 1,\n",
       "         'puits': 1,\n",
       "         'soutenir': 2,\n",
       "         'moyen': 1,\n",
       "         'terme': 1,\n",
       "         'r': 1,\n",
       "         'biocarburants': 1,\n",
       "         'avions': 1,\n",
       "         'longévité': 1,\n",
       "         'pollution': 1,\n",
       "         'respecter': 1,\n",
       "         'obsolescence': 1,\n",
       "         'programmée': 1,\n",
       "         'réparation': 2,\n",
       "         'manufacturés': 1,\n",
       "         'vendus': 1,\n",
       "         'france': 1,\n",
       "         '1': 1,\n",
       "         'disponibilité': 1,\n",
       "         'pièces': 1,\n",
       "         'détachées': 1,\n",
       "         'origine': 1,\n",
       "         'pendant': 1,\n",
       "         'définie': 1,\n",
       "         'proximité': 1,\n",
       "         'ateliers': 1,\n",
       "         'accessibles': 1,\n",
       "         'après': 1,\n",
       "         'vente': 1,\n",
       "         'recyclage': 2,\n",
       "         'objets': 1,\n",
       "         '2023': 2,\n",
       "         'supprimer': 1,\n",
       "         'plastiques': 1,\n",
       "         'matières': 1,\n",
       "         'durcir': 1,\n",
       "         'appliquer': 1,\n",
       "         'déchets': 1,\n",
       "         'soutien': 1,\n",
       "         'innovation': 1,\n",
       "         'doit': 1,\n",
       "         'logique': 2,\n",
       "         'sortie': 1,\n",
       "         'basé': 1,\n",
       "         'réglementer': 1,\n",
       "         'épargne': 1,\n",
       "         'réglementée': 1,\n",
       "         'gérée': 1,\n",
       "         'caisse': 1,\n",
       "         'dépôts': 1,\n",
       "         'consignations': 1,\n",
       "         'cdc': 2,\n",
       "         'banques': 1,\n",
       "         'investissements': 1,\n",
       "         'verts': 1,\n",
       "         'évoluer': 1,\n",
       "         'gouvernance': 3,\n",
       "         'cette': 1,\n",
       "         'distribuent': 1,\n",
       "         '10m': 1,\n",
       "         'dividendes': 2,\n",
       "         'annuels': 1,\n",
       "         'participeront': 1,\n",
       "         'effort': 1,\n",
       "         'hauteur': 1,\n",
       "         '4': 1,\n",
       "         'montant': 1,\n",
       "         'distribués': 1,\n",
       "         'chaque': 1,\n",
       "         'année': 1,\n",
       "         'décret': 1,\n",
       "         'emprunt': 1,\n",
       "         ...})"
      ]
     },
     "execution_count": 61,
     "metadata": {},
     "output_type": "execute_result"
    }
   ],
   "source": [
    "c = Counter()\n",
    "df['proposition'].apply(lambda x: c.update(re.findall('[A-Za-zÀ-ÿ0-9]+', x.lower())))\n",
    "c"
   ]
  },
  {
   "cell_type": "code",
   "execution_count": 64,
   "metadata": {},
   "outputs": [
    {
     "data": {
      "text/plain": [
       "de               190\n",
       "les              158\n",
       "la               110\n",
       "des              108\n",
       "et                93\n",
       "l                 82\n",
       "à                 74\n",
       "en                69\n",
       "                ... \n",
       "ordures            1\n",
       "enlèvement         1\n",
       "significative      1\n",
       "part               1\n",
       "remplacer          1\n",
       "emballage          1\n",
       "compostables       1\n",
       "poursuivant        1\n",
       "Length: 1051, dtype: int64"
      ]
     },
     "execution_count": 64,
     "metadata": {},
     "output_type": "execute_result"
    }
   ],
   "source": [
    "voc = pd.Series(dict(c))\n",
    "voc = voc.sort_values(ascending = False)\n",
    "voc"
   ]
  },
  {
   "cell_type": "markdown",
   "metadata": {},
   "source": [
    "#### Validation XML / XSD"
   ]
  },
  {
   "cell_type": "markdown",
   "metadata": {},
   "source": [
    "Il existe un langage de description de schéma XML appelé XSD (XML Schema Definition). Un fichier XML peut être écrit selon un schéma XSD particulier. Il existe une librairie Python qui peut vérifier qu'un fichier XML est valide selon un schéma XSD donné.\n",
    "\n",
    "Librairie xmlschema :\n",
    "https://pypi.org/project/xmlschema/\n",
    "\n",
    "L'utilisation de la librairie est assez simple :\n",
    "\n",
    "<pre>\n",
    ">>> # vérification que le fichier \"file.xml\" est valide dans le schéma \"schema.xsd\"\n",
    ">>> import xmlschema\n",
    ">>> my_schema = xmlschema.XMLSchema('schema.xsd')\n",
    ">>> #\n",
    ">>> # retourne un booléen selon la validité\n",
    ">>> my_schema.is_valid('file.xml')\n",
    "</pre>"
   ]
  },
  {
   "cell_type": "markdown",
   "metadata": {},
   "source": [
    "### Web Scraping\n",
    "\n",
    "- Extraction d'informations d'un site web.\n",
    "- A utiliser en l'absence de données ouvertes ou d'API.\n",
    "- Technique fragile car le site web peut changer du jour au lendemain.\n",
    "- Problématique juridique...\n",
    "\n",
    "**Avec requests**\n",
    "\n",
    "Doc :\n",
    "- requests : https://requests.readthedocs.io/en/master/\n",
    "\n",
    "Installation :\n",
    "- *pip install requests* ou *conda install -c anaconda requests*\n",
    "\n",
    "Exemple de site : https://www.beerwulf.com/fr-fr"
   ]
  },
  {
   "cell_type": "code",
   "execution_count": 33,
   "metadata": {},
   "outputs": [
    {
     "data": {
      "text/plain": [
       "200"
      ]
     },
     "execution_count": 33,
     "metadata": {},
     "output_type": "execute_result"
    }
   ],
   "source": [
    "import requests\n",
    "\n",
    "r = requests.get('https://www.beerwulf.com/fr-fr')\n",
    "r.status_code"
   ]
  },
  {
   "cell_type": "code",
   "execution_count": 34,
   "metadata": {
    "collapsed": true
   },
   "outputs": [
    {
     "data": {
      "text/plain": [
       "b'\\r\\n\\r\\n<!doctype html>\\r\\n<html class=\"no-js\" lang=\"fr-FR\"\\r\\n      data-original-lang=\"fr-FR\"\\r\\n      data-rendered-at=\"Sun, 04 Oct 2020 08:37:57 GMT\"\\r\\n      data-dynamic-ui-url=\"/fr-FR/api/dynamicUi\"\\r\\n      data-release=\"232\"\\r\\n      data-datalayer=\\'{\"page\":{\"type\":\"Home Page\",\"language\":\"fr-FR\",\"country\":\"FR\",\"currency\":\"EUR\"},\"event\":\"pageView\"}\\'\\r\\n      data-add-to-cart=\"Ajouter\"\\r\\n      data-out-of-stock=\"Revient vite !\">\\r\\n<head>\\r\\n    \\r\\n    <meta charset=\"utf-8\" />\\r\\n\\r\\n<title>Achat de bi&#232;res, f&#251;ts et tireuses en ligne  | Beerwulf</title>\\r\\n\\r\\n    <!-- Website Meta information -->\\r\\n    <meta property=\"og:url\" content=\"https://www.beerwulf.com/fr-fr\" />\\r\\n    <meta name=\"twitter:card\" content=\"summary_large_image\">\\r\\n    <meta name=\"twitter:site\" content=\"@BeerwulfWebshop\">\\r\\n    <meta name=\"twitter:creator\" content=\"@BeerwulfWebshop\">\\r\\n        <meta name=\"description\" content=\"D&#233;couvrez toutes nos tireuses &#224; bi&#232;re The SUB et BeerTender \\xe2\\x80\\xa2 +1000 bi&#232;res en bouteille \\xe2\\x80\\xa2 Coffrets et F&#251;ts de 2L et 5L \\xe2\\x80\\xa2 Livraison gratuite et rapide \\xe2\\x80\\xa2 Paiement s&#233;curis&#233; \" />\\r\\n        <meta name=\"title\" content=\"Achat de bi&#232;res, f&#251;ts et tireuses en ligne \" />\\r\\n        <meta property=\"og:description\" content=\"D&#233;couvrez toutes nos tireuses &#224; bi&#232;re The SUB et BeerTender \\xe2\\x80\\xa2 +1000 bi&#232;res en bouteille \\xe2\\x80\\xa2 Coffrets et F&#251;ts de 2L et 5L \\xe2\\x80\\xa2 Livraison gratuite et rapide \\xe2\\x80\\xa2 Paiement s&#233;curis&#233; \" />\\r\\n        <meta name=\"twitter:description\" content=\"D&#233;couvrez toutes nos tireuses &#224; bi&#232;re The SUB et BeerTender \\xe2\\x80\\xa2 +1000 bi&#232;res en bouteille \\xe2\\x80\\xa2 Coffrets et F&#251;ts de 2L et 5L \\xe2\\x80\\xa2 Livraison gratuite et rapide \\xe2\\x80\\xa2 Paiement s&#233;curis&#233; \">\\r\\n        <meta property=\"og:type\" content=\"HomePage\" />\\r\\n        <meta property=\"og:title\" content=\"Achat de bi&#232;res, f&#251;ts et tireuses en ligne \" />\\r\\n        <meta name=\"twitter:title\" content=\"Achat de bi&#232;res, f&#251;ts et tireuses en ligne \">\\r\\n        <meta property=\"og:image\" content=\"/fr-fr/SysSiteAssets/homepage-header--theme-tiles/generic_sharing_fb_fr.jpg?rev=1402182491\" />\\r\\n        <meta name=\"twitter:image\" content=\"/fr-fr/SysSiteAssets/homepage-header--theme-tiles/generic_sharing_fb_fr.jpg?rev=1402182491\" />\\r\\n\\r\\n    <meta http-equiv=\"x-ua-compatible\" content=\"ie=edge\"><script type=\"text/javascript\">window.NREUM||(NREUM={});NREUM.info = {\"beacon\":\"bam.nr-data.net\",\"errorBeacon\":\"bam.nr-data.net\",\"licenseKey\":\"NRJS-a90a78f489e3eb14e1b\",\"applicationID\":\"485457783\",\"transactionName\":\"YV1bN0FWXBVRU0BdW1gXdDVwGHoJXVVkVVNTe1YNR0VdClxVRht9WFxcGw==\",\"queueTime\":0,\"applicationTime\":195,\"agent\":\"\",\"atts\":\"\"}</script><script type=\"text/javascript\">(window.NREUM||(NREUM={})).loader_config={xpid:\"VgMDVlNXDxAEXFRWAgYAXlc=\",licenseKey:\"NRJS-a90a78f489e3eb14e1b\",applicationID:\"485457783\"};window.NREUM||(NREUM={}),__nr_require=function(t,e,n){function r(n){if(!e[n]){var i=e[n]={exports:{}};t[n][0].call(i.exports,function(e){var i=t[n][1][e];return r(i||e)},i,i.exports)}return e[n].exports}if(\"function\"==typeof __nr_require)return __nr_require;for(var i=0;i<n.length;i++)r(n[i]);return r}({1:[function(t,e,n){function r(t){try{c.console&&console.log(t)}catch(e){}}var i,o=t(\"ee\"),a=t(23),c={};try{i=localStorage.getItem(\"__nr_flags\").split(\",\"),console&&\"function\"==typeof console.log&&(c.console=!0,i.indexOf(\"dev\")!==-1&&(c.dev=!0),i.indexOf(\"nr_dev\")!==-1&&(c.nrDev=!0))}catch(s){}c.nrDev&&o.on(\"internal-error\",function(t){r(t.stack)}),c.dev&&o.on(\"fn-err\",function(t,e,n){r(n.stack)}),c.dev&&(r(\"NR AGENT IN DEVELOPMENT MODE\"),r(\"flags: \"+a(c,function(t,e){return t}).join(\", \")))},{}],2:[function(t,e,n){function r(t,e,n,r,c){try{p?p-=1:i(c||new UncaughtException(t,e,n),!0)}catch(f){try{o(\"ierr\",[f,s.now(),!0])}catch(d){}}return\"function\"==typeof u&&u.apply(this,a(arguments))}function UncaughtException(t,e,n){this.message=t||\"Uncaught error with no additional information\",this.sourceURL=e,this.line=n}function i(t,e){var n=e?null:s.now();o(\"err\",[t,n])}var o=t(\"handle\"),a=t(24),c=t(\"ee\"),s=t(\"loader\"),f=t(\"gos\"),u=window.onerror,d=!1,l=\"nr@seenError\",p=0;s.features.err=!0,t(1),window.onerror=r;try{throw new Error}catch(h){\"stack\"in h&&(t(9),t(8),\"addEventListener\"in window&&t(5),s.xhrWrappable&&t(10),d=!0)}c.on(\"fn-start\",function(t,e,n){d&&(p+=1)}),c.on(\"fn-err\",function(t,e,n){d&&!n[l]&&(f(n,l,function(){return!0}),this.thrown=!0,i(n))}),c.on(\"fn-end\",function(){d&&!this.thrown&&p>0&&(p-=1)}),c.on(\"internal-error\",function(t){o(\"ierr\",[t,s.now(),!0])})},{}],3:[function(t,e,n){t(\"loader\").features.ins=!0},{}],4:[function(t,e,n){function r(t){}if(window.performance&&window.performance.timing&&window.performance.getEntriesByType){var i=t(\"ee\"),o=t(\"handle\"),a=t(9),c=t(8),s=\"learResourceTimings\",f=\"addEventListener\",u=\"resourcetimingbufferfull\",d=\"bstResource\",l=\"resource\",p=\"-start\",h=\"-end\",m=\"fn\"+p,w=\"fn\"+h,v=\"bstTimer\",g=\"pushState\",y=t(\"loader\");y.features.stn=!0,t(7),\"addEventListener\"in window&&t(5);var x=NREUM.o.EV;i.on(m,function(t,e){var n=t[0];n instanceof x&&(this.bstStart=y.now())}),i.on(w,function(t,e){var n=t[0];n instanceof x&&o(\"bst\",[n,e,this.bstStart,y.now()])}),a.on(m,function(t,e,n){this.bstStart=y.now(),this.bstType=n}),a.on(w,function(t,e){o(v,[e,this.bstStart,y.now(),this.bstType])}),c.on(m,function(){this.bstStart=y.now()}),c.on(w,function(t,e){o(v,[e,this.bstStart,y.now(),\"requestAnimationFrame\"])}),i.on(g+p,function(t){this.time=y.now(),this.startPath=location.pathname+location.hash}),i.on(g+h,function(t){o(\"bstHist\",[location.pathname+location.hash,this.startPath,this.time])}),f in window.performance&&(window.performance[\"c\"+s]?window.performance[f](u,function(t){o(d,[window.performance.getEntriesByType(l)]),window.performance[\"c\"+s]()},!1):window.performance[f](\"webkit\"+u,function(t){o(d,[window.performance.getEntriesByType(l)]),window.performance[\"webkitC\"+s]()},!1)),document[f](\"scroll\",r,{passive:!0}),document[f](\"keypress\",r,!1),document[f](\"click\",r,!1)}},{}],5:[function(t,e,n){function r(t){for(var e=t;e&&!e.hasOwnProperty(u);)e=Object.getPrototypeOf(e);e&&i(e)}function i(t){c.inPlace(t,[u,d],\"-\",o)}function o(t,e){return t[1]}var a=t(\"ee\").get(\"events\"),c=t(\"wrap-function\")(a,!0),s=t(\"gos\"),f=XMLHttpRequest,u=\"addEventListener\",d=\"removeEventListener\";e.exports=a,\"getPrototypeOf\"in Object?(r(document),r(window),r(f.prototype)):f.prototype.hasOwnProperty(u)&&(i(window),i(f.prototype)),a.on(u+\"-start\",function(t,e){var n=t[1],r=s(n,\"nr@wrapped\",function(){function t(){if(\"function\"==typeof n.handleEvent)return n.handleEvent.apply(n,arguments)}var e={object:t,\"function\":n}[typeof n];return e?c(e,\"fn-\",null,e.name||\"anonymous\"):n});this.wrapped=t[1]=r}),a.on(d+\"-start\",function(t){t[1]=this.wrapped||t[1]})},{}],6:[function(t,e,n){function r(t,e,n){var r=t[e];\"function\"==typeof r&&(t[e]=function(){var t=o(arguments),e={};i.emit(n+\"before-start\",[t],e);var a;e[m]&&e[m].dt&&(a=e[m].dt);var c=r.apply(this,t);return i.emit(n+\"start\",[t,a],c),c.then(function(t){return i.emit(n+\"end\",[null,t],c),t},function(t){throw i.emit(n+\"end\",[t],c),t})})}var i=t(\"ee\").get(\"fetch\"),o=t(24),a=t(23);e.exports=i;var c=window,s=\"fetch-\",f=s+\"body-\",u=[\"arrayBuffer\",\"blob\",\"json\",\"text\",\"formData\"],d=c.Request,l=c.Response,p=c.fetch,h=\"prototype\",m=\"nr@context\";d&&l&&p&&(a(u,function(t,e){r(d[h],e,f),r(l[h],e,f)}),r(c,\"fetch\",s),i.on(s+\"end\",function(t,e){var n=this;if(e){var r=e.headers.get(\"content-length\");null!==r&&(n.rxSize=r),i.emit(s+\"done\",[null,e],n)}else i.emit(s+\"done\",[t],n)}))},{}],7:[function(t,e,n){var r=t(\"ee\").get(\"history\"),i=t(\"wrap-function\")(r);e.exports=r;var o=window.history&&window.history.constructor&&window.history.constructor.prototype,a=window.history;o&&o.pushState&&o.replaceState&&(a=o),i.inPlace(a,[\"pushState\",\"replaceState\"],\"-\")},{}],8:[function(t,e,n){var r=t(\"ee\").get(\"raf\"),i=t(\"wrap-function\")(r),o=\"equestAnimationFrame\";e.exports=r,i.inPlace(window,[\"r\"+o,\"mozR\"+o,\"webkitR\"+o,\"msR\"+o],\"raf-\"),r.on(\"raf-start\",function(t){t[0]=i(t[0],\"fn-\")})},{}],9:[function(t,e,n){function r(t,e,n){t[0]=a(t[0],\"fn-\",null,n)}function i(t,e,n){this.method=n,this.timerDuration=isNaN(t[1])?0:+t[1],t[0]=a(t[0],\"fn-\",this,n)}var o=t(\"ee\").get(\"timer\"),a=t(\"wrap-function\")(o),c=\"setTimeout\",s=\"setInterval\",f=\"clearTimeout\",u=\"-start\",d=\"-\";e.exports=o,a.inPlace(window,[c,\"setImmediate\"],c+d),a.inPlace(window,[s],s+d),a.inPlace(window,[f,\"clearImmediate\"],f+d),o.on(s+u,r),o.on(c+u,i)},{}],10:[function(t,e,n){function r(t,e){d.inPlace(e,[\"onreadystatechange\"],\"fn-\",c)}function i(){var t=this,e=u.context(t);t.readyState>3&&!e.resolved&&(e.resolved=!0,u.emit(\"xhr-resolved\",[],t)),d.inPlace(t,g,\"fn-\",c)}function o(t){y.push(t),h&&(b?b.then(a):w?w(a):(E=-E,R.data=E))}function a(){for(var t=0;t<y.length;t++)r([],y[t]);y.length&&(y=[])}function c(t,e){return e}function s(t,e){for(var n in t)e[n]=t[n];return e}t(5);var f=t(\"ee\"),u=f.get(\"xhr\"),d=t(\"wrap-function\")(u),l=NREUM.o,p=l.XHR,h=l.MO,m=l.PR,w=l.SI,v=\"readystatechange\",g=[\"onload\",\"onerror\",\"onabort\",\"onloadstart\",\"onloadend\",\"onprogress\",\"ontimeout\"],y=[];e.exports=u;var x=window.XMLHttpRequest=function(t){var e=new p(t);try{u.emit(\"new-xhr\",[e],e),e.addEventListener(v,i,!1)}catch(n){try{u.emit(\"internal-error\",[n])}catch(r){}}return e};if(s(p,x),x.prototype=p.prototype,d.inPlace(x.prototype,[\"open\",\"send\"],\"-xhr-\",c),u.on(\"send-xhr-start\",function(t,e){r(t,e),o(e)}),u.on(\"open-xhr-start\",r),h){var b=m&&m.resolve();if(!w&&!m){var E=1,R=document.createTextNode(E);new h(a).observe(R,{characterData:!0})}}else f.on(\"fn-end\",function(t){t[0]&&t[0].type===v||a()})},{}],11:[function(t,e,n){function r(t){if(!c(t))return null;var e=window.NREUM;if(!e.loader_config)return null;var n=(e.loader_config.accountID||\"\").toString()||null,r=(e.loader_config.agentID||\"\").toString()||null,f=(e.loader_config.trustKey||\"\").toString()||null;if(!n||!r)return null;var h=p.generateSpanId(),m=p.generateTraceId(),w=Date.now(),v={spanId:h,traceId:m,timestamp:w};return(t.sameOrigin||s(t)&&l())&&(v.traceContextParentHeader=i(h,m),v.traceContextStateHeader=o(h,w,n,r,f)),(t.sameOrigin&&!u()||!t.sameOrigin&&s(t)&&d())&&(v.newrelicHeader=a(h,m,w,n,r,f)),v}function i(t,e){return\"00-\"+e+\"-\"+t+\"-01\"}function o(t,e,n,r,i){var o=0,a=\"\",c=1,s=\"\",f=\"\";return i+\"@nr=\"+o+\"-\"+c+\"-\"+n+\"-\"+r+\"-\"+t+\"-\"+a+\"-\"+s+\"-\"+f+\"-\"+e}function a(t,e,n,r,i,o){var a=\"btoa\"in window&&\"function\"==typeof window.btoa;if(!a)return null;var c={v:[0,1],d:{ty:\"Browser\",ac:r,ap:i,id:t,tr:e,ti:n}};return o&&r!==o&&(c.d.tk=o),btoa(JSON.stringify(c))}function c(t){return f()&&s(t)}function s(t){var e=!1,n={};if(\"init\"in NREUM&&\"distributed_tracing\"in NREUM.init&&(n=NREUM.init.distributed_tracing),t.sameOrigin)e=!0;else if(n.allowed_origins instanceof Array)for(var r=0;r<n.allowed_origins.length;r++){var i=h(n.allowed_origins[r]);if(t.hostname===i.hostname&&t.protocol===i.protocol&&t.port===i.port){e=!0;break}}return e}function f(){return\"init\"in NREUM&&\"distributed_tracing\"in NREUM.init&&!!NREUM.init.distributed_tracing.enabled}function u(){return\"init\"in NREUM&&\"distributed_tracing\"in NREUM.init&&!!NREUM.init.distributed_tracing.exclude_newrelic_header}function d(){return\"init\"in NREUM&&\"distributed_tracing\"in NREUM.init&&NREUM.init.distributed_tracing.cors_use_newrelic_header!==!1}function l(){return\"init\"in NREUM&&\"distributed_tracing\"in NREUM.init&&!!NREUM.init.distributed_tracing.cors_use_tracecontext_headers}var p=t(20),h=t(13);e.exports={generateTracePayload:r,shouldGenerateTrace:c}},{}],12:[function(t,e,n){function r(t){var e=this.params,n=this.metrics;if(!this.ended){this.ended=!0;for(var r=0;r<l;r++)t.removeEventListener(d[r],this.listener,!1);e.aborted||(n.duration=a.now()-this.startTime,this.loadCaptureCalled||4!==t.readyState?null==e.status&&(e.status=0):o(this,t),n.cbTime=this.cbTime,u.emit(\"xhr-done\",[t],t),c(\"xhr\",[e,n,this.startTime]))}}function i(t,e){var n=s(e),r=t.params;r.host=n.hostname+\":\"+n.port,r.pathname=n.pathname,t.parsedOrigin=s(e),t.sameOrigin=t.parsedOrigin.sameOrigin}function o(t,e){t.params.status=e.status;var n=w(e,t.lastSize);if(n&&(t.metrics.rxSize=n),t.sameOrigin){var r=e.getResponseHeader(\"X-NewRelic-App-Data\");r&&(t.params.cat=r.split(\", \").pop())}t.loadCaptureCalled=!0}var a=t(\"loader\");if(a.xhrWrappable){var c=t(\"handle\"),s=t(13),f=t(11).generateTracePayload,u=t(\"ee\"),d=[\"load\",\"error\",\"abort\",\"timeout\"],l=d.length,p=t(\"id\"),h=t(17),m=t(16),w=t(14),v=window.XMLHttpRequest;a.features.xhr=!0,t(10),t(6),u.on(\"new-xhr\",function(t){var e=this;e.totalCbs=0,e.called=0,e.cbTime=0,e.end=r,e.ended=!1,e.xhrGuids={},e.lastSize=null,e.loadCaptureCalled=!1,t.addEventListener(\"load\",function(n){o(e,t)},!1),h&&(h>34||h<10)||window.opera||t.addEventListener(\"progress\",function(t){e.lastSize=t.loaded},!1)}),u.on(\"open-xhr-start\",function(t){this.params={method:t[0]},i(this,t[1]),this.metrics={}}),u.on(\"open-xhr-end\",function(t,e){\"loader_config\"in NREUM&&\"xpid\"in NREUM.loader_config&&this.sameOrigin&&e.setRequestHeader(\"X-NewRelic-ID\",NREUM.loader_config.xpid);var n=f(this.parsedOrigin);if(n){var r=!1;n.newrelicHeader&&(e.setRequestHeader(\"newrelic\",n.newrelicHeader),r=!0),n.traceContextParentHeader&&(e.setRequestHeader(\"traceparent\",n.traceContextParentHeader),n.traceContextStateHeader&&e.setRequestHeader(\"tracestate\",n.traceContextStateHeader),r=!0),r&&(this.dt=n)}}),u.on(\"send-xhr-start\",function(t,e){var n=this.metrics,r=t[0],i=this;if(n&&r){var o=m(r);o&&(n.txSize=o)}this.startTime=a.now(),this.listener=function(t){try{\"abort\"!==t.type||i.loadCaptureCalled||(i.params.aborted=!0),(\"load\"!==t.type||i.called===i.totalCbs&&(i.onloadCalled||\"function\"!=typeof e.onload))&&i.end(e)}catch(n){try{u.emit(\"internal-error\",[n])}catch(r){}}};for(var c=0;c<l;c++)e.addEventListener(d[c],this.listener,!1)}),u.on(\"xhr-cb-time\",function(t,e,n){this.cbTime+=t,e?this.onloadCalled=!0:this.called+=1,this.called!==this.totalCbs||!this.onloadCalled&&\"function\"==typeof n.onload||this.end(n)}),u.on(\"xhr-load-added\",function(t,e){var n=\"\"+p(t)+!!e;this.xhrGuids&&!this.xhrGuids[n]&&(this.xhrGuids[n]=!0,this.totalCbs+=1)}),u.on(\"xhr-load-removed\",function(t,e){var n=\"\"+p(t)+!!e;this.xhrGuids&&this.xhrGuids[n]&&(delete this.xhrGuids[n],this.totalCbs-=1)}),u.on(\"addEventListener-end\",function(t,e){e instanceof v&&\"load\"===t[0]&&u.emit(\"xhr-load-added\",[t[1],t[2]],e)}),u.on(\"removeEventListener-end\",function(t,e){e instanceof v&&\"load\"===t[0]&&u.emit(\"xhr-load-removed\",[t[1],t[2]],e)}),u.on(\"fn-start\",function(t,e,n){e instanceof v&&(\"onload\"===n&&(this.onload=!0),(\"load\"===(t[0]&&t[0].type)||this.onload)&&(this.xhrCbStart=a.now()))}),u.on(\"fn-end\",function(t,e){this.xhrCbStart&&u.emit(\"xhr-cb-time\",[a.now()-this.xhrCbStart,this.onload,e],e)}),u.on(\"fetch-before-start\",function(t){function e(t,e){var n=!1;return e.newrelicHeader&&(t.set(\"newrelic\",e.newrelicHeader),n=!0),e.traceContextParentHeader&&(t.set(\"traceparent\",e.traceContextParentHeader),e.traceContextStateHeader&&t.set(\"tracestate\",e.traceContextStateHeader),n=!0),n}var n,r=t[1]||{};\"string\"==typeof t[0]?n=t[0]:t[0]&&t[0].url&&(n=t[0].url),n&&(this.parsedOrigin=s(n),this.sameOrigin=this.parsedOrigin.sameOrigin);var i=f(this.parsedOrigin);if(i&&(i.newrelicHeader||i.traceContextParentHeader))if(\"string\"==typeof t[0]){var o={};for(var a in r)o[a]=r[a];o.headers=new Headers(r.headers||{}),e(o.headers,i)&&(this.dt=i),t.length>1?t[1]=o:t.push(o)}else t[0]&&t[0].headers&&e(t[0].headers,i)&&(this.dt=i)})}},{}],13:[function(t,e,n){var r={};e.exports=function(t){if(t in r)return r[t];var e=document.createElement(\"a\"),n=window.location,i={};e.href=t,i.port=e.port;var o=e.href.split(\"://\");!i.port&&o[1]&&(i.port=o[1].split(\"/\")[0].split(\"@\").pop().split(\":\")[1]),i.port&&\"0\"!==i.port||(i.port=\"https\"===o[0]?\"443\":\"80\"),i.hostname=e.hostname||n.hostname,i.pathname=e.pathname,i.protocol=o[0],\"/\"!==i.pathname.charAt(0)&&(i.pathname=\"/\"+i.pathname);var a=!e.protocol||\":\"===e.protocol||e.protocol===n.protocol,c=e.hostname===document.domain&&e.port===n.port;return i.sameOrigin=a&&(!e.hostname||c),\"/\"===i.pathname&&(r[t]=i),i}},{}],14:[function(t,e,n){function r(t,e){var n=t.responseType;return\"json\"===n&&null!==e?e:\"arraybuffer\"===n||\"blob\"===n||\"json\"===n?i(t.response):\"text\"===n||\"\"===n||void 0===n?i(t.responseText):void 0}var i=t(16);e.exports=r},{}],15:[function(t,e,n){function r(){}function i(t,e,n){return function(){return o(t,[f.now()].concat(c(arguments)),e?null:this,n),e?void 0:this}}var o=t(\"handle\"),a=t(23),c=t(24),s=t(\"ee\").get(\"tracer\"),f=t(\"loader\"),u=NREUM;\"undefined\"==typeof window.newrelic&&(newrelic=u);var d=[\"setPageViewName\",\"setCustomAttribute\",\"setErrorHandler\",\"finished\",\"addToTrace\",\"inlineHit\",\"addRelease\"],l=\"api-\",p=l+\"ixn-\";a(d,function(t,e){u[e]=i(l+e,!0,\"api\")}),u.addPageAction=i(l+\"addPageAction\",!0),u.setCurrentRouteName=i(l+\"routeName\",!0),e.exports=newrelic,u.interaction=function(){return(new r).get()};var h=r.prototype={createTracer:function(t,e){var n={},r=this,i=\"function\"==typeof e;return o(p+\"tracer\",[f.now(),t,n],r),function(){if(s.emit((i?\"\":\"no-\")+\"fn-start\",[f.now(),r,i],n),i)try{return e.apply(this,arguments)}catch(t){throw s.emit(\"fn-err\",[arguments,this,t],n),t}finally{s.emit(\"fn-end\",[f.now()],n)}}}};a(\"actionText,setName,setAttribute,save,ignore,onEnd,getContext,end,get\".split(\",\"),function(t,e){h[e]=i(p+e)}),newrelic.noticeError=function(t,e){\"string\"==typeof t&&(t=new Error(t)),o(\"err\",[t,f.now(),!1,e])}},{}],16:[function(t,e,n){e.exports=function(t){if(\"string\"==typeof t&&t.length)return t.length;if(\"object\"==typeof t){if(\"undefined\"!=typeof ArrayBuffer&&t instanceof ArrayBuffer&&t.byteLength)return t.byteLength;if(\"undefined\"!=typeof Blob&&t instanceof Blob&&t.size)return t.size;if(!(\"undefined\"!=typeof FormData&&t instanceof FormData))try{return JSON.stringify(t).length}catch(e){return}}}},{}],17:[function(t,e,n){var r=0,i=navigator.userAgent.match(/Firefox[\\\\/\\\\s](\\\\d+\\\\.\\\\d+)/);i&&(r=+i[1]),e.exports=r},{}],18:[function(t,e,n){function r(){return c.exists&&performance.now?Math.round(performance.now()):(o=Math.max((new Date).getTime(),o))-a}function i(){return o}var o=(new Date).getTime(),a=o,c=t(25);e.exports=r,e.exports.offset=a,e.exports.getLastTimestamp=i},{}],19:[function(t,e,n){function r(t,e){var n=t.getEntries();n.forEach(function(t){\"first-paint\"===t.name?d(\"timing\",[\"fp\",Math.floor(t.startTime)]):\"first-contentful-paint\"===t.name&&d(\"timing\",[\"fcp\",Math.floor(t.startTime)])})}function i(t,e){var n=t.getEntries();n.length>0&&d(\"lcp\",[n[n.length-1]])}function o(t){t.getEntries().forEach(function(t){t.hadRecentInput||d(\"cls\",[t])})}function a(t){if(t instanceof h&&!w){var e=Math.round(t.timeStamp),n={type:t.type};e<=l.now()?n.fid=l.now()-e:e>l.offset&&e<=Date.now()?(e-=l.offset,n.fid=l.now()-e):e=l.now(),w=!0,d(\"timing\",[\"fi\",e,n])}}function c(t){d(\"pageHide\",[l.now(),t])}if(!(\"init\"in NREUM&&\"page_view_timing\"in NREUM.init&&\"enabled\"in NREUM.init.page_view_timing&&NREUM.init.page_view_timing.enabled===!1)){var s,f,u,d=t(\"handle\"),l=t(\"loader\"),p=t(22),h=NREUM.o.EV;if(\"PerformanceObserver\"in window&&\"function\"==typeof window.PerformanceObserver){s=new PerformanceObserver(r);try{s.observe({entryTypes:[\"paint\"]})}catch(m){}f=new PerformanceObserver(i);try{f.observe({entryTypes:[\"largest-contentful-paint\"]})}catch(m){}u=new PerformanceObserver(o);try{u.observe({type:\"layout-shift\",buffered:!0})}catch(m){}}if(\"addEventListener\"in document){var w=!1,v=[\"click\",\"keydown\",\"mousedown\",\"pointerdown\",\"touchstart\"];v.forEach(function(t){document.addEventListener(t,a,!1)})}p(c)}},{}],20:[function(t,e,n){function r(){function t(){return e?15&e[n++]:16*Math.random()|0}var e=null,n=0,r=window.crypto||window.msCrypto;r&&r.getRandomValues&&(e=r.getRandomValues(new Uint8Array(31)));for(var i,o=\"xxxxxxxx-xxxx-4xxx-yxxx-xxxxxxxxxxxx\",a=\"\",c=0;c<o.length;c++)i=o[c],\"x\"===i?a+=t().toString(16):\"y\"===i?(i=3&t()|8,a+=i.toString(16)):a+=i;return a}function i(){return a(16)}function o(){return a(32)}function a(t){function e(){return n?15&n[r++]:16*Math.random()|0}var n=null,r=0,i=window.crypto||window.msCrypto;i&&i.getRandomValues&&Uint8Array&&(n=i.getRandomValues(new Uint8Array(31)));for(var o=[],a=0;a<t;a++)o.push(e().toString(16));return o.join(\"\")}e.exports={generateUuid:r,generateSpanId:i,generateTraceId:o}},{}],21:[function(t,e,n){function r(t,e){if(!i)return!1;if(t!==i)return!1;if(!e)return!0;if(!o)return!1;for(var n=o.split(\".\"),r=e.split(\".\"),a=0;a<r.length;a++)if(r[a]!==n[a])return!1;return!0}var i=null,o=null,a=/Version\\\\/(\\\\S+)\\\\s+Safari/;if(navigator.userAgent){var c=navigator.userAgent,s=c.match(a);s&&c.indexOf(\"Chrome\")===-1&&c.indexOf(\"Chromium\")===-1&&(i=\"Safari\",o=s[1])}e.exports={agent:i,version:o,match:r}},{}],22:[function(t,e,n){function r(t){function e(){t(a&&document[a]?document[a]:document[i]?\"hidden\":\"visible\")}\"addEventListener\"in document&&o&&document.addEventListener(o,e,!1)}e.exports=r;var i,o,a;\"undefined\"!=typeof document.hidden?(i=\"hidden\",o=\"visibilitychange\",a=\"visibilityState\"):\"undefined\"!=typeof document.msHidden?(i=\"msHidden\",o=\"msvisibilitychange\"):\"undefined\"!=typeof document.webkitHidden&&(i=\"webkitHidden\",o=\"webkitvisibilitychange\",a=\"webkitVisibilityState\")},{}],23:[function(t,e,n){function r(t,e){var n=[],r=\"\",o=0;for(r in t)i.call(t,r)&&(n[o]=e(r,t[r]),o+=1);return n}var i=Object.prototype.hasOwnProperty;e.exports=r},{}],24:[function(t,e,n){function r(t,e,n){e||(e=0),\"undefined\"==typeof n&&(n=t?t.length:0);for(var r=-1,i=n-e||0,o=Array(i<0?0:i);++r<i;)o[r]=t[e+r];return o}e.exports=r},{}],25:[function(t,e,n){e.exports={exists:\"undefined\"!=typeof window.performance&&window.performance.timing&&\"undefined\"!=typeof window.performance.timing.navigationStart}},{}],ee:[function(t,e,n){function r(){}function i(t){function e(t){return t&&t instanceof r?t:t?s(t,c,o):o()}function n(n,r,i,o){if(!l.aborted||o){t&&t(n,r,i);for(var a=e(i),c=m(n),s=c.length,f=0;f<s;f++)c[f].apply(a,r);var d=u[y[n]];return d&&d.push([x,n,r,a]),a}}function p(t,e){g[t]=m(t).concat(e)}function h(t,e){var n=g[t];if(n)for(var r=0;r<n.length;r++)n[r]===e&&n.splice(r,1)}function m(t){return g[t]||[]}function w(t){return d[t]=d[t]||i(n)}function v(t,e){f(t,function(t,n){e=e||\"feature\",y[n]=e,e in u||(u[e]=[])})}var g={},y={},x={on:p,addEventListener:p,removeEventListener:h,emit:n,get:w,listeners:m,context:e,buffer:v,abort:a,aborted:!1};return x}function o(){return new r}function a(){(u.api||u.feature)&&(l.aborted=!0,u=l.backlog={})}var c=\"nr@context\",s=t(\"gos\"),f=t(23),u={},d={},l=e.exports=i();l.backlog=u},{}],gos:[function(t,e,n){function r(t,e,n){if(i.call(t,e))return t[e];var r=n();if(Object.defineProperty&&Object.keys)try{return Object.defineProperty(t,e,{value:r,writable:!0,enumerable:!1}),r}catch(o){}return t[e]=r,r}var i=Object.prototype.hasOwnProperty;e.exports=r},{}],handle:[function(t,e,n){function r(t,e,n,r){i.buffer([t],r),i.emit(t,e,n)}var i=t(\"ee\").get(\"handle\");e.exports=r,r.ee=i},{}],id:[function(t,e,n){function r(t){var e=typeof t;return!t||\"object\"!==e&&\"function\"!==e?-1:t===window?0:a(t,o,function(){return i++})}var i=1,o=\"nr@id\",a=t(\"gos\");e.exports=r},{}],loader:[function(t,e,n){function r(){if(!b++){var t=x.info=NREUM.info,e=l.getElementsByTagName(\"script\")[0];if(setTimeout(f.abort,3e4),!(t&&t.licenseKey&&t.applicationID&&e))return f.abort();s(g,function(e,n){t[e]||(t[e]=n)});var n=a();c(\"mark\",[\"onload\",n+x.offset],null,\"api\"),c(\"timing\",[\"load\",n]);var r=l.createElement(\"script\");r.src=\"https://\"+t.agent,e.parentNode.insertBefore(r,e)}}function i(){\"complete\"===l.readyState&&o()}function o(){c(\"mark\",[\"domContent\",a()+x.offset],null,\"api\")}var a=t(18),c=t(\"handle\"),s=t(23),f=t(\"ee\"),u=t(21),d=window,l=d.document,p=\"addEventListener\",h=\"attachEvent\",m=d.XMLHttpRequest,w=m&&m.prototype;NREUM.o={ST:setTimeout,SI:d.setImmediate,CT:clearTimeout,XHR:m,REQ:d.Request,EV:d.Event,PR:d.Promise,MO:d.MutationObserver};var v=\"\"+location,g={beacon:\"bam.nr-data.net\",errorBeacon:\"bam.nr-data.net\",agent:\"js-agent.newrelic.com/nr-1184.min.js\"},y=m&&w&&w[p]&&!/CriOS/.test(navigator.userAgent),x=e.exports={offset:a.getLastTimestamp(),now:a,origin:v,features:{},xhrWrappable:y,userAgent:u};t(15),t(19),l[p]?(l[p](\"DOMContentLoaded\",o,!1),d[p](\"load\",r,!1)):(l[h](\"onreadystatechange\",i),d[h](\"onload\",r)),c(\"mark\",[\"firstbyte\",a.getLastTimestamp()],null,\"api\");var b=0},{}],\"wrap-function\":[function(t,e,n){function r(t){return!(t&&t instanceof Function&&t.apply&&!t[a])}var i=t(\"ee\"),o=t(24),a=\"nr@original\",c=Object.prototype.hasOwnProperty,s=!1;e.exports=function(t,e){function n(t,e,n,i){function nrWrapper(){var r,a,c,s;try{a=this,r=o(arguments),c=\"function\"==typeof n?n(r,a):n||{}}catch(f){l([f,\"\",[r,a,i],c])}u(e+\"start\",[r,a,i],c);try{return s=t.apply(a,r)}catch(d){throw u(e+\"err\",[r,a,d],c),d}finally{u(e+\"end\",[r,a,s],c)}}return r(t)?t:(e||(e=\"\"),nrWrapper[a]=t,d(t,nrWrapper),nrWrapper)}function f(t,e,i,o){i||(i=\"\");var a,c,s,f=\"-\"===i.charAt(0);for(s=0;s<e.length;s++)c=e[s],a=t[c],r(a)||(t[c]=n(a,f?c+i:i,o,c))}function u(n,r,i){if(!s||e){var o=s;s=!0;try{t.emit(n,r,i,e)}catch(a){l([a,n,r,i])}s=o}}function d(t,e){if(Object.defineProperty&&Object.keys)try{var n=Object.keys(t);return n.forEach(function(n){Object.defineProperty(e,n,{get:function(){return t[n]},set:function(e){return t[n]=e,e}})}),e}catch(r){l([r])}for(var i in t)c.call(t,i)&&(e[i]=t[i]);return e}function l(e){try{t.emit(\"internal-error\",e)}catch(n){}}return t||(t=i),n.inPlace=f,n.flag=a,n}},{}]},{},[\"loader\",2,12,4,3]);</script>\\r\\n\\r\\n    <link rel=\"preconnect\" href=\"https://fonts.gstatic.com/\" crossorigin>\\r\\n    <link href=\"https://fonts.googleapis.com/css2?family=Lato:wght@300;400;700;900&family=Teko:wght@400;600;700\" rel=\"stylesheet\">\\r\\n    <link rel=\"stylesheet\" href=\"/static/dist/assets/css/app.css?cb=232\">\\r\\n\\r\\n    <link rel=\"apple-touch-icon\" sizes=\"180x180\" href=\"/apple-touch-icon.png\">\\r\\n    <link rel=\"icon\" type=\"image/png\" href=\"/favicon-32x32.png\" sizes=\"32x32\">\\r\\n    <link rel=\"icon\" type=\"image/png\" href=\"/favicon-16x16.png\" sizes=\"16x16\">\\r\\n    <link rel=\"manifest\" href=\"/manifest.json\">\\r\\n    <link rel=\"mask-icon\" href=\"/safari-pinned-tab.svg\" color=\"#333333\">\\r\\n    <meta name=\"viewport\" content=\"width=device-width, initial-scale=1.0\">\\r\\n    <meta name=\"theme-color\" content=\"#ffffff\">\\r\\n\\r\\n    <link rel=\"alternate\" href=\"https://www.beerwulf.com/en-gb\" hreflang=\"en-GB\"/>\\r\\n    <link rel=\"alternate\" href=\"https://www.beerwulf.com/nl\" hreflang=\"nl-NL\"/>\\r\\n    <link rel=\"alternate\" href=\"https://www.beerwulf.com/nl-be\" hreflang=\"nl-BE\"/>\\r\\n    <link rel=\"alternate\" href=\"https://www.beerwulf.com/en-nl\" hreflang=\"en-NL\"/>\\r\\n    <link rel=\"alternate\" href=\"https://www.beerwulf.com/fr-be\" hreflang=\"fr-BE\"/>\\r\\n    <link rel=\"alternate\" href=\"https://www.beerwulf.com/de-de\" hreflang=\"de-DE\"/>\\r\\n    <link rel=\"alternate\" href=\"https://www.beerwulf.com/fr-fr\" hreflang=\"fr-FR\"/>\\r\\n    <link rel=\"alternate\" href=\"https://www.beerwulf.com/de-at\" hreflang=\"de-AT\"/>\\r\\n    <link rel=\"alternate\" href=\"https://www.beerwulf.com/it-it\" hreflang=\"it-IT\"/>\\r\\n    <link rel=\"alternate\" href=\"https://www.beerwulf.com/es-es\" hreflang=\"es-ES\"/>\\r\\n    <link rel=\"alternate\" href=\"https://www.beerwulf.com/pt-pt\" hreflang=\"pt-PT\"/>\\r\\n    <link rel=\"alternate\" href=\"https://www.beerwulf.com/fr-lu\" hreflang=\"fr-LU\"/>\\r\\n    <link rel=\"alternate\" href=\"https://ch.blade.shop/index.php/locale:de_CH/the-sub\" hreflang=\"de-CH\"/>\\r\\n    <link rel=\"alternate\" href=\"https://ch.blade.shop/index.php/locale:fr_CH/the-sub\" hreflang=\"fr-CH\"/>\\r\\n\\r\\n\\r\\n        <link rel=\"canonical\" href=\"https://www.beerwulf.com/fr-fr\" />\\r\\n        \\r\\n        <meta name=\"robots\" content=\"index\">\\r\\n\\r\\n    <!--Load only for production environment -->\\r\\n        <script type=\"text/javascript\" src=\"//nexus.ensighten.com/heineken/beerwulf-com_-_prod/Bootstrap.js\"></script>\\r\\n        <script src=\\'https://static.goqubit.com/smartserve-5529.js\\' async defer></script>\\r\\n\\r\\n        <script id=\"gtm-model\">\\r\\n            window[\\'noBlocker\\'] = true;\\r\\n            window.dataLayer = window.dataLayer || [];\\r\\n        </script>\\r\\n\\r\\n\\r\\n    <!-- Google Tag Manager -->\\r\\n    <script>\\r\\n        (function (w, d, s, l, i) {\\r\\n            w[l] = w[l] || []; w[l].push({\\r\\n                \\'gtm.start\\':\\r\\n                new Date().getTime(), event: \\'gtm.js\\'\\r\\n            }); var f = d.getElementsByTagName(s)[0],\\r\\n            j = d.createElement(s), dl = l != \\'dataLayer\\' ? \\'&l=\\' + l : \\'\\'; j.async = true; j.src =\\r\\n                \\'//www.googletagmanager.com/gtm.js?id=\\' + i + dl; f.parentNode.insertBefore(j, f);\\r\\n        })(window, document, \\'script\\', \\'dataLayer\\', \\'GTM-WXLJX3P\\');</script>\\r\\n    <!-- End Google Tag Manager -->\\r\\n\\r\\n        <script src=\"https://js.chargebee.com/v2/chargebee.js\" data-cb-site=\"beerwulf-test\"></script>\\r\\n\\r\\n\\r\\n    <!--Load only for production environment -->\\r\\n\\r\\n\\r\\n    <script src=\"//t.contentsquare.net/uxt/a0ca5fb6a8742.js\"></script>\\r\\n</head>\\r\\n<body class=\"homepage\">\\r\\n\\r\\n<!-- Google DataLayers -->    <!-- Google Tag Manager -->\\r\\n    <noscript>\\r\\n        <iframe src=\"//www.googletagmanager.com/ns.html?id=GTM-WXLJX3P\"\\r\\n                height=\"0\" width=\"0\" style=\"display:none;visibility:hidden\"></iframe>\\r\\n    </noscript>\\r\\n    <!-- End Google Tag Manager -->\\r\\n\\r\\n\\r\\n    \\r\\n\\r\\n\\r\\n\\r\\n<header class=\"header stickit\">\\r\\n    <div class=\"headercontainer show-search homepage\">\\r\\n        <div class=\"top-header\">\\r\\n            <div class=\"header-row\">\\r\\n                <div class=\"text-benefit\">\\r\\n<div>\\r\\n    <span>\\r\\n        <a target=\"_blank\" href=\"/fr-fr/livraison-et-retours\">\\r\\n            Livraison  en 3-5 jours ouvr&#233;s\\r\\n        </a>\\r\\n    </span>\\r\\n</div><div>\\r\\n    <span>\\r\\n        <a target=\"_blank\" href=\"/fr-fr/livraison-et-retours\">\\r\\n            Livraison gratuite pour les colis complets !\\r\\n        </a>\\r\\n    </span>\\r\\n</div><div>\\r\\n    <span>\\r\\n        <a target=\"_blank\" href=\"/fr-fr/nouveau-point-de-vente-pour-futs-the-sub\">\\r\\n            Votre nouveau point de vente pour f&#251;ts 2L\\r\\n        </a>\\r\\n    </span>\\r\\n</div>\\r\\n\\r\\n                </div>\\r\\n            </div>\\r\\n        </div>\\r\\n\\r\\n        <div class=\"header-row-cover\">\\r\\n            <div class=\"header-row\">\\r\\n                <div class=\"header-column\">\\r\\n                    <a href=\"/fr-fr\" class=\"logo\">logo</a>\\r\\n                </div>\\r\\n\\r\\n                <div class=\"header-column js-search-container\">\\r\\n                    \\r\\n<div class=\"header-search-wrapper\">\\r\\n    <form method=\"post\" action=\"/fr-fr\" class=\"header-search icon-search\" id=\"header-search\" autocomplete=\"off\">\\r\\n        <input type=\"search\" name=\"searchInput\" class=\"header-search-input\" id=\"header-search-input\" placeholder=\"Quelle bi\\xc3\\xa8re recherchez-vous\\xc2\\xa0? Quel Brasseur ?\" autofocus autocomplete=\"off\">\\r\\n        <input type=\"hidden\" id=\"type-input\" name=\"type\" value=\"0\">\\r\\n        <button type=\"submit\" class=\"header-search-submit button centered-content\">\\r\\n            <svg role=\"img\">\\r\\n                <use xlink:href=\"/static/dist/assets/img/svg.svg#magnifier\"></use>\\r\\n            </svg>\\r\\n        </button>\\r\\n    </form>\\r\\n    <div class=\"search-results-container\">\\r\\n        <h4><span class=\"js-total-count\">0</span> R&#233;sultat de la recherche</h4>\\r\\n        <div class=\"search-results\">\\r\\n            <div class=\"single-result js-products-container\" data-search-type=\"products\">\\r\\n                <svg role=\"img\">\\r\\n                    <use xlink:href=\"/static/dist/assets/img/svg.svg#beer\"></use>\\r\\n                </svg>\\r\\n                <div>\\r\\n                    <p><span class=\"js-products-count\">0</span> <span class=\"js-products-title\" data-singular-translation=\"Produit\" data-plural-translation=\"Produits\"></span> Trouv&#233;s</p><a href=\"#\">Tout voir</a>\\r\\n                </div>\\r\\n            </div>\\r\\n            <div class=\"single-result js-articles-container\" data-search-type=\"articles\">\\r\\n                <svg role=\"img\">\\r\\n                    <use xlink:href=\"/static/dist/assets/img/svg.svg#article\"></use>\\r\\n                </svg>\\r\\n                <div>\\r\\n                    <p><span class=\"js-articles-count\">0</span> <span class=\"js-articles-title\" data-singular-translation=\"Article\" data-plural-translation=\"Articles\"></span> Trouv&#233;s</p><a href=\"#\">Tout voir</a>\\r\\n                </div>\\r\\n            </div>\\r\\n            <div class=\"single-result js-brewers-container\" data-search-type=\"brewers\">\\r\\n                <svg role=\"img\">\\r\\n                    <use xlink:href=\"/static/dist/assets/img/svg.svg#barrel\"></use>\\r\\n                </svg>\\r\\n                <div>\\r\\n                    <p><span class=\"js-brewers-count\">0</span> <span class=\"js-brewers-title\" data-singular-translation=\"Brasseur\" data-plural-translation=\"Brasseurs\"></span> Trouv&#233;s</p><a href=\"#\">Tout voir</a>\\r\\n                </div>\\r\\n            </div>\\r\\n        </div>\\r\\n    </div>\\r\\n</div>\\r\\n\\r\\n                </div>\\r\\n\\r\\n                <div class=\"header-column\">\\r\\n                    <div class=\"header-shoppingcountry header-icon\">\\r\\n                        <div class=\"show-for-medium\">\\r\\n                            \\r\\n<div class=\"currentselect js-language-select\">\\r\\n    <a href=\"/\" class=\"language-flag js-language-selector\">\\r\\n        <svg role=\"img\">\\r\\n            <use xlink:href=\"/static/dist/assets/img/svg.svg#flag-fr\"></use>\\r\\n        </svg>\\r\\n    </a>\\r\\n</div>\\r\\n\\r\\n                        </div>\\r\\n\\r\\n                        <div class=\"js-toggle-search mobile-search show-for-small-only\">\\r\\n                            <svg role=\"img\">\\r\\n                                <use xlink:href=\"/static/dist/assets/img/svg.svg#magnifier\"></use>\\r\\n                            </svg>\\r\\n                        </div>\\r\\n                    </div>\\r\\n\\r\\n                    <div class=\"header-shoppinglist js-header-account header-icon\">\\r\\n                        \\r\\n    <a class=\"menu-icon logged-out active\" href=\"/fr-FR/AccountInformation/OrderHistory\">\\r\\n        <svg role=\"img\">\\r\\n            <use xlink:href=\"/static/dist/assets/img/svg.svg#account_logged_out\"></use>\\r\\n        </svg>\\r\\n    </a>\\r\\n\\r\\n                    </div>\\r\\n\\r\\n                    <div class=\"js-header-account header-wishlist header-icon show-for-medium\">\\r\\n                        \\r\\n<div id=\"js-header-shoppinglist\" data-codes=\"\">\\r\\n    <a href=\"/fr-FR/AccountInformation/Wishlist\">\\r\\n        <svg role=\"img\">\\r\\n            <use xlink:href=\"/static/dist/assets/img/svg.svg#icon_shoppinglist_header\"></use>\\r\\n        </svg>\\r\\n    </a>\\r\\n</div>\\r\\n                    </div>\\r\\n                    \\r\\n\\r\\n\\r\\n<div class=\"header-shoppingcart js-shoppingcart\"\\r\\n     data-ajax-post-url=\"/fr-FR/api/Cart\"\\r\\n     data-ajax-count-url=\"/fr-FR/api/cart/count/detail\"\\r\\n     data-cart-empty=\"Votre panier est vide\">\\r\\n    <a href=\"/fr-fr/panier\" class=\"js-shopping-cart-link shopping-cart-link\">\\r\\n        <svg role=\"img\">\\r\\n            <use xlink:href=\"/static/dist/assets/img/svg.svg#btn-cart\"></use>\\r\\n        </svg>\\r\\n\\r\\n        <span class=\"show-for-sr\">Vos bi\\xc3\\xa8res</span>\\r\\n        <span class=\"header-counter hide\" id=\"shoppincarttotal\">0</span>\\r\\n    </a>\\r\\n</div>\\r\\n                </div>\\r\\n            </div>\\r\\n\\r\\n            <div class=\"account-block hide-for-large\">\\r\\n                    <a href=\"/fr-FR/AccountInformation/OrderHistory?returnUrl=%2Ffr-fr\">\\r\\n        <svg role=\"img\" class=\"logged-out active\">\\r\\n            <use xlink:href=\"/static/dist/assets/img/svg.svg#account_logged_out\"></use>\\r\\n        </svg>\\r\\n    </a>\\r\\n\\r\\n            </div>\\r\\n\\r\\n\\r\\n    <div class=\"header-row navigation-row\">\\r\\n        <div class=\"header-column secondary-nav\">\\r\\n            \\r\\n    <div class=\"menu-item browse-toggle\">\\r\\n            <h3>Bi&#232;res</h3>\\r\\n        <div class=\"navigation-container\">\\r\\n            <nav class=\"navigation\">\\r\\n                <div class=\"main-nav-row\">\\r\\n                    \\r\\n    <div class=\"main-nav-col single-column\">\\r\\n        <div class=\"beer-content\">\\r\\n                <h4>Notre s&#233;lection</h4>\\r\\n            <ul class=\"no-bullet\">\\r\\n                    <li><a href=\"/fr-fr/c/bieres\">Toutes les bi&#232;res</a></li>\\r\\n    <li><a href=\"/fr-fr/c?specialOffer=Meilleures+Ventes\">Meilleures ventes</a></li>\\r\\n    <li><a href=\"/fr-fr/c?specialOffer=Nouveaut%c3%a9s\">Nouveaut&#233;s</a></li>\\r\\n    <li><a href=\"/fr-fr/promos-biere-tireuse-a-biere\">PROMOS</a></li>\\r\\n    <li><a href=\"/fr-fr/c/futsthesub\">F&#251;ts The SUB</a></li>\\r\\n    <li><a href=\"/fr-fr/c?container=F%c3%bbt+de+5L&amp;page=1\">F&#251;ts 5L</a></li>\\r\\n\\r\\n            </ul>\\r\\n        </div>\\r\\n    </div>\\r\\n\\r\\n    <div class=\"main-nav-col double-column\">\\r\\n        <div class=\"beer-content\">\\r\\n                <h4>Styles</h4>\\r\\n            <ul class=\"no-bullet\">\\r\\n                    <li><a href=\"/fr-fr/c/biereblonde\">Bi&#232;re Blonde</a></li>\\r\\n    <li><a href=\"/fr-fr/c/bieredouble\">Bi&#232;re Double</a></li>\\r\\n    <li><a href=\"/fr-fr/c/bieretriple\">Bi&#232;re Triple</a></li>\\r\\n    <li><a href=\"/fr-fr/c/ipa\">IPA</a></li>\\r\\n    <li><a href=\"/fr-fr/c/paleale\">Pale Ale</a></li>\\r\\n    <li><a href=\"/fr-fr/c/biereporter-stout\">Bi&#232;re Porter &amp; Stout</a></li>\\r\\n    <li><a href=\"/fr-fr/c/bierebock\">Bi&#232;re Bock</a></li>\\r\\n    <li><a href=\"/fr-fr/c/bieresour\">Bi&#232;re Sour</a></li>\\r\\n    <li><a href=\"/fr-fr/c/biereambree\">Bi&#232;re Ambr&#233;e</a></li>\\r\\n    <li><a href=\"/fr-fr/c/lager\">Lager</a></li>\\r\\n    <li><a href=\"/fr-fr/c/biereblanche\">Bi&#232;re Blanche</a></li>\\r\\n    <li><a href=\"/fr-fr/c/pils-hoppylager\">Bi&#232;re Pils</a></li>\\r\\n    <li><a href=\"/fr-fr/c/bierebrune\">Bi&#232;re Brune</a></li>\\r\\n    <li><a href=\"/fr-fr/c/bieredegarden-saison\">Bi&#232;re de Garde &amp; Saison</a></li>\\r\\n    <li><a href=\"/fr-fr/c/biereweiss\">Bi&#232;re Weiss</a></li>\\r\\n    <li><a href=\"/fr-fr/c/bierebarleywine\">Bi&#232;re Barley Wine</a></li>\\r\\n    <li><a href=\"/fr-fr/c/bierequadruple\">Bi&#232;re Quadruple</a></li>\\r\\n    <li><a href=\"/fr-fr/c/bierefruitee\">Bi&#232;re Fruit&#233;e</a></li>\\r\\n\\r\\n            </ul>\\r\\n        </div>\\r\\n    </div>\\r\\n\\r\\n    <div class=\"main-nav-col double-column\">\\r\\n        <div class=\"beer-content\">\\r\\n                <h4>Pays</h4>\\r\\n            <ul class=\"no-bullet\">\\r\\n                    <li><a href=\"/fr-fr/c/biereallemande\">Allemagne</a></li>\\r\\n    <li><a href=\"/fr-fr/c/biereautrichienne\">Autriche</a></li>\\r\\n    <li><a href=\"/fr-fr/c/bierebelge\">Belgique</a></li>\\r\\n    <li><a href=\"/fr-fr/c/bierechinoise\">Chine</a></li>\\r\\n    <li><a href=\"/fr-fr/c/bierecanadienne\">Canada</a></li>\\r\\n    <li><a href=\"/fr-fr/c/biereestonienne\">Estonie</a></li>\\r\\n    <li><a href=\"/fr-fr/c/biereespagnole\">Espagne</a></li>\\r\\n    <li><a href=\"/fr-fr/c/biereamericaine\">&#201;tats-Unis</a></li>\\r\\n    <li><a href=\"/fr-fr/c/bierefrancaise\">France</a></li>\\r\\n    <li><a href=\"/fr-fr/c/biereindienne\">Inde</a></li>\\r\\n    <li><a href=\"/fr-fr/c/biereindonesienne\">Indon&#233;sie</a></li>\\r\\n    <li><a href=\"/fr-fr/c/biereirlandaise\">Irlande</a></li>\\r\\n    <li><a href=\"/fr-fr/c/biereitalienne\">Italie</a></li>\\r\\n    <li><a href=\"/fr-fr/c/bierejaponaise\">Japon</a></li>\\r\\n    <li><a href=\"/fr-fr/c/bieremexicaine\">Mexique</a></li>\\r\\n    <li><a href=\"/fr-fr/c/biereneerlandaise\">Pays-Bas</a></li>\\r\\n    <li><a href=\"/fr-fr/c/bieredephilippines\">Philippines</a></li>\\r\\n    <li><a href=\"/fr-fr/c/biereportuguaise\">Portugal</a></li>\\r\\n    <li><a href=\"/fr-fr/c/bieretcheque\">R&#233;publique Tch&#232;que</a></li>\\r\\n    <li><a href=\"/fr-fr/c/biereanglaise\">Royaume-Uni</a></li>\\r\\n    <li><a href=\"/fr-fr/c/bieresingapour\">Singapour</a></li>\\r\\n    <li><a href=\"/fr-fr/c/bierethailandaise\">Tha&#239;lande</a></li>\\r\\n    <li><a href=\"/fr-fr/c/bierevietnamienne\">Vietnam</a></li>\\r\\n\\r\\n            </ul>\\r\\n        </div>\\r\\n    </div>\\r\\n\\r\\n    <div class=\"main-nav-col double-column\">\\r\\n        <div class=\"beer-content\">\\r\\n                <h4>Autres sp&#233;cificit&#233;s</h4>\\r\\n            <ul class=\"no-bullet\">\\r\\n                    <li><a href=\"/fr-fr/c/biere-sans-alcool\">Bi&#232;re sans alcool</a></li>\\r\\n    <li><a href=\"/fr-fr/c/biere-biologique\">Bi&#232;re biologique</a></li>\\r\\n    <li><a href=\"/fr-fr/c/bieres-vegan\">Bi&#232;re vegan</a></li>\\r\\n    <li><a href=\"/fr-fr/c/biere-sans-gluten\">Bi&#232;re sans gluten</a></li>\\r\\n\\r\\n            </ul>\\r\\n        </div>\\r\\n    </div>\\r\\n\\r\\n                </div>\\r\\n            </nav>\\r\\n        </div>\\r\\n    </div>\\r\\n\\r\\n    <div class=\"menu-item browse-toggle\">\\r\\n            <h3>Tireuses et Tubes</h3>\\r\\n        <div class=\"navigation-container\">\\r\\n            <nav class=\"navigation\">\\r\\n                <div class=\"main-nav-row\">\\r\\n                    \\r\\n\\r\\n    <div class=\"main-nav-col image-column\">\\r\\n        <div class=\"beer-content\">\\r\\n            <div class=\"nav-ad-con\">\\r\\n                <a href=\"/fr-fr/tireuse-a-biere-the-sub\">\\r\\n                    <img class=\"lazy-image\" src=\"data:image/gif;base64,R0lGODlhAQABAIAAAAAAAP///yH5BAEAAAAALAAAAAABAAEAAAIBRAA7\" data-src=\"https://www.beerwulf.com/globalassets/3.-navigation-icons/homedraught_assortment_appliance_sub_navigation_v2.jpg?rev=1557477805\" alt=\"Tireuse THE SUB (2L)\" title=\"Tireuse THE SUB (2L)\" />\\r\\n                </a>\\r\\n                <h4>Tireuse THE SUB (2L)</h4>\\r\\n                <p>La pression version design</p>\\r\\n                <a href=\"/fr-fr/tireuse-a-biere-the-sub\" class=\"button secondary-button\">JE D&#201;COUVRE</a>\\r\\n            </div>\\r\\n        </div>\\r\\n    </div>\\r\\n\\r\\n\\r\\n    <div class=\"main-nav-col image-column\">\\r\\n        <div class=\"beer-content\">\\r\\n            <div class=\"nav-ad-con\">\\r\\n                <a href=\"/fr-fr/tireuse-a-biere-beertender\">\\r\\n                    <img class=\"lazy-image\" src=\"data:image/gif;base64,R0lGODlhAQABAIAAAAAAAP///yH5BAEAAAAALAAAAAABAAEAAAIBRAA7\" data-src=\"https://www.beerwulf.com/globalassets/3.-navigation-icons/homedraught_assortment_appliance_beertender_navigation.jpg?rev=1781438848\" alt=\"Tireuse BeerTender (5L)\" title=\"Tireuse BeerTender (5L)\" />\\r\\n                </a>\\r\\n                <h4>Tireuse BeerTender (5L)</h4>\\r\\n                <p>La pression grand format</p>\\r\\n                <a href=\"/fr-fr/tireuse-a-biere-beertender\" class=\"button secondary-button\">JE D&#201;COUVRE</a>\\r\\n            </div>\\r\\n        </div>\\r\\n    </div>\\r\\n\\r\\n\\r\\n    <div class=\"main-nav-col image-column\">\\r\\n        <div class=\"beer-content\">\\r\\n            <div class=\"nav-ad-con\">\\r\\n                <a href=\"/fr-fr/tireuses-a-biere\">\\r\\n                    <img class=\"lazy-image\" src=\"data:image/gif;base64,R0lGODlhAQABAIAAAAAAAP///yH5BAEAAAAALAAAAAABAAEAAAIBRAA7\" data-src=\"https://www.beerwulf.com/globalassets/3.-navigation-icons/homedraught_assortment_alltaps_navigation_v1.jpg?rev=105151122\" alt=\"Toutes les tireuses\" title=\"Toutes les tireuses\" />\\r\\n                </a>\\r\\n                <h4>Toutes les tireuses</h4>\\r\\n                <p>Le meilleur du service pression &#224; domicile</p>\\r\\n                <a href=\"/fr-fr/tireuses-a-biere\" class=\"button secondary-button\">J&#39;Y VAIS</a>\\r\\n            </div>\\r\\n        </div>\\r\\n    </div>\\r\\n\\r\\n\\r\\n    <div class=\"main-nav-col image-column\">\\r\\n        <div class=\"beer-content\">\\r\\n            <div class=\"nav-ad-con\">\\r\\n                <a href=\"/fr-fr/p/accessoires/lot-de-10-tubes-de-service-beertender\">\\r\\n                    <img class=\"lazy-image\" src=\"data:image/gif;base64,R0lGODlhAQABAIAAAAAAAP///yH5BAEAAAAALAAAAAABAAEAAAIBRAA7\" data-src=\"https://www.beerwulf.com/globalassets/3.-navigation-icons/homedraught_assortment_accessory_tubes_navigation_v2.jpg?rev=2059515126\" alt=\"TUBES\" title=\"TUBES\" />\\r\\n                </a>\\r\\n                <h4>TUBES</h4>\\r\\n                <p>Tubes de service pour tireuse BeerTender</p>\\r\\n                <a href=\"/fr-fr/p/accessoires/lot-de-10-tubes-de-service-beertender\" class=\"button secondary-button\">J&#39;Y VAIS</a>\\r\\n            </div>\\r\\n        </div>\\r\\n    </div>\\r\\n\\r\\n                </div>\\r\\n            </nav>\\r\\n        </div>\\r\\n    </div>\\r\\n\\r\\n    <div class=\"menu-item browse-toggle\">\\r\\n            <h3>F&#251;ts</h3>\\r\\n        <div class=\"navigation-container\">\\r\\n            <nav class=\"navigation\">\\r\\n                <div class=\"main-nav-row\">\\r\\n                    \\r\\n\\r\\n    <div class=\"main-nav-col image-column\">\\r\\n        <div class=\"beer-content\">\\r\\n            <div class=\"nav-ad-con\">\\r\\n                <a href=\"/fr-fr/c/futsthesub\">\\r\\n                    <img class=\"lazy-image\" src=\"data:image/gif;base64,R0lGODlhAQABAIAAAAAAAP///yH5BAEAAAAALAAAAAABAAEAAAIBRAA7\" data-src=\"https://www.beerwulf.com/globalassets/3.-navigation-icons/homedraught_assortment_kegs_2l_navigation_v1.jpg?rev=423595266\" alt=\"F&#251;ts The SUB (2L)\" title=\"F&#251;ts The SUB (2L)\" />\\r\\n                </a>\\r\\n                <h4>F&#251;ts The SUB (2L)</h4>\\r\\n                <p>La pression en petit format</p>\\r\\n                <a href=\"/fr-fr/c/futsthesub\" class=\"button secondary-button\">JE D&#201;COUVRE</a>\\r\\n            </div>\\r\\n        </div>\\r\\n    </div>\\r\\n\\r\\n\\r\\n    <div class=\"main-nav-col image-column\">\\r\\n        <div class=\"beer-content\">\\r\\n            <div class=\"nav-ad-con\">\\r\\n                <a href=\"/fr-fr/c/futs-de-biere-5l\">\\r\\n                    <img class=\"lazy-image\" src=\"data:image/gif;base64,R0lGODlhAQABAIAAAAAAAP///yH5BAEAAAAALAAAAAABAAEAAAIBRAA7\" data-src=\"https://www.beerwulf.com/globalassets/3.-navigation-icons/homedraught_assortment_kegs_5l_navigation.jpg?rev=423595266\" alt=\"F&#251;ts (5L)\" title=\"F&#251;ts (5L)\" />\\r\\n                </a>\\r\\n                <h4>F&#251;ts (5L)</h4>\\r\\n                <p>Une grande diversit&#233; de bi&#232;res</p>\\r\\n                <a href=\"/fr-fr/c/futs-de-biere-5l\" class=\"button secondary-button\">J&#39;Y VAIS</a>\\r\\n            </div>\\r\\n        </div>\\r\\n    </div>\\r\\n\\r\\n\\r\\n    <div class=\"main-nav-col image-column\">\\r\\n        <div class=\"beer-content\">\\r\\n            <div class=\"nav-ad-con\">\\r\\n                <a href=\"/fr-fr/futsdebiere\">\\r\\n                    <img class=\"lazy-image\" src=\"data:image/gif;base64,R0lGODlhAQABAIAAAAAAAP///yH5BAEAAAAALAAAAAABAAEAAAIBRAA7\" data-src=\"https://www.beerwulf.com/globalassets/3.-navigation-icons/homedraught_assortment_allkegs_navigation_v1.jpg?rev=105151122\" alt=\"Tous les f&#251;ts\" title=\"Tous les f&#251;ts\" />\\r\\n                </a>\\r\\n                <h4>Tous les f&#251;ts</h4>\\r\\n                <p>Les meilleures bi&#232;res &#224; la pression</p>\\r\\n                <a href=\"/fr-fr/futsdebiere\" class=\"button secondary-button\">J&#39;Y VAIS</a>\\r\\n            </div>\\r\\n        </div>\\r\\n    </div>\\r\\n\\r\\n                </div>\\r\\n            </nav>\\r\\n        </div>\\r\\n    </div>\\r\\n\\r\\n    <div class=\"menu-item browse-toggle\">\\r\\n            <h3>Coffrets de bi&#232;res</h3>\\r\\n        <div class=\"navigation-container\">\\r\\n            <nav class=\"navigation\">\\r\\n                <div class=\"main-nav-row\">\\r\\n                    \\r\\n\\r\\n    <div class=\"main-nav-col image-column\">\\r\\n        <div class=\"beer-content\">\\r\\n            <div class=\"nav-ad-con\">\\r\\n                <a href=\"/fr-fr/c?q=coffret&amp;type=0&amp;page=1&amp;segment=Coffret+de+bi%c3%a8res\">\\r\\n                    <img class=\"lazy-image\" src=\"data:image/gif;base64,R0lGODlhAQABAIAAAAAAAP///yH5BAEAAAAALAAAAAABAAEAAAIBRAA7\" data-src=\"https://www.beerwulf.com/globalassets/3.-navigation-icons/beer_cases_lp_navigation.jpg?rev=592673439\" alt=\"Coffrets de bi&#232;res mixtes\" title=\"Coffrets de bi&#232;res mixtes\" />\\r\\n                </a>\\r\\n                <h4>Coffrets de bi&#232;res mixtes</h4>\\r\\n                <p>Livr&#233;s gratuitement chez vous</p>\\r\\n                <a href=\"/fr-fr/c?q=coffret&amp;type=0&amp;page=1&amp;segment=Coffret+de+bi%c3%a8res\" class=\"button secondary-button\">J&#39;Y VAIS</a>\\r\\n            </div>\\r\\n        </div>\\r\\n    </div>\\r\\n\\r\\n\\r\\n    <div class=\"main-nav-col image-column\">\\r\\n        <div class=\"beer-content\">\\r\\n            <div class=\"nav-ad-con\">\\r\\n                <a href=\"/fr-fr/c?segment=Coffret+de+bi%c3%a8res&amp;q=box+promo&amp;page=1&amp;type=0\">\\r\\n                    <img class=\"lazy-image\" src=\"data:image/gif;base64,R0lGODlhAQABAIAAAAAAAP///yH5BAEAAAAALAAAAAABAAEAAAIBRAA7\" data-src=\"https://www.beerwulf.com/fr-fr/SysSiteAssets/homepage-header--theme-tiles/navigation/desktop-navigation/featured-packs--gifts/general_navigation_204_affligem_v2.jpg?rev=245146375\" alt=\"Box Promo\" title=\"Box Promo\" />\\r\\n                </a>\\r\\n                <h4>Box Promo</h4>\\r\\n                <p>Commandez votre bi&#232;re pr&#233;f&#233;r&#233;e !</p>\\r\\n                <a href=\"/fr-fr/c?segment=Coffret+de+bi%c3%a8res&amp;q=box+promo&amp;page=1&amp;type=0\" class=\"button secondary-button\">J&#39;en profite</a>\\r\\n            </div>\\r\\n        </div>\\r\\n    </div>\\r\\n\\r\\n\\r\\n    <div class=\"main-nav-col image-column\">\\r\\n        <div class=\"beer-content\">\\r\\n            <div class=\"nav-ad-con\">\\r\\n                <a href=\"/fr-fr/coffrets-de-bieres\">\\r\\n                    <img class=\"lazy-image\" src=\"data:image/gif;base64,R0lGODlhAQABAIAAAAAAAP///yH5BAEAAAAALAAAAAABAAEAAAIBRAA7\" data-src=\"https://www.beerwulf.com/fr-fr/SysSiteAssets/homepage-header--theme-tiles/navigation/desktop-navigation/featured-packs--gifts/general_navigation_all_packs_de.jpg?rev=2029072732\" alt=\"Tous les coffrets\" title=\"Tous les coffrets\" />\\r\\n                </a>\\r\\n                <h4>Tous les coffrets</h4>\\r\\n                <p>D&#233;couvrez tous nos coffrets</p>\\r\\n                <a href=\"/fr-fr/coffrets-de-bieres\" class=\"button secondary-button\">JE D&#201;COUVRE</a>\\r\\n            </div>\\r\\n        </div>\\r\\n    </div>\\r\\n\\r\\n                </div>\\r\\n            </nav>\\r\\n        </div>\\r\\n    </div>\\r\\n\\r\\n    <div class=\"menu-item browse-toggle\">\\r\\n            <h3>Cadeaux</h3>\\r\\n        <div class=\"navigation-container\">\\r\\n            <nav class=\"navigation\">\\r\\n                <div class=\"main-nav-row\">\\r\\n                    \\r\\n\\r\\n    <div class=\"main-nav-col image-column\">\\r\\n        <div class=\"beer-content\">\\r\\n            <div class=\"nav-ad-con\">\\r\\n                <a href=\"/fr-fr/cadeaux-biere\">\\r\\n                    <img class=\"lazy-image\" src=\"data:image/gif;base64,R0lGODlhAQABAIAAAAAAAP///yH5BAEAAAAALAAAAAABAAEAAAIBRAA7\" data-src=\"https://www.beerwulf.com/fr-fr/SysSiteAssets/homepage-header--theme-tiles/navigation/desktop-navigation/featured-packs--gifts/general_navigation_b2b_gifting.jpg?rev=104884777\" alt=\"ID&#201;ES CADEAUX\" title=\"ID&#201;ES CADEAUX\" />\\r\\n                </a>\\r\\n                <h4>ID&#201;ES CADEAUX</h4>\\r\\n                <p>Des cadeaux &#224; tous les prix</p>\\r\\n                <a href=\"/fr-fr/cadeaux-biere\" class=\"button secondary-button\">J&#39;y vais</a>\\r\\n            </div>\\r\\n        </div>\\r\\n    </div>\\r\\n\\r\\n\\r\\n    <div class=\"main-nav-col image-column\">\\r\\n        <div class=\"beer-content\">\\r\\n            <div class=\"nav-ad-con\">\\r\\n                <a href=\"/fr-fr/calendrier-de-lavent-bieres\">\\r\\n                    <img class=\"lazy-image\" src=\"data:image/gif;base64,R0lGODlhAQABAIAAAAAAAP///yH5BAEAAAAALAAAAAABAAEAAAIBRAA7\" data-src=\"https://www.beerwulf.com/fr-fr/SysSiteAssets/landing-pages/advent/advent-lp-2020/advent_lp_navigation.jpg?rev=1249183807\" alt=\"Calendrier de l&#39;Avent\" title=\"Calendrier de l&#39;Avent\" />\\r\\n                </a>\\r\\n                <h4>Calendrier de l&#39;Avent</h4>\\r\\n                <p>Le compte &#224; rebours id&#233;al pour No&#235;l</p>\\r\\n                <a href=\"/fr-fr/calendrier-de-lavent-bieres\" class=\"button secondary-button\">Je D&#233;couvre</a>\\r\\n            </div>\\r\\n        </div>\\r\\n    </div>\\r\\n\\r\\n                </div>\\r\\n            </nav>\\r\\n        </div>\\r\\n    </div>\\r\\n\\r\\n    <div class=\"menu-item browse-toggle\">\\r\\n            <h3>D&#233;couvrir</h3>\\r\\n        <div class=\"navigation-container\">\\r\\n            <nav class=\"navigation\">\\r\\n                <div class=\"main-nav-row\">\\r\\n                    \\r\\n\\r\\n    <div class=\"main-nav-col image-column\">\\r\\n        <div class=\"beer-content\">\\r\\n            <div class=\"nav-ad-con\">\\r\\n                <a href=\"/fr-fr/articles-sur-les-bieres-speciales\">\\r\\n                    <img class=\"lazy-image\" src=\"data:image/gif;base64,R0lGODlhAQABAIAAAAAAAP///yH5BAEAAAAALAAAAAABAAEAAAIBRAA7\" data-src=\"https://www.beerwulf.com/fr-fr/SysSiteAssets/homepage-header--theme-tiles/navigation/desktop-navigation/discover/tapt_navigation_all.jpg?rev=762345998\" alt=\"Tous nos articles\" title=\"Tous nos articles\" />\\r\\n                </a>\\r\\n                <h4>Tous nos articles</h4>\\r\\n                <p>Pour tout savoir sur le monde de la bi&#232;re</p>\\r\\n                <a href=\"/fr-fr/articles-sur-les-bieres-speciales\" class=\"button secondary-button\">Voir</a>\\r\\n            </div>\\r\\n        </div>\\r\\n    </div>\\r\\n\\r\\n\\r\\n    <div class=\"main-nav-col image-column\">\\r\\n        <div class=\"beer-content\">\\r\\n            <div class=\"nav-ad-con\">\\r\\n                <a href=\"/fr-fr/toutes-les-brasseries\">\\r\\n                    <img class=\"lazy-image\" src=\"data:image/gif;base64,R0lGODlhAQABAIAAAAAAAP///yH5BAEAAAAALAAAAAABAAEAAAIBRAA7\" data-src=\"https://www.beerwulf.com/fr-fr/SysSiteAssets/homepage-header--theme-tiles/navigation/desktop-navigation/discover/general_pack_2_navigation_brewer_all.jpg?rev=2029072732\" alt=\"Toutes les brasseries\" title=\"Toutes les brasseries\" />\\r\\n                </a>\\r\\n                <h4>Toutes les brasseries</h4>\\r\\n                <p>L&#39;histoire et les secrets des brasseurs et brasseuses</p>\\r\\n                <a href=\"/fr-fr/toutes-les-brasseries\" class=\"button secondary-button\">J&#39;Y VAIS</a>\\r\\n            </div>\\r\\n        </div>\\r\\n    </div>\\r\\n\\r\\n\\r\\n    <div class=\"main-nav-col image-column\">\\r\\n        <div class=\"beer-content\">\\r\\n            <div class=\"nav-ad-con\">\\r\\n                <a href=\"/fr-fr/brasseur-du-mois\">\\r\\n                    <img class=\"lazy-image\" src=\"data:image/gif;base64,R0lGODlhAQABAIAAAAAAAP///yH5BAEAAAAALAAAAAABAAEAAAIBRAA7\" data-src=\"https://www.beerwulf.com/fr-fr/SysSiteAssets/homepage-header--theme-tiles/menu-tiles/brewers/stone_general_navigation_botm.jpg?rev=1414959791\" alt=\"Les brasseries du mois\" title=\"Les brasseries du mois\" />\\r\\n                </a>\\r\\n                <h4>Les brasseries du mois</h4>\\r\\n                <p>Portraits vid&#233;os de passionn&#233;(e)s</p>\\r\\n                <a href=\"/fr-fr/brasseur-du-mois\" class=\"button secondary-button\">D&#233;couvrir</a>\\r\\n            </div>\\r\\n        </div>\\r\\n    </div>\\r\\n\\r\\n                </div>\\r\\n            </nav>\\r\\n        </div>\\r\\n    </div>\\r\\n    <div class=\"menu-item single-link\">\\r\\n        <a href=\"/fr-fr/c/bieres?segment=+bi%c3%a8res&amp;catalogCode=Beer_1&amp;page=1&amp;specialOffer=Promos\">PROMOS</a>\\r\\n    </div>\\r\\n\\r\\n        </div>\\r\\n    </div>\\r\\n\\r\\n            \\r\\n<div class=\"header-row add-to-cart-notification js-notication-container\">\\r\\n    <div class=\"addtocart-notication-wrapper\">\\r\\n        <div class=\"addtocart-notication-container\">\\r\\n            <span class=\"green-check\">\\r\\n                <svg role=\"img\">\\r\\n                    <use xlink:href=\"/static/dist/assets/img/svg.svg#check\"></use>\\r\\n                </svg>\\r\\n            </span>\\r\\n            <div class=\"confirmation-text\">\\r\\n                <span class=\"status-copy added\"><b class=\"js-product-name\"></b> Ajout&#233; au panier</span>\\r\\n                <span class=\"status-copy removed\"><b class=\"js-product-name\"></b> a &#233;t&#233; retir&#233;(e) de votre panier</span>\\r\\n            </div>\\r\\n        </div>\\r\\n        <div class=\"addtocart-crate-container js-beer-shippingbox-container\">\\r\\n            <div class=\"crate-column boxes-to-fill\">\\r\\n                <div class=\"shipping-info\">\\r\\n                    <p class=\"first-box\">\\r\\n                        <span class=\"single-beer\">Ajoutez {beersToAddNum} bi&#232;re de plus &#224; votre coffret pour obtenir la livraison gratuite</span>\\r\\n                        <span class=\"plural-beer\">Ajoutez {beersToAddNum} bi&#232;res de plus &#224; votre coffret pour obtenir la livraison gratuite</span>\\r\\n                    </p>\\r\\n                    <div class=\"bottle-count\"><b class=\"js-beers-added\"></b>/<span class=\"js-beers-count\"></span></div>\\r\\n                </div>\\r\\n                <div class=\"box-graphic-container js-beers-box-graphic-container\">\\r\\n                </div>\\r\\n            </div>\\r\\n            <div class=\"crate-column boxes-filled\">\\r\\n                <span class=\"cart-head-text\">Votre livraison sera gratuite !</span>\\r\\n            </div>\\r\\n        </div>\\r\\n        <div class=\"addtocart-torp-container js-torp-shippingbox-container\">\\r\\n            <div class=\"crate-column boxes-to-fill\">\\r\\n                <div class=\"shipping-info\">\\r\\n                    <p class=\"first-torp-box\">\\r\\n                        <span class=\"single-torp\">Ajoutez 1 dernier f&#251;t The SUB pour obtenir la livraison gratuite</span>\\r\\n                        <span class=\"plural-torp\">Ajoutez {torpsToAddNum} f&#251;t(s) The SUB de plus pour obtenir la livraison gratuite </span>\\r\\n                    </p>\\r\\n                    <div class=\"bottle-count\"><b class=\"js-torps-added\"></b>/<span class=\"js-torps-count\"></span></div>\\r\\n                </div>\\r\\n                <div class=\"box-graphic-container js-torps-box-graphic-container\">\\r\\n                </div>\\r\\n            </div>\\r\\n            <div class=\"crate-column boxes-filled\">\\r\\n                <span class=\"cart-head-text\">Vos f&#251;ts The SUB seront livr&#233;s gratuitement !</span>\\r\\n            </div>\\r\\n        </div>\\r\\n        <div class=\"addtocart-keg-container js-keg-shippingbox-container\">\\r\\n            <div class=\"crate-column boxes-to-fill\">\\r\\n                <div class=\"shipping-info\">\\r\\n                    <p class=\"first-keg-box\">\\r\\n                        <span class=\"single-keg\"></span>\\r\\n                        <span class=\"plural-keg\">Ajoutez un autre f&#251;t pour la livraison gratuite.</span>\\r\\n                    </p>\\r\\n                    <div class=\"bottle-count\"><b class=\"js-kegs-added\"></b>/<span class=\"js-kegs-count\"></span></div>\\r\\n                </div>\\r\\n                <div class=\"box-graphic-container js-kegs-box-graphic-container\">\\r\\n                </div>\\r\\n            </div>\\r\\n            <div class=\"crate-column boxes-filled\">\\r\\n                <span class=\"cart-head-text\">Vos f&#251;ts seront livr&#233;s gratuitement !\\n\\n </span>\\r\\n            </div>\\r\\n        </div>\\r\\n        <div class=\"all-free-delivery js-all-free-delivery\">\\r\\n          <span class=\"cart-head-text\">Votre commande sera livr&#233;e gratuitement</span>\\r\\n        </div>\\r\\n    </div>\\r\\n    <div class=\"added-to-shoppinglist-noticiation js-added-to-shoppinglist-noticiation\">\\r\\n        <p class=\"product-added\">\\r\\n            <span class=\"js-product-title\"></span> a &#233;t&#233; ajout&#233;(e) &#224; votre liste d&#39;envies</p>\\r\\n        <p class=\"product-removed\">\\r\\n            <span class=\"js-product-title\"></span> a &#233;t&#233; retir&#233;(e) de votre liste d&#39;envies\\r\\n        </p>\\r\\n    </div>\\r\\n</div>\\r\\n\\r\\n        </div>\\r\\n    </div>\\r\\n\\r\\n    \\r\\n\\r\\n<div class=\"mobile-navigation-row\">\\r\\n    <div class=\"icon-container\">\\r\\n        \\r\\n                    <div class=\"footer-icon js-category-icon-link hamburger-menu-icon\" data-category-link=\"43235835\">\\r\\n                        <div class=\"burger-menu\">\\r\\n                            <span></span>\\r\\n                            <span></span>\\r\\n                            <span></span>\\r\\n                            <span></span>\\r\\n                        </div>\\r\\n                    </div>\\r\\n                    <div class=\"mobile-nav-container\">\\r\\n                        <div class=\"mobile-navigation-menu outer-nav\" data-category-menu=\"43235835\">\\r\\n                            <button class=\"js-nav-close-button close-button\" type=\"button\"><span aria-hidden=\"true\">\\xc3\\x97</span></button>\\r\\n                            <h4 class=\"section-title\">Menu</h4>\\r\\n                            <ul class=\"no-bullet\">\\r\\n                                \\r\\n<li class=\"category-link js-category-link\">\\r\\n    Bi&#232;res\\r\\n    <div class=\"mobile-navigation-menu inner-nav\">\\r\\n        <h4 class=\"section-title inner-section-title js-close-inner-menu\">\\r\\n            <svg role=\"img\">\\r\\n                <use xlink:href=\"/static/dist/assets/img/svg.svg#arrow-left\"></use>\\r\\n            </svg>\\r\\n            Bi&#232;res\\r\\n        </h4>\\r\\n        <ul class=\"no-bullet\">\\r\\n                <li class=\"direct-link js-direct-link\"><a href=\"/fr-fr/c/bieres\">Toutes les bi&#232;res</a></li>\\r\\n    <li class=\"direct-link js-direct-link\"><a href=\"/fr-fr/c?specialOffer=Meilleures+Ventes\">Meilleures ventes</a></li>\\r\\n\\r\\n<li class=\"category-link js-category-link\">\\r\\n    Styles\\r\\n    <div class=\"mobile-navigation-menu inner-nav\">\\r\\n        <h4 class=\"section-title inner-section-title js-close-inner-menu\">\\r\\n            <svg role=\"img\">\\r\\n                <use xlink:href=\"/static/dist/assets/img/svg.svg#arrow-left\"></use>\\r\\n            </svg>\\r\\n            Styles\\r\\n        </h4>\\r\\n        <ul class=\"no-bullet\">\\r\\n                <li class=\"direct-link js-direct-link\"><a href=\"/fr-fr/c/biereblonde\">Bi&#232;re Blonde</a></li>\\r\\n    <li class=\"direct-link js-direct-link\"><a href=\"/fr-fr/c/bieretriple\">Bi&#232;re Triple</a></li>\\r\\n    <li class=\"direct-link js-direct-link\"><a href=\"/fr-fr/c/ipa\">IPA</a></li>\\r\\n    <li class=\"direct-link js-direct-link\"><a href=\"/fr-fr/c/paleale\">Pale Ale</a></li>\\r\\n    <li class=\"direct-link js-direct-link\"><a href=\"/fr-fr/c/biereporter-stout\">Bi&#232;re Porter &amp; Stout</a></li>\\r\\n    <li class=\"direct-link js-direct-link\"><a href=\"/fr-fr/c/bieresour\">Bi&#232;re Sour</a></li>\\r\\n    <li class=\"direct-link js-direct-link\"><a href=\"/fr-fr/c/biereweiss\">Bi&#232;re Weiss</a></li>\\r\\n    <li class=\"direct-link js-direct-link\"><a href=\"/fr-fr/c/pils-hoppylager\">Bi&#232;re Pils</a></li>\\r\\n    <li class=\"direct-link js-direct-link\"><a href=\"/fr-fr/c/lager\">Lager</a></li>\\r\\n    <li class=\"direct-link js-direct-link\"><a href=\"/fr-fr/c/biereblanche\">Bi&#232;re Blanche</a></li>\\r\\n    <li class=\"direct-link js-direct-link\"><a href=\"/fr-fr/c/bierebrune\">Bi&#232;re Brune</a></li>\\r\\n    <li class=\"direct-link js-direct-link\"><a href=\"/fr-fr/c/bieredegarden-saison\">Bi&#232;re de Garde et Saison</a></li>\\r\\n    <li class=\"direct-link js-direct-link\"><a href=\"/fr-fr/c/bierebarleywine\">Barley Wine</a></li>\\r\\n    <li class=\"direct-link js-direct-link\"><a href=\"/fr-fr/c/bierefruitee\">Fruit&#233;e &amp; aromatis&#233;e</a></li>\\r\\n\\r\\n        </ul>\\r\\n    </div>\\r\\n</li>\\r\\n\\r\\n<li class=\"category-link js-category-link\">\\r\\n    Pays\\r\\n    <div class=\"mobile-navigation-menu inner-nav\">\\r\\n        <h4 class=\"section-title inner-section-title js-close-inner-menu\">\\r\\n            <svg role=\"img\">\\r\\n                <use xlink:href=\"/static/dist/assets/img/svg.svg#arrow-left\"></use>\\r\\n            </svg>\\r\\n            Pays\\r\\n        </h4>\\r\\n        <ul class=\"no-bullet\">\\r\\n                <li class=\"direct-link js-direct-link\"><a href=\"/fr-fr/c/biereautrichienne\">Autriche</a></li>\\r\\n    <li class=\"direct-link js-direct-link\"><a href=\"/fr-fr/c/bierebelge\">Belgique</a></li>\\r\\n    <li class=\"direct-link js-direct-link\"><a href=\"/fr-fr/c/biereestonienne\">Estonie</a></li>\\r\\n    <li class=\"direct-link js-direct-link\"><a href=\"/fr-fr/c/bierecanadienne\">Canada</a></li>\\r\\n    <li class=\"direct-link js-direct-link\"><a href=\"/fr-fr/c/bieretcheque\">R&#233;publique Tch&#232;que</a></li>\\r\\n    <li class=\"direct-link js-direct-link\"><a href=\"/fr-fr/c/bierefrancaise\">France</a></li>\\r\\n    <li class=\"direct-link js-direct-link\"><a href=\"/fr-fr/c/biereallemande\">Allemagne</a></li>\\r\\n    <li class=\"direct-link js-direct-link\"><a href=\"/fr-fr/c/biereindienne\">Inde</a></li>\\r\\n    <li class=\"direct-link js-direct-link\"><a href=\"/fr-fr/c/biereindonesienne\">Indon&#233;sie</a></li>\\r\\n    <li class=\"direct-link js-direct-link\"><a href=\"/fr-fr/c/biereirlandaise\">Irlande</a></li>\\r\\n    <li class=\"direct-link js-direct-link\"><a href=\"/fr-fr/c/biereitalienne\">Italie</a></li>\\r\\n    <li class=\"direct-link js-direct-link\"><a href=\"/fr-fr/c/bierejaponaise\">Japon</a></li>\\r\\n    <li class=\"direct-link js-direct-link\"><a href=\"/fr-fr/c/biereneerlandaise\">Pays-Bas</a></li>\\r\\n    <li class=\"direct-link js-direct-link\"><a href=\"/fr-fr/c/biereanglaise\">Royaume-Uni</a></li>\\r\\n    <li class=\"direct-link js-direct-link\"><a href=\"/fr-fr/c/biereamericaine\">&#201;tats-Unis</a></li>\\r\\n    <li class=\"direct-link js-direct-link\"><a href=\"/fr-fr/c/bierethailandaise\">Tha&#239;lande</a></li>\\r\\n    <li class=\"direct-link js-direct-link\"><a href=\"/fr-fr/c/bierevietnamienne\">Vietnam</a></li>\\r\\n    <li class=\"direct-link js-direct-link\"><a href=\"/fr-fr/c/bieres\">Autres</a></li>\\r\\n\\r\\n        </ul>\\r\\n    </div>\\r\\n</li>\\r\\n\\r\\n<li class=\"category-link js-category-link\">\\r\\n    Autres Sp&#233;cificit&#233;s\\r\\n    <div class=\"mobile-navigation-menu inner-nav\">\\r\\n        <h4 class=\"section-title inner-section-title js-close-inner-menu\">\\r\\n            <svg role=\"img\">\\r\\n                <use xlink:href=\"/static/dist/assets/img/svg.svg#arrow-left\"></use>\\r\\n            </svg>\\r\\n            Autres Sp&#233;cificit&#233;s\\r\\n        </h4>\\r\\n        <ul class=\"no-bullet\">\\r\\n                <li class=\"direct-link js-direct-link\"><a href=\"/fr-fr/c/biere-sans-gluten\">Bi&#232;re sans gluten</a></li>\\r\\n    <li class=\"direct-link js-direct-link\"><a href=\"/fr-fr/c/biere-sans-alcool\">Bi&#232;re sans alcool</a></li>\\r\\n    <li class=\"direct-link js-direct-link\"><a href=\"/fr-fr/c/biere-biologique\">Bi&#232;re biologique</a></li>\\r\\n    <li class=\"direct-link js-direct-link\"><a href=\"/fr-fr/c/bieres-vegan\">Bi&#232;re vegan</a></li>\\r\\n\\r\\n        </ul>\\r\\n    </div>\\r\\n</li>\\r\\n\\r\\n        </ul>\\r\\n    </div>\\r\\n</li>\\r\\n\\r\\n<li class=\"category-link js-category-link\">\\r\\n    Tireuses et Tubes\\r\\n    <div class=\"mobile-navigation-menu inner-nav\">\\r\\n        <h4 class=\"section-title inner-section-title js-close-inner-menu\">\\r\\n            <svg role=\"img\">\\r\\n                <use xlink:href=\"/static/dist/assets/img/svg.svg#arrow-left\"></use>\\r\\n            </svg>\\r\\n            Tireuses et Tubes\\r\\n        </h4>\\r\\n        <ul class=\"no-bullet\">\\r\\n                <li class=\"direct-link js-direct-link\"><a href=\"/fr-fr/tireuse-a-biere-the-sub\">Tireuse The SUB (2L)</a></li>\\r\\n    <li class=\"direct-link js-direct-link\"><a href=\"/fr-fr/tireuse-a-biere-beertender\">Tireuse BeerTender (5L)</a></li>\\r\\n    <li class=\"direct-link js-direct-link\"><a href=\"/fr-fr/tireuses-a-biere\">Toutes les tireuses</a></li>\\r\\n    <li class=\"direct-link js-direct-link\"><a href=\"/fr-fr/p/accessoires/lot-de-10-tubes-de-service-beertender\">TUBES</a></li>\\r\\n\\r\\n        </ul>\\r\\n    </div>\\r\\n</li>\\r\\n\\r\\n<li class=\"category-link js-category-link\">\\r\\n    F&#251;ts\\r\\n    <div class=\"mobile-navigation-menu inner-nav\">\\r\\n        <h4 class=\"section-title inner-section-title js-close-inner-menu\">\\r\\n            <svg role=\"img\">\\r\\n                <use xlink:href=\"/static/dist/assets/img/svg.svg#arrow-left\"></use>\\r\\n            </svg>\\r\\n            F&#251;ts\\r\\n        </h4>\\r\\n        <ul class=\"no-bullet\">\\r\\n                <li class=\"direct-link js-direct-link\"><a href=\"/fr-fr/c/futsthesub\">F&#251;ts The SUB (2L)</a></li>\\r\\n    <li class=\"direct-link js-direct-link\"><a href=\"/fr-fr/c/futs-de-biere-5l\">F&#251;ts (5L)</a></li>\\r\\n    <li class=\"direct-link js-direct-link\"><a href=\"/fr-fr/futsdebiere\">Tous les f&#251;ts</a></li>\\r\\n\\r\\n        </ul>\\r\\n    </div>\\r\\n</li>\\r\\n\\r\\n<li class=\"category-link js-category-link\">\\r\\n    Coffrets de bi&#232;res\\r\\n    <div class=\"mobile-navigation-menu inner-nav\">\\r\\n        <h4 class=\"section-title inner-section-title js-close-inner-menu\">\\r\\n            <svg role=\"img\">\\r\\n                <use xlink:href=\"/static/dist/assets/img/svg.svg#arrow-left\"></use>\\r\\n            </svg>\\r\\n            Coffrets de bi&#232;res\\r\\n        </h4>\\r\\n        <ul class=\"no-bullet\">\\r\\n                <li class=\"direct-link js-direct-link\"><a href=\"/fr-fr/c?segment=Coffret+de+bi%c3%a8res&amp;q=coffret+bi%c3%a8res&amp;page=1&amp;type=0\">Coffrets de bi&#232;res mixtes</a></li>\\r\\n    <li class=\"direct-link js-direct-link\"><a href=\"/fr-fr/c?segment=Coffret+de+bi%c3%a8res&amp;q=box+promo&amp;page=1&amp;type=0\">Box Promo</a></li>\\r\\n    <li class=\"direct-link js-direct-link\"><a href=\"/fr-fr/coffrets-de-bieres\">Tous nos coffrets</a></li>\\r\\n\\r\\n        </ul>\\r\\n    </div>\\r\\n</li>\\r\\n\\r\\n<li class=\"category-link js-category-link\">\\r\\n    Offrir un cadeau\\r\\n    <div class=\"mobile-navigation-menu inner-nav\">\\r\\n        <h4 class=\"section-title inner-section-title js-close-inner-menu\">\\r\\n            <svg role=\"img\">\\r\\n                <use xlink:href=\"/static/dist/assets/img/svg.svg#arrow-left\"></use>\\r\\n            </svg>\\r\\n            Offrir un cadeau\\r\\n        </h4>\\r\\n        <ul class=\"no-bullet\">\\r\\n                <li class=\"direct-link js-direct-link\"><a href=\"/fr-fr/calendrier-de-lavent-bieres\">Calendrier de l&#39;Avent</a></li>\\r\\n    <li class=\"direct-link js-direct-link\"><a href=\"/fr-fr/cadeaux-biere\">Toutes nos id&#233;es cadeaux</a></li>\\r\\n\\r\\n        </ul>\\r\\n    </div>\\r\\n</li>\\r\\n\\r\\n<li class=\"category-link js-category-link\">\\r\\n    D&#233;couvrir la bi&#232;re\\r\\n    <div class=\"mobile-navigation-menu inner-nav\">\\r\\n        <h4 class=\"section-title inner-section-title js-close-inner-menu\">\\r\\n            <svg role=\"img\">\\r\\n                <use xlink:href=\"/static/dist/assets/img/svg.svg#arrow-left\"></use>\\r\\n            </svg>\\r\\n            D&#233;couvrir la bi&#232;re\\r\\n        </h4>\\r\\n        <ul class=\"no-bullet\">\\r\\n                <li class=\"direct-link js-direct-link\"><a href=\"/fr-fr/articles-sur-les-bieres-speciales\">Le Blog</a></li>\\r\\n    <li class=\"direct-link js-direct-link\"><a href=\"/fr-fr/toutes-les-brasseries\">Les brasseurs et brasseuses</a></li>\\r\\n    <li class=\"direct-link js-direct-link\"><a href=\"/fr-fr/brasseur-du-mois\">Les brasseries du mois</a></li>\\r\\n\\r\\n        </ul>\\r\\n    </div>\\r\\n</li>\\r\\n    <li class=\"direct-link js-direct-link\"><a href=\"/fr-fr/promos-biere-tireuse-a-biere\">PROMOS</a></li>\\r\\n    <li class=\"direct-link \"><a href=\"https://frbeerwulf.zendesk.com/hc/fr-fr\">Questions fr&#233;quentes</a></li>\\r\\n\\r\\n                            </ul>\\r\\n                        </div>\\r\\n                    </div>\\r\\n \\r\\n    <div class=\"footer-icon js-direct-icon-link\">\\r\\n\\t\\t\\t<a href=\"/fr-fr/tireuses-a-biere\">\\r\\n\\t\\t\\t\\t<div class=\"active-icon menu-icon\" style=\"background-image: url(\\'/globalassets/1.-everyday-assets/1.1-navigation-icons/beer-tap.svg?rev=1062082360\\')\"></div>\\r\\n\\t\\t\\t\\t<div class=\"inactive-icon menu-icon\" style=\"background-image: url(\\'/globalassets/1.-everyday-assets/1.1-navigation-icons/beer-tap.svg?rev=1062082360\\')\"></div>\\r\\n\\t\\t\\t\\tTireuses et Tubes\\r\\n\\t\\t\\t</a>\\r\\n    </div>\\r\\n\\r\\n    <div class=\"footer-icon js-direct-icon-link\">\\r\\n\\t\\t\\t<a href=\"/fr-fr/futsdebiere\">\\r\\n\\t\\t\\t\\t<div class=\"active-icon menu-icon\" style=\"background-image: url(\\'/globalassets/1.-everyday-assets/1.1-navigation-icons/kegs.svg?rev=932162488\\')\"></div>\\r\\n\\t\\t\\t\\t<div class=\"inactive-icon menu-icon\" style=\"background-image: url(\\'/globalassets/1.-everyday-assets/1.1-navigation-icons/kegs.svg?rev=932162488\\')\"></div>\\r\\n\\t\\t\\t\\tF&#251;ts\\r\\n\\t\\t\\t</a>\\r\\n    </div>\\r\\n\\r\\n    <div class=\"footer-icon js-direct-icon-link\">\\r\\n\\t\\t\\t<a href=\"/fr-fr/c/bieres?segment=+bi%c3%a8res&amp;catalogCode=Beer_1&amp;page=1&amp;container=Bouteille,Canette\">\\r\\n\\t\\t\\t\\t<div class=\"active-icon menu-icon\" style=\"background-image: url(\\'/globalassets/1.-everyday-assets/1.1-navigation-icons/bottles--cans.svg?rev=838912201\\')\"></div>\\r\\n\\t\\t\\t\\t<div class=\"inactive-icon menu-icon\" style=\"background-image: url(\\'/globalassets/1.-everyday-assets/1.1-navigation-icons/bottles--cans.svg?rev=838912201\\')\"></div>\\r\\n\\t\\t\\t\\tBi&#232;res et canettes\\r\\n\\t\\t\\t</a>\\r\\n    </div>\\r\\n\\r\\n    <div class=\"footer-icon js-direct-icon-link\">\\r\\n\\t\\t\\t<a href=\"/fr-fr/coffrets-de-bieres\">\\r\\n\\t\\t\\t\\t<div class=\"active-icon menu-icon\" style=\"background-image: url(\\'/globalassets/1.-everyday-assets/1.1-navigation-icons/cases.svg?rev=1325261897\\')\"></div>\\r\\n\\t\\t\\t\\t<div class=\"inactive-icon menu-icon\" style=\"background-image: url(\\'/globalassets/1.-everyday-assets/1.1-navigation-icons/cases.svg?rev=1325261897\\')\"></div>\\r\\n\\t\\t\\t\\tCoffrets\\r\\n\\t\\t\\t</a>\\r\\n    </div>\\r\\n\\r\\n    <div class=\"footer-icon js-direct-icon-link\">\\r\\n\\t\\t\\t<a href=\"/fr-fr/c/bieres?segment=+bi%c3%a8res&amp;catalogCode=Beer_1&amp;page=1&amp;specialOffer=Promos\">\\r\\n\\t\\t\\t\\t<div class=\"active-icon menu-icon\" style=\"background-image: url(\\'/globalassets/1.-everyday-assets/1.1-navigation-icons/sale-yellow-two.svg?rev=20814945\\')\"></div>\\r\\n\\t\\t\\t\\t<div class=\"inactive-icon menu-icon\" style=\"background-image: url(\\'/globalassets/1.-everyday-assets/1.1-navigation-icons/sale-yellow-two.svg?rev=20814945\\')\"></div>\\r\\n\\t\\t\\t\\tPROMOS\\r\\n\\t\\t\\t</a>\\r\\n    </div>\\r\\n\\r\\n    </div>\\r\\n</div>\\r\\n\\r\\n</header>\\r\\n\\r\\n\\r\\n    <div class=\"main\">\\r\\n        <div class=\"component-page-rows\"><div class=\"single-content-row\">  <div class=\"homepage-banner website-banner fullscreen\">\\r\\n    \\r\\n\\r\\n<div class=\"row\">\\r\\n    <div class=\"small-12 columns\">\\r\\n        <div class=\"desktop-banner banner-image-container lazy-bg-image\" data-bg=\"url(https://www.beerwulf.com/fr-fr/SysSiteAssets/landing-pages/oktoberfest/oktoberfest-lp-2020/beer_fest_ld.jpg?rev=754327155)\">\\r\\n        </div>\\r\\n        <div class=\"mobile-banner banner-image-container lazy-bg-image\" data-bg=\"url(https://www.beerwulf.com/fr-fr/SysSiteAssets/landing-pages/oktoberfest/oktoberfest-lp-2020/beer_fest_m.jpg?rev=754327155)\">\\r\\n        </div>\\r\\n        <div class=\"banner-content light-theme middle-center\" style=\"max-width:80%\">\\r\\n                <h3>F&#202;TE DE LA BI&#200;RE BEERWULF</h3>\\r\\n            <p>C&#233;l&#233;brez la f&#234;te de la bi&#232;re avec JUSQU&#39;&#192; 25% de r&#233;duction sur des bouteilles, canettes et f&#251;ts</p>\\r\\n                <div class=\"banner-cta\">\\r\\n                    <a href=\"/fr-fr/oktoberfest-bieres-coffret\" class=\"button  \">\\r\\n                        JE D&#201;COUVRE\\r\\n                    </a>\\r\\n                </div>\\r\\n        </div>\\r\\n    </div>\\r\\n</div>\\r\\n  </div>\\r\\n</div><div class=\"single-content-row\">\\r\\n<div class=\"row columns\">\\r\\n    <div class=\"small-12\">\\r\\n        <div class=\"centered-addition \">\\r\\n            <div class=\"addition\">\\r\\n                        <h1>Achat de bi&#232;res, f&#251;ts et tireuses en ligne</h1>\\r\\n                        <span class=\"sub-text\">Livraison gratuite pour les colis complets</span>\\r\\n            </div>\\r\\n        </div>\\r\\n    </div>\\r\\n</div></div><div class=\"single-content-row\"><div class=\"row align-middle align-center\">\\r\\n    <div class=\"small-12 columns\">\\r\\n        <div class=\"home-buttons-container\"><div>\\r\\n\\r\\n\\r\\n<a href=\"/fr-fr/tireuse-a-biere-the-sub\">\\r\\n        <img class=\"lazy-image\" src=\"data:image/gif;base64,R0lGODlhAQABAIAAAAAAAP///yH5BAEAAAAALAAAAAABAAEAAAIBRAA7\" data-src=\"https://www.beerwulf.com/contentassets/8b52340e20994587a73544bf9b882e13/homedraught_assortment_appliance_sub_navigation_v2.jpg?rev=379576605\" alt=\"The SUB\" title=\"The SUB\" />\\r\\n    <h3>The SUB</h3>\\r\\n</a>\\r\\n</div><div>\\r\\n\\r\\n\\r\\n<a href=\"/fr-fr/c/futsthesub\">\\r\\n        <img class=\"lazy-image\" src=\"data:image/gif;base64,R0lGODlhAQABAIAAAAAAAP///yH5BAEAAAAALAAAAAABAAEAAAIBRAA7\" data-src=\"https://www.beerwulf.com/contentassets/da6847d5861c4a4dae7c759925fec447/homedraught_assortment_kegs_2l_navigation_v3.jpg?rev=964874525\" alt=\"F&#251;ts The SUB\" title=\"F&#251;ts The SUB\" />\\r\\n    <h3>F&#251;ts The SUB</h3>\\r\\n</a>\\r\\n</div><div>\\r\\n\\r\\n\\r\\n<a href=\"/fr-fr/tireuse-a-biere-beertender\">\\r\\n        <img class=\"lazy-image\" src=\"data:image/gif;base64,R0lGODlhAQABAIAAAAAAAP///yH5BAEAAAAALAAAAAABAAEAAAIBRAA7\" data-src=\"https://www.beerwulf.com/contentassets/3369b7c19d35469a8eaf33ae38cb43ff/homedraught_assortment_appliance_beertender_navigation.jpg?rev=1108158725\" alt=\"BeerTender\" title=\"BeerTender\" />\\r\\n    <h3>BeerTender</h3>\\r\\n</a>\\r\\n</div><div>\\r\\n\\r\\n\\r\\n<a href=\"/fr-fr/c?page=1&amp;container=F%c3%bbt+de+5L\">\\r\\n        <img class=\"lazy-image\" src=\"data:image/gif;base64,R0lGODlhAQABAIAAAAAAAP///yH5BAEAAAAALAAAAAABAAEAAAIBRAA7\" data-src=\"https://www.beerwulf.com/contentassets/93b0b2c19bb242b99340a05302cfcee2/homedraught_assortment_kegs_5l_navigation_v2.jpg?rev=79578141\" alt=\"F&#251;ts 5L\" title=\"F&#251;ts 5L\" />\\r\\n    <h3>F&#251;ts 5L</h3>\\r\\n</a>\\r\\n</div><div>\\r\\n\\r\\n\\r\\n<a href=\"/fr-fr/c/coffretdebiere\">\\r\\n        <img class=\"lazy-image\" src=\"data:image/gif;base64,R0lGODlhAQABAIAAAAAAAP///yH5BAEAAAAALAAAAAABAAEAAAIBRAA7\" data-src=\"https://www.beerwulf.com/contentassets/2b6993abde8e495caeae882ff5e65630/beer_cases_lp_navigation.jpg?rev=1842810629\" alt=\"Coffrets de bi&#232;res\" title=\"Coffrets de bi&#232;res\" />\\r\\n    <h3>Coffrets de bi&#232;res</h3>\\r\\n</a>\\r\\n</div><div>\\r\\n\\r\\n\\r\\n<a href=\"/fr-fr/c/bieres\">\\r\\n        <img class=\"lazy-image\" src=\"data:image/gif;base64,R0lGODlhAQABAIAAAAAAAP///yH5BAEAAAAALAAAAAABAAEAAAIBRAA7\" data-src=\"https://www.beerwulf.com/fr-fr/SysSiteAssets/homepage-header--theme-tiles/navigation/desktop-navigation/beers/general_navigation_articles_all.jpg?rev=1784718283\" alt=\"Bouteilles et canettes\" title=\"Bouteilles et canettes\" />\\r\\n    <h3>Bouteilles et canettes</h3>\\r\\n</a>\\r\\n</div></div>\\r\\n    </div>\\r\\n</div>\\r\\n</div><div class=\"single-content-row\"><div class=\"row columns\">\\r\\n    <div class=\"small-12\">\\r\\n        <div class=\"title-with-text\">          \\r\\n                <h3>Nos Bestsellers</h3>\\r\\n            <a href=\"/fr-fr/c/futs-de-biere-5l\"><span>Les f&#251;ts de 5L BeerTender</span></a>                \\r\\n        </div>\\r\\n    </div>\\r\\n</div>\\r\\n</div><div class=\"single-content-row\">\\r\\n\\r\\n<div class=\"row product-overview-container\">\\r\\n    <div class=\"small-12 columns\">\\r\\n\\r\\n        <div class=\"products\">\\r\\n            <div class=\"product-items-container static-shelf\">\\r\\n\\r\\n\\r\\n\\r\\n    <div data-product=\\'{\"name\":\"LOT DE 10 TUBES DE SERVICE BEERTENDER\",\"id\":\"BeerTender-6-pack-Tubes_2\",\"price\":11.990000000,\"from-price\":null,\"category\":\"Generic Variation\",\"variant\":\"FR-BeerTender-6-pack-Tubes_1\",\"brand\":\"Beerwulf\",\"list\":\"Generic Variation Catalog Entry Summary\",\"position\":1}\\'\\r\\n         class=\"product  \">\\r\\n\\r\\n            <h4>\\r\\n                <a href=\"/fr-fr/p/accessoires/lot-de-10-tubes-de-service-beertender\"\\r\\n                   target=\"_self\"\\r\\n                   data-action=\"product-click\">LOT DE 10 TUBES DE SERVICE BEERTENDER</a>\\r\\n            </h4>\\r\\n            <div class=\"images-icons-container\">\\r\\n\\r\\n\\r\\n<div class=\"image-container\">\\r\\n\\r\\n    <a href=\"/fr-fr/p/accessoires/lot-de-10-tubes-de-service-beertender\"\\r\\n       data-action=\"product-click\"\\r\\n       target=\"_self\">\\r\\n        <img class=\"lazy-image\" src=\"data:image/gif;base64,R0lGODlhAQABAIAAAAAAAP///yH5BAEAAAAALAAAAAABAAEAAAIBRAA7\" alt=\"LOT DE 10 TUBES DE SERVICE BEERTENDER\" title=\"LOT DE 10 TUBES DE SERVICE BEERTENDER\" data-src=\"https://www.beerwulf.com/globalassets/fr-beertender-6-pack-tubes_1_0.png?h=282&amp;rev=1650768586\" />\\r\\n    </a>\\r\\n\\r\\n</div>\\r\\n\\r\\n\\r\\n\\r\\n                <div class=\"left-side-icons\">\\r\\n                </div>\\r\\n\\r\\n\\r\\n                <div class=\"right-side-icons\">\\r\\n                    <div class=\"badges\">\\r\\n\\r\\n                    </div>\\r\\n\\r\\n                    <div class=\"add-to-shoppinglist js-add-to-shoppinglist\" data-code=\"FR-BeerTender-6-pack-Tubes_1\">\\r\\n                        <svg role=\"img\" class=\"shoppinglist-add\">\\r\\n                            <use xlink:href=\"/static/dist/assets/img/svg.svg#icon_shoppinglist_sidebar\"></use>\\r\\n                        </svg>\\r\\n\\r\\n                        <svg role=\"img\" class=\"shoppinglist-remove\">\\r\\n                            <use xlink:href=\"/static/dist/assets/img/svg.svg#icon_shoppinglist_notification\"></use>\\r\\n                        </svg>\\r\\n                    </div>\\r\\n                </div>\\r\\n            </div>\\r\\n            <p></p>\\r\\n\\r\\n    <div class=\"price-container\" data-sku=\"FR-BeerTender-6-pack-Tubes_1\">\\r\\n                <span class=\"price\">11,99 \\xe2\\x82\\xac</span>\\r\\n        </div>\\r\\n\\r\\n            <div class=\"product-actions\">\\r\\n                    <div class=\"add-to-cart-container\">\\r\\n                            <div class=\"add-to-cart\">\\r\\n                                <button class=\"minus\">-</button>\\r\\n                                <input value=\"\" type=\"tel\" maxlength=\"3\" minlength=\"0\" data-sku=\"FR-BeerTender-6-pack-Tubes_1\">\\r\\n                                <button class=\"plus textual\" data-textual=\"Ajouter\">+</button>\\r\\n                                <button class=\"ok\">Ok</button>\\r\\n                            </div>\\r\\n                    </div>\\r\\n            </div>\\r\\n    </div>\\r\\n\\r\\n\\r\\n\\r\\n    <div data-product=\\'{\"name\":\"Affligem Blonde - F\\xc3\\xbbts de 5L\",\"id\":\"Affligem-Blond_1\",\"price\":19.460000000,\"from-price\":22.990000000,\"category\":\"Bi\\xc3\\xa8re Blonde\",\"variant\":\"Affligem-Blond-5L-Keg_1\",\"brand\":\"AFFLIGEM, Affligem Brouwerij\",\"list\":\"Beer Variation Catalog Entry Summary\",\"position\":1,\"container\":\"DraughtKeg\",\"stock\":\"2573\"}\\'\\r\\n         class=\"product beer-bottle \">\\r\\n\\r\\n            <h4>\\r\\n                <a href=\"/fr-fr/p/bieres/affligem-blonde-fut-5l\"\\r\\n                   target=\"_self\"\\r\\n                   data-action=\"product-click\">Affligem Blonde - F&#251;ts de 5L</a>\\r\\n            </h4>\\r\\n            <div class=\"images-icons-container\">\\r\\n\\r\\n\\r\\n<div class=\"image-container\">\\r\\n\\r\\n    <a href=\"/fr-fr/p/bieres/affligem-blonde-fut-5l\"\\r\\n       data-action=\"product-click\"\\r\\n       target=\"_self\">\\r\\n        <img class=\"lazy-image\" src=\"data:image/gif;base64,R0lGODlhAQABAIAAAAAAAP///yH5BAEAAAAALAAAAAABAAEAAAIBRAA7\" alt=\"Affligem Blonde - F&#251;ts de 5L\" title=\"Affligem Blonde - F&#251;ts de 5L\" data-src=\"https://www.beerwulf.com/globalassets/affligem-blond-5l-keg_1_02.png?h=282&amp;rev=1274018982\" />\\r\\n    </a>\\r\\n\\r\\n</div>\\r\\n\\r\\n\\r\\n\\r\\n                <div class=\"left-side-icons\">\\r\\n                        <div class=\"discount-tab red-tab\">\\r\\n                            -15%\\r\\n                        </div>\\r\\n                </div>\\r\\n\\r\\n                    <div class=\"free-item-icon\">\\r\\n                        <img src=\"/globalassets/icons/draught-system-icon/option-1tube_incl_-1.png?rev=1194813566\" />\\r\\n                    </div>\\r\\n\\r\\n                <div class=\"right-side-icons\">\\r\\n                    <div class=\"badges\">\\r\\n                            <div class=\"js-machine-label machine-label\" title=\"Beer Tender\">\\r\\n                                <img class=\"machine-icon\" src=\"/globalassets/icons/draught-system-icon/beertender_icon.svg?rev=1268836488\" alt=\"Beer Tender\" />\\r\\n                            </div>\\r\\n\\r\\n                            <div class=\"js-award-label award-label\" title=\"C&#39;est une bi&#232;re m&#233;daill&#233;e\">\\r\\n                                <svg role=\"img\">\\r\\n                                    <use xlink:href=\"/static/dist/assets/img/svg.svg#award-badge\"></use>\\r\\n                                </svg>\\r\\n                            </div>\\r\\n                    </div>\\r\\n\\r\\n                    <div class=\"add-to-shoppinglist js-add-to-shoppinglist\" data-code=\"Affligem-Blond-5L-Keg_1\">\\r\\n                        <svg role=\"img\" class=\"shoppinglist-add\">\\r\\n                            <use xlink:href=\"/static/dist/assets/img/svg.svg#icon_shoppinglist_sidebar\"></use>\\r\\n                        </svg>\\r\\n\\r\\n                        <svg role=\"img\" class=\"shoppinglist-remove\">\\r\\n                            <use xlink:href=\"/static/dist/assets/img/svg.svg#icon_shoppinglist_notification\"></use>\\r\\n                        </svg>\\r\\n                    </div>\\r\\n                </div>\\r\\n            </div>\\r\\n            <p>Bi&#232;re Blonde | 6,8% | 5 Litres</p>\\r\\n\\r\\n    <div class=\"price-container\" data-sku=\"Affligem-Blond-5L-Keg_1\">\\r\\n                <div class=\"discounted-price-container\">\\r\\n                    <span class=\"price from-price\">22,99 \\xe2\\x82\\xac</span>\\r\\n                    <span class=\"price\">19,46 \\xe2\\x82\\xac</span>\\r\\n                </div>\\r\\n        </div>\\r\\n\\r\\n            <div class=\"product-actions\">\\r\\n                    <div class=\"add-to-cart-container\">\\r\\n                            <div class=\"add-to-cart\">\\r\\n                                <button class=\"minus\">-</button>\\r\\n                                <input value=\"\" type=\"tel\" maxlength=\"3\" minlength=\"0\" data-sku=\"Affligem-Blond-5L-Keg_1\">\\r\\n                                <button class=\"plus textual\" data-textual=\"Ajouter\">+</button>\\r\\n                                <button class=\"ok\">Ok</button>\\r\\n                            </div>\\r\\n                    </div>\\r\\n            </div>\\r\\n    </div>\\r\\n\\r\\n\\r\\n\\r\\n    <div data-product=\\'{\"name\":\"Heineken - F\\xc3\\xbbts de 5L\",\"id\":\"Heineken-Club-Bottle_1\",\"price\":16.140000000,\"from-price\":18.990000000,\"category\":\"Lager\",\"variant\":\"Heineken-5L-Keg_1\",\"brand\":\"HEINEKEN, Heineken Brewery\",\"list\":\"Beer Variation Catalog Entry Summary\",\"position\":2,\"container\":\"DraughtKeg\",\"stock\":\"2165\"}\\'\\r\\n         class=\"product beer-bottle \">\\r\\n\\r\\n            <h4>\\r\\n                <a href=\"/fr-fr/p/bieres/heineken-fut-5l\"\\r\\n                   target=\"_self\"\\r\\n                   data-action=\"product-click\">Heineken - F&#251;ts de 5L</a>\\r\\n            </h4>\\r\\n            <div class=\"images-icons-container\">\\r\\n\\r\\n\\r\\n<div class=\"image-container\">\\r\\n\\r\\n    <a href=\"/fr-fr/p/bieres/heineken-fut-5l\"\\r\\n       data-action=\"product-click\"\\r\\n       target=\"_self\">\\r\\n        <img class=\"lazy-image\" src=\"data:image/gif;base64,R0lGODlhAQABAIAAAAAAAP///yH5BAEAAAAALAAAAAABAAEAAAIBRAA7\" alt=\"Heineken - F&#251;ts de 5L\" title=\"Heineken - F&#251;ts de 5L\" data-src=\"https://www.beerwulf.com/globalassets/heineken-5l-keg_1_3.png?h=282&amp;rev=30499969\" />\\r\\n    </a>\\r\\n\\r\\n</div>\\r\\n\\r\\n\\r\\n\\r\\n                <div class=\"left-side-icons\">\\r\\n                        <div class=\"discount-tab red-tab\">\\r\\n                            -15%\\r\\n                        </div>\\r\\n                </div>\\r\\n\\r\\n                    <div class=\"free-item-icon\">\\r\\n                        <img src=\"/globalassets/icons/draught-system-icon/option-1tube_incl_-1.png?rev=1194813566\" />\\r\\n                    </div>\\r\\n\\r\\n                <div class=\"right-side-icons\">\\r\\n                    <div class=\"badges\">\\r\\n                            <div class=\"js-machine-label machine-label\" title=\"Beer Tender\">\\r\\n                                <img class=\"machine-icon\" src=\"/globalassets/icons/draught-system-icon/beertender_icon.svg?rev=1268836488\" alt=\"Beer Tender\" />\\r\\n                            </div>\\r\\n\\r\\n                    </div>\\r\\n\\r\\n                    <div class=\"add-to-shoppinglist js-add-to-shoppinglist\" data-code=\"Heineken-5L-Keg_1\">\\r\\n                        <svg role=\"img\" class=\"shoppinglist-add\">\\r\\n                            <use xlink:href=\"/static/dist/assets/img/svg.svg#icon_shoppinglist_sidebar\"></use>\\r\\n                        </svg>\\r\\n\\r\\n                        <svg role=\"img\" class=\"shoppinglist-remove\">\\r\\n                            <use xlink:href=\"/static/dist/assets/img/svg.svg#icon_shoppinglist_notification\"></use>\\r\\n                        </svg>\\r\\n                    </div>\\r\\n                </div>\\r\\n            </div>\\r\\n            <p>Lager | 5,0% | 5 Litres</p>\\r\\n\\r\\n    <div class=\"price-container\" data-sku=\"Heineken-5L-Keg_1\">\\r\\n                <div class=\"discounted-price-container\">\\r\\n                    <span class=\"price from-price\">18,99 \\xe2\\x82\\xac</span>\\r\\n                    <span class=\"price\">16,14 \\xe2\\x82\\xac</span>\\r\\n                </div>\\r\\n        </div>\\r\\n\\r\\n            <div class=\"product-actions\">\\r\\n                    <div class=\"add-to-cart-container\">\\r\\n                            <div class=\"add-to-cart\">\\r\\n                                <button class=\"minus\">-</button>\\r\\n                                <input value=\"\" type=\"tel\" maxlength=\"3\" minlength=\"0\" data-sku=\"Heineken-5L-Keg_1\">\\r\\n                                <button class=\"plus textual\" data-textual=\"Ajouter\">+</button>\\r\\n                                <button class=\"ok\">Ok</button>\\r\\n                            </div>\\r\\n                    </div>\\r\\n            </div>\\r\\n    </div>\\r\\n\\r\\n\\r\\n\\r\\n    <div data-product=\\'{\"name\":\"Edelweiss Blanche - F\\xc3\\xbbts de 5L\",\"id\":\"Edelweiss_1\",\"price\":19.790000000,\"from-price\":21.990000000,\"category\":\"Bi\\xc3\\xa8re Blanche\",\"variant\":\"Edelweiss-Blanche---Draught-KegDraughtKeg5_15214\",\"brand\":\"EDELWEISS, Edelweiss\",\"list\":\"Beer Variation Catalog Entry Summary\",\"position\":3,\"container\":\"DraughtKeg\",\"stock\":\"1303\"}\\'\\r\\n         class=\"product beer-bottle \">\\r\\n\\r\\n            <h4>\\r\\n                <a href=\"/fr-fr/p/bieres/edelweiss-blanche-fut-5l\"\\r\\n                   target=\"_self\"\\r\\n                   data-action=\"product-click\">Edelweiss Blanche - F&#251;ts de 5L</a>\\r\\n            </h4>\\r\\n            <div class=\"images-icons-container\">\\r\\n\\r\\n\\r\\n<div class=\"image-container\">\\r\\n\\r\\n    <a href=\"/fr-fr/p/bieres/edelweiss-blanche-fut-5l\"\\r\\n       data-action=\"product-click\"\\r\\n       target=\"_self\">\\r\\n        <img class=\"lazy-image\" src=\"data:image/gif;base64,R0lGODlhAQABAIAAAAAAAP///yH5BAEAAAAALAAAAAABAAEAAAIBRAA7\" alt=\"Edelweiss Blanche - F&#251;ts de 5L\" title=\"Edelweiss Blanche - F&#251;ts de 5L\" data-src=\"https://www.beerwulf.com/globalassets/edelweiss-blanche---draught-kegdraughtkeg5_15214_1.png?h=282&amp;rev=283978837\" />\\r\\n    </a>\\r\\n\\r\\n</div>\\r\\n\\r\\n\\r\\n\\r\\n                <div class=\"left-side-icons\">\\r\\n                        <div class=\"discount-tab red-tab\">\\r\\n                            -10%\\r\\n                        </div>\\r\\n                </div>\\r\\n\\r\\n                    <div class=\"free-item-icon\">\\r\\n                        <img src=\"/globalassets/icons/draught-system-icon/option-1tube_incl_-1.png?rev=1194813566\" />\\r\\n                    </div>\\r\\n\\r\\n                <div class=\"right-side-icons\">\\r\\n                    <div class=\"badges\">\\r\\n                            <div class=\"js-machine-label machine-label\" title=\"Beer Tender\">\\r\\n                                <img class=\"machine-icon\" src=\"/globalassets/icons/draught-system-icon/beertender_icon.svg?rev=1268836488\" alt=\"Beer Tender\" />\\r\\n                            </div>\\r\\n\\r\\n                    </div>\\r\\n\\r\\n                    <div class=\"add-to-shoppinglist js-add-to-shoppinglist\" data-code=\"Edelweiss-Blanche---Draught-KegDraughtKeg5_15214\">\\r\\n                        <svg role=\"img\" class=\"shoppinglist-add\">\\r\\n                            <use xlink:href=\"/static/dist/assets/img/svg.svg#icon_shoppinglist_sidebar\"></use>\\r\\n                        </svg>\\r\\n\\r\\n                        <svg role=\"img\" class=\"shoppinglist-remove\">\\r\\n                            <use xlink:href=\"/static/dist/assets/img/svg.svg#icon_shoppinglist_notification\"></use>\\r\\n                        </svg>\\r\\n                    </div>\\r\\n                </div>\\r\\n            </div>\\r\\n            <p>Bi&#232;re Blanche | 5,0% | 5 Litres</p>\\r\\n\\r\\n    <div class=\"price-container\" data-sku=\"Edelweiss-Blanche---Draught-KegDraughtKeg5_15214\">\\r\\n                <div class=\"discounted-price-container\">\\r\\n                    <span class=\"price from-price\">21,99 \\xe2\\x82\\xac</span>\\r\\n                    <span class=\"price\">19,79 \\xe2\\x82\\xac</span>\\r\\n                </div>\\r\\n        </div>\\r\\n\\r\\n            <div class=\"product-actions\">\\r\\n                    <div class=\"add-to-cart-container\">\\r\\n                            <div class=\"add-to-cart\">\\r\\n                                <button class=\"minus\">-</button>\\r\\n                                <input value=\"\" type=\"tel\" maxlength=\"3\" minlength=\"0\" data-sku=\"Edelweiss-Blanche---Draught-KegDraughtKeg5_15214\">\\r\\n                                <button class=\"plus textual\" data-textual=\"Ajouter\">+</button>\\r\\n                                <button class=\"ok\">Ok</button>\\r\\n                            </div>\\r\\n                    </div>\\r\\n            </div>\\r\\n    </div>\\r\\n            </div>\\r\\n        </div>\\r\\n    </div>\\r\\n</div>\\r\\n\\r\\n</div><div class=\"single-content-row\"><div class=\"row columns\">\\r\\n    <div class=\"small-12\">\\r\\n        <div class=\"title-with-text\">          \\r\\n                <h3>D&#233;couvrez les f&#251;ts The SUB (2L)</h3>\\r\\n            <a href=\"/fr-fr/c?q=torps&amp;type=0&amp;catalogCode=&amp;sort=pricedesc&amp;page=1\"><span>Voir tous les f&#251;ts The SUB</span></a>                \\r\\n        </div>\\r\\n    </div>\\r\\n</div>\\r\\n</div><div class=\"single-content-row\">\\r\\n\\r\\n<div class=\"row product-overview-container\">\\r\\n    <div class=\"small-12 columns\">\\r\\n\\r\\n        <div class=\"products\">\\r\\n            <div class=\"product-items-container static-shelf\">\\r\\n\\r\\n\\r\\n\\r\\n    <div data-product=\\'{\"name\":\"Lagunitas IPA - F\\xc3\\xbbt The SUB\",\"id\":\"Lagunitas-IPA_1\",\"price\":11.990000000,\"from-price\":15.990000000,\"category\":\"IPA\",\"variant\":\"Lagunitas-IPA-2L-keg_1\",\"brand\":\"LAGUNITAS, Lagunitas Brewing Company\",\"list\":\"Beer Variation Catalog Entry Summary\",\"position\":1,\"container\":\"Torp\",\"stock\":\"736\"}\\'\\r\\n         class=\"product beer-bottle \">\\r\\n\\r\\n            <h4>\\r\\n                <a href=\"/fr-fr/p/bieres/lagunitas-ipa-fut-2l\"\\r\\n                   target=\"_self\"\\r\\n                   data-action=\"product-click\">Lagunitas IPA - F&#251;t The SUB</a>\\r\\n            </h4>\\r\\n            <div class=\"images-icons-container\">\\r\\n\\r\\n\\r\\n<div class=\"image-container\">\\r\\n\\r\\n    <a href=\"/fr-fr/p/bieres/lagunitas-ipa-fut-2l\"\\r\\n       data-action=\"product-click\"\\r\\n       target=\"_self\">\\r\\n        <img class=\"lazy-image\" src=\"data:image/gif;base64,R0lGODlhAQABAIAAAAAAAP///yH5BAEAAAAALAAAAAABAAEAAAIBRAA7\" alt=\"Lagunitas IPA - F&#251;t The SUB\" title=\"Lagunitas IPA - F&#251;t The SUB\" data-src=\"https://www.beerwulf.com/globalassets/lagunitas-ipa-2l-keg_1_02.png?h=282&amp;rev=1035315787\" />\\r\\n    </a>\\r\\n\\r\\n</div>\\r\\n\\r\\n\\r\\n\\r\\n                <div class=\"left-side-icons\">\\r\\n                        <div class=\"discount-tab red-tab\">\\r\\n                            -25%\\r\\n                        </div>\\r\\n                </div>\\r\\n\\r\\n\\r\\n                <div class=\"right-side-icons\">\\r\\n                    <div class=\"badges\">\\r\\n                            <div class=\"js-machine-label machine-label\" title=\"Sub\">\\r\\n                                <img class=\"machine-icon\" src=\"/globalassets/icons/draught-system-icon/sub_icon.svg?rev=1695722248\" alt=\"Sub\" />\\r\\n                            </div>\\r\\n\\r\\n                    </div>\\r\\n\\r\\n                    <div class=\"add-to-shoppinglist js-add-to-shoppinglist\" data-code=\"Lagunitas-IPA-2L-keg_1\">\\r\\n                        <svg role=\"img\" class=\"shoppinglist-add\">\\r\\n                            <use xlink:href=\"/static/dist/assets/img/svg.svg#icon_shoppinglist_sidebar\"></use>\\r\\n                        </svg>\\r\\n\\r\\n                        <svg role=\"img\" class=\"shoppinglist-remove\">\\r\\n                            <use xlink:href=\"/static/dist/assets/img/svg.svg#icon_shoppinglist_notification\"></use>\\r\\n                        </svg>\\r\\n                    </div>\\r\\n                </div>\\r\\n            </div>\\r\\n            <p>IPA | 6,2% | 2 Litres</p>\\r\\n\\r\\n    <div class=\"price-container\" data-sku=\"Lagunitas-IPA-2L-keg_1\">\\r\\n                <div class=\"discounted-price-container\">\\r\\n                    <span class=\"price from-price\">15,99 \\xe2\\x82\\xac</span>\\r\\n                    <span class=\"price\">11,99 \\xe2\\x82\\xac</span>\\r\\n                </div>\\r\\n        </div>\\r\\n\\r\\n            <div class=\"product-actions\">\\r\\n                    <div class=\"add-to-cart-container\">\\r\\n                            <div class=\"add-to-cart\">\\r\\n                                <button class=\"minus\">-</button>\\r\\n                                <input value=\"\" type=\"tel\" maxlength=\"3\" minlength=\"0\" data-sku=\"Lagunitas-IPA-2L-keg_1\">\\r\\n                                <button class=\"plus textual\" data-textual=\"Ajouter\">+</button>\\r\\n                                <button class=\"ok\">Ok</button>\\r\\n                            </div>\\r\\n                    </div>\\r\\n            </div>\\r\\n    </div>\\r\\n\\r\\n\\r\\n\\r\\n    <div data-product=\\'{\"name\":\"Fourpure Easy Peeler - F\\xc3\\xbbt The SUB\",\"id\":\"Fourpure-Easy-Peeler-Session-IPA_1\",\"price\":13.190000000,\"from-price\":16.490000000,\"category\":\"IPA\",\"variant\":\"Fourpure-Easy-Peeler---SUB-Keg_Beer_15762\",\"brand\":\"FOURPURE, Fourpure\",\"list\":\"Beer Variation Catalog Entry Summary\",\"position\":2,\"container\":\"Torp\",\"stock\":\"791\"}\\'\\r\\n         class=\"product beer-bottle \">\\r\\n\\r\\n            <h4>\\r\\n                <a href=\"/fr-fr/p/bieres/fourpure-easy-peeler-fut-2l\"\\r\\n                   target=\"_self\"\\r\\n                   data-action=\"product-click\">Fourpure Easy Peeler - F&#251;t The SUB</a>\\r\\n            </h4>\\r\\n            <div class=\"images-icons-container\">\\r\\n\\r\\n\\r\\n<div class=\"image-container\">\\r\\n\\r\\n    <a href=\"/fr-fr/p/bieres/fourpure-easy-peeler-fut-2l\"\\r\\n       data-action=\"product-click\"\\r\\n       target=\"_self\">\\r\\n        <img class=\"lazy-image\" src=\"data:image/gif;base64,R0lGODlhAQABAIAAAAAAAP///yH5BAEAAAAALAAAAAABAAEAAAIBRAA7\" alt=\"Fourpure Easy Peeler - F&#251;t The SUB\" title=\"Fourpure Easy Peeler - F&#251;t The SUB\" data-src=\"https://www.beerwulf.com/globalassets/fourpure-easy-peeler---sub-keg_beer_15762_0.png?h=282&amp;rev=1756341308\" />\\r\\n    </a>\\r\\n\\r\\n</div>\\r\\n\\r\\n\\r\\n\\r\\n                <div class=\"left-side-icons\">\\r\\n                        <div class=\"discount-tab red-tab\">\\r\\n                            -20%\\r\\n                        </div>\\r\\n                </div>\\r\\n\\r\\n\\r\\n                <div class=\"right-side-icons\">\\r\\n                    <div class=\"badges\">\\r\\n                            <div class=\"js-machine-label machine-label\" title=\"Sub\">\\r\\n                                <img class=\"machine-icon\" src=\"/globalassets/icons/draught-system-icon/sub_icon.svg?rev=1695722248\" alt=\"Sub\" />\\r\\n                            </div>\\r\\n\\r\\n                    </div>\\r\\n\\r\\n                    <div class=\"add-to-shoppinglist js-add-to-shoppinglist\" data-code=\"Fourpure-Easy-Peeler---SUB-Keg_Beer_15762\">\\r\\n                        <svg role=\"img\" class=\"shoppinglist-add\">\\r\\n                            <use xlink:href=\"/static/dist/assets/img/svg.svg#icon_shoppinglist_sidebar\"></use>\\r\\n                        </svg>\\r\\n\\r\\n                        <svg role=\"img\" class=\"shoppinglist-remove\">\\r\\n                            <use xlink:href=\"/static/dist/assets/img/svg.svg#icon_shoppinglist_notification\"></use>\\r\\n                        </svg>\\r\\n                    </div>\\r\\n                </div>\\r\\n            </div>\\r\\n            <p>IPA | 4,0% | 2 Litres</p>\\r\\n\\r\\n    <div class=\"price-container\" data-sku=\"Fourpure-Easy-Peeler---SUB-Keg_Beer_15762\">\\r\\n                <div class=\"discounted-price-container\">\\r\\n                    <span class=\"price from-price\">16,49 \\xe2\\x82\\xac</span>\\r\\n                    <span class=\"price\">13,19 \\xe2\\x82\\xac</span>\\r\\n                </div>\\r\\n        </div>\\r\\n\\r\\n            <div class=\"product-actions\">\\r\\n                    <div class=\"add-to-cart-container\">\\r\\n                            <div class=\"add-to-cart\">\\r\\n                                <button class=\"minus\">-</button>\\r\\n                                <input value=\"\" type=\"tel\" maxlength=\"3\" minlength=\"0\" data-sku=\"Fourpure-Easy-Peeler---SUB-Keg_Beer_15762\">\\r\\n                                <button class=\"plus textual\" data-textual=\"Ajouter\">+</button>\\r\\n                                <button class=\"ok\">Ok</button>\\r\\n                            </div>\\r\\n                    </div>\\r\\n            </div>\\r\\n    </div>\\r\\n\\r\\n\\r\\n\\r\\n    <div data-product=\\'{\"name\":\"Fourpure Hemisphere Session IPA - F\\xc3\\xbbt The SUB\",\"id\":\"Fourpure-Session-IPA_1\",\"price\":13.590000000,\"from-price\":16.990000000,\"category\":\"IPA\",\"variant\":\"Fourpure-Session-IPA-2L-Keg_1\",\"brand\":\"FOURPURE, Fourpure\",\"list\":\"Beer Variation Catalog Entry Summary\",\"position\":3,\"container\":\"Torp\",\"stock\":\"3166\"}\\'\\r\\n         class=\"product beer-bottle \">\\r\\n\\r\\n            <h4>\\r\\n                <a href=\"/fr-fr/p/bieres/hemisphere-session-ipa-fut-2l\"\\r\\n                   target=\"_self\"\\r\\n                   data-action=\"product-click\">Fourpure Hemisphere Session IPA - F&#251;t The SUB</a>\\r\\n            </h4>\\r\\n            <div class=\"images-icons-container\">\\r\\n\\r\\n\\r\\n<div class=\"image-container\">\\r\\n\\r\\n    <a href=\"/fr-fr/p/bieres/hemisphere-session-ipa-fut-2l\"\\r\\n       data-action=\"product-click\"\\r\\n       target=\"_self\">\\r\\n        <img class=\"lazy-image\" src=\"data:image/gif;base64,R0lGODlhAQABAIAAAAAAAP///yH5BAEAAAAALAAAAAABAAEAAAIBRAA7\" alt=\"Fourpure Hemisphere Session IPA - F&#251;t The SUB\" title=\"Fourpure Hemisphere Session IPA - F&#251;t The SUB\" data-src=\"https://www.beerwulf.com/globalassets/fourpure-session-ipa-2l-keg_1_02.png?h=282&amp;rev=1337864330\" />\\r\\n    </a>\\r\\n\\r\\n</div>\\r\\n\\r\\n\\r\\n\\r\\n                <div class=\"left-side-icons\">\\r\\n                        <div class=\"discount-tab red-tab\">\\r\\n                            -20%\\r\\n                        </div>\\r\\n                </div>\\r\\n\\r\\n\\r\\n                <div class=\"right-side-icons\">\\r\\n                    <div class=\"badges\">\\r\\n                            <div class=\"js-machine-label machine-label\" title=\"Sub\">\\r\\n                                <img class=\"machine-icon\" src=\"/globalassets/icons/draught-system-icon/sub_icon.svg?rev=1695722248\" alt=\"Sub\" />\\r\\n                            </div>\\r\\n\\r\\n                            <div class=\"js-award-label award-label\" title=\"C&#39;est une bi&#232;re m&#233;daill&#233;e\">\\r\\n                                <svg role=\"img\">\\r\\n                                    <use xlink:href=\"/static/dist/assets/img/svg.svg#award-badge\"></use>\\r\\n                                </svg>\\r\\n                            </div>\\r\\n                    </div>\\r\\n\\r\\n                    <div class=\"add-to-shoppinglist js-add-to-shoppinglist\" data-code=\"Fourpure-Session-IPA-2L-Keg_1\">\\r\\n                        <svg role=\"img\" class=\"shoppinglist-add\">\\r\\n                            <use xlink:href=\"/static/dist/assets/img/svg.svg#icon_shoppinglist_sidebar\"></use>\\r\\n                        </svg>\\r\\n\\r\\n                        <svg role=\"img\" class=\"shoppinglist-remove\">\\r\\n                            <use xlink:href=\"/static/dist/assets/img/svg.svg#icon_shoppinglist_notification\"></use>\\r\\n                        </svg>\\r\\n                    </div>\\r\\n                </div>\\r\\n            </div>\\r\\n            <p>IPA | 4,2% | 2 Litres</p>\\r\\n\\r\\n    <div class=\"price-container\" data-sku=\"Fourpure-Session-IPA-2L-Keg_1\">\\r\\n                <div class=\"discounted-price-container\">\\r\\n                    <span class=\"price from-price\">16,99 \\xe2\\x82\\xac</span>\\r\\n                    <span class=\"price\">13,59 \\xe2\\x82\\xac</span>\\r\\n                </div>\\r\\n        </div>\\r\\n\\r\\n            <div class=\"product-actions\">\\r\\n                    <div class=\"add-to-cart-container\">\\r\\n                            <div class=\"add-to-cart\">\\r\\n                                <button class=\"minus\">-</button>\\r\\n                                <input value=\"\" type=\"tel\" maxlength=\"3\" minlength=\"0\" data-sku=\"Fourpure-Session-IPA-2L-Keg_1\">\\r\\n                                <button class=\"plus textual\" data-textual=\"Ajouter\">+</button>\\r\\n                                <button class=\"ok\">Ok</button>\\r\\n                            </div>\\r\\n                    </div>\\r\\n            </div>\\r\\n    </div>\\r\\n\\r\\n\\r\\n\\r\\n    <div data-product=\\'{\"name\":\"La Cristal IPA du Mont Blanc - F\\xc3\\xbbt The SUB\",\"id\":\"La-Cristal-IPA-du-Mont-Blanc_1\",\"price\":14.390000000,\"from-price\":17.990000000,\"category\":\"IPA\",\"variant\":\"La-Cristal-IPA-du-Mont-Blanc-TORP---2L-keg_1\",\"brand\":\"BRASSERIE DU MONT BLANC, Brasserie Du Mont Blanc\",\"list\":\"Beer Variation Catalog Entry Summary\",\"position\":4,\"container\":\"Torp\",\"stock\":\"619\"}\\'\\r\\n         class=\"product beer-bottle \">\\r\\n\\r\\n            <h4>\\r\\n                <a href=\"/fr-fr/p/bieres/la-cristal-ipa-du-mont-blanc-fut-2l\"\\r\\n                   target=\"_self\"\\r\\n                   data-action=\"product-click\">La Cristal IPA du Mont Blanc - F&#251;t The SUB</a>\\r\\n            </h4>\\r\\n            <div class=\"images-icons-container\">\\r\\n\\r\\n\\r\\n<div class=\"image-container\">\\r\\n\\r\\n    <a href=\"/fr-fr/p/bieres/la-cristal-ipa-du-mont-blanc-fut-2l\"\\r\\n       data-action=\"product-click\"\\r\\n       target=\"_self\">\\r\\n        <img class=\"lazy-image\" src=\"data:image/gif;base64,R0lGODlhAQABAIAAAAAAAP///yH5BAEAAAAALAAAAAABAAEAAAIBRAA7\" alt=\"La Cristal IPA du Mont Blanc - F&#251;t The SUB\" title=\"La Cristal IPA du Mont Blanc - F&#251;t The SUB\" data-src=\"https://www.beerwulf.com/globalassets/la-cristal-ipa-du-mont-blanc-torp---2l-keg_1_1.png?h=282&amp;rev=214338294\" />\\r\\n    </a>\\r\\n\\r\\n</div>\\r\\n\\r\\n\\r\\n\\r\\n                <div class=\"left-side-icons\">\\r\\n                        <div class=\"discount-tab red-tab\">\\r\\n                            -20%\\r\\n                        </div>\\r\\n                </div>\\r\\n\\r\\n\\r\\n                <div class=\"right-side-icons\">\\r\\n                    <div class=\"badges\">\\r\\n                            <div class=\"js-machine-label machine-label\" title=\"Sub\">\\r\\n                                <img class=\"machine-icon\" src=\"/globalassets/icons/draught-system-icon/sub_icon.svg?rev=1695722248\" alt=\"Sub\" />\\r\\n                            </div>\\r\\n\\r\\n                            <div class=\"js-award-label award-label\" title=\"C&#39;est une bi&#232;re m&#233;daill&#233;e\">\\r\\n                                <svg role=\"img\">\\r\\n                                    <use xlink:href=\"/static/dist/assets/img/svg.svg#award-badge\"></use>\\r\\n                                </svg>\\r\\n                            </div>\\r\\n                    </div>\\r\\n\\r\\n                    <div class=\"add-to-shoppinglist js-add-to-shoppinglist\" data-code=\"La-Cristal-IPA-du-Mont-Blanc-TORP---2L-keg_1\">\\r\\n                        <svg role=\"img\" class=\"shoppinglist-add\">\\r\\n                            <use xlink:href=\"/static/dist/assets/img/svg.svg#icon_shoppinglist_sidebar\"></use>\\r\\n                        </svg>\\r\\n\\r\\n                        <svg role=\"img\" class=\"shoppinglist-remove\">\\r\\n                            <use xlink:href=\"/static/dist/assets/img/svg.svg#icon_shoppinglist_notification\"></use>\\r\\n                        </svg>\\r\\n                    </div>\\r\\n                </div>\\r\\n            </div>\\r\\n            <p>IPA | 4,7% | 2 Litres</p>\\r\\n\\r\\n    <div class=\"price-container\" data-sku=\"La-Cristal-IPA-du-Mont-Blanc-TORP---2L-keg_1\">\\r\\n                <div class=\"discounted-price-container\">\\r\\n                    <span class=\"price from-price\">17,99 \\xe2\\x82\\xac</span>\\r\\n                    <span class=\"price\">14,39 \\xe2\\x82\\xac</span>\\r\\n                </div>\\r\\n        </div>\\r\\n\\r\\n            <div class=\"product-actions\">\\r\\n                    <div class=\"add-to-cart-container\">\\r\\n                            <div class=\"add-to-cart\">\\r\\n                                <button class=\"minus\">-</button>\\r\\n                                <input value=\"\" type=\"tel\" maxlength=\"3\" minlength=\"0\" data-sku=\"La-Cristal-IPA-du-Mont-Blanc-TORP---2L-keg_1\">\\r\\n                                <button class=\"plus textual\" data-textual=\"Ajouter\">+</button>\\r\\n                                <button class=\"ok\">Ok</button>\\r\\n                            </div>\\r\\n                    </div>\\r\\n            </div>\\r\\n    </div>\\r\\n            </div>\\r\\n        </div>\\r\\n    </div>\\r\\n</div>\\r\\n\\r\\n</div><div class=\"single-content-row\">  <div class=\"homepage-banner website-banner contained-banner\">\\r\\n    \\r\\n\\r\\n<div class=\"row\">\\r\\n    <div class=\"small-12 columns\">\\r\\n        <div class=\"desktop-banner banner-image-container lazy-bg-image\" data-bg=\"url(https://www.beerwulf.com/fr-fr/SysSiteAssets/homepage-header--theme-tiles/home-draught/homedraught_assortment_ld.jpg?rev=1142293166)\">\\r\\n        </div>\\r\\n        <div class=\"mobile-banner banner-image-container lazy-bg-image\" data-bg=\"url(https://www.beerwulf.com/fr-fr/SysSiteAssets/homepage-header--theme-tiles/home-draught/homedraught_assortment_m.jpg?rev=1336499246)\">\\r\\n        </div>\\r\\n        <div class=\"banner-content light-theme middle-center\" style=\"max-width:100%\">\\r\\n                <h3>LA BI&#200;RE PRESSION &#192; DOMICILE</h3>\\r\\n            <p>D&#233;couvrez tout ce que vous devez savoir sur la bi&#232;re pression &#224; domicile</p>\\r\\n                <div class=\"banner-cta\">\\r\\n                    <a href=\"/fr-fr/la-biere-pression-a-domicile\" class=\"button  \">\\r\\n                        JE D&#201;COUVRE\\r\\n                    </a>\\r\\n                </div>\\r\\n        </div>\\r\\n    </div>\\r\\n</div>\\r\\n  </div>\\r\\n</div><div class=\"single-content-row\"><div class=\"row columns\">\\r\\n    <div class=\"small-12\">\\r\\n        <div class=\"title-with-text\">          \\r\\n                <h3>D&#233;couvrez nos bi&#232;res</h3>\\r\\n            <a href=\"/fr-fr/c/bieres\"><span>Voir toutes les bi&#232;res</span></a>                \\r\\n        </div>\\r\\n    </div>\\r\\n</div>\\r\\n</div><div class=\"single-content-row\">\\r\\n\\r\\n<div class=\"row product-overview-container\">\\r\\n    <div class=\"small-12 columns\">\\r\\n\\r\\n        <div class=\"products\">\\r\\n            <div class=\"product-items-container static-shelf\">\\r\\n\\r\\n\\r\\n\\r\\n    <div data-product=\\'{\"name\":\"Tsingtao\",\"id\":\"Tsingtao_1\",\"price\":1.792500000,\"from-price\":null,\"category\":\"Lager\",\"variant\":\"Tsingtao.33_1\",\"brand\":\"TSINGTAO BREWERY, Tsingtao Brewery\",\"list\":\"Beer Variation Catalog Entry Summary\",\"position\":1,\"container\":\"Bottle\",\"stock\":\"1614\"}\\'\\r\\n         class=\"product beer-bottle \">\\r\\n\\r\\n            <h4>\\r\\n                <a href=\"/fr-fr/p/bieres/tsingtao.33\"\\r\\n                   target=\"_self\"\\r\\n                   data-action=\"product-click\">Tsingtao</a>\\r\\n            </h4>\\r\\n            <div class=\"images-icons-container\">\\r\\n\\r\\n\\r\\n<div class=\"image-container\">\\r\\n\\r\\n    <a href=\"/fr-fr/p/bieres/tsingtao.33\"\\r\\n       data-action=\"product-click\"\\r\\n       target=\"_self\">\\r\\n        <img class=\"lazy-image\" src=\"data:image/gif;base64,R0lGODlhAQABAIAAAAAAAP///yH5BAEAAAAALAAAAAABAAEAAAIBRAA7\" alt=\"Tsingtao\" title=\"Tsingtao\" data-src=\"https://www.beerwulf.com/globalassets/tsingtao.33_1_1.png?h=282&amp;rev=675127255\" />\\r\\n    </a>\\r\\n\\r\\n</div>\\r\\n\\r\\n\\r\\n\\r\\n                <div class=\"left-side-icons\">\\r\\n                        <div class=\"discount-tab red-tab\">\\r\\n                            -25%\\r\\n                        </div>\\r\\n                </div>\\r\\n\\r\\n\\r\\n                <div class=\"right-side-icons\">\\r\\n                    <div class=\"badges\">\\r\\n\\r\\n                            <div class=\"js-award-label award-label\" title=\"C&#39;est une bi&#232;re m&#233;daill&#233;e\">\\r\\n                                <svg role=\"img\">\\r\\n                                    <use xlink:href=\"/static/dist/assets/img/svg.svg#award-badge\"></use>\\r\\n                                </svg>\\r\\n                            </div>\\r\\n                    </div>\\r\\n\\r\\n                    <div class=\"add-to-shoppinglist js-add-to-shoppinglist\" data-code=\"Tsingtao.33_1\">\\r\\n                        <svg role=\"img\" class=\"shoppinglist-add\">\\r\\n                            <use xlink:href=\"/static/dist/assets/img/svg.svg#icon_shoppinglist_sidebar\"></use>\\r\\n                        </svg>\\r\\n\\r\\n                        <svg role=\"img\" class=\"shoppinglist-remove\">\\r\\n                            <use xlink:href=\"/static/dist/assets/img/svg.svg#icon_shoppinglist_notification\"></use>\\r\\n                        </svg>\\r\\n                    </div>\\r\\n                </div>\\r\\n            </div>\\r\\n            <p>Lager | 4,7% | 33 cl</p>\\r\\n\\r\\n    <div class=\"price-container\" data-sku=\"Tsingtao.33_1\">\\r\\n                <div class=\"discounted-price-container\">\\r\\n                    <span class=\"price from-price\">2,39 \\xe2\\x82\\xac</span>\\r\\n                    <span class=\"price\">1,79 \\xe2\\x82\\xac</span>\\r\\n                </div>\\r\\n        </div>\\r\\n\\r\\n            <div class=\"product-actions\">\\r\\n                    <div class=\"add-to-cart-container\">\\r\\n                            <div class=\"add-to-cart\">\\r\\n                                <button class=\"minus\">-</button>\\r\\n                                <input value=\"\" type=\"tel\" maxlength=\"3\" minlength=\"0\" data-sku=\"Tsingtao.33_1\">\\r\\n                                <button class=\"plus textual\" data-textual=\"Ajouter\">+</button>\\r\\n                                <button class=\"ok\">Ok</button>\\r\\n                            </div>\\r\\n                    </div>\\r\\n            </div>\\r\\n    </div>\\r\\n\\r\\n\\r\\n\\r\\n    <div data-product=\\'{\"name\":\"De Leckere Rode Toren\",\"id\":\"De-Leckere-Rode-Toren_1\",\"price\":2.017500000,\"from-price\":null,\"category\":\"Bi\\xc3\\xa8re Bock\",\"variant\":\"De-Leckere-Rode-Toren.25_1\",\"brand\":\"DE LECKERE, Brouwerij De Leckere\",\"list\":\"Beer Variation Catalog Entry Summary\",\"position\":2,\"container\":\"Bottle\",\"stock\":\"117\"}\\'\\r\\n         class=\"product beer-bottle \">\\r\\n\\r\\n            <h4>\\r\\n                <a href=\"/fr-fr/p/bieres/de-leckere-rode-toren2\"\\r\\n                   target=\"_self\"\\r\\n                   data-action=\"product-click\">De Leckere Rode Toren</a>\\r\\n            </h4>\\r\\n            <div class=\"images-icons-container\">\\r\\n\\r\\n\\r\\n<div class=\"image-container\">\\r\\n\\r\\n    <a href=\"/fr-fr/p/bieres/de-leckere-rode-toren2\"\\r\\n       data-action=\"product-click\"\\r\\n       target=\"_self\">\\r\\n        <img class=\"lazy-image\" src=\"data:image/gif;base64,R0lGODlhAQABAIAAAAAAAP///yH5BAEAAAAALAAAAAABAAEAAAIBRAA7\" alt=\"De Leckere Rode Toren\" title=\"De Leckere Rode Toren\" data-src=\"https://www.beerwulf.com/globalassets/de-leckere-rode-toren.25_1_1.png?h=282&amp;rev=1511894485\" />\\r\\n    </a>\\r\\n\\r\\n</div>\\r\\n\\r\\n\\r\\n\\r\\n                <div class=\"left-side-icons\">\\r\\n                        <div class=\"discount-tab red-tab\">\\r\\n                            -25%\\r\\n                        </div>\\r\\n                </div>\\r\\n\\r\\n\\r\\n                <div class=\"right-side-icons\">\\r\\n                    <div class=\"badges\">\\r\\n\\r\\n                    </div>\\r\\n\\r\\n                    <div class=\"add-to-shoppinglist js-add-to-shoppinglist\" data-code=\"De-Leckere-Rode-Toren.25_1\">\\r\\n                        <svg role=\"img\" class=\"shoppinglist-add\">\\r\\n                            <use xlink:href=\"/static/dist/assets/img/svg.svg#icon_shoppinglist_sidebar\"></use>\\r\\n                        </svg>\\r\\n\\r\\n                        <svg role=\"img\" class=\"shoppinglist-remove\">\\r\\n                            <use xlink:href=\"/static/dist/assets/img/svg.svg#icon_shoppinglist_notification\"></use>\\r\\n                        </svg>\\r\\n                    </div>\\r\\n                </div>\\r\\n            </div>\\r\\n            <p>Bi&#232;re Bock | 6,5% | 25 cl</p>\\r\\n\\r\\n    <div class=\"price-container\" data-sku=\"De-Leckere-Rode-Toren.25_1\">\\r\\n                <div class=\"discounted-price-container\">\\r\\n                    <span class=\"price from-price\">2,69 \\xe2\\x82\\xac</span>\\r\\n                    <span class=\"price\">2,02 \\xe2\\x82\\xac</span>\\r\\n                </div>\\r\\n        </div>\\r\\n\\r\\n            <div class=\"product-actions\">\\r\\n                    <div class=\"add-to-cart-container\">\\r\\n                            <div class=\"add-to-cart\">\\r\\n                                <button class=\"minus\">-</button>\\r\\n                                <input value=\"\" type=\"tel\" maxlength=\"3\" minlength=\"0\" data-sku=\"De-Leckere-Rode-Toren.25_1\">\\r\\n                                <button class=\"plus textual\" data-textual=\"Ajouter\">+</button>\\r\\n                                <button class=\"ok\">Ok</button>\\r\\n                            </div>\\r\\n                    </div>\\r\\n            </div>\\r\\n    </div>\\r\\n\\r\\n\\r\\n\\r\\n    <div data-product=\\'{\"name\":\"Texels Bock\",\"id\":\"Texels-Bock_1\",\"price\":2.092500000,\"from-price\":null,\"category\":\"Bi\\xc3\\xa8re Bock\",\"variant\":\"Texels-Bock3_1\",\"brand\":\"TEXELS, Texelse Bierbrouwerij\",\"list\":\"Beer Variation Catalog Entry Summary\",\"position\":3,\"container\":\"Bottle\",\"stock\":\"466\"}\\'\\r\\n         class=\"product beer-bottle \">\\r\\n\\r\\n            <h4>\\r\\n                <a href=\"/fr-fr/p/bieres/texels-bock.3\"\\r\\n                   target=\"_self\"\\r\\n                   data-action=\"product-click\">Texels Bock</a>\\r\\n            </h4>\\r\\n            <div class=\"images-icons-container\">\\r\\n\\r\\n\\r\\n<div class=\"image-container\">\\r\\n\\r\\n    <a href=\"/fr-fr/p/bieres/texels-bock.3\"\\r\\n       data-action=\"product-click\"\\r\\n       target=\"_self\">\\r\\n        <img class=\"lazy-image\" src=\"data:image/gif;base64,R0lGODlhAQABAIAAAAAAAP///yH5BAEAAAAALAAAAAABAAEAAAIBRAA7\" alt=\"Texels Bock\" title=\"Texels Bock\" data-src=\"https://www.beerwulf.com/globalassets/texels-bock3_1_1.png?h=282&amp;rev=1334390874\" />\\r\\n    </a>\\r\\n\\r\\n</div>\\r\\n\\r\\n\\r\\n\\r\\n                <div class=\"left-side-icons\">\\r\\n                        <div class=\"discount-tab red-tab\">\\r\\n                            -25%\\r\\n                        </div>\\r\\n                </div>\\r\\n\\r\\n\\r\\n                <div class=\"right-side-icons\">\\r\\n                    <div class=\"badges\">\\r\\n\\r\\n                    </div>\\r\\n\\r\\n                    <div class=\"add-to-shoppinglist js-add-to-shoppinglist\" data-code=\"Texels-Bock3_1\">\\r\\n                        <svg role=\"img\" class=\"shoppinglist-add\">\\r\\n                            <use xlink:href=\"/static/dist/assets/img/svg.svg#icon_shoppinglist_sidebar\"></use>\\r\\n                        </svg>\\r\\n\\r\\n                        <svg role=\"img\" class=\"shoppinglist-remove\">\\r\\n                            <use xlink:href=\"/static/dist/assets/img/svg.svg#icon_shoppinglist_notification\"></use>\\r\\n                        </svg>\\r\\n                    </div>\\r\\n                </div>\\r\\n            </div>\\r\\n            <p>Bi&#232;re Bock | 7,0% | 30 cl</p>\\r\\n\\r\\n    <div class=\"price-container\" data-sku=\"Texels-Bock3_1\">\\r\\n                <div class=\"discounted-price-container\">\\r\\n                    <span class=\"price from-price\">2,79 \\xe2\\x82\\xac</span>\\r\\n                    <span class=\"price\">2,09 \\xe2\\x82\\xac</span>\\r\\n                </div>\\r\\n        </div>\\r\\n\\r\\n            <div class=\"product-actions\">\\r\\n                    <div class=\"add-to-cart-container\">\\r\\n                            <div class=\"add-to-cart\">\\r\\n                                <button class=\"minus\">-</button>\\r\\n                                <input value=\"\" type=\"tel\" maxlength=\"3\" minlength=\"0\" data-sku=\"Texels-Bock3_1\">\\r\\n                                <button class=\"plus textual\" data-textual=\"Ajouter\">+</button>\\r\\n                                <button class=\"ok\">Ok</button>\\r\\n                            </div>\\r\\n                    </div>\\r\\n            </div>\\r\\n    </div>\\r\\n\\r\\n\\r\\n\\r\\n    <div data-product=\\'{\"name\":\"Bronckhorster Ijsselbock\",\"id\":\"Bronckhorster-Ijsselbock_1\",\"price\":3.141000000,\"from-price\":null,\"category\":\"Bi\\xc3\\xa8re Bock\",\"variant\":\"Bronckhorster-Ijsselbock33_1\",\"brand\":\"BRONCKHORSTER, Bronckhorster Brewing Company\",\"list\":\"Beer Variation Catalog Entry Summary\",\"position\":4,\"container\":\"Bottle\",\"stock\":\"375\"}\\'\\r\\n         class=\"product beer-bottle \">\\r\\n\\r\\n            <h4>\\r\\n                <a href=\"/fr-fr/p/bieres/bronckhorster-ijsselbock.33\"\\r\\n                   target=\"_self\"\\r\\n                   data-action=\"product-click\">Bronckhorster Ijsselbock</a>\\r\\n            </h4>\\r\\n            <div class=\"images-icons-container\">\\r\\n\\r\\n\\r\\n<div class=\"image-container\">\\r\\n\\r\\n    <a href=\"/fr-fr/p/bieres/bronckhorster-ijsselbock.33\"\\r\\n       data-action=\"product-click\"\\r\\n       target=\"_self\">\\r\\n        <img class=\"lazy-image\" src=\"data:image/gif;base64,R0lGODlhAQABAIAAAAAAAP///yH5BAEAAAAALAAAAAABAAEAAAIBRAA7\" alt=\"Bronckhorster Ijsselbock\" title=\"Bronckhorster Ijsselbock\" data-src=\"https://www.beerwulf.com/globalassets/bronckhorster-ijsselbock33_1_1.png?h=282&amp;rev=1263283344\" />\\r\\n    </a>\\r\\n\\r\\n</div>\\r\\n\\r\\n\\r\\n\\r\\n                <div class=\"left-side-icons\">\\r\\n                        <div class=\"discount-tab red-tab\">\\r\\n                            -10%\\r\\n                        </div>\\r\\n                </div>\\r\\n\\r\\n\\r\\n                <div class=\"right-side-icons\">\\r\\n                    <div class=\"badges\">\\r\\n\\r\\n                    </div>\\r\\n\\r\\n                    <div class=\"add-to-shoppinglist js-add-to-shoppinglist\" data-code=\"Bronckhorster-Ijsselbock33_1\">\\r\\n                        <svg role=\"img\" class=\"shoppinglist-add\">\\r\\n                            <use xlink:href=\"/static/dist/assets/img/svg.svg#icon_shoppinglist_sidebar\"></use>\\r\\n                        </svg>\\r\\n\\r\\n                        <svg role=\"img\" class=\"shoppinglist-remove\">\\r\\n                            <use xlink:href=\"/static/dist/assets/img/svg.svg#icon_shoppinglist_notification\"></use>\\r\\n                        </svg>\\r\\n                    </div>\\r\\n                </div>\\r\\n            </div>\\r\\n            <p>Bi&#232;re Bock | 7,0% | 33 cl</p>\\r\\n\\r\\n    <div class=\"price-container\" data-sku=\"Bronckhorster-Ijsselbock33_1\">\\r\\n                <div class=\"discounted-price-container\">\\r\\n                    <span class=\"price from-price\">3,49 \\xe2\\x82\\xac</span>\\r\\n                    <span class=\"price\">3,14 \\xe2\\x82\\xac</span>\\r\\n                </div>\\r\\n        </div>\\r\\n\\r\\n            <div class=\"product-actions\">\\r\\n                    <div class=\"add-to-cart-container\">\\r\\n                            <div class=\"add-to-cart\">\\r\\n                                <button class=\"minus\">-</button>\\r\\n                                <input value=\"\" type=\"tel\" maxlength=\"3\" minlength=\"0\" data-sku=\"Bronckhorster-Ijsselbock33_1\">\\r\\n                                <button class=\"plus textual\" data-textual=\"Ajouter\">+</button>\\r\\n                                <button class=\"ok\">Ok</button>\\r\\n                            </div>\\r\\n                    </div>\\r\\n            </div>\\r\\n    </div>\\r\\n            </div>\\r\\n        </div>\\r\\n    </div>\\r\\n</div>\\r\\n\\r\\n</div><div class=\"single-content-row\"><div class=\"anchor-container\" id=\"packs\"></div></div><div class=\"single-content-row\"><div class=\"row columns\">\\r\\n    <div class=\"small-12\">\\r\\n        <div class=\"title-with-text\">          \\r\\n                <h3>Coffrets et Box  Promos</h3>\\r\\n            <a href=\"/fr-fr/c/coffretdebiere\"><span>Voir tous les coffrets de bi&#232;res</span></a>                \\r\\n        </div>\\r\\n    </div>\\r\\n</div>\\r\\n</div><div class=\"single-content-row\">\\r\\n\\r\\n<div class=\"row product-overview-container\">\\r\\n    <div class=\"small-12 columns\">\\r\\n\\r\\n        <div class=\"products\">\\r\\n            <div class=\"product-items-container static-shelf\">\\r\\n\\r\\n\\r\\n\\r\\n    <div data-product=\\'{\"name\":\"Coffret Bi\\xc3\\xa8res d\\\\u0027Automne\",\"id\":\"Autumn-Beer-Case-2020_1\",\"price\":38.990000000,\"from-price\":null,\"category\":\"Pack\",\"variant\":\"Autumn-Beer-Case-2020_1\",\"brand\":\"Beerwulf\",\"list\":\"Beer Package Variation Catalog Entry Summary\",\"position\":1,\"stock\":\"422\"}\\'\\r\\n         class=\"product pack-product \">\\r\\n\\r\\n            <h4>\\r\\n                <a href=\"/fr-fr/p/coffretdebieres/coffret-bieres-automne\"\\r\\n                   target=\"_self\"\\r\\n                   data-action=\"product-click\">Coffret Bi&#232;res d&#39;Automne</a>\\r\\n            </h4>\\r\\n            <div class=\"images-icons-container\">\\r\\n\\r\\n\\r\\n<div class=\"image-container\">\\r\\n\\r\\n    <a href=\"/fr-fr/p/coffretdebieres/coffret-bieres-automne\"\\r\\n       data-action=\"product-click\"\\r\\n       target=\"_self\">\\r\\n        <img class=\"lazy-image\" src=\"data:image/gif;base64,R0lGODlhAQABAIAAAAAAAP///yH5BAEAAAAALAAAAAABAAEAAAIBRAA7\" alt=\"Coffret Bi&#232;res d&#39;Automne\" title=\"Coffret Bi&#232;res d&#39;Automne\" data-src=\"https://www.beerwulf.com/globalassets/autumn-beer-case-2020_1_0.png?h=282&amp;rev=419341986\" />\\r\\n    </a>\\r\\n\\r\\n</div>\\r\\n\\r\\n\\r\\n\\r\\n                <div class=\"left-side-icons\">\\r\\n                </div>\\r\\n\\r\\n\\r\\n                <div class=\"right-side-icons\">\\r\\n                    <div class=\"badges\">\\r\\n\\r\\n                    </div>\\r\\n\\r\\n                    <div class=\"add-to-shoppinglist js-add-to-shoppinglist\" data-code=\"Autumn-Beer-Case-2020_1\">\\r\\n                        <svg role=\"img\" class=\"shoppinglist-add\">\\r\\n                            <use xlink:href=\"/static/dist/assets/img/svg.svg#icon_shoppinglist_sidebar\"></use>\\r\\n                        </svg>\\r\\n\\r\\n                        <svg role=\"img\" class=\"shoppinglist-remove\">\\r\\n                            <use xlink:href=\"/static/dist/assets/img/svg.svg#icon_shoppinglist_notification\"></use>\\r\\n                        </svg>\\r\\n                    </div>\\r\\n                </div>\\r\\n            </div>\\r\\n            <p>12 produits</p>\\r\\n\\r\\n    <div class=\"price-container\" data-sku=\"Autumn-Beer-Case-2020_1\">\\r\\n                <span class=\"price\">38,99 \\xe2\\x82\\xac</span>\\r\\n        </div>\\r\\n\\r\\n            <div class=\"product-actions\">\\r\\n                    <div class=\"add-to-cart-container\">\\r\\n                            <div class=\"add-to-cart\">\\r\\n                                <button class=\"minus\">-</button>\\r\\n                                <input value=\"\" type=\"tel\" maxlength=\"3\" minlength=\"0\" data-sku=\"Autumn-Beer-Case-2020_1\">\\r\\n                                <button class=\"plus textual\" data-textual=\"Ajouter\">+</button>\\r\\n                                <button class=\"ok\">Ok</button>\\r\\n                            </div>\\r\\n                    </div>\\r\\n            </div>\\r\\n    </div>\\r\\n\\r\\n\\r\\n\\r\\n    <div data-product=\\'{\"name\":\"Coffret Calendrier de l\\\\u0027Avent\",\"id\":\"Advent-Calendar-2020_Pack_21382\",\"price\":62.990000000,\"from-price\":null,\"category\":\"Pack\",\"variant\":\"Advent-Calendar-2020_Pack_21382\",\"brand\":\"Beerwulf\",\"list\":\"Beer Package Variation Catalog Entry Summary\",\"position\":2,\"stock\":\"9230\"}\\'\\r\\n         class=\"product pack-product \">\\r\\n\\r\\n            <h4>\\r\\n                <a href=\"/fr-fr/p/coffretdebieres/calendrierdelavent\"\\r\\n                   target=\"_self\"\\r\\n                   data-action=\"product-click\">Coffret Calendrier de l&#39;Avent</a>\\r\\n            </h4>\\r\\n            <div class=\"images-icons-container\">\\r\\n\\r\\n\\r\\n<div class=\"image-container\">\\r\\n\\r\\n    <a href=\"/fr-fr/p/coffretdebieres/calendrierdelavent\"\\r\\n       data-action=\"product-click\"\\r\\n       target=\"_self\">\\r\\n        <img class=\"lazy-image\" src=\"data:image/gif;base64,R0lGODlhAQABAIAAAAAAAP///yH5BAEAAAAALAAAAAABAAEAAAIBRAA7\" alt=\"Coffret Calendrier de l&#39;Avent\" title=\"Coffret Calendrier de l&#39;Avent\" data-src=\"https://www.beerwulf.com/globalassets/advent-calendar-2020_pack_21382_0.png?h=282&amp;rev=1541288392\" />\\r\\n    </a>\\r\\n\\r\\n</div>\\r\\n\\r\\n\\r\\n\\r\\n                <div class=\"left-side-icons\">\\r\\n                </div>\\r\\n\\r\\n\\r\\n                <div class=\"right-side-icons\">\\r\\n                    <div class=\"badges\">\\r\\n\\r\\n                    </div>\\r\\n\\r\\n                    <div class=\"add-to-shoppinglist js-add-to-shoppinglist\" data-code=\"Advent-Calendar-2020_Pack_21382\">\\r\\n                        <svg role=\"img\" class=\"shoppinglist-add\">\\r\\n                            <use xlink:href=\"/static/dist/assets/img/svg.svg#icon_shoppinglist_sidebar\"></use>\\r\\n                        </svg>\\r\\n\\r\\n                        <svg role=\"img\" class=\"shoppinglist-remove\">\\r\\n                            <use xlink:href=\"/static/dist/assets/img/svg.svg#icon_shoppinglist_notification\"></use>\\r\\n                        </svg>\\r\\n                    </div>\\r\\n                </div>\\r\\n            </div>\\r\\n            <p>24 produits</p>\\r\\n\\r\\n    <div class=\"price-container\" data-sku=\"Advent-Calendar-2020_Pack_21382\">\\r\\n                <span class=\"price\">62,99 \\xe2\\x82\\xac</span>\\r\\n        </div>\\r\\n\\r\\n            <div class=\"product-actions\">\\r\\n                    <div class=\"add-to-cart-container\">\\r\\n                            <div class=\"add-to-cart\">\\r\\n                                <button class=\"minus\">-</button>\\r\\n                                <input value=\"\" type=\"tel\" maxlength=\"3\" minlength=\"0\" data-sku=\"Advent-Calendar-2020_Pack_21382\">\\r\\n                                <button class=\"plus textual\" data-textual=\"Ajouter\">+</button>\\r\\n                                <button class=\"ok\">Ok</button>\\r\\n                            </div>\\r\\n                    </div>\\r\\n            </div>\\r\\n    </div>\\r\\n\\r\\n\\r\\n\\r\\n    <div data-product=\\'{\"name\":\"Coffret de Bi\\xc3\\xa8res IPA\",\"id\":\"IPA-Beer-Case-NLFRBE_1\",\"price\":38.690000000,\"from-price\":42.990000000,\"category\":\"Pack\",\"variant\":\"IPA-Beer-Case-NLFRBE_1\",\"brand\":\"Beerwulf\",\"list\":\"Beer Package Variation Catalog Entry Summary\",\"position\":3,\"stock\":\"94\"}\\'\\r\\n         class=\"product pack-product \">\\r\\n\\r\\n            <h4>\\r\\n                <a href=\"/fr-fr/p/coffretdebieres/ipa-bieres\"\\r\\n                   target=\"_self\"\\r\\n                   data-action=\"product-click\">Coffret de Bi&#232;res IPA</a>\\r\\n            </h4>\\r\\n            <div class=\"images-icons-container\">\\r\\n\\r\\n\\r\\n<div class=\"image-container\">\\r\\n\\r\\n    <a href=\"/fr-fr/p/coffretdebieres/ipa-bieres\"\\r\\n       data-action=\"product-click\"\\r\\n       target=\"_self\">\\r\\n        <img class=\"lazy-image\" src=\"data:image/gif;base64,R0lGODlhAQABAIAAAAAAAP///yH5BAEAAAAALAAAAAABAAEAAAIBRAA7\" alt=\"Coffret de Bi&#232;res IPA\" title=\"Coffret de Bi&#232;res IPA\" data-src=\"https://www.beerwulf.com/globalassets/ipa-beer-case-nlfrbe_1_0.png?h=282&amp;rev=949683896\" />\\r\\n    </a>\\r\\n\\r\\n</div>\\r\\n\\r\\n\\r\\n\\r\\n                <div class=\"left-side-icons\">\\r\\n                        <div class=\"discount-tab red-tab\">\\r\\n                            -10%\\r\\n                        </div>\\r\\n                </div>\\r\\n\\r\\n\\r\\n                <div class=\"right-side-icons\">\\r\\n                    <div class=\"badges\">\\r\\n\\r\\n                    </div>\\r\\n\\r\\n                    <div class=\"add-to-shoppinglist js-add-to-shoppinglist\" data-code=\"IPA-Beer-Case-NLFRBE_1\">\\r\\n                        <svg role=\"img\" class=\"shoppinglist-add\">\\r\\n                            <use xlink:href=\"/static/dist/assets/img/svg.svg#icon_shoppinglist_sidebar\"></use>\\r\\n                        </svg>\\r\\n\\r\\n                        <svg role=\"img\" class=\"shoppinglist-remove\">\\r\\n                            <use xlink:href=\"/static/dist/assets/img/svg.svg#icon_shoppinglist_notification\"></use>\\r\\n                        </svg>\\r\\n                    </div>\\r\\n                </div>\\r\\n            </div>\\r\\n            <p>16 produits</p>\\r\\n\\r\\n    <div class=\"price-container\" data-sku=\"IPA-Beer-Case-NLFRBE_1\">\\r\\n                <div class=\"discounted-price-container\">\\r\\n                    <span class=\"price from-price\">42,99 \\xe2\\x82\\xac</span>\\r\\n                    <span class=\"price\">38,69 \\xe2\\x82\\xac</span>\\r\\n                </div>\\r\\n        </div>\\r\\n\\r\\n            <div class=\"product-actions\">\\r\\n                    <div class=\"add-to-cart-container\">\\r\\n                            <div class=\"add-to-cart\">\\r\\n                                <button class=\"minus\">-</button>\\r\\n                                <input value=\"\" type=\"tel\" maxlength=\"3\" minlength=\"0\" data-sku=\"IPA-Beer-Case-NLFRBE_1\">\\r\\n                                <button class=\"plus textual\" data-textual=\"Ajouter\">+</button>\\r\\n                                <button class=\"ok\">Ok</button>\\r\\n                            </div>\\r\\n                    </div>\\r\\n            </div>\\r\\n    </div>\\r\\n\\r\\n\\r\\n\\r\\n    <div data-product=\\'{\"name\":\"Coffret de bi\\xc3\\xa8res du monde \",\"id\":\"World-Of-Beers-2020-V3_1\",\"price\":37.990000000,\"from-price\":null,\"category\":\"Pack\",\"variant\":\"World-Of-Beers-2020-V3_1\",\"brand\":\"Beerwulf\",\"list\":\"Beer Package Variation Catalog Entry Summary\",\"position\":4,\"stock\":\"171\"}\\'\\r\\n         class=\"product pack-product \">\\r\\n\\r\\n            <h4>\\r\\n                <a href=\"/fr-fr/p/coffretdebieres/bieres-du-monde\"\\r\\n                   target=\"_self\"\\r\\n                   data-action=\"product-click\">Coffret de bi&#232;res du monde </a>\\r\\n            </h4>\\r\\n            <div class=\"images-icons-container\">\\r\\n\\r\\n\\r\\n<div class=\"image-container\">\\r\\n\\r\\n    <a href=\"/fr-fr/p/coffretdebieres/bieres-du-monde\"\\r\\n       data-action=\"product-click\"\\r\\n       target=\"_self\">\\r\\n        <img class=\"lazy-image\" src=\"data:image/gif;base64,R0lGODlhAQABAIAAAAAAAP///yH5BAEAAAAALAAAAAABAAEAAAIBRAA7\" alt=\"Coffret de bi&#232;res du monde \" title=\"Coffret de bi&#232;res du monde \" data-src=\"https://www.beerwulf.com/globalassets/world-of-beers-2020-v3_1_0.png?h=282&amp;rev=1044116828\" />\\r\\n    </a>\\r\\n\\r\\n</div>\\r\\n\\r\\n\\r\\n\\r\\n                <div class=\"left-side-icons\">\\r\\n                </div>\\r\\n\\r\\n\\r\\n                <div class=\"right-side-icons\">\\r\\n                    <div class=\"badges\">\\r\\n\\r\\n                    </div>\\r\\n\\r\\n                    <div class=\"add-to-shoppinglist js-add-to-shoppinglist\" data-code=\"World-Of-Beers-2020-V3_1\">\\r\\n                        <svg role=\"img\" class=\"shoppinglist-add\">\\r\\n                            <use xlink:href=\"/static/dist/assets/img/svg.svg#icon_shoppinglist_sidebar\"></use>\\r\\n                        </svg>\\r\\n\\r\\n                        <svg role=\"img\" class=\"shoppinglist-remove\">\\r\\n                            <use xlink:href=\"/static/dist/assets/img/svg.svg#icon_shoppinglist_notification\"></use>\\r\\n                        </svg>\\r\\n                    </div>\\r\\n                </div>\\r\\n            </div>\\r\\n            <p>16&#160;bi&#232;res savoureuses du monde entier&#160;</p>\\r\\n\\r\\n    <div class=\"price-container\" data-sku=\"World-Of-Beers-2020-V3_1\">\\r\\n                <span class=\"price\">37,99 \\xe2\\x82\\xac</span>\\r\\n        </div>\\r\\n\\r\\n            <div class=\"product-actions\">\\r\\n                    <div class=\"add-to-cart-container\">\\r\\n                            <div class=\"add-to-cart\">\\r\\n                                <button class=\"minus\">-</button>\\r\\n                                <input value=\"\" type=\"tel\" maxlength=\"3\" minlength=\"0\" data-sku=\"World-Of-Beers-2020-V3_1\">\\r\\n                                <button class=\"plus textual\" data-textual=\"Ajouter\">+</button>\\r\\n                                <button class=\"ok\">Ok</button>\\r\\n                            </div>\\r\\n                    </div>\\r\\n            </div>\\r\\n    </div>\\r\\n            </div>\\r\\n        </div>\\r\\n    </div>\\r\\n</div>\\r\\n\\r\\n</div><div class=\"single-content-row\"><div class=\"row columns\">\\r\\n    <div class=\"small-12\">\\r\\n        <div class=\"title-with-text\">          \\r\\n                <h3>Voir tous nos articles</h3>\\r\\n            <a href=\"/fr-fr/articles-sur-les-bieres-speciales\"><span>Tout savoir sur la bi&#232;re</span></a>                \\r\\n        </div>\\r\\n    </div>\\r\\n</div>\\r\\n</div><div class=\"single-content-row\"><div class=\"row homepage-blog-tiles\">\\r\\n    <div class=\"small-12 columns\">\\r\\n        \\r\\n        <div class=\"theme-tiles-row\"><div class=\"tile-col\">\\r\\n\\r\\n<a href=\"/fr-fr/c/bieres?catalogCode=Beer_1&amp;page=1&amp;specialOffer=Promos&amp;container=Bouteille\">\\r\\n    <div class=\"image-con lazy-bg-image\" data-bg=\"url(https://www.beerwulf.com/fr-fr/SysSiteAssets/landing-pages/sale/sale_lp_tile_fr.jpg)\"></div>\\r\\n    <div class=\"tile-bottom\">\\r\\n        <h4>Profitez de nos offres d&#232;s maintenant</h4>\\r\\n        <span>Obtenez 25% de r&#233;duction sur une s&#233;lection de bi&#232;res !</span>\\r\\n    </div>\\r\\n</a>\\r\\n</div><div class=\"tile-col\">\\r\\n\\r\\n<a href=\"/fr-fr/articles-sur-les-bieres-speciales/la-bonne-temperature\">\\r\\n    <div class=\"image-con lazy-bg-image\" data-bg=\"url(https://www.beerwulf.com/fr-fr/SysSiteAssets/editorials/serving-temperature/servingtemp_tile.jpg)\"></div>\\r\\n    <div class=\"tile-bottom\">\\r\\n        <h4>&#192; quelle temp&#233;rature d&#233;guster votre bi&#232;re ?</h4>\\r\\n        <span>Voici nos conseils</span>\\r\\n    </div>\\r\\n</a>\\r\\n</div><div class=\"tile-col\">\\r\\n\\r\\n<a href=\"/fr-fr/articles-sur-les-bieres-speciales/servir-biere-pression\">\\r\\n    <div class=\"image-con lazy-bg-image\" data-bg=\"url(https://www.beerwulf.com/fr-fr/SysSiteAssets/editorials/how-to-pour-the-perfect-pint-the-sub/pour_perfect_pint_tile.jpg)\"></div>\\r\\n    <div class=\"tile-bottom\">\\r\\n        <h4>Comment servir une bi&#232;re pression ?</h4>\\r\\n        <span>4 &#233;tapes faciles</span>\\r\\n    </div>\\r\\n</a>\\r\\n</div><div class=\"tile-col\">\\r\\n\\r\\n<a href=\"/fr-fr/articles-sur-les-bieres-speciales/france-biere-challenge-2020\">\\r\\n    <div class=\"image-con lazy-bg-image\" data-bg=\"url(https://www.beerwulf.com/fr-fr/SysSiteAssets/editorials/france-beer-challenge/france_biere_challenge_2020_tile.jpg)\"></div>\\r\\n    <div class=\"tile-bottom\">\\r\\n        <h4>France Bi&#232;re Challenge 2020</h4>\\r\\n        <span>Le coffret in&#233;dit !</span>\\r\\n    </div>\\r\\n</a>\\r\\n</div></div>\\r\\n    </div>\\r\\n</div></div><div class=\"single-content-row\"><div class=\"anchor-container\" id=\"Fut2L\"></div></div><div class=\"single-content-row\"><div class=\"row columns\">\\r\\n    <div class=\"small-12\">\\r\\n        <div class=\"title-with-text\">          \\r\\n                <h3>Nos tireuses &#224; bi&#232;re</h3>\\r\\n            <a href=\"/fr-fr/toutes-les-tireuses-a-biere-sub-beertender\"><span>Voir les tireuses The SUB et BeerTender</span></a>                \\r\\n        </div>\\r\\n    </div>\\r\\n</div>\\r\\n</div><div class=\"single-content-row\">\\r\\n\\r\\n<div class=\"row product-overview-container\">\\r\\n    <div class=\"small-12 columns\">\\r\\n\\r\\n        <div class=\"products\">\\r\\n            <div class=\"product-items-container static-shelf\">\\r\\n\\r\\n\\r\\n\\r\\n    <div data-product=\\'{\"name\":\"Assortiment Starter The SUB Classique Heineken\",\"id\":\"The-SUB-Classic-Grey--4-Heineken-NL-FR_1\",\"price\":139.000000000,\"from-price\":202.960000000,\"category\":\"Pack\",\"variant\":\"The-SUB-Classic-Grey--4-Heineken-NL-FR_1\",\"brand\":\"Beerwulf\",\"list\":\"Beer Package Variation Catalog Entry Summary\",\"position\":1,\"stock\":\"499\"}\\'\\r\\n         class=\"product pack-product \">\\r\\n\\r\\n            <h4>\\r\\n                <a href=\"/fr-fr/p/coffretdebieres/thesubclassique-gris-4heineken\"\\r\\n                   target=\"_self\"\\r\\n                   data-action=\"product-click\">Assortiment Starter The SUB Classique Heineken</a>\\r\\n            </h4>\\r\\n            <div class=\"images-icons-container\">\\r\\n\\r\\n\\r\\n<div class=\"image-container\">\\r\\n\\r\\n    <a href=\"/fr-fr/p/coffretdebieres/thesubclassique-gris-4heineken\"\\r\\n       data-action=\"product-click\"\\r\\n       target=\"_self\">\\r\\n        <img class=\"lazy-image\" src=\"data:image/gif;base64,R0lGODlhAQABAIAAAAAAAP///yH5BAEAAAAALAAAAAABAAEAAAIBRAA7\" alt=\"Assortiment Starter The SUB Classique Heineken\" title=\"Assortiment Starter The SUB Classique Heineken\" data-src=\"https://www.beerwulf.com/globalassets/the-sub-classic-grey--4-heineken-nl-fr_1_0.png?h=282&amp;rev=71940060\" />\\r\\n    </a>\\r\\n\\r\\n</div>\\r\\n\\r\\n\\r\\n\\r\\n                <div class=\"left-side-icons\">\\r\\n                        <div class=\"discount-tab red-tab\">\\r\\n                            -32%\\r\\n                        </div>\\r\\n                </div>\\r\\n\\r\\n\\r\\n                <div class=\"right-side-icons\">\\r\\n                    <div class=\"badges\">\\r\\n\\r\\n                    </div>\\r\\n\\r\\n                    <div class=\"add-to-shoppinglist js-add-to-shoppinglist\" data-code=\"The-SUB-Classic-Grey--4-Heineken-NL-FR_1\">\\r\\n                        <svg role=\"img\" class=\"shoppinglist-add\">\\r\\n                            <use xlink:href=\"/static/dist/assets/img/svg.svg#icon_shoppinglist_sidebar\"></use>\\r\\n                        </svg>\\r\\n\\r\\n                        <svg role=\"img\" class=\"shoppinglist-remove\">\\r\\n                            <use xlink:href=\"/static/dist/assets/img/svg.svg#icon_shoppinglist_notification\"></use>\\r\\n                        </svg>\\r\\n                    </div>\\r\\n                </div>\\r\\n            </div>\\r\\n            <p>5 produits</p>\\r\\n\\r\\n    <div class=\"price-container\" data-sku=\"The-SUB-Classic-Grey--4-Heineken-NL-FR_1\">\\r\\n                <div class=\"discounted-price-container\">\\r\\n                    <span class=\"price from-price\">202,96 \\xe2\\x82\\xac</span>\\r\\n                    <span class=\"price\">139,00 \\xe2\\x82\\xac</span>\\r\\n                </div>\\r\\n        </div>\\r\\n\\r\\n            <div class=\"product-actions\">\\r\\n                    <div class=\"add-to-cart-container\">\\r\\n                            <div class=\"add-to-cart\">\\r\\n                                <button class=\"minus\">-</button>\\r\\n                                <input value=\"\" type=\"tel\" maxlength=\"3\" minlength=\"0\" data-sku=\"The-SUB-Classic-Grey--4-Heineken-NL-FR_1\">\\r\\n                                <button class=\"plus textual\" data-textual=\"Ajouter\">+</button>\\r\\n                                <button class=\"ok\">Ok</button>\\r\\n                            </div>\\r\\n                    </div>\\r\\n            </div>\\r\\n    </div>\\r\\n\\r\\n\\r\\n\\r\\n    <div data-product=\\'{\"name\":\"The SUB Compact Rouge\",\"id\":\"THE-SUB-Compact---2L_1\",\"price\":89.000000000,\"from-price\":129.000000000,\"category\":\"Appliance\",\"variant\":\"THE-SUB-Compact-Red-EU-2L_1\",\"brand\":\"Beerwulf\",\"list\":\"Draught Machine Variation Catalog Entry Summary\",\"position\":1,\"stock\":\"1763\"}\\'\\r\\n         class=\"product draught-product \">\\r\\n\\r\\n            <h4>\\r\\n                <a href=\"/fr-fr/p/tireuses/the-sub-compact-red\"\\r\\n                   target=\"_self\"\\r\\n                   data-action=\"product-click\">The SUB Compact Rouge</a>\\r\\n            </h4>\\r\\n            <div class=\"images-icons-container\">\\r\\n\\r\\n\\r\\n<div class=\"image-container\">\\r\\n\\r\\n    <a href=\"/fr-fr/p/tireuses/the-sub-compact-red\"\\r\\n       data-action=\"product-click\"\\r\\n       target=\"_self\">\\r\\n        <img class=\"lazy-image\" src=\"data:image/gif;base64,R0lGODlhAQABAIAAAAAAAP///yH5BAEAAAAALAAAAAABAAEAAAIBRAA7\" alt=\"The SUB Compact Rouge\" title=\"The SUB Compact Rouge\" data-src=\"https://www.beerwulf.com/globalassets/the-sub-compact-red-eu-2l_1_0.png?h=282&amp;rev=2042760423\" />\\r\\n    </a>\\r\\n\\r\\n</div>\\r\\n\\r\\n\\r\\n\\r\\n                <div class=\"left-side-icons\">\\r\\n                        <div class=\"discount-tab red-tab\">\\r\\n                            -31%\\r\\n                        </div>\\r\\n                </div>\\r\\n\\r\\n\\r\\n                <div class=\"right-side-icons\">\\r\\n                    <div class=\"badges\">\\r\\n\\r\\n                    </div>\\r\\n\\r\\n                    <div class=\"add-to-shoppinglist js-add-to-shoppinglist\" data-code=\"THE-SUB-Compact-Red-EU-2L_1\">\\r\\n                        <svg role=\"img\" class=\"shoppinglist-add\">\\r\\n                            <use xlink:href=\"/static/dist/assets/img/svg.svg#icon_shoppinglist_sidebar\"></use>\\r\\n                        </svg>\\r\\n\\r\\n                        <svg role=\"img\" class=\"shoppinglist-remove\">\\r\\n                            <use xlink:href=\"/static/dist/assets/img/svg.svg#icon_shoppinglist_notification\"></use>\\r\\n                        </svg>\\r\\n                    </div>\\r\\n                </div>\\r\\n            </div>\\r\\n            <p>Compatible avec les F&#251;ts 2L The SUB</p>\\r\\n\\r\\n    <div class=\"price-container\" data-sku=\"THE-SUB-Compact-Red-EU-2L_1\">\\r\\n                <div class=\"discounted-price-container\">\\r\\n                    <span class=\"price from-price\">129,00 \\xe2\\x82\\xac</span>\\r\\n                    <span class=\"price\">89,00 \\xe2\\x82\\xac</span>\\r\\n                </div>\\r\\n        </div>\\r\\n\\r\\n            <div class=\"product-actions\">\\r\\n                    <div class=\"add-to-cart-container\">\\r\\n                            <div class=\"add-to-cart\">\\r\\n                                <button class=\"minus\">-</button>\\r\\n                                <input value=\"\" type=\"tel\" maxlength=\"3\" minlength=\"0\" data-sku=\"THE-SUB-Compact-Red-EU-2L_1\">\\r\\n                                <button class=\"plus textual\" data-textual=\"Ajouter\">+</button>\\r\\n                                <button class=\"ok\">Ok</button>\\r\\n                            </div>\\r\\n                    </div>\\r\\n            </div>\\r\\n    </div>\\r\\n\\r\\n\\r\\n\\r\\n    <div data-product=\\'{\"name\":\"BeerTender Krups Noir 5L\",\"id\":\"BEERTENDER-SEB-NOIR-5L_1\",\"price\":129.000000000,\"from-price\":169.000000000,\"category\":\"Appliance\",\"variant\":\"BEERTENDER-SEB-NOIR-5L_2\",\"brand\":\"Beerwulf\",\"list\":\"Draught Machine Variation Catalog Entry Summary\",\"position\":2,\"stock\":\"122\"}\\'\\r\\n         class=\"product draught-product \">\\r\\n\\r\\n            <h4>\\r\\n                <a href=\"/fr-fr/p/tireuses/tireuse-beertender-krups-noir\"\\r\\n                   target=\"_self\"\\r\\n                   data-action=\"product-click\">BeerTender Krups Noir 5L</a>\\r\\n            </h4>\\r\\n            <div class=\"images-icons-container\">\\r\\n\\r\\n\\r\\n<div class=\"image-container\">\\r\\n\\r\\n    <a href=\"/fr-fr/p/tireuses/tireuse-beertender-krups-noir\"\\r\\n       data-action=\"product-click\"\\r\\n       target=\"_self\">\\r\\n        <img class=\"lazy-image\" src=\"data:image/gif;base64,R0lGODlhAQABAIAAAAAAAP///yH5BAEAAAAALAAAAAABAAEAAAIBRAA7\" alt=\"BeerTender Krups Noir 5L\" title=\"BeerTender Krups Noir 5L\" data-src=\"https://www.beerwulf.com/globalassets/beertender-seb-noir-5l_2_02.png?h=282&amp;rev=1779000533\" />\\r\\n    </a>\\r\\n\\r\\n</div>\\r\\n\\r\\n\\r\\n\\r\\n                <div class=\"left-side-icons\">\\r\\n                        <div class=\"discount-tab red-tab\">\\r\\n                            -24%\\r\\n                        </div>\\r\\n                </div>\\r\\n\\r\\n\\r\\n                <div class=\"right-side-icons\">\\r\\n                    <div class=\"badges\">\\r\\n\\r\\n                    </div>\\r\\n\\r\\n                    <div class=\"add-to-shoppinglist js-add-to-shoppinglist\" data-code=\"BEERTENDER-SEB-NOIR-5L_2\">\\r\\n                        <svg role=\"img\" class=\"shoppinglist-add\">\\r\\n                            <use xlink:href=\"/static/dist/assets/img/svg.svg#icon_shoppinglist_sidebar\"></use>\\r\\n                        </svg>\\r\\n\\r\\n                        <svg role=\"img\" class=\"shoppinglist-remove\">\\r\\n                            <use xlink:href=\"/static/dist/assets/img/svg.svg#icon_shoppinglist_notification\"></use>\\r\\n                        </svg>\\r\\n                    </div>\\r\\n                </div>\\r\\n            </div>\\r\\n            <p>Utilisation en f&#251;t autonome ou avec tireuse BeerTender </p>\\r\\n\\r\\n    <div class=\"price-container\" data-sku=\"BEERTENDER-SEB-NOIR-5L_2\">\\r\\n                <div class=\"discounted-price-container\">\\r\\n                    <span class=\"price from-price\">169,00 \\xe2\\x82\\xac</span>\\r\\n                    <span class=\"price\">129,00 \\xe2\\x82\\xac</span>\\r\\n                </div>\\r\\n        </div>\\r\\n\\r\\n            <div class=\"product-actions\">\\r\\n                    <div class=\"add-to-cart-container\">\\r\\n                            <div class=\"add-to-cart\">\\r\\n                                <button class=\"minus\">-</button>\\r\\n                                <input value=\"\" type=\"tel\" maxlength=\"3\" minlength=\"0\" data-sku=\"BEERTENDER-SEB-NOIR-5L_2\">\\r\\n                                <button class=\"plus textual\" data-textual=\"Ajouter\">+</button>\\r\\n                                <button class=\"ok\">Ok</button>\\r\\n                            </div>\\r\\n                    </div>\\r\\n            </div>\\r\\n    </div>\\r\\n\\r\\n\\r\\n\\r\\n    <div data-product=\\'{\"name\":\"The SUB Classique Blanc\",\"id\":\"THE-SUB-Colour-Edition---2L_1\",\"price\":119.000000000,\"from-price\":169.000000000,\"category\":\"Appliance\",\"variant\":\"THE-SUB-White-EU-2L_1\",\"brand\":\"Beerwulf\",\"list\":\"Draught Machine Variation Catalog Entry Summary\",\"position\":3,\"stock\":\"1408\"}\\'\\r\\n         class=\"product draught-product \">\\r\\n\\r\\n            <h4>\\r\\n                <a href=\"/fr-fr/p/tireuses/the-sub-white\"\\r\\n                   target=\"_self\"\\r\\n                   data-action=\"product-click\">The SUB Classique Blanc</a>\\r\\n            </h4>\\r\\n            <div class=\"images-icons-container\">\\r\\n\\r\\n\\r\\n<div class=\"image-container\">\\r\\n\\r\\n    <a href=\"/fr-fr/p/tireuses/the-sub-white\"\\r\\n       data-action=\"product-click\"\\r\\n       target=\"_self\">\\r\\n        <img class=\"lazy-image\" src=\"data:image/gif;base64,R0lGODlhAQABAIAAAAAAAP///yH5BAEAAAAALAAAAAABAAEAAAIBRAA7\" alt=\"The SUB Classique Blanc\" title=\"The SUB Classique Blanc\" data-src=\"https://www.beerwulf.com/globalassets/the-sub-white-eu-2l_1_03.png?h=282&amp;rev=1475275545\" />\\r\\n    </a>\\r\\n\\r\\n</div>\\r\\n\\r\\n\\r\\n\\r\\n                <div class=\"left-side-icons\">\\r\\n                        <div class=\"discount-tab red-tab\">\\r\\n                            -30%\\r\\n                        </div>\\r\\n                </div>\\r\\n\\r\\n\\r\\n                <div class=\"right-side-icons\">\\r\\n                    <div class=\"badges\">\\r\\n\\r\\n                    </div>\\r\\n\\r\\n                    <div class=\"add-to-shoppinglist js-add-to-shoppinglist\" data-code=\"THE-SUB-White-EU-2L_1\">\\r\\n                        <svg role=\"img\" class=\"shoppinglist-add\">\\r\\n                            <use xlink:href=\"/static/dist/assets/img/svg.svg#icon_shoppinglist_sidebar\"></use>\\r\\n                        </svg>\\r\\n\\r\\n                        <svg role=\"img\" class=\"shoppinglist-remove\">\\r\\n                            <use xlink:href=\"/static/dist/assets/img/svg.svg#icon_shoppinglist_notification\"></use>\\r\\n                        </svg>\\r\\n                    </div>\\r\\n                </div>\\r\\n            </div>\\r\\n            <p>Compatible avec les F&#251;ts 2L The SUB</p>\\r\\n\\r\\n    <div class=\"price-container\" data-sku=\"THE-SUB-White-EU-2L_1\">\\r\\n                <div class=\"discounted-price-container\">\\r\\n                    <span class=\"price from-price\">169,00 \\xe2\\x82\\xac</span>\\r\\n                    <span class=\"price\">119,00 \\xe2\\x82\\xac</span>\\r\\n                </div>\\r\\n        </div>\\r\\n\\r\\n            <div class=\"product-actions\">\\r\\n                    <div class=\"add-to-cart-container\">\\r\\n                            <div class=\"add-to-cart\">\\r\\n                                <button class=\"minus\">-</button>\\r\\n                                <input value=\"\" type=\"tel\" maxlength=\"3\" minlength=\"0\" data-sku=\"THE-SUB-White-EU-2L_1\">\\r\\n                                <button class=\"plus textual\" data-textual=\"Ajouter\">+</button>\\r\\n                                <button class=\"ok\">Ok</button>\\r\\n                            </div>\\r\\n                    </div>\\r\\n            </div>\\r\\n    </div>\\r\\n            </div>\\r\\n        </div>\\r\\n    </div>\\r\\n</div>\\r\\n\\r\\n</div></div>\\r\\n\\r\\n\\r\\n\\r\\n    </div>\\r\\n\\r\\n    <div class=\"reveal tiny\" id=\"modalmessage\" aria-labelledby=\"modalmessage\" data-reveal>\\r\\n        <p id=\"modalmessagecontent\"></p>\\r\\n        <button class=\"close-button\" data-close aria-label=\"Close Accessible Modal\" type=\"button\">\\r\\n            <span aria-hidden=\"true\">&times;</span>\\r\\n        </button>\\r\\n    </div>\\r\\n\\r\\n    <div class=\"reveal\" id=\"shoppingcart\"></div>\\r\\n\\r\\n\\r\\n<div class=\"reveal cookie-modal-container fr-FR\" id=\"cookiemessage\" aria-labelledby=\"modalmessage\" data-reveal data-close-on-click=\"false\" data-close-on-esc=\"false\">\\r\\n    <div class=\"cookie-logo\">\\r\\n        <svg role=\"img\">\\r\\n            <use xlink:href=\"/static/dist/assets/img/svg.svg#beerwulf-text-logo-inverted\"></use>\\r\\n        </svg>\\r\\n    </div>\\r\\n    <div class=\"cookie-msg-container\">\\r\\n        <div id=\"agreeAndEighteenContainer\">\\r\\n            <h3 >Avez-vous plus de 18 ans?\\n</h3>\\r\\n            <div ><p style=\"line-height: 1.2;\">Cela s\\'applique uniquement si vous avez 18 ans ou plus. La vente d\\'alcool est interdite aux mineurs.</p></div>\\r\\n            <div class=\"row splash-cta\">\\r\\n                <div class=\"small-6 text-right\">\\r\\n                    <a href=\"#\" class=\"primary button\" id=\"eighteenTrigger\">Oui</a>\\r\\n                </div>\\r\\n                <div class=\"small-6 text-left\">\\r\\n                    <a href=\"/link/b0a69ed0559042e8a506aceaf157ac46.aspx?epslanguage=fr-FR\" class=\"primaryblack button\">Non</a>\\r\\n                </div>\\r\\n            </div>\\r\\n        </div>\\r\\n    </div>\\r\\n</div>\\r\\n\\r\\n<div class=\"footerbar-container\">\\r\\n    <div class=\"footerbar-row\">\\r\\n        \\r\\n    <div class=\"newsletter-subscription\">\\r\\n        <div id=\"subscribenewsletter\" data-ajax-post-url=\"/fr-FR/api/CustomerMarketingData/subscribe\">\\r\\n            <div>\\r\\n                <h5>Inscrivez-vous &#224; notre Newsletter</h5>\\r\\n\\r\\n                    <span>Et recevez en exclusivit&#233; nos offres, ventes priv&#233;es et nouveaut&#233;s !</span>\\r\\n            </div>\\r\\n            <form>\\r\\n                <input type=\"email\" autocomplete=\"email\" id=\"email\" placeholder=\"Entrez votre adresse email\" required  pattern=\"[A-Za-z0-9._%+-]+@[A-Za-z0-9.-]+\\\\.[A-Za-z]{2,4}$\" data-val=\"true\" />\\r\\n                <input type=\"submit\" class=\"button\" value=\"Ok\" />\\r\\n            </form>\\r\\n        </div>\\r\\n        <p class=\"thankyou\">Merci pour votre inscription</p>\\r\\n    </div>\\r\\n\\r\\n    </div>\\r\\n</div>\\r\\n\\r\\n<footer>\\r\\n    <div class=\"footer\">\\r\\n        <div class=\"row footer-menu\">\\r\\n            <div class=\"footer-column columns accordian-link\">\\r\\n        <h4 class=\"footer-heading\">Aide</h4>\\r\\n\\r\\n    <div class=\"footer-content\">\\r\\n        <ul class=\"footer-list\">\\r\\n            \\r\\n<li>\\r\\n    <a href=\"/fr-fr/livraison-et-retours\">Livraisons &amp; retours</a>\\r\\n</li>\\r\\n\\r\\n<li>\\r\\n    <a href=\"https://frbeerwulf.zendesk.com/hc/fr-fr\">Questions fr&#233;quentes</a>\\r\\n</li>\\r\\n<li>\\r\\n    <address class=\"footer-address\">\\r\\n    \\r\\n    <br>\\r\\n    \\r\\n    <br>\\r\\n    <a href=\"tel:\"></a>\\r\\n    </address>\\r\\n</li>\\r\\n<li>\\r\\n    <address class=\"footer-address\">\\r\\n    10:00 - 17:00\\r\\n    <br>\\r\\n    +33 805 089 853\\r\\n    <br>\\r\\n    <a href=\"tel:\"></a>\\r\\n    </address>\\r\\n</li>\\r\\n<li>\\r\\n    <a href=\"#\" class=\"button primary zendesk-activator-button js-zendesk-activator-button\" data-title=\"Contact\">\\r\\n        Contact\\r\\n    </a>\\r\\n</li>\\r\\n\\r\\n        </ul>\\r\\n    </div>\\r\\n</div>\\r\\n<div class=\"footer-column columns accordian-link\">\\r\\n        <h4 class=\"footer-heading\">Contact</h4>\\r\\n\\r\\n    <div class=\"footer-content\">\\r\\n        <ul class=\"footer-list\">\\r\\n            <li>\\r\\n    <address class=\"footer-address\">\\r\\n    Westeinde 16 \\r\\n    <br>\\r\\n    1017 ZP Amsterdam\\r\\n    <br>\\r\\n    <a href=\"tel:\"></a>\\r\\n    </address>\\r\\n</li>\\r\\n\\r\\n        </ul>\\r\\n    </div>\\r\\n</div>\\r\\n<div class=\"footer-column columns accordian-link\">\\r\\n        <h4 class=\"footer-heading\">&#192; propos</h4>\\r\\n\\r\\n    <div class=\"footer-content\">\\r\\n        <ul class=\"footer-list\">\\r\\n            \\r\\n<li>\\r\\n    <a href=\"/fr-fr/a-propos-de-beerwulf\">&#192; propos de Beerwulf</a>\\r\\n</li>\\r\\n\\r\\n<li>\\r\\n    <a href=\"https://beerwulf.homerun.co/\">Recrutement</a>\\r\\n</li>\\r\\n\\r\\n<li>\\r\\n    <a href=\"https://www.alcool-info-service.fr/\">Alcool-info-service</a>\\r\\n</li>\\r\\n\\r\\n        </ul>\\r\\n    </div>\\r\\n</div>\\r\\n<div class=\"footer-column columns accordian-link\">\\r\\n        <h4 class=\"footer-heading\">Pays</h4>\\r\\n\\r\\n    <div class=\"footer-content\">\\r\\n        <ul class=\"footer-list\">\\r\\n            <li class=\"js-language-select\">\\r\\n    <a href=\"/\" class=\"footer-language-flag js-language-selector\">\\r\\n        Vous &#234;tes sur le site\\r\\n        <svg role=\"img\">\\r\\n            <use xlink:href=\"/static/dist/assets/img/svg.svg#flag-fr\"></use>\\r\\n        </svg>\\r\\n        Changer\\r\\n    </a>\\r\\n</li>\\r\\n\\r\\n        </ul>\\r\\n    </div>\\r\\n</div>\\r\\n<div class=\"footer-column columns \">\\r\\n        <h4 class=\"footer-heading\">Suivez-nous</h4>\\r\\n\\r\\n    <div class=\"footer-content\">\\r\\n        <ul class=\"footer-list\">\\r\\n            \\r\\n\\r\\n\\r\\n<li class=\"social-media\">\\r\\n    <a href=\"https://www.facebook.com/BeerwulfWebshop/\" target=\"_blank\">\\r\\n        <img class=\"social-media-item lazy-image\" src=\"data:image/gif;base64,R0lGODlhAQABAIAAAAAAAP///yH5BAEAAAAALAAAAAABAAEAAAIBRAA7\" data-src=\"https://www.beerwulf.com/fr-fr/SysSiteAssets/homepage-header--theme-tiles/navigation/footer-navigation/follow-us/icon-facebook.svg?rev=1398306123\" alt=\"Social media icon\" title=\"Social media icon\" />\\r\\n    </a>\\r\\n</li>\\r\\n\\r\\n\\r\\n<li class=\"social-media\">\\r\\n    <a href=\"https://www.instagram.com/beerwulfwebshop/\" target=\"_blank\">\\r\\n        <img class=\"social-media-item lazy-image\" src=\"data:image/gif;base64,R0lGODlhAQABAIAAAAAAAP///yH5BAEAAAAALAAAAAABAAEAAAIBRAA7\" data-src=\"https://www.beerwulf.com/fr-fr/SysSiteAssets/homepage-header--theme-tiles/navigation/footer-navigation/follow-us/icon-instagram.svg?rev=257255883\" alt=\"Social media icon\" title=\"Social media icon\" />\\r\\n    </a>\\r\\n</li>\\r\\n\\r\\n\\r\\n<li class=\"social-media\">\\r\\n    <a href=\"https://twitter.com/BeerwulfWebshop\" target=\"_blank\">\\r\\n        <img class=\"social-media-item lazy-image\" src=\"data:image/gif;base64,R0lGODlhAQABAIAAAAAAAP///yH5BAEAAAAALAAAAAABAAEAAAIBRAA7\" data-src=\"https://www.beerwulf.com/fr-fr/SysSiteAssets/homepage-header--theme-tiles/navigation/footer-navigation/follow-us/icon-twitter.svg?rev=207593035\" alt=\"Social media icon\" title=\"Social media icon\" />\\r\\n    </a>\\r\\n</li>\\r\\n\\r\\n\\r\\n        </ul>\\r\\n    </div>\\r\\n</div>\\r\\n\\r\\n        </div>\\r\\n        <div class=\"row payment-logos\">\\r\\n            <div class=\"footer-column columns\">\\r\\n                \\r\\n\\r\\n<h4 class=\"footer-heading\">Moyens de paiement - Livraisons</h4>\\r\\n<a href=\"/fr-fr/moyens-paiement-securises\" target=\"_blank\">\\r\\n    <img class=\"lazy-image\" src=\"data:image/gif;base64,R0lGODlhAQABAIAAAAAAAP///yH5BAEAAAAALAAAAAABAAEAAAIBRAA7\" data-src=\"https://www.beerwulf.com/globalassets/au-fr-esp-uk-it-mar2020.png?rev=334924766\" title=\"\" alt=\"\" />\\r\\n</a>\\r\\n\\r\\n            </div>\\r\\n        </div>\\r\\n            <div class=\"row\">\\r\\n                <div class=\"notice-text\">\\r\\n                    <p>Beerwulf fait partie d\\xe2\\x80\\x99HEINEKEN</p>\\r\\n                </div>\\r\\n            </div>\\r\\n    </div>\\r\\n\\r\\n    \\r\\n\\r\\n    <div class=\"row\">\\r\\n        <div class=\"columns text-center\">\\r\\n            <div class=\"lower-footerbar-logos\">\\r\\n                \\r\\n\\r\\n<a href=\"https://www.trustedshops.fr/evaluation/info_X1BD91F4E9061E45B9895C62A024ABC60.html?utm_source=shop&amp;utm_medium=link&amp;utm_content=TrustmarkCellNo1__trustmark_and_reviews&amp;utm_campaign=trustbadge_maximised\" target=\"_blank\" rel=\"nofollow\" class=\"footerbar-logo\">\\r\\n    <img class=\"lazy-image\" src=\"data:image/gif;base64,R0lGODlhAQABAIAAAAAAAP///yH5BAEAAAAALAAAAAABAAEAAAIBRAA7\" data-src=\"https://www.beerwulf.com/fr-fr/SysSiteAssets/homepage-header--theme-tiles/navigation/footer-navigation/underfooteritems/trustedshops_80px.png?rev=2097272303\" title=\"\" alt=\"\">\\r\\n</a>\\r\\n\\r\\n\\r\\n<a href=\"https://www.ecommercetrustmark.eu/\" target=\"_blank\" rel=\"nofollow\" class=\"footerbar-logo\">\\r\\n    <img class=\"lazy-image\" src=\"data:image/gif;base64,R0lGODlhAQABAIAAAAAAAP///yH5BAEAAAAALAAAAAABAAEAAAIBRAA7\" data-src=\"https://www.beerwulf.com/fr-fr/SysSiteAssets/homepage-header--theme-tiles/navigation/footer-navigation/underfooteritems/trust_ecommerce_logo.svg?rev=61156986\" title=\"\" alt=\"\">\\r\\n</a>\\r\\n\\r\\n\\r\\n<a href=\"https://solidarites-sante.gouv.fr/prevention-en-sante/addictions/article/alcool-cadre-legal\" target=\"_blank\" rel=\"nofollow\" class=\"footerbar-logo\">\\r\\n    <img class=\"lazy-image\" src=\"data:image/gif;base64,R0lGODlhAQABAIAAAAAAAP///yH5BAEAAAAALAAAAAABAAEAAAIBRAA7\" data-src=\"https://www.beerwulf.com/fr-fr/SysSiteAssets/homepage-header--theme-tiles/navigation/footer-navigation/underfooteritems/pregnancylogonoalcohol.jpeg?rev=1816339845\" title=\"\" alt=\"\">\\r\\n</a>\\r\\n\\r\\n            </div>\\r\\n            <div class=\"footer-smallprint\">\\r\\n                <a href=\"https://www.alcool-info-service.fr/\" target=\"_blank\">L\\xe2\\x80\\x99abus d\\xe2\\x80\\x99alcool est dangereux pour la sant&#233;, &#224; consommer avec mod&#233;ration</a>\\r\\n<a href=\"/fr-fr/conditions-generales\" target=\"_blank\">Conditions g&#233;n&#233;rales</a>\\r\\n<a href=\"/fr-fr/politique-de-confidentialite-et-cookies\" target=\"_blank\">Politique de Confidentialit&#233;</a>\\r\\n<a href=\"/fr-fr/politique-en-matiere-de-cookies\" target=\"_blank\">Cookies</a>\\r\\n<a href=\"https://www.beerwulf.com/trigger-cookie-tool\" target=\"_blank\">Configuration des cookies</a>\\r\\n<span class=\"js-language-select\">\\r\\n    <a href=\"/\">Fran&#231;ais (FR)</a>\\r\\n</span>\\r\\n\\r\\n            </div>\\r\\n        </div>\\r\\n    </div>\\r\\n</footer>\\r\\n\\r\\n\\r\\n\\r\\n    <input type=\"hidden\" id=\"refreshed\" value=\"no\" data-getcartcount-url=\"/fr-FR/api/Cart/Count\">\\r\\n\\r\\n    <div id=\"trustedShopsCustomBlock\"></div>\\r\\n    <script src=\"/static/dist/assets/js/BeerWulf.js?cb=232\"></script>\\r\\n</body>\\r\\n</html>\\r\\n'"
      ]
     },
     "execution_count": 34,
     "metadata": {},
     "output_type": "execute_result"
    }
   ],
   "source": [
    "# content\n",
    "r.content"
   ]
  },
  {
   "cell_type": "code",
   "execution_count": 35,
   "metadata": {},
   "outputs": [
    {
     "data": {
      "text/plain": [
       "bytes"
      ]
     },
     "execution_count": 35,
     "metadata": {},
     "output_type": "execute_result"
    }
   ],
   "source": [
    "# type\n",
    "type(r.content)"
   ]
  },
  {
   "cell_type": "code",
   "execution_count": 36,
   "metadata": {
    "collapsed": true
   },
   "outputs": [
    {
     "data": {
      "text/plain": [
       "'\\r\\n\\r\\n<!doctype html>\\r\\n<html class=\"no-js\" lang=\"fr-FR\"\\r\\n      data-original-lang=\"fr-FR\"\\r\\n      data-rendered-at=\"Sun, 04 Oct 2020 08:37:57 GMT\"\\r\\n      data-dynamic-ui-url=\"/fr-FR/api/dynamicUi\"\\r\\n      data-release=\"232\"\\r\\n      data-datalayer=\\'{\"page\":{\"type\":\"Home Page\",\"language\":\"fr-FR\",\"country\":\"FR\",\"currency\":\"EUR\"},\"event\":\"pageView\"}\\'\\r\\n      data-add-to-cart=\"Ajouter\"\\r\\n      data-out-of-stock=\"Revient vite !\">\\r\\n<head>\\r\\n    \\r\\n    <meta charset=\"utf-8\" />\\r\\n\\r\\n<title>Achat de bi&#232;res, f&#251;ts et tireuses en ligne  | Beerwulf</title>\\r\\n\\r\\n    <!-- Website Meta information -->\\r\\n    <meta property=\"og:url\" content=\"https://www.beerwulf.com/fr-fr\" />\\r\\n    <meta name=\"twitter:card\" content=\"summary_large_image\">\\r\\n    <meta name=\"twitter:site\" content=\"@BeerwulfWebshop\">\\r\\n    <meta name=\"twitter:creator\" content=\"@BeerwulfWebshop\">\\r\\n        <meta name=\"description\" content=\"D&#233;couvrez toutes nos tireuses &#224; bi&#232;re The SUB et BeerTender • +1000 bi&#232;res en bouteille • Coffrets et F&#251;ts de 2L et 5L • Livraison gratuite et rapide • Paiement s&#233;curis&#233; \" />\\r\\n        <meta name=\"title\" content=\"Achat de bi&#232;res, f&#251;ts et tireuses en ligne \" />\\r\\n        <meta property=\"og:description\" content=\"D&#233;couvrez toutes nos tireuses &#224; bi&#232;re The SUB et BeerTender • +1000 bi&#232;res en bouteille • Coffrets et F&#251;ts de 2L et 5L • Livraison gratuite et rapide • Paiement s&#233;curis&#233; \" />\\r\\n        <meta name=\"twitter:description\" content=\"D&#233;couvrez toutes nos tireuses &#224; bi&#232;re The SUB et BeerTender • +1000 bi&#232;res en bouteille • Coffrets et F&#251;ts de 2L et 5L • Livraison gratuite et rapide • Paiement s&#233;curis&#233; \">\\r\\n        <meta property=\"og:type\" content=\"HomePage\" />\\r\\n        <meta property=\"og:title\" content=\"Achat de bi&#232;res, f&#251;ts et tireuses en ligne \" />\\r\\n        <meta name=\"twitter:title\" content=\"Achat de bi&#232;res, f&#251;ts et tireuses en ligne \">\\r\\n        <meta property=\"og:image\" content=\"/fr-fr/SysSiteAssets/homepage-header--theme-tiles/generic_sharing_fb_fr.jpg?rev=1402182491\" />\\r\\n        <meta name=\"twitter:image\" content=\"/fr-fr/SysSiteAssets/homepage-header--theme-tiles/generic_sharing_fb_fr.jpg?rev=1402182491\" />\\r\\n\\r\\n    <meta http-equiv=\"x-ua-compatible\" content=\"ie=edge\"><script type=\"text/javascript\">window.NREUM||(NREUM={});NREUM.info = {\"beacon\":\"bam.nr-data.net\",\"errorBeacon\":\"bam.nr-data.net\",\"licenseKey\":\"NRJS-a90a78f489e3eb14e1b\",\"applicationID\":\"485457783\",\"transactionName\":\"YV1bN0FWXBVRU0BdW1gXdDVwGHoJXVVkVVNTe1YNR0VdClxVRht9WFxcGw==\",\"queueTime\":0,\"applicationTime\":195,\"agent\":\"\",\"atts\":\"\"}</script><script type=\"text/javascript\">(window.NREUM||(NREUM={})).loader_config={xpid:\"VgMDVlNXDxAEXFRWAgYAXlc=\",licenseKey:\"NRJS-a90a78f489e3eb14e1b\",applicationID:\"485457783\"};window.NREUM||(NREUM={}),__nr_require=function(t,e,n){function r(n){if(!e[n]){var i=e[n]={exports:{}};t[n][0].call(i.exports,function(e){var i=t[n][1][e];return r(i||e)},i,i.exports)}return e[n].exports}if(\"function\"==typeof __nr_require)return __nr_require;for(var i=0;i<n.length;i++)r(n[i]);return r}({1:[function(t,e,n){function r(t){try{c.console&&console.log(t)}catch(e){}}var i,o=t(\"ee\"),a=t(23),c={};try{i=localStorage.getItem(\"__nr_flags\").split(\",\"),console&&\"function\"==typeof console.log&&(c.console=!0,i.indexOf(\"dev\")!==-1&&(c.dev=!0),i.indexOf(\"nr_dev\")!==-1&&(c.nrDev=!0))}catch(s){}c.nrDev&&o.on(\"internal-error\",function(t){r(t.stack)}),c.dev&&o.on(\"fn-err\",function(t,e,n){r(n.stack)}),c.dev&&(r(\"NR AGENT IN DEVELOPMENT MODE\"),r(\"flags: \"+a(c,function(t,e){return t}).join(\", \")))},{}],2:[function(t,e,n){function r(t,e,n,r,c){try{p?p-=1:i(c||new UncaughtException(t,e,n),!0)}catch(f){try{o(\"ierr\",[f,s.now(),!0])}catch(d){}}return\"function\"==typeof u&&u.apply(this,a(arguments))}function UncaughtException(t,e,n){this.message=t||\"Uncaught error with no additional information\",this.sourceURL=e,this.line=n}function i(t,e){var n=e?null:s.now();o(\"err\",[t,n])}var o=t(\"handle\"),a=t(24),c=t(\"ee\"),s=t(\"loader\"),f=t(\"gos\"),u=window.onerror,d=!1,l=\"nr@seenError\",p=0;s.features.err=!0,t(1),window.onerror=r;try{throw new Error}catch(h){\"stack\"in h&&(t(9),t(8),\"addEventListener\"in window&&t(5),s.xhrWrappable&&t(10),d=!0)}c.on(\"fn-start\",function(t,e,n){d&&(p+=1)}),c.on(\"fn-err\",function(t,e,n){d&&!n[l]&&(f(n,l,function(){return!0}),this.thrown=!0,i(n))}),c.on(\"fn-end\",function(){d&&!this.thrown&&p>0&&(p-=1)}),c.on(\"internal-error\",function(t){o(\"ierr\",[t,s.now(),!0])})},{}],3:[function(t,e,n){t(\"loader\").features.ins=!0},{}],4:[function(t,e,n){function r(t){}if(window.performance&&window.performance.timing&&window.performance.getEntriesByType){var i=t(\"ee\"),o=t(\"handle\"),a=t(9),c=t(8),s=\"learResourceTimings\",f=\"addEventListener\",u=\"resourcetimingbufferfull\",d=\"bstResource\",l=\"resource\",p=\"-start\",h=\"-end\",m=\"fn\"+p,w=\"fn\"+h,v=\"bstTimer\",g=\"pushState\",y=t(\"loader\");y.features.stn=!0,t(7),\"addEventListener\"in window&&t(5);var x=NREUM.o.EV;i.on(m,function(t,e){var n=t[0];n instanceof x&&(this.bstStart=y.now())}),i.on(w,function(t,e){var n=t[0];n instanceof x&&o(\"bst\",[n,e,this.bstStart,y.now()])}),a.on(m,function(t,e,n){this.bstStart=y.now(),this.bstType=n}),a.on(w,function(t,e){o(v,[e,this.bstStart,y.now(),this.bstType])}),c.on(m,function(){this.bstStart=y.now()}),c.on(w,function(t,e){o(v,[e,this.bstStart,y.now(),\"requestAnimationFrame\"])}),i.on(g+p,function(t){this.time=y.now(),this.startPath=location.pathname+location.hash}),i.on(g+h,function(t){o(\"bstHist\",[location.pathname+location.hash,this.startPath,this.time])}),f in window.performance&&(window.performance[\"c\"+s]?window.performance[f](u,function(t){o(d,[window.performance.getEntriesByType(l)]),window.performance[\"c\"+s]()},!1):window.performance[f](\"webkit\"+u,function(t){o(d,[window.performance.getEntriesByType(l)]),window.performance[\"webkitC\"+s]()},!1)),document[f](\"scroll\",r,{passive:!0}),document[f](\"keypress\",r,!1),document[f](\"click\",r,!1)}},{}],5:[function(t,e,n){function r(t){for(var e=t;e&&!e.hasOwnProperty(u);)e=Object.getPrototypeOf(e);e&&i(e)}function i(t){c.inPlace(t,[u,d],\"-\",o)}function o(t,e){return t[1]}var a=t(\"ee\").get(\"events\"),c=t(\"wrap-function\")(a,!0),s=t(\"gos\"),f=XMLHttpRequest,u=\"addEventListener\",d=\"removeEventListener\";e.exports=a,\"getPrototypeOf\"in Object?(r(document),r(window),r(f.prototype)):f.prototype.hasOwnProperty(u)&&(i(window),i(f.prototype)),a.on(u+\"-start\",function(t,e){var n=t[1],r=s(n,\"nr@wrapped\",function(){function t(){if(\"function\"==typeof n.handleEvent)return n.handleEvent.apply(n,arguments)}var e={object:t,\"function\":n}[typeof n];return e?c(e,\"fn-\",null,e.name||\"anonymous\"):n});this.wrapped=t[1]=r}),a.on(d+\"-start\",function(t){t[1]=this.wrapped||t[1]})},{}],6:[function(t,e,n){function r(t,e,n){var r=t[e];\"function\"==typeof r&&(t[e]=function(){var t=o(arguments),e={};i.emit(n+\"before-start\",[t],e);var a;e[m]&&e[m].dt&&(a=e[m].dt);var c=r.apply(this,t);return i.emit(n+\"start\",[t,a],c),c.then(function(t){return i.emit(n+\"end\",[null,t],c),t},function(t){throw i.emit(n+\"end\",[t],c),t})})}var i=t(\"ee\").get(\"fetch\"),o=t(24),a=t(23);e.exports=i;var c=window,s=\"fetch-\",f=s+\"body-\",u=[\"arrayBuffer\",\"blob\",\"json\",\"text\",\"formData\"],d=c.Request,l=c.Response,p=c.fetch,h=\"prototype\",m=\"nr@context\";d&&l&&p&&(a(u,function(t,e){r(d[h],e,f),r(l[h],e,f)}),r(c,\"fetch\",s),i.on(s+\"end\",function(t,e){var n=this;if(e){var r=e.headers.get(\"content-length\");null!==r&&(n.rxSize=r),i.emit(s+\"done\",[null,e],n)}else i.emit(s+\"done\",[t],n)}))},{}],7:[function(t,e,n){var r=t(\"ee\").get(\"history\"),i=t(\"wrap-function\")(r);e.exports=r;var o=window.history&&window.history.constructor&&window.history.constructor.prototype,a=window.history;o&&o.pushState&&o.replaceState&&(a=o),i.inPlace(a,[\"pushState\",\"replaceState\"],\"-\")},{}],8:[function(t,e,n){var r=t(\"ee\").get(\"raf\"),i=t(\"wrap-function\")(r),o=\"equestAnimationFrame\";e.exports=r,i.inPlace(window,[\"r\"+o,\"mozR\"+o,\"webkitR\"+o,\"msR\"+o],\"raf-\"),r.on(\"raf-start\",function(t){t[0]=i(t[0],\"fn-\")})},{}],9:[function(t,e,n){function r(t,e,n){t[0]=a(t[0],\"fn-\",null,n)}function i(t,e,n){this.method=n,this.timerDuration=isNaN(t[1])?0:+t[1],t[0]=a(t[0],\"fn-\",this,n)}var o=t(\"ee\").get(\"timer\"),a=t(\"wrap-function\")(o),c=\"setTimeout\",s=\"setInterval\",f=\"clearTimeout\",u=\"-start\",d=\"-\";e.exports=o,a.inPlace(window,[c,\"setImmediate\"],c+d),a.inPlace(window,[s],s+d),a.inPlace(window,[f,\"clearImmediate\"],f+d),o.on(s+u,r),o.on(c+u,i)},{}],10:[function(t,e,n){function r(t,e){d.inPlace(e,[\"onreadystatechange\"],\"fn-\",c)}function i(){var t=this,e=u.context(t);t.readyState>3&&!e.resolved&&(e.resolved=!0,u.emit(\"xhr-resolved\",[],t)),d.inPlace(t,g,\"fn-\",c)}function o(t){y.push(t),h&&(b?b.then(a):w?w(a):(E=-E,R.data=E))}function a(){for(var t=0;t<y.length;t++)r([],y[t]);y.length&&(y=[])}function c(t,e){return e}function s(t,e){for(var n in t)e[n]=t[n];return e}t(5);var f=t(\"ee\"),u=f.get(\"xhr\"),d=t(\"wrap-function\")(u),l=NREUM.o,p=l.XHR,h=l.MO,m=l.PR,w=l.SI,v=\"readystatechange\",g=[\"onload\",\"onerror\",\"onabort\",\"onloadstart\",\"onloadend\",\"onprogress\",\"ontimeout\"],y=[];e.exports=u;var x=window.XMLHttpRequest=function(t){var e=new p(t);try{u.emit(\"new-xhr\",[e],e),e.addEventListener(v,i,!1)}catch(n){try{u.emit(\"internal-error\",[n])}catch(r){}}return e};if(s(p,x),x.prototype=p.prototype,d.inPlace(x.prototype,[\"open\",\"send\"],\"-xhr-\",c),u.on(\"send-xhr-start\",function(t,e){r(t,e),o(e)}),u.on(\"open-xhr-start\",r),h){var b=m&&m.resolve();if(!w&&!m){var E=1,R=document.createTextNode(E);new h(a).observe(R,{characterData:!0})}}else f.on(\"fn-end\",function(t){t[0]&&t[0].type===v||a()})},{}],11:[function(t,e,n){function r(t){if(!c(t))return null;var e=window.NREUM;if(!e.loader_config)return null;var n=(e.loader_config.accountID||\"\").toString()||null,r=(e.loader_config.agentID||\"\").toString()||null,f=(e.loader_config.trustKey||\"\").toString()||null;if(!n||!r)return null;var h=p.generateSpanId(),m=p.generateTraceId(),w=Date.now(),v={spanId:h,traceId:m,timestamp:w};return(t.sameOrigin||s(t)&&l())&&(v.traceContextParentHeader=i(h,m),v.traceContextStateHeader=o(h,w,n,r,f)),(t.sameOrigin&&!u()||!t.sameOrigin&&s(t)&&d())&&(v.newrelicHeader=a(h,m,w,n,r,f)),v}function i(t,e){return\"00-\"+e+\"-\"+t+\"-01\"}function o(t,e,n,r,i){var o=0,a=\"\",c=1,s=\"\",f=\"\";return i+\"@nr=\"+o+\"-\"+c+\"-\"+n+\"-\"+r+\"-\"+t+\"-\"+a+\"-\"+s+\"-\"+f+\"-\"+e}function a(t,e,n,r,i,o){var a=\"btoa\"in window&&\"function\"==typeof window.btoa;if(!a)return null;var c={v:[0,1],d:{ty:\"Browser\",ac:r,ap:i,id:t,tr:e,ti:n}};return o&&r!==o&&(c.d.tk=o),btoa(JSON.stringify(c))}function c(t){return f()&&s(t)}function s(t){var e=!1,n={};if(\"init\"in NREUM&&\"distributed_tracing\"in NREUM.init&&(n=NREUM.init.distributed_tracing),t.sameOrigin)e=!0;else if(n.allowed_origins instanceof Array)for(var r=0;r<n.allowed_origins.length;r++){var i=h(n.allowed_origins[r]);if(t.hostname===i.hostname&&t.protocol===i.protocol&&t.port===i.port){e=!0;break}}return e}function f(){return\"init\"in NREUM&&\"distributed_tracing\"in NREUM.init&&!!NREUM.init.distributed_tracing.enabled}function u(){return\"init\"in NREUM&&\"distributed_tracing\"in NREUM.init&&!!NREUM.init.distributed_tracing.exclude_newrelic_header}function d(){return\"init\"in NREUM&&\"distributed_tracing\"in NREUM.init&&NREUM.init.distributed_tracing.cors_use_newrelic_header!==!1}function l(){return\"init\"in NREUM&&\"distributed_tracing\"in NREUM.init&&!!NREUM.init.distributed_tracing.cors_use_tracecontext_headers}var p=t(20),h=t(13);e.exports={generateTracePayload:r,shouldGenerateTrace:c}},{}],12:[function(t,e,n){function r(t){var e=this.params,n=this.metrics;if(!this.ended){this.ended=!0;for(var r=0;r<l;r++)t.removeEventListener(d[r],this.listener,!1);e.aborted||(n.duration=a.now()-this.startTime,this.loadCaptureCalled||4!==t.readyState?null==e.status&&(e.status=0):o(this,t),n.cbTime=this.cbTime,u.emit(\"xhr-done\",[t],t),c(\"xhr\",[e,n,this.startTime]))}}function i(t,e){var n=s(e),r=t.params;r.host=n.hostname+\":\"+n.port,r.pathname=n.pathname,t.parsedOrigin=s(e),t.sameOrigin=t.parsedOrigin.sameOrigin}function o(t,e){t.params.status=e.status;var n=w(e,t.lastSize);if(n&&(t.metrics.rxSize=n),t.sameOrigin){var r=e.getResponseHeader(\"X-NewRelic-App-Data\");r&&(t.params.cat=r.split(\", \").pop())}t.loadCaptureCalled=!0}var a=t(\"loader\");if(a.xhrWrappable){var c=t(\"handle\"),s=t(13),f=t(11).generateTracePayload,u=t(\"ee\"),d=[\"load\",\"error\",\"abort\",\"timeout\"],l=d.length,p=t(\"id\"),h=t(17),m=t(16),w=t(14),v=window.XMLHttpRequest;a.features.xhr=!0,t(10),t(6),u.on(\"new-xhr\",function(t){var e=this;e.totalCbs=0,e.called=0,e.cbTime=0,e.end=r,e.ended=!1,e.xhrGuids={},e.lastSize=null,e.loadCaptureCalled=!1,t.addEventListener(\"load\",function(n){o(e,t)},!1),h&&(h>34||h<10)||window.opera||t.addEventListener(\"progress\",function(t){e.lastSize=t.loaded},!1)}),u.on(\"open-xhr-start\",function(t){this.params={method:t[0]},i(this,t[1]),this.metrics={}}),u.on(\"open-xhr-end\",function(t,e){\"loader_config\"in NREUM&&\"xpid\"in NREUM.loader_config&&this.sameOrigin&&e.setRequestHeader(\"X-NewRelic-ID\",NREUM.loader_config.xpid);var n=f(this.parsedOrigin);if(n){var r=!1;n.newrelicHeader&&(e.setRequestHeader(\"newrelic\",n.newrelicHeader),r=!0),n.traceContextParentHeader&&(e.setRequestHeader(\"traceparent\",n.traceContextParentHeader),n.traceContextStateHeader&&e.setRequestHeader(\"tracestate\",n.traceContextStateHeader),r=!0),r&&(this.dt=n)}}),u.on(\"send-xhr-start\",function(t,e){var n=this.metrics,r=t[0],i=this;if(n&&r){var o=m(r);o&&(n.txSize=o)}this.startTime=a.now(),this.listener=function(t){try{\"abort\"!==t.type||i.loadCaptureCalled||(i.params.aborted=!0),(\"load\"!==t.type||i.called===i.totalCbs&&(i.onloadCalled||\"function\"!=typeof e.onload))&&i.end(e)}catch(n){try{u.emit(\"internal-error\",[n])}catch(r){}}};for(var c=0;c<l;c++)e.addEventListener(d[c],this.listener,!1)}),u.on(\"xhr-cb-time\",function(t,e,n){this.cbTime+=t,e?this.onloadCalled=!0:this.called+=1,this.called!==this.totalCbs||!this.onloadCalled&&\"function\"==typeof n.onload||this.end(n)}),u.on(\"xhr-load-added\",function(t,e){var n=\"\"+p(t)+!!e;this.xhrGuids&&!this.xhrGuids[n]&&(this.xhrGuids[n]=!0,this.totalCbs+=1)}),u.on(\"xhr-load-removed\",function(t,e){var n=\"\"+p(t)+!!e;this.xhrGuids&&this.xhrGuids[n]&&(delete this.xhrGuids[n],this.totalCbs-=1)}),u.on(\"addEventListener-end\",function(t,e){e instanceof v&&\"load\"===t[0]&&u.emit(\"xhr-load-added\",[t[1],t[2]],e)}),u.on(\"removeEventListener-end\",function(t,e){e instanceof v&&\"load\"===t[0]&&u.emit(\"xhr-load-removed\",[t[1],t[2]],e)}),u.on(\"fn-start\",function(t,e,n){e instanceof v&&(\"onload\"===n&&(this.onload=!0),(\"load\"===(t[0]&&t[0].type)||this.onload)&&(this.xhrCbStart=a.now()))}),u.on(\"fn-end\",function(t,e){this.xhrCbStart&&u.emit(\"xhr-cb-time\",[a.now()-this.xhrCbStart,this.onload,e],e)}),u.on(\"fetch-before-start\",function(t){function e(t,e){var n=!1;return e.newrelicHeader&&(t.set(\"newrelic\",e.newrelicHeader),n=!0),e.traceContextParentHeader&&(t.set(\"traceparent\",e.traceContextParentHeader),e.traceContextStateHeader&&t.set(\"tracestate\",e.traceContextStateHeader),n=!0),n}var n,r=t[1]||{};\"string\"==typeof t[0]?n=t[0]:t[0]&&t[0].url&&(n=t[0].url),n&&(this.parsedOrigin=s(n),this.sameOrigin=this.parsedOrigin.sameOrigin);var i=f(this.parsedOrigin);if(i&&(i.newrelicHeader||i.traceContextParentHeader))if(\"string\"==typeof t[0]){var o={};for(var a in r)o[a]=r[a];o.headers=new Headers(r.headers||{}),e(o.headers,i)&&(this.dt=i),t.length>1?t[1]=o:t.push(o)}else t[0]&&t[0].headers&&e(t[0].headers,i)&&(this.dt=i)})}},{}],13:[function(t,e,n){var r={};e.exports=function(t){if(t in r)return r[t];var e=document.createElement(\"a\"),n=window.location,i={};e.href=t,i.port=e.port;var o=e.href.split(\"://\");!i.port&&o[1]&&(i.port=o[1].split(\"/\")[0].split(\"@\").pop().split(\":\")[1]),i.port&&\"0\"!==i.port||(i.port=\"https\"===o[0]?\"443\":\"80\"),i.hostname=e.hostname||n.hostname,i.pathname=e.pathname,i.protocol=o[0],\"/\"!==i.pathname.charAt(0)&&(i.pathname=\"/\"+i.pathname);var a=!e.protocol||\":\"===e.protocol||e.protocol===n.protocol,c=e.hostname===document.domain&&e.port===n.port;return i.sameOrigin=a&&(!e.hostname||c),\"/\"===i.pathname&&(r[t]=i),i}},{}],14:[function(t,e,n){function r(t,e){var n=t.responseType;return\"json\"===n&&null!==e?e:\"arraybuffer\"===n||\"blob\"===n||\"json\"===n?i(t.response):\"text\"===n||\"\"===n||void 0===n?i(t.responseText):void 0}var i=t(16);e.exports=r},{}],15:[function(t,e,n){function r(){}function i(t,e,n){return function(){return o(t,[f.now()].concat(c(arguments)),e?null:this,n),e?void 0:this}}var o=t(\"handle\"),a=t(23),c=t(24),s=t(\"ee\").get(\"tracer\"),f=t(\"loader\"),u=NREUM;\"undefined\"==typeof window.newrelic&&(newrelic=u);var d=[\"setPageViewName\",\"setCustomAttribute\",\"setErrorHandler\",\"finished\",\"addToTrace\",\"inlineHit\",\"addRelease\"],l=\"api-\",p=l+\"ixn-\";a(d,function(t,e){u[e]=i(l+e,!0,\"api\")}),u.addPageAction=i(l+\"addPageAction\",!0),u.setCurrentRouteName=i(l+\"routeName\",!0),e.exports=newrelic,u.interaction=function(){return(new r).get()};var h=r.prototype={createTracer:function(t,e){var n={},r=this,i=\"function\"==typeof e;return o(p+\"tracer\",[f.now(),t,n],r),function(){if(s.emit((i?\"\":\"no-\")+\"fn-start\",[f.now(),r,i],n),i)try{return e.apply(this,arguments)}catch(t){throw s.emit(\"fn-err\",[arguments,this,t],n),t}finally{s.emit(\"fn-end\",[f.now()],n)}}}};a(\"actionText,setName,setAttribute,save,ignore,onEnd,getContext,end,get\".split(\",\"),function(t,e){h[e]=i(p+e)}),newrelic.noticeError=function(t,e){\"string\"==typeof t&&(t=new Error(t)),o(\"err\",[t,f.now(),!1,e])}},{}],16:[function(t,e,n){e.exports=function(t){if(\"string\"==typeof t&&t.length)return t.length;if(\"object\"==typeof t){if(\"undefined\"!=typeof ArrayBuffer&&t instanceof ArrayBuffer&&t.byteLength)return t.byteLength;if(\"undefined\"!=typeof Blob&&t instanceof Blob&&t.size)return t.size;if(!(\"undefined\"!=typeof FormData&&t instanceof FormData))try{return JSON.stringify(t).length}catch(e){return}}}},{}],17:[function(t,e,n){var r=0,i=navigator.userAgent.match(/Firefox[\\\\/\\\\s](\\\\d+\\\\.\\\\d+)/);i&&(r=+i[1]),e.exports=r},{}],18:[function(t,e,n){function r(){return c.exists&&performance.now?Math.round(performance.now()):(o=Math.max((new Date).getTime(),o))-a}function i(){return o}var o=(new Date).getTime(),a=o,c=t(25);e.exports=r,e.exports.offset=a,e.exports.getLastTimestamp=i},{}],19:[function(t,e,n){function r(t,e){var n=t.getEntries();n.forEach(function(t){\"first-paint\"===t.name?d(\"timing\",[\"fp\",Math.floor(t.startTime)]):\"first-contentful-paint\"===t.name&&d(\"timing\",[\"fcp\",Math.floor(t.startTime)])})}function i(t,e){var n=t.getEntries();n.length>0&&d(\"lcp\",[n[n.length-1]])}function o(t){t.getEntries().forEach(function(t){t.hadRecentInput||d(\"cls\",[t])})}function a(t){if(t instanceof h&&!w){var e=Math.round(t.timeStamp),n={type:t.type};e<=l.now()?n.fid=l.now()-e:e>l.offset&&e<=Date.now()?(e-=l.offset,n.fid=l.now()-e):e=l.now(),w=!0,d(\"timing\",[\"fi\",e,n])}}function c(t){d(\"pageHide\",[l.now(),t])}if(!(\"init\"in NREUM&&\"page_view_timing\"in NREUM.init&&\"enabled\"in NREUM.init.page_view_timing&&NREUM.init.page_view_timing.enabled===!1)){var s,f,u,d=t(\"handle\"),l=t(\"loader\"),p=t(22),h=NREUM.o.EV;if(\"PerformanceObserver\"in window&&\"function\"==typeof window.PerformanceObserver){s=new PerformanceObserver(r);try{s.observe({entryTypes:[\"paint\"]})}catch(m){}f=new PerformanceObserver(i);try{f.observe({entryTypes:[\"largest-contentful-paint\"]})}catch(m){}u=new PerformanceObserver(o);try{u.observe({type:\"layout-shift\",buffered:!0})}catch(m){}}if(\"addEventListener\"in document){var w=!1,v=[\"click\",\"keydown\",\"mousedown\",\"pointerdown\",\"touchstart\"];v.forEach(function(t){document.addEventListener(t,a,!1)})}p(c)}},{}],20:[function(t,e,n){function r(){function t(){return e?15&e[n++]:16*Math.random()|0}var e=null,n=0,r=window.crypto||window.msCrypto;r&&r.getRandomValues&&(e=r.getRandomValues(new Uint8Array(31)));for(var i,o=\"xxxxxxxx-xxxx-4xxx-yxxx-xxxxxxxxxxxx\",a=\"\",c=0;c<o.length;c++)i=o[c],\"x\"===i?a+=t().toString(16):\"y\"===i?(i=3&t()|8,a+=i.toString(16)):a+=i;return a}function i(){return a(16)}function o(){return a(32)}function a(t){function e(){return n?15&n[r++]:16*Math.random()|0}var n=null,r=0,i=window.crypto||window.msCrypto;i&&i.getRandomValues&&Uint8Array&&(n=i.getRandomValues(new Uint8Array(31)));for(var o=[],a=0;a<t;a++)o.push(e().toString(16));return o.join(\"\")}e.exports={generateUuid:r,generateSpanId:i,generateTraceId:o}},{}],21:[function(t,e,n){function r(t,e){if(!i)return!1;if(t!==i)return!1;if(!e)return!0;if(!o)return!1;for(var n=o.split(\".\"),r=e.split(\".\"),a=0;a<r.length;a++)if(r[a]!==n[a])return!1;return!0}var i=null,o=null,a=/Version\\\\/(\\\\S+)\\\\s+Safari/;if(navigator.userAgent){var c=navigator.userAgent,s=c.match(a);s&&c.indexOf(\"Chrome\")===-1&&c.indexOf(\"Chromium\")===-1&&(i=\"Safari\",o=s[1])}e.exports={agent:i,version:o,match:r}},{}],22:[function(t,e,n){function r(t){function e(){t(a&&document[a]?document[a]:document[i]?\"hidden\":\"visible\")}\"addEventListener\"in document&&o&&document.addEventListener(o,e,!1)}e.exports=r;var i,o,a;\"undefined\"!=typeof document.hidden?(i=\"hidden\",o=\"visibilitychange\",a=\"visibilityState\"):\"undefined\"!=typeof document.msHidden?(i=\"msHidden\",o=\"msvisibilitychange\"):\"undefined\"!=typeof document.webkitHidden&&(i=\"webkitHidden\",o=\"webkitvisibilitychange\",a=\"webkitVisibilityState\")},{}],23:[function(t,e,n){function r(t,e){var n=[],r=\"\",o=0;for(r in t)i.call(t,r)&&(n[o]=e(r,t[r]),o+=1);return n}var i=Object.prototype.hasOwnProperty;e.exports=r},{}],24:[function(t,e,n){function r(t,e,n){e||(e=0),\"undefined\"==typeof n&&(n=t?t.length:0);for(var r=-1,i=n-e||0,o=Array(i<0?0:i);++r<i;)o[r]=t[e+r];return o}e.exports=r},{}],25:[function(t,e,n){e.exports={exists:\"undefined\"!=typeof window.performance&&window.performance.timing&&\"undefined\"!=typeof window.performance.timing.navigationStart}},{}],ee:[function(t,e,n){function r(){}function i(t){function e(t){return t&&t instanceof r?t:t?s(t,c,o):o()}function n(n,r,i,o){if(!l.aborted||o){t&&t(n,r,i);for(var a=e(i),c=m(n),s=c.length,f=0;f<s;f++)c[f].apply(a,r);var d=u[y[n]];return d&&d.push([x,n,r,a]),a}}function p(t,e){g[t]=m(t).concat(e)}function h(t,e){var n=g[t];if(n)for(var r=0;r<n.length;r++)n[r]===e&&n.splice(r,1)}function m(t){return g[t]||[]}function w(t){return d[t]=d[t]||i(n)}function v(t,e){f(t,function(t,n){e=e||\"feature\",y[n]=e,e in u||(u[e]=[])})}var g={},y={},x={on:p,addEventListener:p,removeEventListener:h,emit:n,get:w,listeners:m,context:e,buffer:v,abort:a,aborted:!1};return x}function o(){return new r}function a(){(u.api||u.feature)&&(l.aborted=!0,u=l.backlog={})}var c=\"nr@context\",s=t(\"gos\"),f=t(23),u={},d={},l=e.exports=i();l.backlog=u},{}],gos:[function(t,e,n){function r(t,e,n){if(i.call(t,e))return t[e];var r=n();if(Object.defineProperty&&Object.keys)try{return Object.defineProperty(t,e,{value:r,writable:!0,enumerable:!1}),r}catch(o){}return t[e]=r,r}var i=Object.prototype.hasOwnProperty;e.exports=r},{}],handle:[function(t,e,n){function r(t,e,n,r){i.buffer([t],r),i.emit(t,e,n)}var i=t(\"ee\").get(\"handle\");e.exports=r,r.ee=i},{}],id:[function(t,e,n){function r(t){var e=typeof t;return!t||\"object\"!==e&&\"function\"!==e?-1:t===window?0:a(t,o,function(){return i++})}var i=1,o=\"nr@id\",a=t(\"gos\");e.exports=r},{}],loader:[function(t,e,n){function r(){if(!b++){var t=x.info=NREUM.info,e=l.getElementsByTagName(\"script\")[0];if(setTimeout(f.abort,3e4),!(t&&t.licenseKey&&t.applicationID&&e))return f.abort();s(g,function(e,n){t[e]||(t[e]=n)});var n=a();c(\"mark\",[\"onload\",n+x.offset],null,\"api\"),c(\"timing\",[\"load\",n]);var r=l.createElement(\"script\");r.src=\"https://\"+t.agent,e.parentNode.insertBefore(r,e)}}function i(){\"complete\"===l.readyState&&o()}function o(){c(\"mark\",[\"domContent\",a()+x.offset],null,\"api\")}var a=t(18),c=t(\"handle\"),s=t(23),f=t(\"ee\"),u=t(21),d=window,l=d.document,p=\"addEventListener\",h=\"attachEvent\",m=d.XMLHttpRequest,w=m&&m.prototype;NREUM.o={ST:setTimeout,SI:d.setImmediate,CT:clearTimeout,XHR:m,REQ:d.Request,EV:d.Event,PR:d.Promise,MO:d.MutationObserver};var v=\"\"+location,g={beacon:\"bam.nr-data.net\",errorBeacon:\"bam.nr-data.net\",agent:\"js-agent.newrelic.com/nr-1184.min.js\"},y=m&&w&&w[p]&&!/CriOS/.test(navigator.userAgent),x=e.exports={offset:a.getLastTimestamp(),now:a,origin:v,features:{},xhrWrappable:y,userAgent:u};t(15),t(19),l[p]?(l[p](\"DOMContentLoaded\",o,!1),d[p](\"load\",r,!1)):(l[h](\"onreadystatechange\",i),d[h](\"onload\",r)),c(\"mark\",[\"firstbyte\",a.getLastTimestamp()],null,\"api\");var b=0},{}],\"wrap-function\":[function(t,e,n){function r(t){return!(t&&t instanceof Function&&t.apply&&!t[a])}var i=t(\"ee\"),o=t(24),a=\"nr@original\",c=Object.prototype.hasOwnProperty,s=!1;e.exports=function(t,e){function n(t,e,n,i){function nrWrapper(){var r,a,c,s;try{a=this,r=o(arguments),c=\"function\"==typeof n?n(r,a):n||{}}catch(f){l([f,\"\",[r,a,i],c])}u(e+\"start\",[r,a,i],c);try{return s=t.apply(a,r)}catch(d){throw u(e+\"err\",[r,a,d],c),d}finally{u(e+\"end\",[r,a,s],c)}}return r(t)?t:(e||(e=\"\"),nrWrapper[a]=t,d(t,nrWrapper),nrWrapper)}function f(t,e,i,o){i||(i=\"\");var a,c,s,f=\"-\"===i.charAt(0);for(s=0;s<e.length;s++)c=e[s],a=t[c],r(a)||(t[c]=n(a,f?c+i:i,o,c))}function u(n,r,i){if(!s||e){var o=s;s=!0;try{t.emit(n,r,i,e)}catch(a){l([a,n,r,i])}s=o}}function d(t,e){if(Object.defineProperty&&Object.keys)try{var n=Object.keys(t);return n.forEach(function(n){Object.defineProperty(e,n,{get:function(){return t[n]},set:function(e){return t[n]=e,e}})}),e}catch(r){l([r])}for(var i in t)c.call(t,i)&&(e[i]=t[i]);return e}function l(e){try{t.emit(\"internal-error\",e)}catch(n){}}return t||(t=i),n.inPlace=f,n.flag=a,n}},{}]},{},[\"loader\",2,12,4,3]);</script>\\r\\n\\r\\n    <link rel=\"preconnect\" href=\"https://fonts.gstatic.com/\" crossorigin>\\r\\n    <link href=\"https://fonts.googleapis.com/css2?family=Lato:wght@300;400;700;900&family=Teko:wght@400;600;700\" rel=\"stylesheet\">\\r\\n    <link rel=\"stylesheet\" href=\"/static/dist/assets/css/app.css?cb=232\">\\r\\n\\r\\n    <link rel=\"apple-touch-icon\" sizes=\"180x180\" href=\"/apple-touch-icon.png\">\\r\\n    <link rel=\"icon\" type=\"image/png\" href=\"/favicon-32x32.png\" sizes=\"32x32\">\\r\\n    <link rel=\"icon\" type=\"image/png\" href=\"/favicon-16x16.png\" sizes=\"16x16\">\\r\\n    <link rel=\"manifest\" href=\"/manifest.json\">\\r\\n    <link rel=\"mask-icon\" href=\"/safari-pinned-tab.svg\" color=\"#333333\">\\r\\n    <meta name=\"viewport\" content=\"width=device-width, initial-scale=1.0\">\\r\\n    <meta name=\"theme-color\" content=\"#ffffff\">\\r\\n\\r\\n    <link rel=\"alternate\" href=\"https://www.beerwulf.com/en-gb\" hreflang=\"en-GB\"/>\\r\\n    <link rel=\"alternate\" href=\"https://www.beerwulf.com/nl\" hreflang=\"nl-NL\"/>\\r\\n    <link rel=\"alternate\" href=\"https://www.beerwulf.com/nl-be\" hreflang=\"nl-BE\"/>\\r\\n    <link rel=\"alternate\" href=\"https://www.beerwulf.com/en-nl\" hreflang=\"en-NL\"/>\\r\\n    <link rel=\"alternate\" href=\"https://www.beerwulf.com/fr-be\" hreflang=\"fr-BE\"/>\\r\\n    <link rel=\"alternate\" href=\"https://www.beerwulf.com/de-de\" hreflang=\"de-DE\"/>\\r\\n    <link rel=\"alternate\" href=\"https://www.beerwulf.com/fr-fr\" hreflang=\"fr-FR\"/>\\r\\n    <link rel=\"alternate\" href=\"https://www.beerwulf.com/de-at\" hreflang=\"de-AT\"/>\\r\\n    <link rel=\"alternate\" href=\"https://www.beerwulf.com/it-it\" hreflang=\"it-IT\"/>\\r\\n    <link rel=\"alternate\" href=\"https://www.beerwulf.com/es-es\" hreflang=\"es-ES\"/>\\r\\n    <link rel=\"alternate\" href=\"https://www.beerwulf.com/pt-pt\" hreflang=\"pt-PT\"/>\\r\\n    <link rel=\"alternate\" href=\"https://www.beerwulf.com/fr-lu\" hreflang=\"fr-LU\"/>\\r\\n    <link rel=\"alternate\" href=\"https://ch.blade.shop/index.php/locale:de_CH/the-sub\" hreflang=\"de-CH\"/>\\r\\n    <link rel=\"alternate\" href=\"https://ch.blade.shop/index.php/locale:fr_CH/the-sub\" hreflang=\"fr-CH\"/>\\r\\n\\r\\n\\r\\n        <link rel=\"canonical\" href=\"https://www.beerwulf.com/fr-fr\" />\\r\\n        \\r\\n        <meta name=\"robots\" content=\"index\">\\r\\n\\r\\n    <!--Load only for production environment -->\\r\\n        <script type=\"text/javascript\" src=\"//nexus.ensighten.com/heineken/beerwulf-com_-_prod/Bootstrap.js\"></script>\\r\\n        <script src=\\'https://static.goqubit.com/smartserve-5529.js\\' async defer></script>\\r\\n\\r\\n        <script id=\"gtm-model\">\\r\\n            window[\\'noBlocker\\'] = true;\\r\\n            window.dataLayer = window.dataLayer || [];\\r\\n        </script>\\r\\n\\r\\n\\r\\n    <!-- Google Tag Manager -->\\r\\n    <script>\\r\\n        (function (w, d, s, l, i) {\\r\\n            w[l] = w[l] || []; w[l].push({\\r\\n                \\'gtm.start\\':\\r\\n                new Date().getTime(), event: \\'gtm.js\\'\\r\\n            }); var f = d.getElementsByTagName(s)[0],\\r\\n            j = d.createElement(s), dl = l != \\'dataLayer\\' ? \\'&l=\\' + l : \\'\\'; j.async = true; j.src =\\r\\n                \\'//www.googletagmanager.com/gtm.js?id=\\' + i + dl; f.parentNode.insertBefore(j, f);\\r\\n        })(window, document, \\'script\\', \\'dataLayer\\', \\'GTM-WXLJX3P\\');</script>\\r\\n    <!-- End Google Tag Manager -->\\r\\n\\r\\n        <script src=\"https://js.chargebee.com/v2/chargebee.js\" data-cb-site=\"beerwulf-test\"></script>\\r\\n\\r\\n\\r\\n    <!--Load only for production environment -->\\r\\n\\r\\n\\r\\n    <script src=\"//t.contentsquare.net/uxt/a0ca5fb6a8742.js\"></script>\\r\\n</head>\\r\\n<body class=\"homepage\">\\r\\n\\r\\n<!-- Google DataLayers -->    <!-- Google Tag Manager -->\\r\\n    <noscript>\\r\\n        <iframe src=\"//www.googletagmanager.com/ns.html?id=GTM-WXLJX3P\"\\r\\n                height=\"0\" width=\"0\" style=\"display:none;visibility:hidden\"></iframe>\\r\\n    </noscript>\\r\\n    <!-- End Google Tag Manager -->\\r\\n\\r\\n\\r\\n    \\r\\n\\r\\n\\r\\n\\r\\n<header class=\"header stickit\">\\r\\n    <div class=\"headercontainer show-search homepage\">\\r\\n        <div class=\"top-header\">\\r\\n            <div class=\"header-row\">\\r\\n                <div class=\"text-benefit\">\\r\\n<div>\\r\\n    <span>\\r\\n        <a target=\"_blank\" href=\"/fr-fr/livraison-et-retours\">\\r\\n            Livraison  en 3-5 jours ouvr&#233;s\\r\\n        </a>\\r\\n    </span>\\r\\n</div><div>\\r\\n    <span>\\r\\n        <a target=\"_blank\" href=\"/fr-fr/livraison-et-retours\">\\r\\n            Livraison gratuite pour les colis complets !\\r\\n        </a>\\r\\n    </span>\\r\\n</div><div>\\r\\n    <span>\\r\\n        <a target=\"_blank\" href=\"/fr-fr/nouveau-point-de-vente-pour-futs-the-sub\">\\r\\n            Votre nouveau point de vente pour f&#251;ts 2L\\r\\n        </a>\\r\\n    </span>\\r\\n</div>\\r\\n\\r\\n                </div>\\r\\n            </div>\\r\\n        </div>\\r\\n\\r\\n        <div class=\"header-row-cover\">\\r\\n            <div class=\"header-row\">\\r\\n                <div class=\"header-column\">\\r\\n                    <a href=\"/fr-fr\" class=\"logo\">logo</a>\\r\\n                </div>\\r\\n\\r\\n                <div class=\"header-column js-search-container\">\\r\\n                    \\r\\n<div class=\"header-search-wrapper\">\\r\\n    <form method=\"post\" action=\"/fr-fr\" class=\"header-search icon-search\" id=\"header-search\" autocomplete=\"off\">\\r\\n        <input type=\"search\" name=\"searchInput\" class=\"header-search-input\" id=\"header-search-input\" placeholder=\"Quelle bière recherchez-vous\\xa0? Quel Brasseur ?\" autofocus autocomplete=\"off\">\\r\\n        <input type=\"hidden\" id=\"type-input\" name=\"type\" value=\"0\">\\r\\n        <button type=\"submit\" class=\"header-search-submit button centered-content\">\\r\\n            <svg role=\"img\">\\r\\n                <use xlink:href=\"/static/dist/assets/img/svg.svg#magnifier\"></use>\\r\\n            </svg>\\r\\n        </button>\\r\\n    </form>\\r\\n    <div class=\"search-results-container\">\\r\\n        <h4><span class=\"js-total-count\">0</span> R&#233;sultat de la recherche</h4>\\r\\n        <div class=\"search-results\">\\r\\n            <div class=\"single-result js-products-container\" data-search-type=\"products\">\\r\\n                <svg role=\"img\">\\r\\n                    <use xlink:href=\"/static/dist/assets/img/svg.svg#beer\"></use>\\r\\n                </svg>\\r\\n                <div>\\r\\n                    <p><span class=\"js-products-count\">0</span> <span class=\"js-products-title\" data-singular-translation=\"Produit\" data-plural-translation=\"Produits\"></span> Trouv&#233;s</p><a href=\"#\">Tout voir</a>\\r\\n                </div>\\r\\n            </div>\\r\\n            <div class=\"single-result js-articles-container\" data-search-type=\"articles\">\\r\\n                <svg role=\"img\">\\r\\n                    <use xlink:href=\"/static/dist/assets/img/svg.svg#article\"></use>\\r\\n                </svg>\\r\\n                <div>\\r\\n                    <p><span class=\"js-articles-count\">0</span> <span class=\"js-articles-title\" data-singular-translation=\"Article\" data-plural-translation=\"Articles\"></span> Trouv&#233;s</p><a href=\"#\">Tout voir</a>\\r\\n                </div>\\r\\n            </div>\\r\\n            <div class=\"single-result js-brewers-container\" data-search-type=\"brewers\">\\r\\n                <svg role=\"img\">\\r\\n                    <use xlink:href=\"/static/dist/assets/img/svg.svg#barrel\"></use>\\r\\n                </svg>\\r\\n                <div>\\r\\n                    <p><span class=\"js-brewers-count\">0</span> <span class=\"js-brewers-title\" data-singular-translation=\"Brasseur\" data-plural-translation=\"Brasseurs\"></span> Trouv&#233;s</p><a href=\"#\">Tout voir</a>\\r\\n                </div>\\r\\n            </div>\\r\\n        </div>\\r\\n    </div>\\r\\n</div>\\r\\n\\r\\n                </div>\\r\\n\\r\\n                <div class=\"header-column\">\\r\\n                    <div class=\"header-shoppingcountry header-icon\">\\r\\n                        <div class=\"show-for-medium\">\\r\\n                            \\r\\n<div class=\"currentselect js-language-select\">\\r\\n    <a href=\"/\" class=\"language-flag js-language-selector\">\\r\\n        <svg role=\"img\">\\r\\n            <use xlink:href=\"/static/dist/assets/img/svg.svg#flag-fr\"></use>\\r\\n        </svg>\\r\\n    </a>\\r\\n</div>\\r\\n\\r\\n                        </div>\\r\\n\\r\\n                        <div class=\"js-toggle-search mobile-search show-for-small-only\">\\r\\n                            <svg role=\"img\">\\r\\n                                <use xlink:href=\"/static/dist/assets/img/svg.svg#magnifier\"></use>\\r\\n                            </svg>\\r\\n                        </div>\\r\\n                    </div>\\r\\n\\r\\n                    <div class=\"header-shoppinglist js-header-account header-icon\">\\r\\n                        \\r\\n    <a class=\"menu-icon logged-out active\" href=\"/fr-FR/AccountInformation/OrderHistory\">\\r\\n        <svg role=\"img\">\\r\\n            <use xlink:href=\"/static/dist/assets/img/svg.svg#account_logged_out\"></use>\\r\\n        </svg>\\r\\n    </a>\\r\\n\\r\\n                    </div>\\r\\n\\r\\n                    <div class=\"js-header-account header-wishlist header-icon show-for-medium\">\\r\\n                        \\r\\n<div id=\"js-header-shoppinglist\" data-codes=\"\">\\r\\n    <a href=\"/fr-FR/AccountInformation/Wishlist\">\\r\\n        <svg role=\"img\">\\r\\n            <use xlink:href=\"/static/dist/assets/img/svg.svg#icon_shoppinglist_header\"></use>\\r\\n        </svg>\\r\\n    </a>\\r\\n</div>\\r\\n                    </div>\\r\\n                    \\r\\n\\r\\n\\r\\n<div class=\"header-shoppingcart js-shoppingcart\"\\r\\n     data-ajax-post-url=\"/fr-FR/api/Cart\"\\r\\n     data-ajax-count-url=\"/fr-FR/api/cart/count/detail\"\\r\\n     data-cart-empty=\"Votre panier est vide\">\\r\\n    <a href=\"/fr-fr/panier\" class=\"js-shopping-cart-link shopping-cart-link\">\\r\\n        <svg role=\"img\">\\r\\n            <use xlink:href=\"/static/dist/assets/img/svg.svg#btn-cart\"></use>\\r\\n        </svg>\\r\\n\\r\\n        <span class=\"show-for-sr\">Vos bières</span>\\r\\n        <span class=\"header-counter hide\" id=\"shoppincarttotal\">0</span>\\r\\n    </a>\\r\\n</div>\\r\\n                </div>\\r\\n            </div>\\r\\n\\r\\n            <div class=\"account-block hide-for-large\">\\r\\n                    <a href=\"/fr-FR/AccountInformation/OrderHistory?returnUrl=%2Ffr-fr\">\\r\\n        <svg role=\"img\" class=\"logged-out active\">\\r\\n            <use xlink:href=\"/static/dist/assets/img/svg.svg#account_logged_out\"></use>\\r\\n        </svg>\\r\\n    </a>\\r\\n\\r\\n            </div>\\r\\n\\r\\n\\r\\n    <div class=\"header-row navigation-row\">\\r\\n        <div class=\"header-column secondary-nav\">\\r\\n            \\r\\n    <div class=\"menu-item browse-toggle\">\\r\\n            <h3>Bi&#232;res</h3>\\r\\n        <div class=\"navigation-container\">\\r\\n            <nav class=\"navigation\">\\r\\n                <div class=\"main-nav-row\">\\r\\n                    \\r\\n    <div class=\"main-nav-col single-column\">\\r\\n        <div class=\"beer-content\">\\r\\n                <h4>Notre s&#233;lection</h4>\\r\\n            <ul class=\"no-bullet\">\\r\\n                    <li><a href=\"/fr-fr/c/bieres\">Toutes les bi&#232;res</a></li>\\r\\n    <li><a href=\"/fr-fr/c?specialOffer=Meilleures+Ventes\">Meilleures ventes</a></li>\\r\\n    <li><a href=\"/fr-fr/c?specialOffer=Nouveaut%c3%a9s\">Nouveaut&#233;s</a></li>\\r\\n    <li><a href=\"/fr-fr/promos-biere-tireuse-a-biere\">PROMOS</a></li>\\r\\n    <li><a href=\"/fr-fr/c/futsthesub\">F&#251;ts The SUB</a></li>\\r\\n    <li><a href=\"/fr-fr/c?container=F%c3%bbt+de+5L&amp;page=1\">F&#251;ts 5L</a></li>\\r\\n\\r\\n            </ul>\\r\\n        </div>\\r\\n    </div>\\r\\n\\r\\n    <div class=\"main-nav-col double-column\">\\r\\n        <div class=\"beer-content\">\\r\\n                <h4>Styles</h4>\\r\\n            <ul class=\"no-bullet\">\\r\\n                    <li><a href=\"/fr-fr/c/biereblonde\">Bi&#232;re Blonde</a></li>\\r\\n    <li><a href=\"/fr-fr/c/bieredouble\">Bi&#232;re Double</a></li>\\r\\n    <li><a href=\"/fr-fr/c/bieretriple\">Bi&#232;re Triple</a></li>\\r\\n    <li><a href=\"/fr-fr/c/ipa\">IPA</a></li>\\r\\n    <li><a href=\"/fr-fr/c/paleale\">Pale Ale</a></li>\\r\\n    <li><a href=\"/fr-fr/c/biereporter-stout\">Bi&#232;re Porter &amp; Stout</a></li>\\r\\n    <li><a href=\"/fr-fr/c/bierebock\">Bi&#232;re Bock</a></li>\\r\\n    <li><a href=\"/fr-fr/c/bieresour\">Bi&#232;re Sour</a></li>\\r\\n    <li><a href=\"/fr-fr/c/biereambree\">Bi&#232;re Ambr&#233;e</a></li>\\r\\n    <li><a href=\"/fr-fr/c/lager\">Lager</a></li>\\r\\n    <li><a href=\"/fr-fr/c/biereblanche\">Bi&#232;re Blanche</a></li>\\r\\n    <li><a href=\"/fr-fr/c/pils-hoppylager\">Bi&#232;re Pils</a></li>\\r\\n    <li><a href=\"/fr-fr/c/bierebrune\">Bi&#232;re Brune</a></li>\\r\\n    <li><a href=\"/fr-fr/c/bieredegarden-saison\">Bi&#232;re de Garde &amp; Saison</a></li>\\r\\n    <li><a href=\"/fr-fr/c/biereweiss\">Bi&#232;re Weiss</a></li>\\r\\n    <li><a href=\"/fr-fr/c/bierebarleywine\">Bi&#232;re Barley Wine</a></li>\\r\\n    <li><a href=\"/fr-fr/c/bierequadruple\">Bi&#232;re Quadruple</a></li>\\r\\n    <li><a href=\"/fr-fr/c/bierefruitee\">Bi&#232;re Fruit&#233;e</a></li>\\r\\n\\r\\n            </ul>\\r\\n        </div>\\r\\n    </div>\\r\\n\\r\\n    <div class=\"main-nav-col double-column\">\\r\\n        <div class=\"beer-content\">\\r\\n                <h4>Pays</h4>\\r\\n            <ul class=\"no-bullet\">\\r\\n                    <li><a href=\"/fr-fr/c/biereallemande\">Allemagne</a></li>\\r\\n    <li><a href=\"/fr-fr/c/biereautrichienne\">Autriche</a></li>\\r\\n    <li><a href=\"/fr-fr/c/bierebelge\">Belgique</a></li>\\r\\n    <li><a href=\"/fr-fr/c/bierechinoise\">Chine</a></li>\\r\\n    <li><a href=\"/fr-fr/c/bierecanadienne\">Canada</a></li>\\r\\n    <li><a href=\"/fr-fr/c/biereestonienne\">Estonie</a></li>\\r\\n    <li><a href=\"/fr-fr/c/biereespagnole\">Espagne</a></li>\\r\\n    <li><a href=\"/fr-fr/c/biereamericaine\">&#201;tats-Unis</a></li>\\r\\n    <li><a href=\"/fr-fr/c/bierefrancaise\">France</a></li>\\r\\n    <li><a href=\"/fr-fr/c/biereindienne\">Inde</a></li>\\r\\n    <li><a href=\"/fr-fr/c/biereindonesienne\">Indon&#233;sie</a></li>\\r\\n    <li><a href=\"/fr-fr/c/biereirlandaise\">Irlande</a></li>\\r\\n    <li><a href=\"/fr-fr/c/biereitalienne\">Italie</a></li>\\r\\n    <li><a href=\"/fr-fr/c/bierejaponaise\">Japon</a></li>\\r\\n    <li><a href=\"/fr-fr/c/bieremexicaine\">Mexique</a></li>\\r\\n    <li><a href=\"/fr-fr/c/biereneerlandaise\">Pays-Bas</a></li>\\r\\n    <li><a href=\"/fr-fr/c/bieredephilippines\">Philippines</a></li>\\r\\n    <li><a href=\"/fr-fr/c/biereportuguaise\">Portugal</a></li>\\r\\n    <li><a href=\"/fr-fr/c/bieretcheque\">R&#233;publique Tch&#232;que</a></li>\\r\\n    <li><a href=\"/fr-fr/c/biereanglaise\">Royaume-Uni</a></li>\\r\\n    <li><a href=\"/fr-fr/c/bieresingapour\">Singapour</a></li>\\r\\n    <li><a href=\"/fr-fr/c/bierethailandaise\">Tha&#239;lande</a></li>\\r\\n    <li><a href=\"/fr-fr/c/bierevietnamienne\">Vietnam</a></li>\\r\\n\\r\\n            </ul>\\r\\n        </div>\\r\\n    </div>\\r\\n\\r\\n    <div class=\"main-nav-col double-column\">\\r\\n        <div class=\"beer-content\">\\r\\n                <h4>Autres sp&#233;cificit&#233;s</h4>\\r\\n            <ul class=\"no-bullet\">\\r\\n                    <li><a href=\"/fr-fr/c/biere-sans-alcool\">Bi&#232;re sans alcool</a></li>\\r\\n    <li><a href=\"/fr-fr/c/biere-biologique\">Bi&#232;re biologique</a></li>\\r\\n    <li><a href=\"/fr-fr/c/bieres-vegan\">Bi&#232;re vegan</a></li>\\r\\n    <li><a href=\"/fr-fr/c/biere-sans-gluten\">Bi&#232;re sans gluten</a></li>\\r\\n\\r\\n            </ul>\\r\\n        </div>\\r\\n    </div>\\r\\n\\r\\n                </div>\\r\\n            </nav>\\r\\n        </div>\\r\\n    </div>\\r\\n\\r\\n    <div class=\"menu-item browse-toggle\">\\r\\n            <h3>Tireuses et Tubes</h3>\\r\\n        <div class=\"navigation-container\">\\r\\n            <nav class=\"navigation\">\\r\\n                <div class=\"main-nav-row\">\\r\\n                    \\r\\n\\r\\n    <div class=\"main-nav-col image-column\">\\r\\n        <div class=\"beer-content\">\\r\\n            <div class=\"nav-ad-con\">\\r\\n                <a href=\"/fr-fr/tireuse-a-biere-the-sub\">\\r\\n                    <img class=\"lazy-image\" src=\"data:image/gif;base64,R0lGODlhAQABAIAAAAAAAP///yH5BAEAAAAALAAAAAABAAEAAAIBRAA7\" data-src=\"https://www.beerwulf.com/globalassets/3.-navigation-icons/homedraught_assortment_appliance_sub_navigation_v2.jpg?rev=1557477805\" alt=\"Tireuse THE SUB (2L)\" title=\"Tireuse THE SUB (2L)\" />\\r\\n                </a>\\r\\n                <h4>Tireuse THE SUB (2L)</h4>\\r\\n                <p>La pression version design</p>\\r\\n                <a href=\"/fr-fr/tireuse-a-biere-the-sub\" class=\"button secondary-button\">JE D&#201;COUVRE</a>\\r\\n            </div>\\r\\n        </div>\\r\\n    </div>\\r\\n\\r\\n\\r\\n    <div class=\"main-nav-col image-column\">\\r\\n        <div class=\"beer-content\">\\r\\n            <div class=\"nav-ad-con\">\\r\\n                <a href=\"/fr-fr/tireuse-a-biere-beertender\">\\r\\n                    <img class=\"lazy-image\" src=\"data:image/gif;base64,R0lGODlhAQABAIAAAAAAAP///yH5BAEAAAAALAAAAAABAAEAAAIBRAA7\" data-src=\"https://www.beerwulf.com/globalassets/3.-navigation-icons/homedraught_assortment_appliance_beertender_navigation.jpg?rev=1781438848\" alt=\"Tireuse BeerTender (5L)\" title=\"Tireuse BeerTender (5L)\" />\\r\\n                </a>\\r\\n                <h4>Tireuse BeerTender (5L)</h4>\\r\\n                <p>La pression grand format</p>\\r\\n                <a href=\"/fr-fr/tireuse-a-biere-beertender\" class=\"button secondary-button\">JE D&#201;COUVRE</a>\\r\\n            </div>\\r\\n        </div>\\r\\n    </div>\\r\\n\\r\\n\\r\\n    <div class=\"main-nav-col image-column\">\\r\\n        <div class=\"beer-content\">\\r\\n            <div class=\"nav-ad-con\">\\r\\n                <a href=\"/fr-fr/tireuses-a-biere\">\\r\\n                    <img class=\"lazy-image\" src=\"data:image/gif;base64,R0lGODlhAQABAIAAAAAAAP///yH5BAEAAAAALAAAAAABAAEAAAIBRAA7\" data-src=\"https://www.beerwulf.com/globalassets/3.-navigation-icons/homedraught_assortment_alltaps_navigation_v1.jpg?rev=105151122\" alt=\"Toutes les tireuses\" title=\"Toutes les tireuses\" />\\r\\n                </a>\\r\\n                <h4>Toutes les tireuses</h4>\\r\\n                <p>Le meilleur du service pression &#224; domicile</p>\\r\\n                <a href=\"/fr-fr/tireuses-a-biere\" class=\"button secondary-button\">J&#39;Y VAIS</a>\\r\\n            </div>\\r\\n        </div>\\r\\n    </div>\\r\\n\\r\\n\\r\\n    <div class=\"main-nav-col image-column\">\\r\\n        <div class=\"beer-content\">\\r\\n            <div class=\"nav-ad-con\">\\r\\n                <a href=\"/fr-fr/p/accessoires/lot-de-10-tubes-de-service-beertender\">\\r\\n                    <img class=\"lazy-image\" src=\"data:image/gif;base64,R0lGODlhAQABAIAAAAAAAP///yH5BAEAAAAALAAAAAABAAEAAAIBRAA7\" data-src=\"https://www.beerwulf.com/globalassets/3.-navigation-icons/homedraught_assortment_accessory_tubes_navigation_v2.jpg?rev=2059515126\" alt=\"TUBES\" title=\"TUBES\" />\\r\\n                </a>\\r\\n                <h4>TUBES</h4>\\r\\n                <p>Tubes de service pour tireuse BeerTender</p>\\r\\n                <a href=\"/fr-fr/p/accessoires/lot-de-10-tubes-de-service-beertender\" class=\"button secondary-button\">J&#39;Y VAIS</a>\\r\\n            </div>\\r\\n        </div>\\r\\n    </div>\\r\\n\\r\\n                </div>\\r\\n            </nav>\\r\\n        </div>\\r\\n    </div>\\r\\n\\r\\n    <div class=\"menu-item browse-toggle\">\\r\\n            <h3>F&#251;ts</h3>\\r\\n        <div class=\"navigation-container\">\\r\\n            <nav class=\"navigation\">\\r\\n                <div class=\"main-nav-row\">\\r\\n                    \\r\\n\\r\\n    <div class=\"main-nav-col image-column\">\\r\\n        <div class=\"beer-content\">\\r\\n            <div class=\"nav-ad-con\">\\r\\n                <a href=\"/fr-fr/c/futsthesub\">\\r\\n                    <img class=\"lazy-image\" src=\"data:image/gif;base64,R0lGODlhAQABAIAAAAAAAP///yH5BAEAAAAALAAAAAABAAEAAAIBRAA7\" data-src=\"https://www.beerwulf.com/globalassets/3.-navigation-icons/homedraught_assortment_kegs_2l_navigation_v1.jpg?rev=423595266\" alt=\"F&#251;ts The SUB (2L)\" title=\"F&#251;ts The SUB (2L)\" />\\r\\n                </a>\\r\\n                <h4>F&#251;ts The SUB (2L)</h4>\\r\\n                <p>La pression en petit format</p>\\r\\n                <a href=\"/fr-fr/c/futsthesub\" class=\"button secondary-button\">JE D&#201;COUVRE</a>\\r\\n            </div>\\r\\n        </div>\\r\\n    </div>\\r\\n\\r\\n\\r\\n    <div class=\"main-nav-col image-column\">\\r\\n        <div class=\"beer-content\">\\r\\n            <div class=\"nav-ad-con\">\\r\\n                <a href=\"/fr-fr/c/futs-de-biere-5l\">\\r\\n                    <img class=\"lazy-image\" src=\"data:image/gif;base64,R0lGODlhAQABAIAAAAAAAP///yH5BAEAAAAALAAAAAABAAEAAAIBRAA7\" data-src=\"https://www.beerwulf.com/globalassets/3.-navigation-icons/homedraught_assortment_kegs_5l_navigation.jpg?rev=423595266\" alt=\"F&#251;ts (5L)\" title=\"F&#251;ts (5L)\" />\\r\\n                </a>\\r\\n                <h4>F&#251;ts (5L)</h4>\\r\\n                <p>Une grande diversit&#233; de bi&#232;res</p>\\r\\n                <a href=\"/fr-fr/c/futs-de-biere-5l\" class=\"button secondary-button\">J&#39;Y VAIS</a>\\r\\n            </div>\\r\\n        </div>\\r\\n    </div>\\r\\n\\r\\n\\r\\n    <div class=\"main-nav-col image-column\">\\r\\n        <div class=\"beer-content\">\\r\\n            <div class=\"nav-ad-con\">\\r\\n                <a href=\"/fr-fr/futsdebiere\">\\r\\n                    <img class=\"lazy-image\" src=\"data:image/gif;base64,R0lGODlhAQABAIAAAAAAAP///yH5BAEAAAAALAAAAAABAAEAAAIBRAA7\" data-src=\"https://www.beerwulf.com/globalassets/3.-navigation-icons/homedraught_assortment_allkegs_navigation_v1.jpg?rev=105151122\" alt=\"Tous les f&#251;ts\" title=\"Tous les f&#251;ts\" />\\r\\n                </a>\\r\\n                <h4>Tous les f&#251;ts</h4>\\r\\n                <p>Les meilleures bi&#232;res &#224; la pression</p>\\r\\n                <a href=\"/fr-fr/futsdebiere\" class=\"button secondary-button\">J&#39;Y VAIS</a>\\r\\n            </div>\\r\\n        </div>\\r\\n    </div>\\r\\n\\r\\n                </div>\\r\\n            </nav>\\r\\n        </div>\\r\\n    </div>\\r\\n\\r\\n    <div class=\"menu-item browse-toggle\">\\r\\n            <h3>Coffrets de bi&#232;res</h3>\\r\\n        <div class=\"navigation-container\">\\r\\n            <nav class=\"navigation\">\\r\\n                <div class=\"main-nav-row\">\\r\\n                    \\r\\n\\r\\n    <div class=\"main-nav-col image-column\">\\r\\n        <div class=\"beer-content\">\\r\\n            <div class=\"nav-ad-con\">\\r\\n                <a href=\"/fr-fr/c?q=coffret&amp;type=0&amp;page=1&amp;segment=Coffret+de+bi%c3%a8res\">\\r\\n                    <img class=\"lazy-image\" src=\"data:image/gif;base64,R0lGODlhAQABAIAAAAAAAP///yH5BAEAAAAALAAAAAABAAEAAAIBRAA7\" data-src=\"https://www.beerwulf.com/globalassets/3.-navigation-icons/beer_cases_lp_navigation.jpg?rev=592673439\" alt=\"Coffrets de bi&#232;res mixtes\" title=\"Coffrets de bi&#232;res mixtes\" />\\r\\n                </a>\\r\\n                <h4>Coffrets de bi&#232;res mixtes</h4>\\r\\n                <p>Livr&#233;s gratuitement chez vous</p>\\r\\n                <a href=\"/fr-fr/c?q=coffret&amp;type=0&amp;page=1&amp;segment=Coffret+de+bi%c3%a8res\" class=\"button secondary-button\">J&#39;Y VAIS</a>\\r\\n            </div>\\r\\n        </div>\\r\\n    </div>\\r\\n\\r\\n\\r\\n    <div class=\"main-nav-col image-column\">\\r\\n        <div class=\"beer-content\">\\r\\n            <div class=\"nav-ad-con\">\\r\\n                <a href=\"/fr-fr/c?segment=Coffret+de+bi%c3%a8res&amp;q=box+promo&amp;page=1&amp;type=0\">\\r\\n                    <img class=\"lazy-image\" src=\"data:image/gif;base64,R0lGODlhAQABAIAAAAAAAP///yH5BAEAAAAALAAAAAABAAEAAAIBRAA7\" data-src=\"https://www.beerwulf.com/fr-fr/SysSiteAssets/homepage-header--theme-tiles/navigation/desktop-navigation/featured-packs--gifts/general_navigation_204_affligem_v2.jpg?rev=245146375\" alt=\"Box Promo\" title=\"Box Promo\" />\\r\\n                </a>\\r\\n                <h4>Box Promo</h4>\\r\\n                <p>Commandez votre bi&#232;re pr&#233;f&#233;r&#233;e !</p>\\r\\n                <a href=\"/fr-fr/c?segment=Coffret+de+bi%c3%a8res&amp;q=box+promo&amp;page=1&amp;type=0\" class=\"button secondary-button\">J&#39;en profite</a>\\r\\n            </div>\\r\\n        </div>\\r\\n    </div>\\r\\n\\r\\n\\r\\n    <div class=\"main-nav-col image-column\">\\r\\n        <div class=\"beer-content\">\\r\\n            <div class=\"nav-ad-con\">\\r\\n                <a href=\"/fr-fr/coffrets-de-bieres\">\\r\\n                    <img class=\"lazy-image\" src=\"data:image/gif;base64,R0lGODlhAQABAIAAAAAAAP///yH5BAEAAAAALAAAAAABAAEAAAIBRAA7\" data-src=\"https://www.beerwulf.com/fr-fr/SysSiteAssets/homepage-header--theme-tiles/navigation/desktop-navigation/featured-packs--gifts/general_navigation_all_packs_de.jpg?rev=2029072732\" alt=\"Tous les coffrets\" title=\"Tous les coffrets\" />\\r\\n                </a>\\r\\n                <h4>Tous les coffrets</h4>\\r\\n                <p>D&#233;couvrez tous nos coffrets</p>\\r\\n                <a href=\"/fr-fr/coffrets-de-bieres\" class=\"button secondary-button\">JE D&#201;COUVRE</a>\\r\\n            </div>\\r\\n        </div>\\r\\n    </div>\\r\\n\\r\\n                </div>\\r\\n            </nav>\\r\\n        </div>\\r\\n    </div>\\r\\n\\r\\n    <div class=\"menu-item browse-toggle\">\\r\\n            <h3>Cadeaux</h3>\\r\\n        <div class=\"navigation-container\">\\r\\n            <nav class=\"navigation\">\\r\\n                <div class=\"main-nav-row\">\\r\\n                    \\r\\n\\r\\n    <div class=\"main-nav-col image-column\">\\r\\n        <div class=\"beer-content\">\\r\\n            <div class=\"nav-ad-con\">\\r\\n                <a href=\"/fr-fr/cadeaux-biere\">\\r\\n                    <img class=\"lazy-image\" src=\"data:image/gif;base64,R0lGODlhAQABAIAAAAAAAP///yH5BAEAAAAALAAAAAABAAEAAAIBRAA7\" data-src=\"https://www.beerwulf.com/fr-fr/SysSiteAssets/homepage-header--theme-tiles/navigation/desktop-navigation/featured-packs--gifts/general_navigation_b2b_gifting.jpg?rev=104884777\" alt=\"ID&#201;ES CADEAUX\" title=\"ID&#201;ES CADEAUX\" />\\r\\n                </a>\\r\\n                <h4>ID&#201;ES CADEAUX</h4>\\r\\n                <p>Des cadeaux &#224; tous les prix</p>\\r\\n                <a href=\"/fr-fr/cadeaux-biere\" class=\"button secondary-button\">J&#39;y vais</a>\\r\\n            </div>\\r\\n        </div>\\r\\n    </div>\\r\\n\\r\\n\\r\\n    <div class=\"main-nav-col image-column\">\\r\\n        <div class=\"beer-content\">\\r\\n            <div class=\"nav-ad-con\">\\r\\n                <a href=\"/fr-fr/calendrier-de-lavent-bieres\">\\r\\n                    <img class=\"lazy-image\" src=\"data:image/gif;base64,R0lGODlhAQABAIAAAAAAAP///yH5BAEAAAAALAAAAAABAAEAAAIBRAA7\" data-src=\"https://www.beerwulf.com/fr-fr/SysSiteAssets/landing-pages/advent/advent-lp-2020/advent_lp_navigation.jpg?rev=1249183807\" alt=\"Calendrier de l&#39;Avent\" title=\"Calendrier de l&#39;Avent\" />\\r\\n                </a>\\r\\n                <h4>Calendrier de l&#39;Avent</h4>\\r\\n                <p>Le compte &#224; rebours id&#233;al pour No&#235;l</p>\\r\\n                <a href=\"/fr-fr/calendrier-de-lavent-bieres\" class=\"button secondary-button\">Je D&#233;couvre</a>\\r\\n            </div>\\r\\n        </div>\\r\\n    </div>\\r\\n\\r\\n                </div>\\r\\n            </nav>\\r\\n        </div>\\r\\n    </div>\\r\\n\\r\\n    <div class=\"menu-item browse-toggle\">\\r\\n            <h3>D&#233;couvrir</h3>\\r\\n        <div class=\"navigation-container\">\\r\\n            <nav class=\"navigation\">\\r\\n                <div class=\"main-nav-row\">\\r\\n                    \\r\\n\\r\\n    <div class=\"main-nav-col image-column\">\\r\\n        <div class=\"beer-content\">\\r\\n            <div class=\"nav-ad-con\">\\r\\n                <a href=\"/fr-fr/articles-sur-les-bieres-speciales\">\\r\\n                    <img class=\"lazy-image\" src=\"data:image/gif;base64,R0lGODlhAQABAIAAAAAAAP///yH5BAEAAAAALAAAAAABAAEAAAIBRAA7\" data-src=\"https://www.beerwulf.com/fr-fr/SysSiteAssets/homepage-header--theme-tiles/navigation/desktop-navigation/discover/tapt_navigation_all.jpg?rev=762345998\" alt=\"Tous nos articles\" title=\"Tous nos articles\" />\\r\\n                </a>\\r\\n                <h4>Tous nos articles</h4>\\r\\n                <p>Pour tout savoir sur le monde de la bi&#232;re</p>\\r\\n                <a href=\"/fr-fr/articles-sur-les-bieres-speciales\" class=\"button secondary-button\">Voir</a>\\r\\n            </div>\\r\\n        </div>\\r\\n    </div>\\r\\n\\r\\n\\r\\n    <div class=\"main-nav-col image-column\">\\r\\n        <div class=\"beer-content\">\\r\\n            <div class=\"nav-ad-con\">\\r\\n                <a href=\"/fr-fr/toutes-les-brasseries\">\\r\\n                    <img class=\"lazy-image\" src=\"data:image/gif;base64,R0lGODlhAQABAIAAAAAAAP///yH5BAEAAAAALAAAAAABAAEAAAIBRAA7\" data-src=\"https://www.beerwulf.com/fr-fr/SysSiteAssets/homepage-header--theme-tiles/navigation/desktop-navigation/discover/general_pack_2_navigation_brewer_all.jpg?rev=2029072732\" alt=\"Toutes les brasseries\" title=\"Toutes les brasseries\" />\\r\\n                </a>\\r\\n                <h4>Toutes les brasseries</h4>\\r\\n                <p>L&#39;histoire et les secrets des brasseurs et brasseuses</p>\\r\\n                <a href=\"/fr-fr/toutes-les-brasseries\" class=\"button secondary-button\">J&#39;Y VAIS</a>\\r\\n            </div>\\r\\n        </div>\\r\\n    </div>\\r\\n\\r\\n\\r\\n    <div class=\"main-nav-col image-column\">\\r\\n        <div class=\"beer-content\">\\r\\n            <div class=\"nav-ad-con\">\\r\\n                <a href=\"/fr-fr/brasseur-du-mois\">\\r\\n                    <img class=\"lazy-image\" src=\"data:image/gif;base64,R0lGODlhAQABAIAAAAAAAP///yH5BAEAAAAALAAAAAABAAEAAAIBRAA7\" data-src=\"https://www.beerwulf.com/fr-fr/SysSiteAssets/homepage-header--theme-tiles/menu-tiles/brewers/stone_general_navigation_botm.jpg?rev=1414959791\" alt=\"Les brasseries du mois\" title=\"Les brasseries du mois\" />\\r\\n                </a>\\r\\n                <h4>Les brasseries du mois</h4>\\r\\n                <p>Portraits vid&#233;os de passionn&#233;(e)s</p>\\r\\n                <a href=\"/fr-fr/brasseur-du-mois\" class=\"button secondary-button\">D&#233;couvrir</a>\\r\\n            </div>\\r\\n        </div>\\r\\n    </div>\\r\\n\\r\\n                </div>\\r\\n            </nav>\\r\\n        </div>\\r\\n    </div>\\r\\n    <div class=\"menu-item single-link\">\\r\\n        <a href=\"/fr-fr/c/bieres?segment=+bi%c3%a8res&amp;catalogCode=Beer_1&amp;page=1&amp;specialOffer=Promos\">PROMOS</a>\\r\\n    </div>\\r\\n\\r\\n        </div>\\r\\n    </div>\\r\\n\\r\\n            \\r\\n<div class=\"header-row add-to-cart-notification js-notication-container\">\\r\\n    <div class=\"addtocart-notication-wrapper\">\\r\\n        <div class=\"addtocart-notication-container\">\\r\\n            <span class=\"green-check\">\\r\\n                <svg role=\"img\">\\r\\n                    <use xlink:href=\"/static/dist/assets/img/svg.svg#check\"></use>\\r\\n                </svg>\\r\\n            </span>\\r\\n            <div class=\"confirmation-text\">\\r\\n                <span class=\"status-copy added\"><b class=\"js-product-name\"></b> Ajout&#233; au panier</span>\\r\\n                <span class=\"status-copy removed\"><b class=\"js-product-name\"></b> a &#233;t&#233; retir&#233;(e) de votre panier</span>\\r\\n            </div>\\r\\n        </div>\\r\\n        <div class=\"addtocart-crate-container js-beer-shippingbox-container\">\\r\\n            <div class=\"crate-column boxes-to-fill\">\\r\\n                <div class=\"shipping-info\">\\r\\n                    <p class=\"first-box\">\\r\\n                        <span class=\"single-beer\">Ajoutez {beersToAddNum} bi&#232;re de plus &#224; votre coffret pour obtenir la livraison gratuite</span>\\r\\n                        <span class=\"plural-beer\">Ajoutez {beersToAddNum} bi&#232;res de plus &#224; votre coffret pour obtenir la livraison gratuite</span>\\r\\n                    </p>\\r\\n                    <div class=\"bottle-count\"><b class=\"js-beers-added\"></b>/<span class=\"js-beers-count\"></span></div>\\r\\n                </div>\\r\\n                <div class=\"box-graphic-container js-beers-box-graphic-container\">\\r\\n                </div>\\r\\n            </div>\\r\\n            <div class=\"crate-column boxes-filled\">\\r\\n                <span class=\"cart-head-text\">Votre livraison sera gratuite !</span>\\r\\n            </div>\\r\\n        </div>\\r\\n        <div class=\"addtocart-torp-container js-torp-shippingbox-container\">\\r\\n            <div class=\"crate-column boxes-to-fill\">\\r\\n                <div class=\"shipping-info\">\\r\\n                    <p class=\"first-torp-box\">\\r\\n                        <span class=\"single-torp\">Ajoutez 1 dernier f&#251;t The SUB pour obtenir la livraison gratuite</span>\\r\\n                        <span class=\"plural-torp\">Ajoutez {torpsToAddNum} f&#251;t(s) The SUB de plus pour obtenir la livraison gratuite </span>\\r\\n                    </p>\\r\\n                    <div class=\"bottle-count\"><b class=\"js-torps-added\"></b>/<span class=\"js-torps-count\"></span></div>\\r\\n                </div>\\r\\n                <div class=\"box-graphic-container js-torps-box-graphic-container\">\\r\\n                </div>\\r\\n            </div>\\r\\n            <div class=\"crate-column boxes-filled\">\\r\\n                <span class=\"cart-head-text\">Vos f&#251;ts The SUB seront livr&#233;s gratuitement !</span>\\r\\n            </div>\\r\\n        </div>\\r\\n        <div class=\"addtocart-keg-container js-keg-shippingbox-container\">\\r\\n            <div class=\"crate-column boxes-to-fill\">\\r\\n                <div class=\"shipping-info\">\\r\\n                    <p class=\"first-keg-box\">\\r\\n                        <span class=\"single-keg\"></span>\\r\\n                        <span class=\"plural-keg\">Ajoutez un autre f&#251;t pour la livraison gratuite.</span>\\r\\n                    </p>\\r\\n                    <div class=\"bottle-count\"><b class=\"js-kegs-added\"></b>/<span class=\"js-kegs-count\"></span></div>\\r\\n                </div>\\r\\n                <div class=\"box-graphic-container js-kegs-box-graphic-container\">\\r\\n                </div>\\r\\n            </div>\\r\\n            <div class=\"crate-column boxes-filled\">\\r\\n                <span class=\"cart-head-text\">Vos f&#251;ts seront livr&#233;s gratuitement !\\n\\n </span>\\r\\n            </div>\\r\\n        </div>\\r\\n        <div class=\"all-free-delivery js-all-free-delivery\">\\r\\n          <span class=\"cart-head-text\">Votre commande sera livr&#233;e gratuitement</span>\\r\\n        </div>\\r\\n    </div>\\r\\n    <div class=\"added-to-shoppinglist-noticiation js-added-to-shoppinglist-noticiation\">\\r\\n        <p class=\"product-added\">\\r\\n            <span class=\"js-product-title\"></span> a &#233;t&#233; ajout&#233;(e) &#224; votre liste d&#39;envies</p>\\r\\n        <p class=\"product-removed\">\\r\\n            <span class=\"js-product-title\"></span> a &#233;t&#233; retir&#233;(e) de votre liste d&#39;envies\\r\\n        </p>\\r\\n    </div>\\r\\n</div>\\r\\n\\r\\n        </div>\\r\\n    </div>\\r\\n\\r\\n    \\r\\n\\r\\n<div class=\"mobile-navigation-row\">\\r\\n    <div class=\"icon-container\">\\r\\n        \\r\\n                    <div class=\"footer-icon js-category-icon-link hamburger-menu-icon\" data-category-link=\"43235835\">\\r\\n                        <div class=\"burger-menu\">\\r\\n                            <span></span>\\r\\n                            <span></span>\\r\\n                            <span></span>\\r\\n                            <span></span>\\r\\n                        </div>\\r\\n                    </div>\\r\\n                    <div class=\"mobile-nav-container\">\\r\\n                        <div class=\"mobile-navigation-menu outer-nav\" data-category-menu=\"43235835\">\\r\\n                            <button class=\"js-nav-close-button close-button\" type=\"button\"><span aria-hidden=\"true\">×</span></button>\\r\\n                            <h4 class=\"section-title\">Menu</h4>\\r\\n                            <ul class=\"no-bullet\">\\r\\n                                \\r\\n<li class=\"category-link js-category-link\">\\r\\n    Bi&#232;res\\r\\n    <div class=\"mobile-navigation-menu inner-nav\">\\r\\n        <h4 class=\"section-title inner-section-title js-close-inner-menu\">\\r\\n            <svg role=\"img\">\\r\\n                <use xlink:href=\"/static/dist/assets/img/svg.svg#arrow-left\"></use>\\r\\n            </svg>\\r\\n            Bi&#232;res\\r\\n        </h4>\\r\\n        <ul class=\"no-bullet\">\\r\\n                <li class=\"direct-link js-direct-link\"><a href=\"/fr-fr/c/bieres\">Toutes les bi&#232;res</a></li>\\r\\n    <li class=\"direct-link js-direct-link\"><a href=\"/fr-fr/c?specialOffer=Meilleures+Ventes\">Meilleures ventes</a></li>\\r\\n\\r\\n<li class=\"category-link js-category-link\">\\r\\n    Styles\\r\\n    <div class=\"mobile-navigation-menu inner-nav\">\\r\\n        <h4 class=\"section-title inner-section-title js-close-inner-menu\">\\r\\n            <svg role=\"img\">\\r\\n                <use xlink:href=\"/static/dist/assets/img/svg.svg#arrow-left\"></use>\\r\\n            </svg>\\r\\n            Styles\\r\\n        </h4>\\r\\n        <ul class=\"no-bullet\">\\r\\n                <li class=\"direct-link js-direct-link\"><a href=\"/fr-fr/c/biereblonde\">Bi&#232;re Blonde</a></li>\\r\\n    <li class=\"direct-link js-direct-link\"><a href=\"/fr-fr/c/bieretriple\">Bi&#232;re Triple</a></li>\\r\\n    <li class=\"direct-link js-direct-link\"><a href=\"/fr-fr/c/ipa\">IPA</a></li>\\r\\n    <li class=\"direct-link js-direct-link\"><a href=\"/fr-fr/c/paleale\">Pale Ale</a></li>\\r\\n    <li class=\"direct-link js-direct-link\"><a href=\"/fr-fr/c/biereporter-stout\">Bi&#232;re Porter &amp; Stout</a></li>\\r\\n    <li class=\"direct-link js-direct-link\"><a href=\"/fr-fr/c/bieresour\">Bi&#232;re Sour</a></li>\\r\\n    <li class=\"direct-link js-direct-link\"><a href=\"/fr-fr/c/biereweiss\">Bi&#232;re Weiss</a></li>\\r\\n    <li class=\"direct-link js-direct-link\"><a href=\"/fr-fr/c/pils-hoppylager\">Bi&#232;re Pils</a></li>\\r\\n    <li class=\"direct-link js-direct-link\"><a href=\"/fr-fr/c/lager\">Lager</a></li>\\r\\n    <li class=\"direct-link js-direct-link\"><a href=\"/fr-fr/c/biereblanche\">Bi&#232;re Blanche</a></li>\\r\\n    <li class=\"direct-link js-direct-link\"><a href=\"/fr-fr/c/bierebrune\">Bi&#232;re Brune</a></li>\\r\\n    <li class=\"direct-link js-direct-link\"><a href=\"/fr-fr/c/bieredegarden-saison\">Bi&#232;re de Garde et Saison</a></li>\\r\\n    <li class=\"direct-link js-direct-link\"><a href=\"/fr-fr/c/bierebarleywine\">Barley Wine</a></li>\\r\\n    <li class=\"direct-link js-direct-link\"><a href=\"/fr-fr/c/bierefruitee\">Fruit&#233;e &amp; aromatis&#233;e</a></li>\\r\\n\\r\\n        </ul>\\r\\n    </div>\\r\\n</li>\\r\\n\\r\\n<li class=\"category-link js-category-link\">\\r\\n    Pays\\r\\n    <div class=\"mobile-navigation-menu inner-nav\">\\r\\n        <h4 class=\"section-title inner-section-title js-close-inner-menu\">\\r\\n            <svg role=\"img\">\\r\\n                <use xlink:href=\"/static/dist/assets/img/svg.svg#arrow-left\"></use>\\r\\n            </svg>\\r\\n            Pays\\r\\n        </h4>\\r\\n        <ul class=\"no-bullet\">\\r\\n                <li class=\"direct-link js-direct-link\"><a href=\"/fr-fr/c/biereautrichienne\">Autriche</a></li>\\r\\n    <li class=\"direct-link js-direct-link\"><a href=\"/fr-fr/c/bierebelge\">Belgique</a></li>\\r\\n    <li class=\"direct-link js-direct-link\"><a href=\"/fr-fr/c/biereestonienne\">Estonie</a></li>\\r\\n    <li class=\"direct-link js-direct-link\"><a href=\"/fr-fr/c/bierecanadienne\">Canada</a></li>\\r\\n    <li class=\"direct-link js-direct-link\"><a href=\"/fr-fr/c/bieretcheque\">R&#233;publique Tch&#232;que</a></li>\\r\\n    <li class=\"direct-link js-direct-link\"><a href=\"/fr-fr/c/bierefrancaise\">France</a></li>\\r\\n    <li class=\"direct-link js-direct-link\"><a href=\"/fr-fr/c/biereallemande\">Allemagne</a></li>\\r\\n    <li class=\"direct-link js-direct-link\"><a href=\"/fr-fr/c/biereindienne\">Inde</a></li>\\r\\n    <li class=\"direct-link js-direct-link\"><a href=\"/fr-fr/c/biereindonesienne\">Indon&#233;sie</a></li>\\r\\n    <li class=\"direct-link js-direct-link\"><a href=\"/fr-fr/c/biereirlandaise\">Irlande</a></li>\\r\\n    <li class=\"direct-link js-direct-link\"><a href=\"/fr-fr/c/biereitalienne\">Italie</a></li>\\r\\n    <li class=\"direct-link js-direct-link\"><a href=\"/fr-fr/c/bierejaponaise\">Japon</a></li>\\r\\n    <li class=\"direct-link js-direct-link\"><a href=\"/fr-fr/c/biereneerlandaise\">Pays-Bas</a></li>\\r\\n    <li class=\"direct-link js-direct-link\"><a href=\"/fr-fr/c/biereanglaise\">Royaume-Uni</a></li>\\r\\n    <li class=\"direct-link js-direct-link\"><a href=\"/fr-fr/c/biereamericaine\">&#201;tats-Unis</a></li>\\r\\n    <li class=\"direct-link js-direct-link\"><a href=\"/fr-fr/c/bierethailandaise\">Tha&#239;lande</a></li>\\r\\n    <li class=\"direct-link js-direct-link\"><a href=\"/fr-fr/c/bierevietnamienne\">Vietnam</a></li>\\r\\n    <li class=\"direct-link js-direct-link\"><a href=\"/fr-fr/c/bieres\">Autres</a></li>\\r\\n\\r\\n        </ul>\\r\\n    </div>\\r\\n</li>\\r\\n\\r\\n<li class=\"category-link js-category-link\">\\r\\n    Autres Sp&#233;cificit&#233;s\\r\\n    <div class=\"mobile-navigation-menu inner-nav\">\\r\\n        <h4 class=\"section-title inner-section-title js-close-inner-menu\">\\r\\n            <svg role=\"img\">\\r\\n                <use xlink:href=\"/static/dist/assets/img/svg.svg#arrow-left\"></use>\\r\\n            </svg>\\r\\n            Autres Sp&#233;cificit&#233;s\\r\\n        </h4>\\r\\n        <ul class=\"no-bullet\">\\r\\n                <li class=\"direct-link js-direct-link\"><a href=\"/fr-fr/c/biere-sans-gluten\">Bi&#232;re sans gluten</a></li>\\r\\n    <li class=\"direct-link js-direct-link\"><a href=\"/fr-fr/c/biere-sans-alcool\">Bi&#232;re sans alcool</a></li>\\r\\n    <li class=\"direct-link js-direct-link\"><a href=\"/fr-fr/c/biere-biologique\">Bi&#232;re biologique</a></li>\\r\\n    <li class=\"direct-link js-direct-link\"><a href=\"/fr-fr/c/bieres-vegan\">Bi&#232;re vegan</a></li>\\r\\n\\r\\n        </ul>\\r\\n    </div>\\r\\n</li>\\r\\n\\r\\n        </ul>\\r\\n    </div>\\r\\n</li>\\r\\n\\r\\n<li class=\"category-link js-category-link\">\\r\\n    Tireuses et Tubes\\r\\n    <div class=\"mobile-navigation-menu inner-nav\">\\r\\n        <h4 class=\"section-title inner-section-title js-close-inner-menu\">\\r\\n            <svg role=\"img\">\\r\\n                <use xlink:href=\"/static/dist/assets/img/svg.svg#arrow-left\"></use>\\r\\n            </svg>\\r\\n            Tireuses et Tubes\\r\\n        </h4>\\r\\n        <ul class=\"no-bullet\">\\r\\n                <li class=\"direct-link js-direct-link\"><a href=\"/fr-fr/tireuse-a-biere-the-sub\">Tireuse The SUB (2L)</a></li>\\r\\n    <li class=\"direct-link js-direct-link\"><a href=\"/fr-fr/tireuse-a-biere-beertender\">Tireuse BeerTender (5L)</a></li>\\r\\n    <li class=\"direct-link js-direct-link\"><a href=\"/fr-fr/tireuses-a-biere\">Toutes les tireuses</a></li>\\r\\n    <li class=\"direct-link js-direct-link\"><a href=\"/fr-fr/p/accessoires/lot-de-10-tubes-de-service-beertender\">TUBES</a></li>\\r\\n\\r\\n        </ul>\\r\\n    </div>\\r\\n</li>\\r\\n\\r\\n<li class=\"category-link js-category-link\">\\r\\n    F&#251;ts\\r\\n    <div class=\"mobile-navigation-menu inner-nav\">\\r\\n        <h4 class=\"section-title inner-section-title js-close-inner-menu\">\\r\\n            <svg role=\"img\">\\r\\n                <use xlink:href=\"/static/dist/assets/img/svg.svg#arrow-left\"></use>\\r\\n            </svg>\\r\\n            F&#251;ts\\r\\n        </h4>\\r\\n        <ul class=\"no-bullet\">\\r\\n                <li class=\"direct-link js-direct-link\"><a href=\"/fr-fr/c/futsthesub\">F&#251;ts The SUB (2L)</a></li>\\r\\n    <li class=\"direct-link js-direct-link\"><a href=\"/fr-fr/c/futs-de-biere-5l\">F&#251;ts (5L)</a></li>\\r\\n    <li class=\"direct-link js-direct-link\"><a href=\"/fr-fr/futsdebiere\">Tous les f&#251;ts</a></li>\\r\\n\\r\\n        </ul>\\r\\n    </div>\\r\\n</li>\\r\\n\\r\\n<li class=\"category-link js-category-link\">\\r\\n    Coffrets de bi&#232;res\\r\\n    <div class=\"mobile-navigation-menu inner-nav\">\\r\\n        <h4 class=\"section-title inner-section-title js-close-inner-menu\">\\r\\n            <svg role=\"img\">\\r\\n                <use xlink:href=\"/static/dist/assets/img/svg.svg#arrow-left\"></use>\\r\\n            </svg>\\r\\n            Coffrets de bi&#232;res\\r\\n        </h4>\\r\\n        <ul class=\"no-bullet\">\\r\\n                <li class=\"direct-link js-direct-link\"><a href=\"/fr-fr/c?segment=Coffret+de+bi%c3%a8res&amp;q=coffret+bi%c3%a8res&amp;page=1&amp;type=0\">Coffrets de bi&#232;res mixtes</a></li>\\r\\n    <li class=\"direct-link js-direct-link\"><a href=\"/fr-fr/c?segment=Coffret+de+bi%c3%a8res&amp;q=box+promo&amp;page=1&amp;type=0\">Box Promo</a></li>\\r\\n    <li class=\"direct-link js-direct-link\"><a href=\"/fr-fr/coffrets-de-bieres\">Tous nos coffrets</a></li>\\r\\n\\r\\n        </ul>\\r\\n    </div>\\r\\n</li>\\r\\n\\r\\n<li class=\"category-link js-category-link\">\\r\\n    Offrir un cadeau\\r\\n    <div class=\"mobile-navigation-menu inner-nav\">\\r\\n        <h4 class=\"section-title inner-section-title js-close-inner-menu\">\\r\\n            <svg role=\"img\">\\r\\n                <use xlink:href=\"/static/dist/assets/img/svg.svg#arrow-left\"></use>\\r\\n            </svg>\\r\\n            Offrir un cadeau\\r\\n        </h4>\\r\\n        <ul class=\"no-bullet\">\\r\\n                <li class=\"direct-link js-direct-link\"><a href=\"/fr-fr/calendrier-de-lavent-bieres\">Calendrier de l&#39;Avent</a></li>\\r\\n    <li class=\"direct-link js-direct-link\"><a href=\"/fr-fr/cadeaux-biere\">Toutes nos id&#233;es cadeaux</a></li>\\r\\n\\r\\n        </ul>\\r\\n    </div>\\r\\n</li>\\r\\n\\r\\n<li class=\"category-link js-category-link\">\\r\\n    D&#233;couvrir la bi&#232;re\\r\\n    <div class=\"mobile-navigation-menu inner-nav\">\\r\\n        <h4 class=\"section-title inner-section-title js-close-inner-menu\">\\r\\n            <svg role=\"img\">\\r\\n                <use xlink:href=\"/static/dist/assets/img/svg.svg#arrow-left\"></use>\\r\\n            </svg>\\r\\n            D&#233;couvrir la bi&#232;re\\r\\n        </h4>\\r\\n        <ul class=\"no-bullet\">\\r\\n                <li class=\"direct-link js-direct-link\"><a href=\"/fr-fr/articles-sur-les-bieres-speciales\">Le Blog</a></li>\\r\\n    <li class=\"direct-link js-direct-link\"><a href=\"/fr-fr/toutes-les-brasseries\">Les brasseurs et brasseuses</a></li>\\r\\n    <li class=\"direct-link js-direct-link\"><a href=\"/fr-fr/brasseur-du-mois\">Les brasseries du mois</a></li>\\r\\n\\r\\n        </ul>\\r\\n    </div>\\r\\n</li>\\r\\n    <li class=\"direct-link js-direct-link\"><a href=\"/fr-fr/promos-biere-tireuse-a-biere\">PROMOS</a></li>\\r\\n    <li class=\"direct-link \"><a href=\"https://frbeerwulf.zendesk.com/hc/fr-fr\">Questions fr&#233;quentes</a></li>\\r\\n\\r\\n                            </ul>\\r\\n                        </div>\\r\\n                    </div>\\r\\n \\r\\n    <div class=\"footer-icon js-direct-icon-link\">\\r\\n\\t\\t\\t<a href=\"/fr-fr/tireuses-a-biere\">\\r\\n\\t\\t\\t\\t<div class=\"active-icon menu-icon\" style=\"background-image: url(\\'/globalassets/1.-everyday-assets/1.1-navigation-icons/beer-tap.svg?rev=1062082360\\')\"></div>\\r\\n\\t\\t\\t\\t<div class=\"inactive-icon menu-icon\" style=\"background-image: url(\\'/globalassets/1.-everyday-assets/1.1-navigation-icons/beer-tap.svg?rev=1062082360\\')\"></div>\\r\\n\\t\\t\\t\\tTireuses et Tubes\\r\\n\\t\\t\\t</a>\\r\\n    </div>\\r\\n\\r\\n    <div class=\"footer-icon js-direct-icon-link\">\\r\\n\\t\\t\\t<a href=\"/fr-fr/futsdebiere\">\\r\\n\\t\\t\\t\\t<div class=\"active-icon menu-icon\" style=\"background-image: url(\\'/globalassets/1.-everyday-assets/1.1-navigation-icons/kegs.svg?rev=932162488\\')\"></div>\\r\\n\\t\\t\\t\\t<div class=\"inactive-icon menu-icon\" style=\"background-image: url(\\'/globalassets/1.-everyday-assets/1.1-navigation-icons/kegs.svg?rev=932162488\\')\"></div>\\r\\n\\t\\t\\t\\tF&#251;ts\\r\\n\\t\\t\\t</a>\\r\\n    </div>\\r\\n\\r\\n    <div class=\"footer-icon js-direct-icon-link\">\\r\\n\\t\\t\\t<a href=\"/fr-fr/c/bieres?segment=+bi%c3%a8res&amp;catalogCode=Beer_1&amp;page=1&amp;container=Bouteille,Canette\">\\r\\n\\t\\t\\t\\t<div class=\"active-icon menu-icon\" style=\"background-image: url(\\'/globalassets/1.-everyday-assets/1.1-navigation-icons/bottles--cans.svg?rev=838912201\\')\"></div>\\r\\n\\t\\t\\t\\t<div class=\"inactive-icon menu-icon\" style=\"background-image: url(\\'/globalassets/1.-everyday-assets/1.1-navigation-icons/bottles--cans.svg?rev=838912201\\')\"></div>\\r\\n\\t\\t\\t\\tBi&#232;res et canettes\\r\\n\\t\\t\\t</a>\\r\\n    </div>\\r\\n\\r\\n    <div class=\"footer-icon js-direct-icon-link\">\\r\\n\\t\\t\\t<a href=\"/fr-fr/coffrets-de-bieres\">\\r\\n\\t\\t\\t\\t<div class=\"active-icon menu-icon\" style=\"background-image: url(\\'/globalassets/1.-everyday-assets/1.1-navigation-icons/cases.svg?rev=1325261897\\')\"></div>\\r\\n\\t\\t\\t\\t<div class=\"inactive-icon menu-icon\" style=\"background-image: url(\\'/globalassets/1.-everyday-assets/1.1-navigation-icons/cases.svg?rev=1325261897\\')\"></div>\\r\\n\\t\\t\\t\\tCoffrets\\r\\n\\t\\t\\t</a>\\r\\n    </div>\\r\\n\\r\\n    <div class=\"footer-icon js-direct-icon-link\">\\r\\n\\t\\t\\t<a href=\"/fr-fr/c/bieres?segment=+bi%c3%a8res&amp;catalogCode=Beer_1&amp;page=1&amp;specialOffer=Promos\">\\r\\n\\t\\t\\t\\t<div class=\"active-icon menu-icon\" style=\"background-image: url(\\'/globalassets/1.-everyday-assets/1.1-navigation-icons/sale-yellow-two.svg?rev=20814945\\')\"></div>\\r\\n\\t\\t\\t\\t<div class=\"inactive-icon menu-icon\" style=\"background-image: url(\\'/globalassets/1.-everyday-assets/1.1-navigation-icons/sale-yellow-two.svg?rev=20814945\\')\"></div>\\r\\n\\t\\t\\t\\tPROMOS\\r\\n\\t\\t\\t</a>\\r\\n    </div>\\r\\n\\r\\n    </div>\\r\\n</div>\\r\\n\\r\\n</header>\\r\\n\\r\\n\\r\\n    <div class=\"main\">\\r\\n        <div class=\"component-page-rows\"><div class=\"single-content-row\">  <div class=\"homepage-banner website-banner fullscreen\">\\r\\n    \\r\\n\\r\\n<div class=\"row\">\\r\\n    <div class=\"small-12 columns\">\\r\\n        <div class=\"desktop-banner banner-image-container lazy-bg-image\" data-bg=\"url(https://www.beerwulf.com/fr-fr/SysSiteAssets/landing-pages/oktoberfest/oktoberfest-lp-2020/beer_fest_ld.jpg?rev=754327155)\">\\r\\n        </div>\\r\\n        <div class=\"mobile-banner banner-image-container lazy-bg-image\" data-bg=\"url(https://www.beerwulf.com/fr-fr/SysSiteAssets/landing-pages/oktoberfest/oktoberfest-lp-2020/beer_fest_m.jpg?rev=754327155)\">\\r\\n        </div>\\r\\n        <div class=\"banner-content light-theme middle-center\" style=\"max-width:80%\">\\r\\n                <h3>F&#202;TE DE LA BI&#200;RE BEERWULF</h3>\\r\\n            <p>C&#233;l&#233;brez la f&#234;te de la bi&#232;re avec JUSQU&#39;&#192; 25% de r&#233;duction sur des bouteilles, canettes et f&#251;ts</p>\\r\\n                <div class=\"banner-cta\">\\r\\n                    <a href=\"/fr-fr/oktoberfest-bieres-coffret\" class=\"button  \">\\r\\n                        JE D&#201;COUVRE\\r\\n                    </a>\\r\\n                </div>\\r\\n        </div>\\r\\n    </div>\\r\\n</div>\\r\\n  </div>\\r\\n</div><div class=\"single-content-row\">\\r\\n<div class=\"row columns\">\\r\\n    <div class=\"small-12\">\\r\\n        <div class=\"centered-addition \">\\r\\n            <div class=\"addition\">\\r\\n                        <h1>Achat de bi&#232;res, f&#251;ts et tireuses en ligne</h1>\\r\\n                        <span class=\"sub-text\">Livraison gratuite pour les colis complets</span>\\r\\n            </div>\\r\\n        </div>\\r\\n    </div>\\r\\n</div></div><div class=\"single-content-row\"><div class=\"row align-middle align-center\">\\r\\n    <div class=\"small-12 columns\">\\r\\n        <div class=\"home-buttons-container\"><div>\\r\\n\\r\\n\\r\\n<a href=\"/fr-fr/tireuse-a-biere-the-sub\">\\r\\n        <img class=\"lazy-image\" src=\"data:image/gif;base64,R0lGODlhAQABAIAAAAAAAP///yH5BAEAAAAALAAAAAABAAEAAAIBRAA7\" data-src=\"https://www.beerwulf.com/contentassets/8b52340e20994587a73544bf9b882e13/homedraught_assortment_appliance_sub_navigation_v2.jpg?rev=379576605\" alt=\"The SUB\" title=\"The SUB\" />\\r\\n    <h3>The SUB</h3>\\r\\n</a>\\r\\n</div><div>\\r\\n\\r\\n\\r\\n<a href=\"/fr-fr/c/futsthesub\">\\r\\n        <img class=\"lazy-image\" src=\"data:image/gif;base64,R0lGODlhAQABAIAAAAAAAP///yH5BAEAAAAALAAAAAABAAEAAAIBRAA7\" data-src=\"https://www.beerwulf.com/contentassets/da6847d5861c4a4dae7c759925fec447/homedraught_assortment_kegs_2l_navigation_v3.jpg?rev=964874525\" alt=\"F&#251;ts The SUB\" title=\"F&#251;ts The SUB\" />\\r\\n    <h3>F&#251;ts The SUB</h3>\\r\\n</a>\\r\\n</div><div>\\r\\n\\r\\n\\r\\n<a href=\"/fr-fr/tireuse-a-biere-beertender\">\\r\\n        <img class=\"lazy-image\" src=\"data:image/gif;base64,R0lGODlhAQABAIAAAAAAAP///yH5BAEAAAAALAAAAAABAAEAAAIBRAA7\" data-src=\"https://www.beerwulf.com/contentassets/3369b7c19d35469a8eaf33ae38cb43ff/homedraught_assortment_appliance_beertender_navigation.jpg?rev=1108158725\" alt=\"BeerTender\" title=\"BeerTender\" />\\r\\n    <h3>BeerTender</h3>\\r\\n</a>\\r\\n</div><div>\\r\\n\\r\\n\\r\\n<a href=\"/fr-fr/c?page=1&amp;container=F%c3%bbt+de+5L\">\\r\\n        <img class=\"lazy-image\" src=\"data:image/gif;base64,R0lGODlhAQABAIAAAAAAAP///yH5BAEAAAAALAAAAAABAAEAAAIBRAA7\" data-src=\"https://www.beerwulf.com/contentassets/93b0b2c19bb242b99340a05302cfcee2/homedraught_assortment_kegs_5l_navigation_v2.jpg?rev=79578141\" alt=\"F&#251;ts 5L\" title=\"F&#251;ts 5L\" />\\r\\n    <h3>F&#251;ts 5L</h3>\\r\\n</a>\\r\\n</div><div>\\r\\n\\r\\n\\r\\n<a href=\"/fr-fr/c/coffretdebiere\">\\r\\n        <img class=\"lazy-image\" src=\"data:image/gif;base64,R0lGODlhAQABAIAAAAAAAP///yH5BAEAAAAALAAAAAABAAEAAAIBRAA7\" data-src=\"https://www.beerwulf.com/contentassets/2b6993abde8e495caeae882ff5e65630/beer_cases_lp_navigation.jpg?rev=1842810629\" alt=\"Coffrets de bi&#232;res\" title=\"Coffrets de bi&#232;res\" />\\r\\n    <h3>Coffrets de bi&#232;res</h3>\\r\\n</a>\\r\\n</div><div>\\r\\n\\r\\n\\r\\n<a href=\"/fr-fr/c/bieres\">\\r\\n        <img class=\"lazy-image\" src=\"data:image/gif;base64,R0lGODlhAQABAIAAAAAAAP///yH5BAEAAAAALAAAAAABAAEAAAIBRAA7\" data-src=\"https://www.beerwulf.com/fr-fr/SysSiteAssets/homepage-header--theme-tiles/navigation/desktop-navigation/beers/general_navigation_articles_all.jpg?rev=1784718283\" alt=\"Bouteilles et canettes\" title=\"Bouteilles et canettes\" />\\r\\n    <h3>Bouteilles et canettes</h3>\\r\\n</a>\\r\\n</div></div>\\r\\n    </div>\\r\\n</div>\\r\\n</div><div class=\"single-content-row\"><div class=\"row columns\">\\r\\n    <div class=\"small-12\">\\r\\n        <div class=\"title-with-text\">          \\r\\n                <h3>Nos Bestsellers</h3>\\r\\n            <a href=\"/fr-fr/c/futs-de-biere-5l\"><span>Les f&#251;ts de 5L BeerTender</span></a>                \\r\\n        </div>\\r\\n    </div>\\r\\n</div>\\r\\n</div><div class=\"single-content-row\">\\r\\n\\r\\n<div class=\"row product-overview-container\">\\r\\n    <div class=\"small-12 columns\">\\r\\n\\r\\n        <div class=\"products\">\\r\\n            <div class=\"product-items-container static-shelf\">\\r\\n\\r\\n\\r\\n\\r\\n    <div data-product=\\'{\"name\":\"LOT DE 10 TUBES DE SERVICE BEERTENDER\",\"id\":\"BeerTender-6-pack-Tubes_2\",\"price\":11.990000000,\"from-price\":null,\"category\":\"Generic Variation\",\"variant\":\"FR-BeerTender-6-pack-Tubes_1\",\"brand\":\"Beerwulf\",\"list\":\"Generic Variation Catalog Entry Summary\",\"position\":1}\\'\\r\\n         class=\"product  \">\\r\\n\\r\\n            <h4>\\r\\n                <a href=\"/fr-fr/p/accessoires/lot-de-10-tubes-de-service-beertender\"\\r\\n                   target=\"_self\"\\r\\n                   data-action=\"product-click\">LOT DE 10 TUBES DE SERVICE BEERTENDER</a>\\r\\n            </h4>\\r\\n            <div class=\"images-icons-container\">\\r\\n\\r\\n\\r\\n<div class=\"image-container\">\\r\\n\\r\\n    <a href=\"/fr-fr/p/accessoires/lot-de-10-tubes-de-service-beertender\"\\r\\n       data-action=\"product-click\"\\r\\n       target=\"_self\">\\r\\n        <img class=\"lazy-image\" src=\"data:image/gif;base64,R0lGODlhAQABAIAAAAAAAP///yH5BAEAAAAALAAAAAABAAEAAAIBRAA7\" alt=\"LOT DE 10 TUBES DE SERVICE BEERTENDER\" title=\"LOT DE 10 TUBES DE SERVICE BEERTENDER\" data-src=\"https://www.beerwulf.com/globalassets/fr-beertender-6-pack-tubes_1_0.png?h=282&amp;rev=1650768586\" />\\r\\n    </a>\\r\\n\\r\\n</div>\\r\\n\\r\\n\\r\\n\\r\\n                <div class=\"left-side-icons\">\\r\\n                </div>\\r\\n\\r\\n\\r\\n                <div class=\"right-side-icons\">\\r\\n                    <div class=\"badges\">\\r\\n\\r\\n                    </div>\\r\\n\\r\\n                    <div class=\"add-to-shoppinglist js-add-to-shoppinglist\" data-code=\"FR-BeerTender-6-pack-Tubes_1\">\\r\\n                        <svg role=\"img\" class=\"shoppinglist-add\">\\r\\n                            <use xlink:href=\"/static/dist/assets/img/svg.svg#icon_shoppinglist_sidebar\"></use>\\r\\n                        </svg>\\r\\n\\r\\n                        <svg role=\"img\" class=\"shoppinglist-remove\">\\r\\n                            <use xlink:href=\"/static/dist/assets/img/svg.svg#icon_shoppinglist_notification\"></use>\\r\\n                        </svg>\\r\\n                    </div>\\r\\n                </div>\\r\\n            </div>\\r\\n            <p></p>\\r\\n\\r\\n    <div class=\"price-container\" data-sku=\"FR-BeerTender-6-pack-Tubes_1\">\\r\\n                <span class=\"price\">11,99 €</span>\\r\\n        </div>\\r\\n\\r\\n            <div class=\"product-actions\">\\r\\n                    <div class=\"add-to-cart-container\">\\r\\n                            <div class=\"add-to-cart\">\\r\\n                                <button class=\"minus\">-</button>\\r\\n                                <input value=\"\" type=\"tel\" maxlength=\"3\" minlength=\"0\" data-sku=\"FR-BeerTender-6-pack-Tubes_1\">\\r\\n                                <button class=\"plus textual\" data-textual=\"Ajouter\">+</button>\\r\\n                                <button class=\"ok\">Ok</button>\\r\\n                            </div>\\r\\n                    </div>\\r\\n            </div>\\r\\n    </div>\\r\\n\\r\\n\\r\\n\\r\\n    <div data-product=\\'{\"name\":\"Affligem Blonde - Fûts de 5L\",\"id\":\"Affligem-Blond_1\",\"price\":19.460000000,\"from-price\":22.990000000,\"category\":\"Bière Blonde\",\"variant\":\"Affligem-Blond-5L-Keg_1\",\"brand\":\"AFFLIGEM, Affligem Brouwerij\",\"list\":\"Beer Variation Catalog Entry Summary\",\"position\":1,\"container\":\"DraughtKeg\",\"stock\":\"2573\"}\\'\\r\\n         class=\"product beer-bottle \">\\r\\n\\r\\n            <h4>\\r\\n                <a href=\"/fr-fr/p/bieres/affligem-blonde-fut-5l\"\\r\\n                   target=\"_self\"\\r\\n                   data-action=\"product-click\">Affligem Blonde - F&#251;ts de 5L</a>\\r\\n            </h4>\\r\\n            <div class=\"images-icons-container\">\\r\\n\\r\\n\\r\\n<div class=\"image-container\">\\r\\n\\r\\n    <a href=\"/fr-fr/p/bieres/affligem-blonde-fut-5l\"\\r\\n       data-action=\"product-click\"\\r\\n       target=\"_self\">\\r\\n        <img class=\"lazy-image\" src=\"data:image/gif;base64,R0lGODlhAQABAIAAAAAAAP///yH5BAEAAAAALAAAAAABAAEAAAIBRAA7\" alt=\"Affligem Blonde - F&#251;ts de 5L\" title=\"Affligem Blonde - F&#251;ts de 5L\" data-src=\"https://www.beerwulf.com/globalassets/affligem-blond-5l-keg_1_02.png?h=282&amp;rev=1274018982\" />\\r\\n    </a>\\r\\n\\r\\n</div>\\r\\n\\r\\n\\r\\n\\r\\n                <div class=\"left-side-icons\">\\r\\n                        <div class=\"discount-tab red-tab\">\\r\\n                            -15%\\r\\n                        </div>\\r\\n                </div>\\r\\n\\r\\n                    <div class=\"free-item-icon\">\\r\\n                        <img src=\"/globalassets/icons/draught-system-icon/option-1tube_incl_-1.png?rev=1194813566\" />\\r\\n                    </div>\\r\\n\\r\\n                <div class=\"right-side-icons\">\\r\\n                    <div class=\"badges\">\\r\\n                            <div class=\"js-machine-label machine-label\" title=\"Beer Tender\">\\r\\n                                <img class=\"machine-icon\" src=\"/globalassets/icons/draught-system-icon/beertender_icon.svg?rev=1268836488\" alt=\"Beer Tender\" />\\r\\n                            </div>\\r\\n\\r\\n                            <div class=\"js-award-label award-label\" title=\"C&#39;est une bi&#232;re m&#233;daill&#233;e\">\\r\\n                                <svg role=\"img\">\\r\\n                                    <use xlink:href=\"/static/dist/assets/img/svg.svg#award-badge\"></use>\\r\\n                                </svg>\\r\\n                            </div>\\r\\n                    </div>\\r\\n\\r\\n                    <div class=\"add-to-shoppinglist js-add-to-shoppinglist\" data-code=\"Affligem-Blond-5L-Keg_1\">\\r\\n                        <svg role=\"img\" class=\"shoppinglist-add\">\\r\\n                            <use xlink:href=\"/static/dist/assets/img/svg.svg#icon_shoppinglist_sidebar\"></use>\\r\\n                        </svg>\\r\\n\\r\\n                        <svg role=\"img\" class=\"shoppinglist-remove\">\\r\\n                            <use xlink:href=\"/static/dist/assets/img/svg.svg#icon_shoppinglist_notification\"></use>\\r\\n                        </svg>\\r\\n                    </div>\\r\\n                </div>\\r\\n            </div>\\r\\n            <p>Bi&#232;re Blonde | 6,8% | 5 Litres</p>\\r\\n\\r\\n    <div class=\"price-container\" data-sku=\"Affligem-Blond-5L-Keg_1\">\\r\\n                <div class=\"discounted-price-container\">\\r\\n                    <span class=\"price from-price\">22,99 €</span>\\r\\n                    <span class=\"price\">19,46 €</span>\\r\\n                </div>\\r\\n        </div>\\r\\n\\r\\n            <div class=\"product-actions\">\\r\\n                    <div class=\"add-to-cart-container\">\\r\\n                            <div class=\"add-to-cart\">\\r\\n                                <button class=\"minus\">-</button>\\r\\n                                <input value=\"\" type=\"tel\" maxlength=\"3\" minlength=\"0\" data-sku=\"Affligem-Blond-5L-Keg_1\">\\r\\n                                <button class=\"plus textual\" data-textual=\"Ajouter\">+</button>\\r\\n                                <button class=\"ok\">Ok</button>\\r\\n                            </div>\\r\\n                    </div>\\r\\n            </div>\\r\\n    </div>\\r\\n\\r\\n\\r\\n\\r\\n    <div data-product=\\'{\"name\":\"Heineken - Fûts de 5L\",\"id\":\"Heineken-Club-Bottle_1\",\"price\":16.140000000,\"from-price\":18.990000000,\"category\":\"Lager\",\"variant\":\"Heineken-5L-Keg_1\",\"brand\":\"HEINEKEN, Heineken Brewery\",\"list\":\"Beer Variation Catalog Entry Summary\",\"position\":2,\"container\":\"DraughtKeg\",\"stock\":\"2165\"}\\'\\r\\n         class=\"product beer-bottle \">\\r\\n\\r\\n            <h4>\\r\\n                <a href=\"/fr-fr/p/bieres/heineken-fut-5l\"\\r\\n                   target=\"_self\"\\r\\n                   data-action=\"product-click\">Heineken - F&#251;ts de 5L</a>\\r\\n            </h4>\\r\\n            <div class=\"images-icons-container\">\\r\\n\\r\\n\\r\\n<div class=\"image-container\">\\r\\n\\r\\n    <a href=\"/fr-fr/p/bieres/heineken-fut-5l\"\\r\\n       data-action=\"product-click\"\\r\\n       target=\"_self\">\\r\\n        <img class=\"lazy-image\" src=\"data:image/gif;base64,R0lGODlhAQABAIAAAAAAAP///yH5BAEAAAAALAAAAAABAAEAAAIBRAA7\" alt=\"Heineken - F&#251;ts de 5L\" title=\"Heineken - F&#251;ts de 5L\" data-src=\"https://www.beerwulf.com/globalassets/heineken-5l-keg_1_3.png?h=282&amp;rev=30499969\" />\\r\\n    </a>\\r\\n\\r\\n</div>\\r\\n\\r\\n\\r\\n\\r\\n                <div class=\"left-side-icons\">\\r\\n                        <div class=\"discount-tab red-tab\">\\r\\n                            -15%\\r\\n                        </div>\\r\\n                </div>\\r\\n\\r\\n                    <div class=\"free-item-icon\">\\r\\n                        <img src=\"/globalassets/icons/draught-system-icon/option-1tube_incl_-1.png?rev=1194813566\" />\\r\\n                    </div>\\r\\n\\r\\n                <div class=\"right-side-icons\">\\r\\n                    <div class=\"badges\">\\r\\n                            <div class=\"js-machine-label machine-label\" title=\"Beer Tender\">\\r\\n                                <img class=\"machine-icon\" src=\"/globalassets/icons/draught-system-icon/beertender_icon.svg?rev=1268836488\" alt=\"Beer Tender\" />\\r\\n                            </div>\\r\\n\\r\\n                    </div>\\r\\n\\r\\n                    <div class=\"add-to-shoppinglist js-add-to-shoppinglist\" data-code=\"Heineken-5L-Keg_1\">\\r\\n                        <svg role=\"img\" class=\"shoppinglist-add\">\\r\\n                            <use xlink:href=\"/static/dist/assets/img/svg.svg#icon_shoppinglist_sidebar\"></use>\\r\\n                        </svg>\\r\\n\\r\\n                        <svg role=\"img\" class=\"shoppinglist-remove\">\\r\\n                            <use xlink:href=\"/static/dist/assets/img/svg.svg#icon_shoppinglist_notification\"></use>\\r\\n                        </svg>\\r\\n                    </div>\\r\\n                </div>\\r\\n            </div>\\r\\n            <p>Lager | 5,0% | 5 Litres</p>\\r\\n\\r\\n    <div class=\"price-container\" data-sku=\"Heineken-5L-Keg_1\">\\r\\n                <div class=\"discounted-price-container\">\\r\\n                    <span class=\"price from-price\">18,99 €</span>\\r\\n                    <span class=\"price\">16,14 €</span>\\r\\n                </div>\\r\\n        </div>\\r\\n\\r\\n            <div class=\"product-actions\">\\r\\n                    <div class=\"add-to-cart-container\">\\r\\n                            <div class=\"add-to-cart\">\\r\\n                                <button class=\"minus\">-</button>\\r\\n                                <input value=\"\" type=\"tel\" maxlength=\"3\" minlength=\"0\" data-sku=\"Heineken-5L-Keg_1\">\\r\\n                                <button class=\"plus textual\" data-textual=\"Ajouter\">+</button>\\r\\n                                <button class=\"ok\">Ok</button>\\r\\n                            </div>\\r\\n                    </div>\\r\\n            </div>\\r\\n    </div>\\r\\n\\r\\n\\r\\n\\r\\n    <div data-product=\\'{\"name\":\"Edelweiss Blanche - Fûts de 5L\",\"id\":\"Edelweiss_1\",\"price\":19.790000000,\"from-price\":21.990000000,\"category\":\"Bière Blanche\",\"variant\":\"Edelweiss-Blanche---Draught-KegDraughtKeg5_15214\",\"brand\":\"EDELWEISS, Edelweiss\",\"list\":\"Beer Variation Catalog Entry Summary\",\"position\":3,\"container\":\"DraughtKeg\",\"stock\":\"1303\"}\\'\\r\\n         class=\"product beer-bottle \">\\r\\n\\r\\n            <h4>\\r\\n                <a href=\"/fr-fr/p/bieres/edelweiss-blanche-fut-5l\"\\r\\n                   target=\"_self\"\\r\\n                   data-action=\"product-click\">Edelweiss Blanche - F&#251;ts de 5L</a>\\r\\n            </h4>\\r\\n            <div class=\"images-icons-container\">\\r\\n\\r\\n\\r\\n<div class=\"image-container\">\\r\\n\\r\\n    <a href=\"/fr-fr/p/bieres/edelweiss-blanche-fut-5l\"\\r\\n       data-action=\"product-click\"\\r\\n       target=\"_self\">\\r\\n        <img class=\"lazy-image\" src=\"data:image/gif;base64,R0lGODlhAQABAIAAAAAAAP///yH5BAEAAAAALAAAAAABAAEAAAIBRAA7\" alt=\"Edelweiss Blanche - F&#251;ts de 5L\" title=\"Edelweiss Blanche - F&#251;ts de 5L\" data-src=\"https://www.beerwulf.com/globalassets/edelweiss-blanche---draught-kegdraughtkeg5_15214_1.png?h=282&amp;rev=283978837\" />\\r\\n    </a>\\r\\n\\r\\n</div>\\r\\n\\r\\n\\r\\n\\r\\n                <div class=\"left-side-icons\">\\r\\n                        <div class=\"discount-tab red-tab\">\\r\\n                            -10%\\r\\n                        </div>\\r\\n                </div>\\r\\n\\r\\n                    <div class=\"free-item-icon\">\\r\\n                        <img src=\"/globalassets/icons/draught-system-icon/option-1tube_incl_-1.png?rev=1194813566\" />\\r\\n                    </div>\\r\\n\\r\\n                <div class=\"right-side-icons\">\\r\\n                    <div class=\"badges\">\\r\\n                            <div class=\"js-machine-label machine-label\" title=\"Beer Tender\">\\r\\n                                <img class=\"machine-icon\" src=\"/globalassets/icons/draught-system-icon/beertender_icon.svg?rev=1268836488\" alt=\"Beer Tender\" />\\r\\n                            </div>\\r\\n\\r\\n                    </div>\\r\\n\\r\\n                    <div class=\"add-to-shoppinglist js-add-to-shoppinglist\" data-code=\"Edelweiss-Blanche---Draught-KegDraughtKeg5_15214\">\\r\\n                        <svg role=\"img\" class=\"shoppinglist-add\">\\r\\n                            <use xlink:href=\"/static/dist/assets/img/svg.svg#icon_shoppinglist_sidebar\"></use>\\r\\n                        </svg>\\r\\n\\r\\n                        <svg role=\"img\" class=\"shoppinglist-remove\">\\r\\n                            <use xlink:href=\"/static/dist/assets/img/svg.svg#icon_shoppinglist_notification\"></use>\\r\\n                        </svg>\\r\\n                    </div>\\r\\n                </div>\\r\\n            </div>\\r\\n            <p>Bi&#232;re Blanche | 5,0% | 5 Litres</p>\\r\\n\\r\\n    <div class=\"price-container\" data-sku=\"Edelweiss-Blanche---Draught-KegDraughtKeg5_15214\">\\r\\n                <div class=\"discounted-price-container\">\\r\\n                    <span class=\"price from-price\">21,99 €</span>\\r\\n                    <span class=\"price\">19,79 €</span>\\r\\n                </div>\\r\\n        </div>\\r\\n\\r\\n            <div class=\"product-actions\">\\r\\n                    <div class=\"add-to-cart-container\">\\r\\n                            <div class=\"add-to-cart\">\\r\\n                                <button class=\"minus\">-</button>\\r\\n                                <input value=\"\" type=\"tel\" maxlength=\"3\" minlength=\"0\" data-sku=\"Edelweiss-Blanche---Draught-KegDraughtKeg5_15214\">\\r\\n                                <button class=\"plus textual\" data-textual=\"Ajouter\">+</button>\\r\\n                                <button class=\"ok\">Ok</button>\\r\\n                            </div>\\r\\n                    </div>\\r\\n            </div>\\r\\n    </div>\\r\\n            </div>\\r\\n        </div>\\r\\n    </div>\\r\\n</div>\\r\\n\\r\\n</div><div class=\"single-content-row\"><div class=\"row columns\">\\r\\n    <div class=\"small-12\">\\r\\n        <div class=\"title-with-text\">          \\r\\n                <h3>D&#233;couvrez les f&#251;ts The SUB (2L)</h3>\\r\\n            <a href=\"/fr-fr/c?q=torps&amp;type=0&amp;catalogCode=&amp;sort=pricedesc&amp;page=1\"><span>Voir tous les f&#251;ts The SUB</span></a>                \\r\\n        </div>\\r\\n    </div>\\r\\n</div>\\r\\n</div><div class=\"single-content-row\">\\r\\n\\r\\n<div class=\"row product-overview-container\">\\r\\n    <div class=\"small-12 columns\">\\r\\n\\r\\n        <div class=\"products\">\\r\\n            <div class=\"product-items-container static-shelf\">\\r\\n\\r\\n\\r\\n\\r\\n    <div data-product=\\'{\"name\":\"Lagunitas IPA - Fût The SUB\",\"id\":\"Lagunitas-IPA_1\",\"price\":11.990000000,\"from-price\":15.990000000,\"category\":\"IPA\",\"variant\":\"Lagunitas-IPA-2L-keg_1\",\"brand\":\"LAGUNITAS, Lagunitas Brewing Company\",\"list\":\"Beer Variation Catalog Entry Summary\",\"position\":1,\"container\":\"Torp\",\"stock\":\"736\"}\\'\\r\\n         class=\"product beer-bottle \">\\r\\n\\r\\n            <h4>\\r\\n                <a href=\"/fr-fr/p/bieres/lagunitas-ipa-fut-2l\"\\r\\n                   target=\"_self\"\\r\\n                   data-action=\"product-click\">Lagunitas IPA - F&#251;t The SUB</a>\\r\\n            </h4>\\r\\n            <div class=\"images-icons-container\">\\r\\n\\r\\n\\r\\n<div class=\"image-container\">\\r\\n\\r\\n    <a href=\"/fr-fr/p/bieres/lagunitas-ipa-fut-2l\"\\r\\n       data-action=\"product-click\"\\r\\n       target=\"_self\">\\r\\n        <img class=\"lazy-image\" src=\"data:image/gif;base64,R0lGODlhAQABAIAAAAAAAP///yH5BAEAAAAALAAAAAABAAEAAAIBRAA7\" alt=\"Lagunitas IPA - F&#251;t The SUB\" title=\"Lagunitas IPA - F&#251;t The SUB\" data-src=\"https://www.beerwulf.com/globalassets/lagunitas-ipa-2l-keg_1_02.png?h=282&amp;rev=1035315787\" />\\r\\n    </a>\\r\\n\\r\\n</div>\\r\\n\\r\\n\\r\\n\\r\\n                <div class=\"left-side-icons\">\\r\\n                        <div class=\"discount-tab red-tab\">\\r\\n                            -25%\\r\\n                        </div>\\r\\n                </div>\\r\\n\\r\\n\\r\\n                <div class=\"right-side-icons\">\\r\\n                    <div class=\"badges\">\\r\\n                            <div class=\"js-machine-label machine-label\" title=\"Sub\">\\r\\n                                <img class=\"machine-icon\" src=\"/globalassets/icons/draught-system-icon/sub_icon.svg?rev=1695722248\" alt=\"Sub\" />\\r\\n                            </div>\\r\\n\\r\\n                    </div>\\r\\n\\r\\n                    <div class=\"add-to-shoppinglist js-add-to-shoppinglist\" data-code=\"Lagunitas-IPA-2L-keg_1\">\\r\\n                        <svg role=\"img\" class=\"shoppinglist-add\">\\r\\n                            <use xlink:href=\"/static/dist/assets/img/svg.svg#icon_shoppinglist_sidebar\"></use>\\r\\n                        </svg>\\r\\n\\r\\n                        <svg role=\"img\" class=\"shoppinglist-remove\">\\r\\n                            <use xlink:href=\"/static/dist/assets/img/svg.svg#icon_shoppinglist_notification\"></use>\\r\\n                        </svg>\\r\\n                    </div>\\r\\n                </div>\\r\\n            </div>\\r\\n            <p>IPA | 6,2% | 2 Litres</p>\\r\\n\\r\\n    <div class=\"price-container\" data-sku=\"Lagunitas-IPA-2L-keg_1\">\\r\\n                <div class=\"discounted-price-container\">\\r\\n                    <span class=\"price from-price\">15,99 €</span>\\r\\n                    <span class=\"price\">11,99 €</span>\\r\\n                </div>\\r\\n        </div>\\r\\n\\r\\n            <div class=\"product-actions\">\\r\\n                    <div class=\"add-to-cart-container\">\\r\\n                            <div class=\"add-to-cart\">\\r\\n                                <button class=\"minus\">-</button>\\r\\n                                <input value=\"\" type=\"tel\" maxlength=\"3\" minlength=\"0\" data-sku=\"Lagunitas-IPA-2L-keg_1\">\\r\\n                                <button class=\"plus textual\" data-textual=\"Ajouter\">+</button>\\r\\n                                <button class=\"ok\">Ok</button>\\r\\n                            </div>\\r\\n                    </div>\\r\\n            </div>\\r\\n    </div>\\r\\n\\r\\n\\r\\n\\r\\n    <div data-product=\\'{\"name\":\"Fourpure Easy Peeler - Fût The SUB\",\"id\":\"Fourpure-Easy-Peeler-Session-IPA_1\",\"price\":13.190000000,\"from-price\":16.490000000,\"category\":\"IPA\",\"variant\":\"Fourpure-Easy-Peeler---SUB-Keg_Beer_15762\",\"brand\":\"FOURPURE, Fourpure\",\"list\":\"Beer Variation Catalog Entry Summary\",\"position\":2,\"container\":\"Torp\",\"stock\":\"791\"}\\'\\r\\n         class=\"product beer-bottle \">\\r\\n\\r\\n            <h4>\\r\\n                <a href=\"/fr-fr/p/bieres/fourpure-easy-peeler-fut-2l\"\\r\\n                   target=\"_self\"\\r\\n                   data-action=\"product-click\">Fourpure Easy Peeler - F&#251;t The SUB</a>\\r\\n            </h4>\\r\\n            <div class=\"images-icons-container\">\\r\\n\\r\\n\\r\\n<div class=\"image-container\">\\r\\n\\r\\n    <a href=\"/fr-fr/p/bieres/fourpure-easy-peeler-fut-2l\"\\r\\n       data-action=\"product-click\"\\r\\n       target=\"_self\">\\r\\n        <img class=\"lazy-image\" src=\"data:image/gif;base64,R0lGODlhAQABAIAAAAAAAP///yH5BAEAAAAALAAAAAABAAEAAAIBRAA7\" alt=\"Fourpure Easy Peeler - F&#251;t The SUB\" title=\"Fourpure Easy Peeler - F&#251;t The SUB\" data-src=\"https://www.beerwulf.com/globalassets/fourpure-easy-peeler---sub-keg_beer_15762_0.png?h=282&amp;rev=1756341308\" />\\r\\n    </a>\\r\\n\\r\\n</div>\\r\\n\\r\\n\\r\\n\\r\\n                <div class=\"left-side-icons\">\\r\\n                        <div class=\"discount-tab red-tab\">\\r\\n                            -20%\\r\\n                        </div>\\r\\n                </div>\\r\\n\\r\\n\\r\\n                <div class=\"right-side-icons\">\\r\\n                    <div class=\"badges\">\\r\\n                            <div class=\"js-machine-label machine-label\" title=\"Sub\">\\r\\n                                <img class=\"machine-icon\" src=\"/globalassets/icons/draught-system-icon/sub_icon.svg?rev=1695722248\" alt=\"Sub\" />\\r\\n                            </div>\\r\\n\\r\\n                    </div>\\r\\n\\r\\n                    <div class=\"add-to-shoppinglist js-add-to-shoppinglist\" data-code=\"Fourpure-Easy-Peeler---SUB-Keg_Beer_15762\">\\r\\n                        <svg role=\"img\" class=\"shoppinglist-add\">\\r\\n                            <use xlink:href=\"/static/dist/assets/img/svg.svg#icon_shoppinglist_sidebar\"></use>\\r\\n                        </svg>\\r\\n\\r\\n                        <svg role=\"img\" class=\"shoppinglist-remove\">\\r\\n                            <use xlink:href=\"/static/dist/assets/img/svg.svg#icon_shoppinglist_notification\"></use>\\r\\n                        </svg>\\r\\n                    </div>\\r\\n                </div>\\r\\n            </div>\\r\\n            <p>IPA | 4,0% | 2 Litres</p>\\r\\n\\r\\n    <div class=\"price-container\" data-sku=\"Fourpure-Easy-Peeler---SUB-Keg_Beer_15762\">\\r\\n                <div class=\"discounted-price-container\">\\r\\n                    <span class=\"price from-price\">16,49 €</span>\\r\\n                    <span class=\"price\">13,19 €</span>\\r\\n                </div>\\r\\n        </div>\\r\\n\\r\\n            <div class=\"product-actions\">\\r\\n                    <div class=\"add-to-cart-container\">\\r\\n                            <div class=\"add-to-cart\">\\r\\n                                <button class=\"minus\">-</button>\\r\\n                                <input value=\"\" type=\"tel\" maxlength=\"3\" minlength=\"0\" data-sku=\"Fourpure-Easy-Peeler---SUB-Keg_Beer_15762\">\\r\\n                                <button class=\"plus textual\" data-textual=\"Ajouter\">+</button>\\r\\n                                <button class=\"ok\">Ok</button>\\r\\n                            </div>\\r\\n                    </div>\\r\\n            </div>\\r\\n    </div>\\r\\n\\r\\n\\r\\n\\r\\n    <div data-product=\\'{\"name\":\"Fourpure Hemisphere Session IPA - Fût The SUB\",\"id\":\"Fourpure-Session-IPA_1\",\"price\":13.590000000,\"from-price\":16.990000000,\"category\":\"IPA\",\"variant\":\"Fourpure-Session-IPA-2L-Keg_1\",\"brand\":\"FOURPURE, Fourpure\",\"list\":\"Beer Variation Catalog Entry Summary\",\"position\":3,\"container\":\"Torp\",\"stock\":\"3166\"}\\'\\r\\n         class=\"product beer-bottle \">\\r\\n\\r\\n            <h4>\\r\\n                <a href=\"/fr-fr/p/bieres/hemisphere-session-ipa-fut-2l\"\\r\\n                   target=\"_self\"\\r\\n                   data-action=\"product-click\">Fourpure Hemisphere Session IPA - F&#251;t The SUB</a>\\r\\n            </h4>\\r\\n            <div class=\"images-icons-container\">\\r\\n\\r\\n\\r\\n<div class=\"image-container\">\\r\\n\\r\\n    <a href=\"/fr-fr/p/bieres/hemisphere-session-ipa-fut-2l\"\\r\\n       data-action=\"product-click\"\\r\\n       target=\"_self\">\\r\\n        <img class=\"lazy-image\" src=\"data:image/gif;base64,R0lGODlhAQABAIAAAAAAAP///yH5BAEAAAAALAAAAAABAAEAAAIBRAA7\" alt=\"Fourpure Hemisphere Session IPA - F&#251;t The SUB\" title=\"Fourpure Hemisphere Session IPA - F&#251;t The SUB\" data-src=\"https://www.beerwulf.com/globalassets/fourpure-session-ipa-2l-keg_1_02.png?h=282&amp;rev=1337864330\" />\\r\\n    </a>\\r\\n\\r\\n</div>\\r\\n\\r\\n\\r\\n\\r\\n                <div class=\"left-side-icons\">\\r\\n                        <div class=\"discount-tab red-tab\">\\r\\n                            -20%\\r\\n                        </div>\\r\\n                </div>\\r\\n\\r\\n\\r\\n                <div class=\"right-side-icons\">\\r\\n                    <div class=\"badges\">\\r\\n                            <div class=\"js-machine-label machine-label\" title=\"Sub\">\\r\\n                                <img class=\"machine-icon\" src=\"/globalassets/icons/draught-system-icon/sub_icon.svg?rev=1695722248\" alt=\"Sub\" />\\r\\n                            </div>\\r\\n\\r\\n                            <div class=\"js-award-label award-label\" title=\"C&#39;est une bi&#232;re m&#233;daill&#233;e\">\\r\\n                                <svg role=\"img\">\\r\\n                                    <use xlink:href=\"/static/dist/assets/img/svg.svg#award-badge\"></use>\\r\\n                                </svg>\\r\\n                            </div>\\r\\n                    </div>\\r\\n\\r\\n                    <div class=\"add-to-shoppinglist js-add-to-shoppinglist\" data-code=\"Fourpure-Session-IPA-2L-Keg_1\">\\r\\n                        <svg role=\"img\" class=\"shoppinglist-add\">\\r\\n                            <use xlink:href=\"/static/dist/assets/img/svg.svg#icon_shoppinglist_sidebar\"></use>\\r\\n                        </svg>\\r\\n\\r\\n                        <svg role=\"img\" class=\"shoppinglist-remove\">\\r\\n                            <use xlink:href=\"/static/dist/assets/img/svg.svg#icon_shoppinglist_notification\"></use>\\r\\n                        </svg>\\r\\n                    </div>\\r\\n                </div>\\r\\n            </div>\\r\\n            <p>IPA | 4,2% | 2 Litres</p>\\r\\n\\r\\n    <div class=\"price-container\" data-sku=\"Fourpure-Session-IPA-2L-Keg_1\">\\r\\n                <div class=\"discounted-price-container\">\\r\\n                    <span class=\"price from-price\">16,99 €</span>\\r\\n                    <span class=\"price\">13,59 €</span>\\r\\n                </div>\\r\\n        </div>\\r\\n\\r\\n            <div class=\"product-actions\">\\r\\n                    <div class=\"add-to-cart-container\">\\r\\n                            <div class=\"add-to-cart\">\\r\\n                                <button class=\"minus\">-</button>\\r\\n                                <input value=\"\" type=\"tel\" maxlength=\"3\" minlength=\"0\" data-sku=\"Fourpure-Session-IPA-2L-Keg_1\">\\r\\n                                <button class=\"plus textual\" data-textual=\"Ajouter\">+</button>\\r\\n                                <button class=\"ok\">Ok</button>\\r\\n                            </div>\\r\\n                    </div>\\r\\n            </div>\\r\\n    </div>\\r\\n\\r\\n\\r\\n\\r\\n    <div data-product=\\'{\"name\":\"La Cristal IPA du Mont Blanc - Fût The SUB\",\"id\":\"La-Cristal-IPA-du-Mont-Blanc_1\",\"price\":14.390000000,\"from-price\":17.990000000,\"category\":\"IPA\",\"variant\":\"La-Cristal-IPA-du-Mont-Blanc-TORP---2L-keg_1\",\"brand\":\"BRASSERIE DU MONT BLANC, Brasserie Du Mont Blanc\",\"list\":\"Beer Variation Catalog Entry Summary\",\"position\":4,\"container\":\"Torp\",\"stock\":\"619\"}\\'\\r\\n         class=\"product beer-bottle \">\\r\\n\\r\\n            <h4>\\r\\n                <a href=\"/fr-fr/p/bieres/la-cristal-ipa-du-mont-blanc-fut-2l\"\\r\\n                   target=\"_self\"\\r\\n                   data-action=\"product-click\">La Cristal IPA du Mont Blanc - F&#251;t The SUB</a>\\r\\n            </h4>\\r\\n            <div class=\"images-icons-container\">\\r\\n\\r\\n\\r\\n<div class=\"image-container\">\\r\\n\\r\\n    <a href=\"/fr-fr/p/bieres/la-cristal-ipa-du-mont-blanc-fut-2l\"\\r\\n       data-action=\"product-click\"\\r\\n       target=\"_self\">\\r\\n        <img class=\"lazy-image\" src=\"data:image/gif;base64,R0lGODlhAQABAIAAAAAAAP///yH5BAEAAAAALAAAAAABAAEAAAIBRAA7\" alt=\"La Cristal IPA du Mont Blanc - F&#251;t The SUB\" title=\"La Cristal IPA du Mont Blanc - F&#251;t The SUB\" data-src=\"https://www.beerwulf.com/globalassets/la-cristal-ipa-du-mont-blanc-torp---2l-keg_1_1.png?h=282&amp;rev=214338294\" />\\r\\n    </a>\\r\\n\\r\\n</div>\\r\\n\\r\\n\\r\\n\\r\\n                <div class=\"left-side-icons\">\\r\\n                        <div class=\"discount-tab red-tab\">\\r\\n                            -20%\\r\\n                        </div>\\r\\n                </div>\\r\\n\\r\\n\\r\\n                <div class=\"right-side-icons\">\\r\\n                    <div class=\"badges\">\\r\\n                            <div class=\"js-machine-label machine-label\" title=\"Sub\">\\r\\n                                <img class=\"machine-icon\" src=\"/globalassets/icons/draught-system-icon/sub_icon.svg?rev=1695722248\" alt=\"Sub\" />\\r\\n                            </div>\\r\\n\\r\\n                            <div class=\"js-award-label award-label\" title=\"C&#39;est une bi&#232;re m&#233;daill&#233;e\">\\r\\n                                <svg role=\"img\">\\r\\n                                    <use xlink:href=\"/static/dist/assets/img/svg.svg#award-badge\"></use>\\r\\n                                </svg>\\r\\n                            </div>\\r\\n                    </div>\\r\\n\\r\\n                    <div class=\"add-to-shoppinglist js-add-to-shoppinglist\" data-code=\"La-Cristal-IPA-du-Mont-Blanc-TORP---2L-keg_1\">\\r\\n                        <svg role=\"img\" class=\"shoppinglist-add\">\\r\\n                            <use xlink:href=\"/static/dist/assets/img/svg.svg#icon_shoppinglist_sidebar\"></use>\\r\\n                        </svg>\\r\\n\\r\\n                        <svg role=\"img\" class=\"shoppinglist-remove\">\\r\\n                            <use xlink:href=\"/static/dist/assets/img/svg.svg#icon_shoppinglist_notification\"></use>\\r\\n                        </svg>\\r\\n                    </div>\\r\\n                </div>\\r\\n            </div>\\r\\n            <p>IPA | 4,7% | 2 Litres</p>\\r\\n\\r\\n    <div class=\"price-container\" data-sku=\"La-Cristal-IPA-du-Mont-Blanc-TORP---2L-keg_1\">\\r\\n                <div class=\"discounted-price-container\">\\r\\n                    <span class=\"price from-price\">17,99 €</span>\\r\\n                    <span class=\"price\">14,39 €</span>\\r\\n                </div>\\r\\n        </div>\\r\\n\\r\\n            <div class=\"product-actions\">\\r\\n                    <div class=\"add-to-cart-container\">\\r\\n                            <div class=\"add-to-cart\">\\r\\n                                <button class=\"minus\">-</button>\\r\\n                                <input value=\"\" type=\"tel\" maxlength=\"3\" minlength=\"0\" data-sku=\"La-Cristal-IPA-du-Mont-Blanc-TORP---2L-keg_1\">\\r\\n                                <button class=\"plus textual\" data-textual=\"Ajouter\">+</button>\\r\\n                                <button class=\"ok\">Ok</button>\\r\\n                            </div>\\r\\n                    </div>\\r\\n            </div>\\r\\n    </div>\\r\\n            </div>\\r\\n        </div>\\r\\n    </div>\\r\\n</div>\\r\\n\\r\\n</div><div class=\"single-content-row\">  <div class=\"homepage-banner website-banner contained-banner\">\\r\\n    \\r\\n\\r\\n<div class=\"row\">\\r\\n    <div class=\"small-12 columns\">\\r\\n        <div class=\"desktop-banner banner-image-container lazy-bg-image\" data-bg=\"url(https://www.beerwulf.com/fr-fr/SysSiteAssets/homepage-header--theme-tiles/home-draught/homedraught_assortment_ld.jpg?rev=1142293166)\">\\r\\n        </div>\\r\\n        <div class=\"mobile-banner banner-image-container lazy-bg-image\" data-bg=\"url(https://www.beerwulf.com/fr-fr/SysSiteAssets/homepage-header--theme-tiles/home-draught/homedraught_assortment_m.jpg?rev=1336499246)\">\\r\\n        </div>\\r\\n        <div class=\"banner-content light-theme middle-center\" style=\"max-width:100%\">\\r\\n                <h3>LA BI&#200;RE PRESSION &#192; DOMICILE</h3>\\r\\n            <p>D&#233;couvrez tout ce que vous devez savoir sur la bi&#232;re pression &#224; domicile</p>\\r\\n                <div class=\"banner-cta\">\\r\\n                    <a href=\"/fr-fr/la-biere-pression-a-domicile\" class=\"button  \">\\r\\n                        JE D&#201;COUVRE\\r\\n                    </a>\\r\\n                </div>\\r\\n        </div>\\r\\n    </div>\\r\\n</div>\\r\\n  </div>\\r\\n</div><div class=\"single-content-row\"><div class=\"row columns\">\\r\\n    <div class=\"small-12\">\\r\\n        <div class=\"title-with-text\">          \\r\\n                <h3>D&#233;couvrez nos bi&#232;res</h3>\\r\\n            <a href=\"/fr-fr/c/bieres\"><span>Voir toutes les bi&#232;res</span></a>                \\r\\n        </div>\\r\\n    </div>\\r\\n</div>\\r\\n</div><div class=\"single-content-row\">\\r\\n\\r\\n<div class=\"row product-overview-container\">\\r\\n    <div class=\"small-12 columns\">\\r\\n\\r\\n        <div class=\"products\">\\r\\n            <div class=\"product-items-container static-shelf\">\\r\\n\\r\\n\\r\\n\\r\\n    <div data-product=\\'{\"name\":\"Tsingtao\",\"id\":\"Tsingtao_1\",\"price\":1.792500000,\"from-price\":null,\"category\":\"Lager\",\"variant\":\"Tsingtao.33_1\",\"brand\":\"TSINGTAO BREWERY, Tsingtao Brewery\",\"list\":\"Beer Variation Catalog Entry Summary\",\"position\":1,\"container\":\"Bottle\",\"stock\":\"1614\"}\\'\\r\\n         class=\"product beer-bottle \">\\r\\n\\r\\n            <h4>\\r\\n                <a href=\"/fr-fr/p/bieres/tsingtao.33\"\\r\\n                   target=\"_self\"\\r\\n                   data-action=\"product-click\">Tsingtao</a>\\r\\n            </h4>\\r\\n            <div class=\"images-icons-container\">\\r\\n\\r\\n\\r\\n<div class=\"image-container\">\\r\\n\\r\\n    <a href=\"/fr-fr/p/bieres/tsingtao.33\"\\r\\n       data-action=\"product-click\"\\r\\n       target=\"_self\">\\r\\n        <img class=\"lazy-image\" src=\"data:image/gif;base64,R0lGODlhAQABAIAAAAAAAP///yH5BAEAAAAALAAAAAABAAEAAAIBRAA7\" alt=\"Tsingtao\" title=\"Tsingtao\" data-src=\"https://www.beerwulf.com/globalassets/tsingtao.33_1_1.png?h=282&amp;rev=675127255\" />\\r\\n    </a>\\r\\n\\r\\n</div>\\r\\n\\r\\n\\r\\n\\r\\n                <div class=\"left-side-icons\">\\r\\n                        <div class=\"discount-tab red-tab\">\\r\\n                            -25%\\r\\n                        </div>\\r\\n                </div>\\r\\n\\r\\n\\r\\n                <div class=\"right-side-icons\">\\r\\n                    <div class=\"badges\">\\r\\n\\r\\n                            <div class=\"js-award-label award-label\" title=\"C&#39;est une bi&#232;re m&#233;daill&#233;e\">\\r\\n                                <svg role=\"img\">\\r\\n                                    <use xlink:href=\"/static/dist/assets/img/svg.svg#award-badge\"></use>\\r\\n                                </svg>\\r\\n                            </div>\\r\\n                    </div>\\r\\n\\r\\n                    <div class=\"add-to-shoppinglist js-add-to-shoppinglist\" data-code=\"Tsingtao.33_1\">\\r\\n                        <svg role=\"img\" class=\"shoppinglist-add\">\\r\\n                            <use xlink:href=\"/static/dist/assets/img/svg.svg#icon_shoppinglist_sidebar\"></use>\\r\\n                        </svg>\\r\\n\\r\\n                        <svg role=\"img\" class=\"shoppinglist-remove\">\\r\\n                            <use xlink:href=\"/static/dist/assets/img/svg.svg#icon_shoppinglist_notification\"></use>\\r\\n                        </svg>\\r\\n                    </div>\\r\\n                </div>\\r\\n            </div>\\r\\n            <p>Lager | 4,7% | 33 cl</p>\\r\\n\\r\\n    <div class=\"price-container\" data-sku=\"Tsingtao.33_1\">\\r\\n                <div class=\"discounted-price-container\">\\r\\n                    <span class=\"price from-price\">2,39 €</span>\\r\\n                    <span class=\"price\">1,79 €</span>\\r\\n                </div>\\r\\n        </div>\\r\\n\\r\\n            <div class=\"product-actions\">\\r\\n                    <div class=\"add-to-cart-container\">\\r\\n                            <div class=\"add-to-cart\">\\r\\n                                <button class=\"minus\">-</button>\\r\\n                                <input value=\"\" type=\"tel\" maxlength=\"3\" minlength=\"0\" data-sku=\"Tsingtao.33_1\">\\r\\n                                <button class=\"plus textual\" data-textual=\"Ajouter\">+</button>\\r\\n                                <button class=\"ok\">Ok</button>\\r\\n                            </div>\\r\\n                    </div>\\r\\n            </div>\\r\\n    </div>\\r\\n\\r\\n\\r\\n\\r\\n    <div data-product=\\'{\"name\":\"De Leckere Rode Toren\",\"id\":\"De-Leckere-Rode-Toren_1\",\"price\":2.017500000,\"from-price\":null,\"category\":\"Bière Bock\",\"variant\":\"De-Leckere-Rode-Toren.25_1\",\"brand\":\"DE LECKERE, Brouwerij De Leckere\",\"list\":\"Beer Variation Catalog Entry Summary\",\"position\":2,\"container\":\"Bottle\",\"stock\":\"117\"}\\'\\r\\n         class=\"product beer-bottle \">\\r\\n\\r\\n            <h4>\\r\\n                <a href=\"/fr-fr/p/bieres/de-leckere-rode-toren2\"\\r\\n                   target=\"_self\"\\r\\n                   data-action=\"product-click\">De Leckere Rode Toren</a>\\r\\n            </h4>\\r\\n            <div class=\"images-icons-container\">\\r\\n\\r\\n\\r\\n<div class=\"image-container\">\\r\\n\\r\\n    <a href=\"/fr-fr/p/bieres/de-leckere-rode-toren2\"\\r\\n       data-action=\"product-click\"\\r\\n       target=\"_self\">\\r\\n        <img class=\"lazy-image\" src=\"data:image/gif;base64,R0lGODlhAQABAIAAAAAAAP///yH5BAEAAAAALAAAAAABAAEAAAIBRAA7\" alt=\"De Leckere Rode Toren\" title=\"De Leckere Rode Toren\" data-src=\"https://www.beerwulf.com/globalassets/de-leckere-rode-toren.25_1_1.png?h=282&amp;rev=1511894485\" />\\r\\n    </a>\\r\\n\\r\\n</div>\\r\\n\\r\\n\\r\\n\\r\\n                <div class=\"left-side-icons\">\\r\\n                        <div class=\"discount-tab red-tab\">\\r\\n                            -25%\\r\\n                        </div>\\r\\n                </div>\\r\\n\\r\\n\\r\\n                <div class=\"right-side-icons\">\\r\\n                    <div class=\"badges\">\\r\\n\\r\\n                    </div>\\r\\n\\r\\n                    <div class=\"add-to-shoppinglist js-add-to-shoppinglist\" data-code=\"De-Leckere-Rode-Toren.25_1\">\\r\\n                        <svg role=\"img\" class=\"shoppinglist-add\">\\r\\n                            <use xlink:href=\"/static/dist/assets/img/svg.svg#icon_shoppinglist_sidebar\"></use>\\r\\n                        </svg>\\r\\n\\r\\n                        <svg role=\"img\" class=\"shoppinglist-remove\">\\r\\n                            <use xlink:href=\"/static/dist/assets/img/svg.svg#icon_shoppinglist_notification\"></use>\\r\\n                        </svg>\\r\\n                    </div>\\r\\n                </div>\\r\\n            </div>\\r\\n            <p>Bi&#232;re Bock | 6,5% | 25 cl</p>\\r\\n\\r\\n    <div class=\"price-container\" data-sku=\"De-Leckere-Rode-Toren.25_1\">\\r\\n                <div class=\"discounted-price-container\">\\r\\n                    <span class=\"price from-price\">2,69 €</span>\\r\\n                    <span class=\"price\">2,02 €</span>\\r\\n                </div>\\r\\n        </div>\\r\\n\\r\\n            <div class=\"product-actions\">\\r\\n                    <div class=\"add-to-cart-container\">\\r\\n                            <div class=\"add-to-cart\">\\r\\n                                <button class=\"minus\">-</button>\\r\\n                                <input value=\"\" type=\"tel\" maxlength=\"3\" minlength=\"0\" data-sku=\"De-Leckere-Rode-Toren.25_1\">\\r\\n                                <button class=\"plus textual\" data-textual=\"Ajouter\">+</button>\\r\\n                                <button class=\"ok\">Ok</button>\\r\\n                            </div>\\r\\n                    </div>\\r\\n            </div>\\r\\n    </div>\\r\\n\\r\\n\\r\\n\\r\\n    <div data-product=\\'{\"name\":\"Texels Bock\",\"id\":\"Texels-Bock_1\",\"price\":2.092500000,\"from-price\":null,\"category\":\"Bière Bock\",\"variant\":\"Texels-Bock3_1\",\"brand\":\"TEXELS, Texelse Bierbrouwerij\",\"list\":\"Beer Variation Catalog Entry Summary\",\"position\":3,\"container\":\"Bottle\",\"stock\":\"466\"}\\'\\r\\n         class=\"product beer-bottle \">\\r\\n\\r\\n            <h4>\\r\\n                <a href=\"/fr-fr/p/bieres/texels-bock.3\"\\r\\n                   target=\"_self\"\\r\\n                   data-action=\"product-click\">Texels Bock</a>\\r\\n            </h4>\\r\\n            <div class=\"images-icons-container\">\\r\\n\\r\\n\\r\\n<div class=\"image-container\">\\r\\n\\r\\n    <a href=\"/fr-fr/p/bieres/texels-bock.3\"\\r\\n       data-action=\"product-click\"\\r\\n       target=\"_self\">\\r\\n        <img class=\"lazy-image\" src=\"data:image/gif;base64,R0lGODlhAQABAIAAAAAAAP///yH5BAEAAAAALAAAAAABAAEAAAIBRAA7\" alt=\"Texels Bock\" title=\"Texels Bock\" data-src=\"https://www.beerwulf.com/globalassets/texels-bock3_1_1.png?h=282&amp;rev=1334390874\" />\\r\\n    </a>\\r\\n\\r\\n</div>\\r\\n\\r\\n\\r\\n\\r\\n                <div class=\"left-side-icons\">\\r\\n                        <div class=\"discount-tab red-tab\">\\r\\n                            -25%\\r\\n                        </div>\\r\\n                </div>\\r\\n\\r\\n\\r\\n                <div class=\"right-side-icons\">\\r\\n                    <div class=\"badges\">\\r\\n\\r\\n                    </div>\\r\\n\\r\\n                    <div class=\"add-to-shoppinglist js-add-to-shoppinglist\" data-code=\"Texels-Bock3_1\">\\r\\n                        <svg role=\"img\" class=\"shoppinglist-add\">\\r\\n                            <use xlink:href=\"/static/dist/assets/img/svg.svg#icon_shoppinglist_sidebar\"></use>\\r\\n                        </svg>\\r\\n\\r\\n                        <svg role=\"img\" class=\"shoppinglist-remove\">\\r\\n                            <use xlink:href=\"/static/dist/assets/img/svg.svg#icon_shoppinglist_notification\"></use>\\r\\n                        </svg>\\r\\n                    </div>\\r\\n                </div>\\r\\n            </div>\\r\\n            <p>Bi&#232;re Bock | 7,0% | 30 cl</p>\\r\\n\\r\\n    <div class=\"price-container\" data-sku=\"Texels-Bock3_1\">\\r\\n                <div class=\"discounted-price-container\">\\r\\n                    <span class=\"price from-price\">2,79 €</span>\\r\\n                    <span class=\"price\">2,09 €</span>\\r\\n                </div>\\r\\n        </div>\\r\\n\\r\\n            <div class=\"product-actions\">\\r\\n                    <div class=\"add-to-cart-container\">\\r\\n                            <div class=\"add-to-cart\">\\r\\n                                <button class=\"minus\">-</button>\\r\\n                                <input value=\"\" type=\"tel\" maxlength=\"3\" minlength=\"0\" data-sku=\"Texels-Bock3_1\">\\r\\n                                <button class=\"plus textual\" data-textual=\"Ajouter\">+</button>\\r\\n                                <button class=\"ok\">Ok</button>\\r\\n                            </div>\\r\\n                    </div>\\r\\n            </div>\\r\\n    </div>\\r\\n\\r\\n\\r\\n\\r\\n    <div data-product=\\'{\"name\":\"Bronckhorster Ijsselbock\",\"id\":\"Bronckhorster-Ijsselbock_1\",\"price\":3.141000000,\"from-price\":null,\"category\":\"Bière Bock\",\"variant\":\"Bronckhorster-Ijsselbock33_1\",\"brand\":\"BRONCKHORSTER, Bronckhorster Brewing Company\",\"list\":\"Beer Variation Catalog Entry Summary\",\"position\":4,\"container\":\"Bottle\",\"stock\":\"375\"}\\'\\r\\n         class=\"product beer-bottle \">\\r\\n\\r\\n            <h4>\\r\\n                <a href=\"/fr-fr/p/bieres/bronckhorster-ijsselbock.33\"\\r\\n                   target=\"_self\"\\r\\n                   data-action=\"product-click\">Bronckhorster Ijsselbock</a>\\r\\n            </h4>\\r\\n            <div class=\"images-icons-container\">\\r\\n\\r\\n\\r\\n<div class=\"image-container\">\\r\\n\\r\\n    <a href=\"/fr-fr/p/bieres/bronckhorster-ijsselbock.33\"\\r\\n       data-action=\"product-click\"\\r\\n       target=\"_self\">\\r\\n        <img class=\"lazy-image\" src=\"data:image/gif;base64,R0lGODlhAQABAIAAAAAAAP///yH5BAEAAAAALAAAAAABAAEAAAIBRAA7\" alt=\"Bronckhorster Ijsselbock\" title=\"Bronckhorster Ijsselbock\" data-src=\"https://www.beerwulf.com/globalassets/bronckhorster-ijsselbock33_1_1.png?h=282&amp;rev=1263283344\" />\\r\\n    </a>\\r\\n\\r\\n</div>\\r\\n\\r\\n\\r\\n\\r\\n                <div class=\"left-side-icons\">\\r\\n                        <div class=\"discount-tab red-tab\">\\r\\n                            -10%\\r\\n                        </div>\\r\\n                </div>\\r\\n\\r\\n\\r\\n                <div class=\"right-side-icons\">\\r\\n                    <div class=\"badges\">\\r\\n\\r\\n                    </div>\\r\\n\\r\\n                    <div class=\"add-to-shoppinglist js-add-to-shoppinglist\" data-code=\"Bronckhorster-Ijsselbock33_1\">\\r\\n                        <svg role=\"img\" class=\"shoppinglist-add\">\\r\\n                            <use xlink:href=\"/static/dist/assets/img/svg.svg#icon_shoppinglist_sidebar\"></use>\\r\\n                        </svg>\\r\\n\\r\\n                        <svg role=\"img\" class=\"shoppinglist-remove\">\\r\\n                            <use xlink:href=\"/static/dist/assets/img/svg.svg#icon_shoppinglist_notification\"></use>\\r\\n                        </svg>\\r\\n                    </div>\\r\\n                </div>\\r\\n            </div>\\r\\n            <p>Bi&#232;re Bock | 7,0% | 33 cl</p>\\r\\n\\r\\n    <div class=\"price-container\" data-sku=\"Bronckhorster-Ijsselbock33_1\">\\r\\n                <div class=\"discounted-price-container\">\\r\\n                    <span class=\"price from-price\">3,49 €</span>\\r\\n                    <span class=\"price\">3,14 €</span>\\r\\n                </div>\\r\\n        </div>\\r\\n\\r\\n            <div class=\"product-actions\">\\r\\n                    <div class=\"add-to-cart-container\">\\r\\n                            <div class=\"add-to-cart\">\\r\\n                                <button class=\"minus\">-</button>\\r\\n                                <input value=\"\" type=\"tel\" maxlength=\"3\" minlength=\"0\" data-sku=\"Bronckhorster-Ijsselbock33_1\">\\r\\n                                <button class=\"plus textual\" data-textual=\"Ajouter\">+</button>\\r\\n                                <button class=\"ok\">Ok</button>\\r\\n                            </div>\\r\\n                    </div>\\r\\n            </div>\\r\\n    </div>\\r\\n            </div>\\r\\n        </div>\\r\\n    </div>\\r\\n</div>\\r\\n\\r\\n</div><div class=\"single-content-row\"><div class=\"anchor-container\" id=\"packs\"></div></div><div class=\"single-content-row\"><div class=\"row columns\">\\r\\n    <div class=\"small-12\">\\r\\n        <div class=\"title-with-text\">          \\r\\n                <h3>Coffrets et Box  Promos</h3>\\r\\n            <a href=\"/fr-fr/c/coffretdebiere\"><span>Voir tous les coffrets de bi&#232;res</span></a>                \\r\\n        </div>\\r\\n    </div>\\r\\n</div>\\r\\n</div><div class=\"single-content-row\">\\r\\n\\r\\n<div class=\"row product-overview-container\">\\r\\n    <div class=\"small-12 columns\">\\r\\n\\r\\n        <div class=\"products\">\\r\\n            <div class=\"product-items-container static-shelf\">\\r\\n\\r\\n\\r\\n\\r\\n    <div data-product=\\'{\"name\":\"Coffret Bières d\\\\u0027Automne\",\"id\":\"Autumn-Beer-Case-2020_1\",\"price\":38.990000000,\"from-price\":null,\"category\":\"Pack\",\"variant\":\"Autumn-Beer-Case-2020_1\",\"brand\":\"Beerwulf\",\"list\":\"Beer Package Variation Catalog Entry Summary\",\"position\":1,\"stock\":\"422\"}\\'\\r\\n         class=\"product pack-product \">\\r\\n\\r\\n            <h4>\\r\\n                <a href=\"/fr-fr/p/coffretdebieres/coffret-bieres-automne\"\\r\\n                   target=\"_self\"\\r\\n                   data-action=\"product-click\">Coffret Bi&#232;res d&#39;Automne</a>\\r\\n            </h4>\\r\\n            <div class=\"images-icons-container\">\\r\\n\\r\\n\\r\\n<div class=\"image-container\">\\r\\n\\r\\n    <a href=\"/fr-fr/p/coffretdebieres/coffret-bieres-automne\"\\r\\n       data-action=\"product-click\"\\r\\n       target=\"_self\">\\r\\n        <img class=\"lazy-image\" src=\"data:image/gif;base64,R0lGODlhAQABAIAAAAAAAP///yH5BAEAAAAALAAAAAABAAEAAAIBRAA7\" alt=\"Coffret Bi&#232;res d&#39;Automne\" title=\"Coffret Bi&#232;res d&#39;Automne\" data-src=\"https://www.beerwulf.com/globalassets/autumn-beer-case-2020_1_0.png?h=282&amp;rev=419341986\" />\\r\\n    </a>\\r\\n\\r\\n</div>\\r\\n\\r\\n\\r\\n\\r\\n                <div class=\"left-side-icons\">\\r\\n                </div>\\r\\n\\r\\n\\r\\n                <div class=\"right-side-icons\">\\r\\n                    <div class=\"badges\">\\r\\n\\r\\n                    </div>\\r\\n\\r\\n                    <div class=\"add-to-shoppinglist js-add-to-shoppinglist\" data-code=\"Autumn-Beer-Case-2020_1\">\\r\\n                        <svg role=\"img\" class=\"shoppinglist-add\">\\r\\n                            <use xlink:href=\"/static/dist/assets/img/svg.svg#icon_shoppinglist_sidebar\"></use>\\r\\n                        </svg>\\r\\n\\r\\n                        <svg role=\"img\" class=\"shoppinglist-remove\">\\r\\n                            <use xlink:href=\"/static/dist/assets/img/svg.svg#icon_shoppinglist_notification\"></use>\\r\\n                        </svg>\\r\\n                    </div>\\r\\n                </div>\\r\\n            </div>\\r\\n            <p>12 produits</p>\\r\\n\\r\\n    <div class=\"price-container\" data-sku=\"Autumn-Beer-Case-2020_1\">\\r\\n                <span class=\"price\">38,99 €</span>\\r\\n        </div>\\r\\n\\r\\n            <div class=\"product-actions\">\\r\\n                    <div class=\"add-to-cart-container\">\\r\\n                            <div class=\"add-to-cart\">\\r\\n                                <button class=\"minus\">-</button>\\r\\n                                <input value=\"\" type=\"tel\" maxlength=\"3\" minlength=\"0\" data-sku=\"Autumn-Beer-Case-2020_1\">\\r\\n                                <button class=\"plus textual\" data-textual=\"Ajouter\">+</button>\\r\\n                                <button class=\"ok\">Ok</button>\\r\\n                            </div>\\r\\n                    </div>\\r\\n            </div>\\r\\n    </div>\\r\\n\\r\\n\\r\\n\\r\\n    <div data-product=\\'{\"name\":\"Coffret Calendrier de l\\\\u0027Avent\",\"id\":\"Advent-Calendar-2020_Pack_21382\",\"price\":62.990000000,\"from-price\":null,\"category\":\"Pack\",\"variant\":\"Advent-Calendar-2020_Pack_21382\",\"brand\":\"Beerwulf\",\"list\":\"Beer Package Variation Catalog Entry Summary\",\"position\":2,\"stock\":\"9230\"}\\'\\r\\n         class=\"product pack-product \">\\r\\n\\r\\n            <h4>\\r\\n                <a href=\"/fr-fr/p/coffretdebieres/calendrierdelavent\"\\r\\n                   target=\"_self\"\\r\\n                   data-action=\"product-click\">Coffret Calendrier de l&#39;Avent</a>\\r\\n            </h4>\\r\\n            <div class=\"images-icons-container\">\\r\\n\\r\\n\\r\\n<div class=\"image-container\">\\r\\n\\r\\n    <a href=\"/fr-fr/p/coffretdebieres/calendrierdelavent\"\\r\\n       data-action=\"product-click\"\\r\\n       target=\"_self\">\\r\\n        <img class=\"lazy-image\" src=\"data:image/gif;base64,R0lGODlhAQABAIAAAAAAAP///yH5BAEAAAAALAAAAAABAAEAAAIBRAA7\" alt=\"Coffret Calendrier de l&#39;Avent\" title=\"Coffret Calendrier de l&#39;Avent\" data-src=\"https://www.beerwulf.com/globalassets/advent-calendar-2020_pack_21382_0.png?h=282&amp;rev=1541288392\" />\\r\\n    </a>\\r\\n\\r\\n</div>\\r\\n\\r\\n\\r\\n\\r\\n                <div class=\"left-side-icons\">\\r\\n                </div>\\r\\n\\r\\n\\r\\n                <div class=\"right-side-icons\">\\r\\n                    <div class=\"badges\">\\r\\n\\r\\n                    </div>\\r\\n\\r\\n                    <div class=\"add-to-shoppinglist js-add-to-shoppinglist\" data-code=\"Advent-Calendar-2020_Pack_21382\">\\r\\n                        <svg role=\"img\" class=\"shoppinglist-add\">\\r\\n                            <use xlink:href=\"/static/dist/assets/img/svg.svg#icon_shoppinglist_sidebar\"></use>\\r\\n                        </svg>\\r\\n\\r\\n                        <svg role=\"img\" class=\"shoppinglist-remove\">\\r\\n                            <use xlink:href=\"/static/dist/assets/img/svg.svg#icon_shoppinglist_notification\"></use>\\r\\n                        </svg>\\r\\n                    </div>\\r\\n                </div>\\r\\n            </div>\\r\\n            <p>24 produits</p>\\r\\n\\r\\n    <div class=\"price-container\" data-sku=\"Advent-Calendar-2020_Pack_21382\">\\r\\n                <span class=\"price\">62,99 €</span>\\r\\n        </div>\\r\\n\\r\\n            <div class=\"product-actions\">\\r\\n                    <div class=\"add-to-cart-container\">\\r\\n                            <div class=\"add-to-cart\">\\r\\n                                <button class=\"minus\">-</button>\\r\\n                                <input value=\"\" type=\"tel\" maxlength=\"3\" minlength=\"0\" data-sku=\"Advent-Calendar-2020_Pack_21382\">\\r\\n                                <button class=\"plus textual\" data-textual=\"Ajouter\">+</button>\\r\\n                                <button class=\"ok\">Ok</button>\\r\\n                            </div>\\r\\n                    </div>\\r\\n            </div>\\r\\n    </div>\\r\\n\\r\\n\\r\\n\\r\\n    <div data-product=\\'{\"name\":\"Coffret de Bières IPA\",\"id\":\"IPA-Beer-Case-NLFRBE_1\",\"price\":38.690000000,\"from-price\":42.990000000,\"category\":\"Pack\",\"variant\":\"IPA-Beer-Case-NLFRBE_1\",\"brand\":\"Beerwulf\",\"list\":\"Beer Package Variation Catalog Entry Summary\",\"position\":3,\"stock\":\"94\"}\\'\\r\\n         class=\"product pack-product \">\\r\\n\\r\\n            <h4>\\r\\n                <a href=\"/fr-fr/p/coffretdebieres/ipa-bieres\"\\r\\n                   target=\"_self\"\\r\\n                   data-action=\"product-click\">Coffret de Bi&#232;res IPA</a>\\r\\n            </h4>\\r\\n            <div class=\"images-icons-container\">\\r\\n\\r\\n\\r\\n<div class=\"image-container\">\\r\\n\\r\\n    <a href=\"/fr-fr/p/coffretdebieres/ipa-bieres\"\\r\\n       data-action=\"product-click\"\\r\\n       target=\"_self\">\\r\\n        <img class=\"lazy-image\" src=\"data:image/gif;base64,R0lGODlhAQABAIAAAAAAAP///yH5BAEAAAAALAAAAAABAAEAAAIBRAA7\" alt=\"Coffret de Bi&#232;res IPA\" title=\"Coffret de Bi&#232;res IPA\" data-src=\"https://www.beerwulf.com/globalassets/ipa-beer-case-nlfrbe_1_0.png?h=282&amp;rev=949683896\" />\\r\\n    </a>\\r\\n\\r\\n</div>\\r\\n\\r\\n\\r\\n\\r\\n                <div class=\"left-side-icons\">\\r\\n                        <div class=\"discount-tab red-tab\">\\r\\n                            -10%\\r\\n                        </div>\\r\\n                </div>\\r\\n\\r\\n\\r\\n                <div class=\"right-side-icons\">\\r\\n                    <div class=\"badges\">\\r\\n\\r\\n                    </div>\\r\\n\\r\\n                    <div class=\"add-to-shoppinglist js-add-to-shoppinglist\" data-code=\"IPA-Beer-Case-NLFRBE_1\">\\r\\n                        <svg role=\"img\" class=\"shoppinglist-add\">\\r\\n                            <use xlink:href=\"/static/dist/assets/img/svg.svg#icon_shoppinglist_sidebar\"></use>\\r\\n                        </svg>\\r\\n\\r\\n                        <svg role=\"img\" class=\"shoppinglist-remove\">\\r\\n                            <use xlink:href=\"/static/dist/assets/img/svg.svg#icon_shoppinglist_notification\"></use>\\r\\n                        </svg>\\r\\n                    </div>\\r\\n                </div>\\r\\n            </div>\\r\\n            <p>16 produits</p>\\r\\n\\r\\n    <div class=\"price-container\" data-sku=\"IPA-Beer-Case-NLFRBE_1\">\\r\\n                <div class=\"discounted-price-container\">\\r\\n                    <span class=\"price from-price\">42,99 €</span>\\r\\n                    <span class=\"price\">38,69 €</span>\\r\\n                </div>\\r\\n        </div>\\r\\n\\r\\n            <div class=\"product-actions\">\\r\\n                    <div class=\"add-to-cart-container\">\\r\\n                            <div class=\"add-to-cart\">\\r\\n                                <button class=\"minus\">-</button>\\r\\n                                <input value=\"\" type=\"tel\" maxlength=\"3\" minlength=\"0\" data-sku=\"IPA-Beer-Case-NLFRBE_1\">\\r\\n                                <button class=\"plus textual\" data-textual=\"Ajouter\">+</button>\\r\\n                                <button class=\"ok\">Ok</button>\\r\\n                            </div>\\r\\n                    </div>\\r\\n            </div>\\r\\n    </div>\\r\\n\\r\\n\\r\\n\\r\\n    <div data-product=\\'{\"name\":\"Coffret de bières du monde \",\"id\":\"World-Of-Beers-2020-V3_1\",\"price\":37.990000000,\"from-price\":null,\"category\":\"Pack\",\"variant\":\"World-Of-Beers-2020-V3_1\",\"brand\":\"Beerwulf\",\"list\":\"Beer Package Variation Catalog Entry Summary\",\"position\":4,\"stock\":\"171\"}\\'\\r\\n         class=\"product pack-product \">\\r\\n\\r\\n            <h4>\\r\\n                <a href=\"/fr-fr/p/coffretdebieres/bieres-du-monde\"\\r\\n                   target=\"_self\"\\r\\n                   data-action=\"product-click\">Coffret de bi&#232;res du monde </a>\\r\\n            </h4>\\r\\n            <div class=\"images-icons-container\">\\r\\n\\r\\n\\r\\n<div class=\"image-container\">\\r\\n\\r\\n    <a href=\"/fr-fr/p/coffretdebieres/bieres-du-monde\"\\r\\n       data-action=\"product-click\"\\r\\n       target=\"_self\">\\r\\n        <img class=\"lazy-image\" src=\"data:image/gif;base64,R0lGODlhAQABAIAAAAAAAP///yH5BAEAAAAALAAAAAABAAEAAAIBRAA7\" alt=\"Coffret de bi&#232;res du monde \" title=\"Coffret de bi&#232;res du monde \" data-src=\"https://www.beerwulf.com/globalassets/world-of-beers-2020-v3_1_0.png?h=282&amp;rev=1044116828\" />\\r\\n    </a>\\r\\n\\r\\n</div>\\r\\n\\r\\n\\r\\n\\r\\n                <div class=\"left-side-icons\">\\r\\n                </div>\\r\\n\\r\\n\\r\\n                <div class=\"right-side-icons\">\\r\\n                    <div class=\"badges\">\\r\\n\\r\\n                    </div>\\r\\n\\r\\n                    <div class=\"add-to-shoppinglist js-add-to-shoppinglist\" data-code=\"World-Of-Beers-2020-V3_1\">\\r\\n                        <svg role=\"img\" class=\"shoppinglist-add\">\\r\\n                            <use xlink:href=\"/static/dist/assets/img/svg.svg#icon_shoppinglist_sidebar\"></use>\\r\\n                        </svg>\\r\\n\\r\\n                        <svg role=\"img\" class=\"shoppinglist-remove\">\\r\\n                            <use xlink:href=\"/static/dist/assets/img/svg.svg#icon_shoppinglist_notification\"></use>\\r\\n                        </svg>\\r\\n                    </div>\\r\\n                </div>\\r\\n            </div>\\r\\n            <p>16&#160;bi&#232;res savoureuses du monde entier&#160;</p>\\r\\n\\r\\n    <div class=\"price-container\" data-sku=\"World-Of-Beers-2020-V3_1\">\\r\\n                <span class=\"price\">37,99 €</span>\\r\\n        </div>\\r\\n\\r\\n            <div class=\"product-actions\">\\r\\n                    <div class=\"add-to-cart-container\">\\r\\n                            <div class=\"add-to-cart\">\\r\\n                                <button class=\"minus\">-</button>\\r\\n                                <input value=\"\" type=\"tel\" maxlength=\"3\" minlength=\"0\" data-sku=\"World-Of-Beers-2020-V3_1\">\\r\\n                                <button class=\"plus textual\" data-textual=\"Ajouter\">+</button>\\r\\n                                <button class=\"ok\">Ok</button>\\r\\n                            </div>\\r\\n                    </div>\\r\\n            </div>\\r\\n    </div>\\r\\n            </div>\\r\\n        </div>\\r\\n    </div>\\r\\n</div>\\r\\n\\r\\n</div><div class=\"single-content-row\"><div class=\"row columns\">\\r\\n    <div class=\"small-12\">\\r\\n        <div class=\"title-with-text\">          \\r\\n                <h3>Voir tous nos articles</h3>\\r\\n            <a href=\"/fr-fr/articles-sur-les-bieres-speciales\"><span>Tout savoir sur la bi&#232;re</span></a>                \\r\\n        </div>\\r\\n    </div>\\r\\n</div>\\r\\n</div><div class=\"single-content-row\"><div class=\"row homepage-blog-tiles\">\\r\\n    <div class=\"small-12 columns\">\\r\\n        \\r\\n        <div class=\"theme-tiles-row\"><div class=\"tile-col\">\\r\\n\\r\\n<a href=\"/fr-fr/c/bieres?catalogCode=Beer_1&amp;page=1&amp;specialOffer=Promos&amp;container=Bouteille\">\\r\\n    <div class=\"image-con lazy-bg-image\" data-bg=\"url(https://www.beerwulf.com/fr-fr/SysSiteAssets/landing-pages/sale/sale_lp_tile_fr.jpg)\"></div>\\r\\n    <div class=\"tile-bottom\">\\r\\n        <h4>Profitez de nos offres d&#232;s maintenant</h4>\\r\\n        <span>Obtenez 25% de r&#233;duction sur une s&#233;lection de bi&#232;res !</span>\\r\\n    </div>\\r\\n</a>\\r\\n</div><div class=\"tile-col\">\\r\\n\\r\\n<a href=\"/fr-fr/articles-sur-les-bieres-speciales/la-bonne-temperature\">\\r\\n    <div class=\"image-con lazy-bg-image\" data-bg=\"url(https://www.beerwulf.com/fr-fr/SysSiteAssets/editorials/serving-temperature/servingtemp_tile.jpg)\"></div>\\r\\n    <div class=\"tile-bottom\">\\r\\n        <h4>&#192; quelle temp&#233;rature d&#233;guster votre bi&#232;re ?</h4>\\r\\n        <span>Voici nos conseils</span>\\r\\n    </div>\\r\\n</a>\\r\\n</div><div class=\"tile-col\">\\r\\n\\r\\n<a href=\"/fr-fr/articles-sur-les-bieres-speciales/servir-biere-pression\">\\r\\n    <div class=\"image-con lazy-bg-image\" data-bg=\"url(https://www.beerwulf.com/fr-fr/SysSiteAssets/editorials/how-to-pour-the-perfect-pint-the-sub/pour_perfect_pint_tile.jpg)\"></div>\\r\\n    <div class=\"tile-bottom\">\\r\\n        <h4>Comment servir une bi&#232;re pression ?</h4>\\r\\n        <span>4 &#233;tapes faciles</span>\\r\\n    </div>\\r\\n</a>\\r\\n</div><div class=\"tile-col\">\\r\\n\\r\\n<a href=\"/fr-fr/articles-sur-les-bieres-speciales/france-biere-challenge-2020\">\\r\\n    <div class=\"image-con lazy-bg-image\" data-bg=\"url(https://www.beerwulf.com/fr-fr/SysSiteAssets/editorials/france-beer-challenge/france_biere_challenge_2020_tile.jpg)\"></div>\\r\\n    <div class=\"tile-bottom\">\\r\\n        <h4>France Bi&#232;re Challenge 2020</h4>\\r\\n        <span>Le coffret in&#233;dit !</span>\\r\\n    </div>\\r\\n</a>\\r\\n</div></div>\\r\\n    </div>\\r\\n</div></div><div class=\"single-content-row\"><div class=\"anchor-container\" id=\"Fut2L\"></div></div><div class=\"single-content-row\"><div class=\"row columns\">\\r\\n    <div class=\"small-12\">\\r\\n        <div class=\"title-with-text\">          \\r\\n                <h3>Nos tireuses &#224; bi&#232;re</h3>\\r\\n            <a href=\"/fr-fr/toutes-les-tireuses-a-biere-sub-beertender\"><span>Voir les tireuses The SUB et BeerTender</span></a>                \\r\\n        </div>\\r\\n    </div>\\r\\n</div>\\r\\n</div><div class=\"single-content-row\">\\r\\n\\r\\n<div class=\"row product-overview-container\">\\r\\n    <div class=\"small-12 columns\">\\r\\n\\r\\n        <div class=\"products\">\\r\\n            <div class=\"product-items-container static-shelf\">\\r\\n\\r\\n\\r\\n\\r\\n    <div data-product=\\'{\"name\":\"Assortiment Starter The SUB Classique Heineken\",\"id\":\"The-SUB-Classic-Grey--4-Heineken-NL-FR_1\",\"price\":139.000000000,\"from-price\":202.960000000,\"category\":\"Pack\",\"variant\":\"The-SUB-Classic-Grey--4-Heineken-NL-FR_1\",\"brand\":\"Beerwulf\",\"list\":\"Beer Package Variation Catalog Entry Summary\",\"position\":1,\"stock\":\"499\"}\\'\\r\\n         class=\"product pack-product \">\\r\\n\\r\\n            <h4>\\r\\n                <a href=\"/fr-fr/p/coffretdebieres/thesubclassique-gris-4heineken\"\\r\\n                   target=\"_self\"\\r\\n                   data-action=\"product-click\">Assortiment Starter The SUB Classique Heineken</a>\\r\\n            </h4>\\r\\n            <div class=\"images-icons-container\">\\r\\n\\r\\n\\r\\n<div class=\"image-container\">\\r\\n\\r\\n    <a href=\"/fr-fr/p/coffretdebieres/thesubclassique-gris-4heineken\"\\r\\n       data-action=\"product-click\"\\r\\n       target=\"_self\">\\r\\n        <img class=\"lazy-image\" src=\"data:image/gif;base64,R0lGODlhAQABAIAAAAAAAP///yH5BAEAAAAALAAAAAABAAEAAAIBRAA7\" alt=\"Assortiment Starter The SUB Classique Heineken\" title=\"Assortiment Starter The SUB Classique Heineken\" data-src=\"https://www.beerwulf.com/globalassets/the-sub-classic-grey--4-heineken-nl-fr_1_0.png?h=282&amp;rev=71940060\" />\\r\\n    </a>\\r\\n\\r\\n</div>\\r\\n\\r\\n\\r\\n\\r\\n                <div class=\"left-side-icons\">\\r\\n                        <div class=\"discount-tab red-tab\">\\r\\n                            -32%\\r\\n                        </div>\\r\\n                </div>\\r\\n\\r\\n\\r\\n                <div class=\"right-side-icons\">\\r\\n                    <div class=\"badges\">\\r\\n\\r\\n                    </div>\\r\\n\\r\\n                    <div class=\"add-to-shoppinglist js-add-to-shoppinglist\" data-code=\"The-SUB-Classic-Grey--4-Heineken-NL-FR_1\">\\r\\n                        <svg role=\"img\" class=\"shoppinglist-add\">\\r\\n                            <use xlink:href=\"/static/dist/assets/img/svg.svg#icon_shoppinglist_sidebar\"></use>\\r\\n                        </svg>\\r\\n\\r\\n                        <svg role=\"img\" class=\"shoppinglist-remove\">\\r\\n                            <use xlink:href=\"/static/dist/assets/img/svg.svg#icon_shoppinglist_notification\"></use>\\r\\n                        </svg>\\r\\n                    </div>\\r\\n                </div>\\r\\n            </div>\\r\\n            <p>5 produits</p>\\r\\n\\r\\n    <div class=\"price-container\" data-sku=\"The-SUB-Classic-Grey--4-Heineken-NL-FR_1\">\\r\\n                <div class=\"discounted-price-container\">\\r\\n                    <span class=\"price from-price\">202,96 €</span>\\r\\n                    <span class=\"price\">139,00 €</span>\\r\\n                </div>\\r\\n        </div>\\r\\n\\r\\n            <div class=\"product-actions\">\\r\\n                    <div class=\"add-to-cart-container\">\\r\\n                            <div class=\"add-to-cart\">\\r\\n                                <button class=\"minus\">-</button>\\r\\n                                <input value=\"\" type=\"tel\" maxlength=\"3\" minlength=\"0\" data-sku=\"The-SUB-Classic-Grey--4-Heineken-NL-FR_1\">\\r\\n                                <button class=\"plus textual\" data-textual=\"Ajouter\">+</button>\\r\\n                                <button class=\"ok\">Ok</button>\\r\\n                            </div>\\r\\n                    </div>\\r\\n            </div>\\r\\n    </div>\\r\\n\\r\\n\\r\\n\\r\\n    <div data-product=\\'{\"name\":\"The SUB Compact Rouge\",\"id\":\"THE-SUB-Compact---2L_1\",\"price\":89.000000000,\"from-price\":129.000000000,\"category\":\"Appliance\",\"variant\":\"THE-SUB-Compact-Red-EU-2L_1\",\"brand\":\"Beerwulf\",\"list\":\"Draught Machine Variation Catalog Entry Summary\",\"position\":1,\"stock\":\"1763\"}\\'\\r\\n         class=\"product draught-product \">\\r\\n\\r\\n            <h4>\\r\\n                <a href=\"/fr-fr/p/tireuses/the-sub-compact-red\"\\r\\n                   target=\"_self\"\\r\\n                   data-action=\"product-click\">The SUB Compact Rouge</a>\\r\\n            </h4>\\r\\n            <div class=\"images-icons-container\">\\r\\n\\r\\n\\r\\n<div class=\"image-container\">\\r\\n\\r\\n    <a href=\"/fr-fr/p/tireuses/the-sub-compact-red\"\\r\\n       data-action=\"product-click\"\\r\\n       target=\"_self\">\\r\\n        <img class=\"lazy-image\" src=\"data:image/gif;base64,R0lGODlhAQABAIAAAAAAAP///yH5BAEAAAAALAAAAAABAAEAAAIBRAA7\" alt=\"The SUB Compact Rouge\" title=\"The SUB Compact Rouge\" data-src=\"https://www.beerwulf.com/globalassets/the-sub-compact-red-eu-2l_1_0.png?h=282&amp;rev=2042760423\" />\\r\\n    </a>\\r\\n\\r\\n</div>\\r\\n\\r\\n\\r\\n\\r\\n                <div class=\"left-side-icons\">\\r\\n                        <div class=\"discount-tab red-tab\">\\r\\n                            -31%\\r\\n                        </div>\\r\\n                </div>\\r\\n\\r\\n\\r\\n                <div class=\"right-side-icons\">\\r\\n                    <div class=\"badges\">\\r\\n\\r\\n                    </div>\\r\\n\\r\\n                    <div class=\"add-to-shoppinglist js-add-to-shoppinglist\" data-code=\"THE-SUB-Compact-Red-EU-2L_1\">\\r\\n                        <svg role=\"img\" class=\"shoppinglist-add\">\\r\\n                            <use xlink:href=\"/static/dist/assets/img/svg.svg#icon_shoppinglist_sidebar\"></use>\\r\\n                        </svg>\\r\\n\\r\\n                        <svg role=\"img\" class=\"shoppinglist-remove\">\\r\\n                            <use xlink:href=\"/static/dist/assets/img/svg.svg#icon_shoppinglist_notification\"></use>\\r\\n                        </svg>\\r\\n                    </div>\\r\\n                </div>\\r\\n            </div>\\r\\n            <p>Compatible avec les F&#251;ts 2L The SUB</p>\\r\\n\\r\\n    <div class=\"price-container\" data-sku=\"THE-SUB-Compact-Red-EU-2L_1\">\\r\\n                <div class=\"discounted-price-container\">\\r\\n                    <span class=\"price from-price\">129,00 €</span>\\r\\n                    <span class=\"price\">89,00 €</span>\\r\\n                </div>\\r\\n        </div>\\r\\n\\r\\n            <div class=\"product-actions\">\\r\\n                    <div class=\"add-to-cart-container\">\\r\\n                            <div class=\"add-to-cart\">\\r\\n                                <button class=\"minus\">-</button>\\r\\n                                <input value=\"\" type=\"tel\" maxlength=\"3\" minlength=\"0\" data-sku=\"THE-SUB-Compact-Red-EU-2L_1\">\\r\\n                                <button class=\"plus textual\" data-textual=\"Ajouter\">+</button>\\r\\n                                <button class=\"ok\">Ok</button>\\r\\n                            </div>\\r\\n                    </div>\\r\\n            </div>\\r\\n    </div>\\r\\n\\r\\n\\r\\n\\r\\n    <div data-product=\\'{\"name\":\"BeerTender Krups Noir 5L\",\"id\":\"BEERTENDER-SEB-NOIR-5L_1\",\"price\":129.000000000,\"from-price\":169.000000000,\"category\":\"Appliance\",\"variant\":\"BEERTENDER-SEB-NOIR-5L_2\",\"brand\":\"Beerwulf\",\"list\":\"Draught Machine Variation Catalog Entry Summary\",\"position\":2,\"stock\":\"122\"}\\'\\r\\n         class=\"product draught-product \">\\r\\n\\r\\n            <h4>\\r\\n                <a href=\"/fr-fr/p/tireuses/tireuse-beertender-krups-noir\"\\r\\n                   target=\"_self\"\\r\\n                   data-action=\"product-click\">BeerTender Krups Noir 5L</a>\\r\\n            </h4>\\r\\n            <div class=\"images-icons-container\">\\r\\n\\r\\n\\r\\n<div class=\"image-container\">\\r\\n\\r\\n    <a href=\"/fr-fr/p/tireuses/tireuse-beertender-krups-noir\"\\r\\n       data-action=\"product-click\"\\r\\n       target=\"_self\">\\r\\n        <img class=\"lazy-image\" src=\"data:image/gif;base64,R0lGODlhAQABAIAAAAAAAP///yH5BAEAAAAALAAAAAABAAEAAAIBRAA7\" alt=\"BeerTender Krups Noir 5L\" title=\"BeerTender Krups Noir 5L\" data-src=\"https://www.beerwulf.com/globalassets/beertender-seb-noir-5l_2_02.png?h=282&amp;rev=1779000533\" />\\r\\n    </a>\\r\\n\\r\\n</div>\\r\\n\\r\\n\\r\\n\\r\\n                <div class=\"left-side-icons\">\\r\\n                        <div class=\"discount-tab red-tab\">\\r\\n                            -24%\\r\\n                        </div>\\r\\n                </div>\\r\\n\\r\\n\\r\\n                <div class=\"right-side-icons\">\\r\\n                    <div class=\"badges\">\\r\\n\\r\\n                    </div>\\r\\n\\r\\n                    <div class=\"add-to-shoppinglist js-add-to-shoppinglist\" data-code=\"BEERTENDER-SEB-NOIR-5L_2\">\\r\\n                        <svg role=\"img\" class=\"shoppinglist-add\">\\r\\n                            <use xlink:href=\"/static/dist/assets/img/svg.svg#icon_shoppinglist_sidebar\"></use>\\r\\n                        </svg>\\r\\n\\r\\n                        <svg role=\"img\" class=\"shoppinglist-remove\">\\r\\n                            <use xlink:href=\"/static/dist/assets/img/svg.svg#icon_shoppinglist_notification\"></use>\\r\\n                        </svg>\\r\\n                    </div>\\r\\n                </div>\\r\\n            </div>\\r\\n            <p>Utilisation en f&#251;t autonome ou avec tireuse BeerTender </p>\\r\\n\\r\\n    <div class=\"price-container\" data-sku=\"BEERTENDER-SEB-NOIR-5L_2\">\\r\\n                <div class=\"discounted-price-container\">\\r\\n                    <span class=\"price from-price\">169,00 €</span>\\r\\n                    <span class=\"price\">129,00 €</span>\\r\\n                </div>\\r\\n        </div>\\r\\n\\r\\n            <div class=\"product-actions\">\\r\\n                    <div class=\"add-to-cart-container\">\\r\\n                            <div class=\"add-to-cart\">\\r\\n                                <button class=\"minus\">-</button>\\r\\n                                <input value=\"\" type=\"tel\" maxlength=\"3\" minlength=\"0\" data-sku=\"BEERTENDER-SEB-NOIR-5L_2\">\\r\\n                                <button class=\"plus textual\" data-textual=\"Ajouter\">+</button>\\r\\n                                <button class=\"ok\">Ok</button>\\r\\n                            </div>\\r\\n                    </div>\\r\\n            </div>\\r\\n    </div>\\r\\n\\r\\n\\r\\n\\r\\n    <div data-product=\\'{\"name\":\"The SUB Classique Blanc\",\"id\":\"THE-SUB-Colour-Edition---2L_1\",\"price\":119.000000000,\"from-price\":169.000000000,\"category\":\"Appliance\",\"variant\":\"THE-SUB-White-EU-2L_1\",\"brand\":\"Beerwulf\",\"list\":\"Draught Machine Variation Catalog Entry Summary\",\"position\":3,\"stock\":\"1408\"}\\'\\r\\n         class=\"product draught-product \">\\r\\n\\r\\n            <h4>\\r\\n                <a href=\"/fr-fr/p/tireuses/the-sub-white\"\\r\\n                   target=\"_self\"\\r\\n                   data-action=\"product-click\">The SUB Classique Blanc</a>\\r\\n            </h4>\\r\\n            <div class=\"images-icons-container\">\\r\\n\\r\\n\\r\\n<div class=\"image-container\">\\r\\n\\r\\n    <a href=\"/fr-fr/p/tireuses/the-sub-white\"\\r\\n       data-action=\"product-click\"\\r\\n       target=\"_self\">\\r\\n        <img class=\"lazy-image\" src=\"data:image/gif;base64,R0lGODlhAQABAIAAAAAAAP///yH5BAEAAAAALAAAAAABAAEAAAIBRAA7\" alt=\"The SUB Classique Blanc\" title=\"The SUB Classique Blanc\" data-src=\"https://www.beerwulf.com/globalassets/the-sub-white-eu-2l_1_03.png?h=282&amp;rev=1475275545\" />\\r\\n    </a>\\r\\n\\r\\n</div>\\r\\n\\r\\n\\r\\n\\r\\n                <div class=\"left-side-icons\">\\r\\n                        <div class=\"discount-tab red-tab\">\\r\\n                            -30%\\r\\n                        </div>\\r\\n                </div>\\r\\n\\r\\n\\r\\n                <div class=\"right-side-icons\">\\r\\n                    <div class=\"badges\">\\r\\n\\r\\n                    </div>\\r\\n\\r\\n                    <div class=\"add-to-shoppinglist js-add-to-shoppinglist\" data-code=\"THE-SUB-White-EU-2L_1\">\\r\\n                        <svg role=\"img\" class=\"shoppinglist-add\">\\r\\n                            <use xlink:href=\"/static/dist/assets/img/svg.svg#icon_shoppinglist_sidebar\"></use>\\r\\n                        </svg>\\r\\n\\r\\n                        <svg role=\"img\" class=\"shoppinglist-remove\">\\r\\n                            <use xlink:href=\"/static/dist/assets/img/svg.svg#icon_shoppinglist_notification\"></use>\\r\\n                        </svg>\\r\\n                    </div>\\r\\n                </div>\\r\\n            </div>\\r\\n            <p>Compatible avec les F&#251;ts 2L The SUB</p>\\r\\n\\r\\n    <div class=\"price-container\" data-sku=\"THE-SUB-White-EU-2L_1\">\\r\\n                <div class=\"discounted-price-container\">\\r\\n                    <span class=\"price from-price\">169,00 €</span>\\r\\n                    <span class=\"price\">119,00 €</span>\\r\\n                </div>\\r\\n        </div>\\r\\n\\r\\n            <div class=\"product-actions\">\\r\\n                    <div class=\"add-to-cart-container\">\\r\\n                            <div class=\"add-to-cart\">\\r\\n                                <button class=\"minus\">-</button>\\r\\n                                <input value=\"\" type=\"tel\" maxlength=\"3\" minlength=\"0\" data-sku=\"THE-SUB-White-EU-2L_1\">\\r\\n                                <button class=\"plus textual\" data-textual=\"Ajouter\">+</button>\\r\\n                                <button class=\"ok\">Ok</button>\\r\\n                            </div>\\r\\n                    </div>\\r\\n            </div>\\r\\n    </div>\\r\\n            </div>\\r\\n        </div>\\r\\n    </div>\\r\\n</div>\\r\\n\\r\\n</div></div>\\r\\n\\r\\n\\r\\n\\r\\n    </div>\\r\\n\\r\\n    <div class=\"reveal tiny\" id=\"modalmessage\" aria-labelledby=\"modalmessage\" data-reveal>\\r\\n        <p id=\"modalmessagecontent\"></p>\\r\\n        <button class=\"close-button\" data-close aria-label=\"Close Accessible Modal\" type=\"button\">\\r\\n            <span aria-hidden=\"true\">&times;</span>\\r\\n        </button>\\r\\n    </div>\\r\\n\\r\\n    <div class=\"reveal\" id=\"shoppingcart\"></div>\\r\\n\\r\\n\\r\\n<div class=\"reveal cookie-modal-container fr-FR\" id=\"cookiemessage\" aria-labelledby=\"modalmessage\" data-reveal data-close-on-click=\"false\" data-close-on-esc=\"false\">\\r\\n    <div class=\"cookie-logo\">\\r\\n        <svg role=\"img\">\\r\\n            <use xlink:href=\"/static/dist/assets/img/svg.svg#beerwulf-text-logo-inverted\"></use>\\r\\n        </svg>\\r\\n    </div>\\r\\n    <div class=\"cookie-msg-container\">\\r\\n        <div id=\"agreeAndEighteenContainer\">\\r\\n            <h3 >Avez-vous plus de 18 ans?\\n</h3>\\r\\n            <div ><p style=\"line-height: 1.2;\">Cela s\\'applique uniquement si vous avez 18 ans ou plus. La vente d\\'alcool est interdite aux mineurs.</p></div>\\r\\n            <div class=\"row splash-cta\">\\r\\n                <div class=\"small-6 text-right\">\\r\\n                    <a href=\"#\" class=\"primary button\" id=\"eighteenTrigger\">Oui</a>\\r\\n                </div>\\r\\n                <div class=\"small-6 text-left\">\\r\\n                    <a href=\"/link/b0a69ed0559042e8a506aceaf157ac46.aspx?epslanguage=fr-FR\" class=\"primaryblack button\">Non</a>\\r\\n                </div>\\r\\n            </div>\\r\\n        </div>\\r\\n    </div>\\r\\n</div>\\r\\n\\r\\n<div class=\"footerbar-container\">\\r\\n    <div class=\"footerbar-row\">\\r\\n        \\r\\n    <div class=\"newsletter-subscription\">\\r\\n        <div id=\"subscribenewsletter\" data-ajax-post-url=\"/fr-FR/api/CustomerMarketingData/subscribe\">\\r\\n            <div>\\r\\n                <h5>Inscrivez-vous &#224; notre Newsletter</h5>\\r\\n\\r\\n                    <span>Et recevez en exclusivit&#233; nos offres, ventes priv&#233;es et nouveaut&#233;s !</span>\\r\\n            </div>\\r\\n            <form>\\r\\n                <input type=\"email\" autocomplete=\"email\" id=\"email\" placeholder=\"Entrez votre adresse email\" required  pattern=\"[A-Za-z0-9._%+-]+@[A-Za-z0-9.-]+\\\\.[A-Za-z]{2,4}$\" data-val=\"true\" />\\r\\n                <input type=\"submit\" class=\"button\" value=\"Ok\" />\\r\\n            </form>\\r\\n        </div>\\r\\n        <p class=\"thankyou\">Merci pour votre inscription</p>\\r\\n    </div>\\r\\n\\r\\n    </div>\\r\\n</div>\\r\\n\\r\\n<footer>\\r\\n    <div class=\"footer\">\\r\\n        <div class=\"row footer-menu\">\\r\\n            <div class=\"footer-column columns accordian-link\">\\r\\n        <h4 class=\"footer-heading\">Aide</h4>\\r\\n\\r\\n    <div class=\"footer-content\">\\r\\n        <ul class=\"footer-list\">\\r\\n            \\r\\n<li>\\r\\n    <a href=\"/fr-fr/livraison-et-retours\">Livraisons &amp; retours</a>\\r\\n</li>\\r\\n\\r\\n<li>\\r\\n    <a href=\"https://frbeerwulf.zendesk.com/hc/fr-fr\">Questions fr&#233;quentes</a>\\r\\n</li>\\r\\n<li>\\r\\n    <address class=\"footer-address\">\\r\\n    \\r\\n    <br>\\r\\n    \\r\\n    <br>\\r\\n    <a href=\"tel:\"></a>\\r\\n    </address>\\r\\n</li>\\r\\n<li>\\r\\n    <address class=\"footer-address\">\\r\\n    10:00 - 17:00\\r\\n    <br>\\r\\n    +33 805 089 853\\r\\n    <br>\\r\\n    <a href=\"tel:\"></a>\\r\\n    </address>\\r\\n</li>\\r\\n<li>\\r\\n    <a href=\"#\" class=\"button primary zendesk-activator-button js-zendesk-activator-button\" data-title=\"Contact\">\\r\\n        Contact\\r\\n    </a>\\r\\n</li>\\r\\n\\r\\n        </ul>\\r\\n    </div>\\r\\n</div>\\r\\n<div class=\"footer-column columns accordian-link\">\\r\\n        <h4 class=\"footer-heading\">Contact</h4>\\r\\n\\r\\n    <div class=\"footer-content\">\\r\\n        <ul class=\"footer-list\">\\r\\n            <li>\\r\\n    <address class=\"footer-address\">\\r\\n    Westeinde 16 \\r\\n    <br>\\r\\n    1017 ZP Amsterdam\\r\\n    <br>\\r\\n    <a href=\"tel:\"></a>\\r\\n    </address>\\r\\n</li>\\r\\n\\r\\n        </ul>\\r\\n    </div>\\r\\n</div>\\r\\n<div class=\"footer-column columns accordian-link\">\\r\\n        <h4 class=\"footer-heading\">&#192; propos</h4>\\r\\n\\r\\n    <div class=\"footer-content\">\\r\\n        <ul class=\"footer-list\">\\r\\n            \\r\\n<li>\\r\\n    <a href=\"/fr-fr/a-propos-de-beerwulf\">&#192; propos de Beerwulf</a>\\r\\n</li>\\r\\n\\r\\n<li>\\r\\n    <a href=\"https://beerwulf.homerun.co/\">Recrutement</a>\\r\\n</li>\\r\\n\\r\\n<li>\\r\\n    <a href=\"https://www.alcool-info-service.fr/\">Alcool-info-service</a>\\r\\n</li>\\r\\n\\r\\n        </ul>\\r\\n    </div>\\r\\n</div>\\r\\n<div class=\"footer-column columns accordian-link\">\\r\\n        <h4 class=\"footer-heading\">Pays</h4>\\r\\n\\r\\n    <div class=\"footer-content\">\\r\\n        <ul class=\"footer-list\">\\r\\n            <li class=\"js-language-select\">\\r\\n    <a href=\"/\" class=\"footer-language-flag js-language-selector\">\\r\\n        Vous &#234;tes sur le site\\r\\n        <svg role=\"img\">\\r\\n            <use xlink:href=\"/static/dist/assets/img/svg.svg#flag-fr\"></use>\\r\\n        </svg>\\r\\n        Changer\\r\\n    </a>\\r\\n</li>\\r\\n\\r\\n        </ul>\\r\\n    </div>\\r\\n</div>\\r\\n<div class=\"footer-column columns \">\\r\\n        <h4 class=\"footer-heading\">Suivez-nous</h4>\\r\\n\\r\\n    <div class=\"footer-content\">\\r\\n        <ul class=\"footer-list\">\\r\\n            \\r\\n\\r\\n\\r\\n<li class=\"social-media\">\\r\\n    <a href=\"https://www.facebook.com/BeerwulfWebshop/\" target=\"_blank\">\\r\\n        <img class=\"social-media-item lazy-image\" src=\"data:image/gif;base64,R0lGODlhAQABAIAAAAAAAP///yH5BAEAAAAALAAAAAABAAEAAAIBRAA7\" data-src=\"https://www.beerwulf.com/fr-fr/SysSiteAssets/homepage-header--theme-tiles/navigation/footer-navigation/follow-us/icon-facebook.svg?rev=1398306123\" alt=\"Social media icon\" title=\"Social media icon\" />\\r\\n    </a>\\r\\n</li>\\r\\n\\r\\n\\r\\n<li class=\"social-media\">\\r\\n    <a href=\"https://www.instagram.com/beerwulfwebshop/\" target=\"_blank\">\\r\\n        <img class=\"social-media-item lazy-image\" src=\"data:image/gif;base64,R0lGODlhAQABAIAAAAAAAP///yH5BAEAAAAALAAAAAABAAEAAAIBRAA7\" data-src=\"https://www.beerwulf.com/fr-fr/SysSiteAssets/homepage-header--theme-tiles/navigation/footer-navigation/follow-us/icon-instagram.svg?rev=257255883\" alt=\"Social media icon\" title=\"Social media icon\" />\\r\\n    </a>\\r\\n</li>\\r\\n\\r\\n\\r\\n<li class=\"social-media\">\\r\\n    <a href=\"https://twitter.com/BeerwulfWebshop\" target=\"_blank\">\\r\\n        <img class=\"social-media-item lazy-image\" src=\"data:image/gif;base64,R0lGODlhAQABAIAAAAAAAP///yH5BAEAAAAALAAAAAABAAEAAAIBRAA7\" data-src=\"https://www.beerwulf.com/fr-fr/SysSiteAssets/homepage-header--theme-tiles/navigation/footer-navigation/follow-us/icon-twitter.svg?rev=207593035\" alt=\"Social media icon\" title=\"Social media icon\" />\\r\\n    </a>\\r\\n</li>\\r\\n\\r\\n\\r\\n        </ul>\\r\\n    </div>\\r\\n</div>\\r\\n\\r\\n        </div>\\r\\n        <div class=\"row payment-logos\">\\r\\n            <div class=\"footer-column columns\">\\r\\n                \\r\\n\\r\\n<h4 class=\"footer-heading\">Moyens de paiement - Livraisons</h4>\\r\\n<a href=\"/fr-fr/moyens-paiement-securises\" target=\"_blank\">\\r\\n    <img class=\"lazy-image\" src=\"data:image/gif;base64,R0lGODlhAQABAIAAAAAAAP///yH5BAEAAAAALAAAAAABAAEAAAIBRAA7\" data-src=\"https://www.beerwulf.com/globalassets/au-fr-esp-uk-it-mar2020.png?rev=334924766\" title=\"\" alt=\"\" />\\r\\n</a>\\r\\n\\r\\n            </div>\\r\\n        </div>\\r\\n            <div class=\"row\">\\r\\n                <div class=\"notice-text\">\\r\\n                    <p>Beerwulf fait partie d’HEINEKEN</p>\\r\\n                </div>\\r\\n            </div>\\r\\n    </div>\\r\\n\\r\\n    \\r\\n\\r\\n    <div class=\"row\">\\r\\n        <div class=\"columns text-center\">\\r\\n            <div class=\"lower-footerbar-logos\">\\r\\n                \\r\\n\\r\\n<a href=\"https://www.trustedshops.fr/evaluation/info_X1BD91F4E9061E45B9895C62A024ABC60.html?utm_source=shop&amp;utm_medium=link&amp;utm_content=TrustmarkCellNo1__trustmark_and_reviews&amp;utm_campaign=trustbadge_maximised\" target=\"_blank\" rel=\"nofollow\" class=\"footerbar-logo\">\\r\\n    <img class=\"lazy-image\" src=\"data:image/gif;base64,R0lGODlhAQABAIAAAAAAAP///yH5BAEAAAAALAAAAAABAAEAAAIBRAA7\" data-src=\"https://www.beerwulf.com/fr-fr/SysSiteAssets/homepage-header--theme-tiles/navigation/footer-navigation/underfooteritems/trustedshops_80px.png?rev=2097272303\" title=\"\" alt=\"\">\\r\\n</a>\\r\\n\\r\\n\\r\\n<a href=\"https://www.ecommercetrustmark.eu/\" target=\"_blank\" rel=\"nofollow\" class=\"footerbar-logo\">\\r\\n    <img class=\"lazy-image\" src=\"data:image/gif;base64,R0lGODlhAQABAIAAAAAAAP///yH5BAEAAAAALAAAAAABAAEAAAIBRAA7\" data-src=\"https://www.beerwulf.com/fr-fr/SysSiteAssets/homepage-header--theme-tiles/navigation/footer-navigation/underfooteritems/trust_ecommerce_logo.svg?rev=61156986\" title=\"\" alt=\"\">\\r\\n</a>\\r\\n\\r\\n\\r\\n<a href=\"https://solidarites-sante.gouv.fr/prevention-en-sante/addictions/article/alcool-cadre-legal\" target=\"_blank\" rel=\"nofollow\" class=\"footerbar-logo\">\\r\\n    <img class=\"lazy-image\" src=\"data:image/gif;base64,R0lGODlhAQABAIAAAAAAAP///yH5BAEAAAAALAAAAAABAAEAAAIBRAA7\" data-src=\"https://www.beerwulf.com/fr-fr/SysSiteAssets/homepage-header--theme-tiles/navigation/footer-navigation/underfooteritems/pregnancylogonoalcohol.jpeg?rev=1816339845\" title=\"\" alt=\"\">\\r\\n</a>\\r\\n\\r\\n            </div>\\r\\n            <div class=\"footer-smallprint\">\\r\\n                <a href=\"https://www.alcool-info-service.fr/\" target=\"_blank\">L’abus d’alcool est dangereux pour la sant&#233;, &#224; consommer avec mod&#233;ration</a>\\r\\n<a href=\"/fr-fr/conditions-generales\" target=\"_blank\">Conditions g&#233;n&#233;rales</a>\\r\\n<a href=\"/fr-fr/politique-de-confidentialite-et-cookies\" target=\"_blank\">Politique de Confidentialit&#233;</a>\\r\\n<a href=\"/fr-fr/politique-en-matiere-de-cookies\" target=\"_blank\">Cookies</a>\\r\\n<a href=\"https://www.beerwulf.com/trigger-cookie-tool\" target=\"_blank\">Configuration des cookies</a>\\r\\n<span class=\"js-language-select\">\\r\\n    <a href=\"/\">Fran&#231;ais (FR)</a>\\r\\n</span>\\r\\n\\r\\n            </div>\\r\\n        </div>\\r\\n    </div>\\r\\n</footer>\\r\\n\\r\\n\\r\\n\\r\\n    <input type=\"hidden\" id=\"refreshed\" value=\"no\" data-getcartcount-url=\"/fr-FR/api/Cart/Count\">\\r\\n\\r\\n    <div id=\"trustedShopsCustomBlock\"></div>\\r\\n    <script src=\"/static/dist/assets/js/BeerWulf.js?cb=232\"></script>\\r\\n</body>\\r\\n</html>\\r\\n'"
      ]
     },
     "execution_count": 36,
     "metadata": {},
     "output_type": "execute_result"
    }
   ],
   "source": [
    "# str en précisant un encodage\n",
    "content = r.content.decode('utf-8')\n",
    "content"
   ]
  },
  {
   "cell_type": "code",
   "execution_count": 37,
   "metadata": {},
   "outputs": [
    {
     "data": {
      "text/plain": [
       "bytes"
      ]
     },
     "execution_count": 37,
     "metadata": {},
     "output_type": "execute_result"
    }
   ],
   "source": [
    "type(r.content)"
   ]
  },
  {
   "cell_type": "markdown",
   "metadata": {},
   "source": [
    "#### Essai avec des regex"
   ]
  },
  {
   "cell_type": "code",
   "execution_count": 45,
   "metadata": {},
   "outputs": [
    {
     "data": {
      "text/plain": [
       "re.Match"
      ]
     },
     "execution_count": 45,
     "metadata": {},
     "output_type": "execute_result"
    }
   ],
   "source": [
    "# récupération mannuelle d'un prix avec une regex\n",
    "# extraction de tous les caractères différents de <\n",
    "# compris entre <span class=\"price\"> et </span>\n",
    "rx = re.compile('<span class=\"price\">([^<]+)</span>')\n",
    "match = rx.search(content)  # équivalent à match = re.search('<span class=\"price\">([^<]+)</span>', content)\n",
    "type(match)"
   ]
  },
  {
   "cell_type": "code",
   "execution_count": 46,
   "metadata": {},
   "outputs": [
    {
     "data": {
      "text/plain": [
       "'<span class=\"price\">11,99 €</span>'"
      ]
     },
     "execution_count": 46,
     "metadata": {},
     "output_type": "execute_result"
    }
   ],
   "source": [
    "# extraction de niveau 0\n",
    "match.group(0)"
   ]
  },
  {
   "cell_type": "code",
   "execution_count": 47,
   "metadata": {},
   "outputs": [
    {
     "data": {
      "text/plain": [
       "'11,99 €'"
      ]
     },
     "execution_count": 47,
     "metadata": {},
     "output_type": "execute_result"
    }
   ],
   "source": [
    "# extraction de niveau 1\n",
    "match.group(1)"
   ]
  },
  {
   "cell_type": "code",
   "execution_count": 48,
   "metadata": {},
   "outputs": [
    {
     "name": "stdout",
     "output_type": "stream",
     "text": [
      "11,99 €\n",
      "19,46 €\n",
      "16,14 €\n",
      "19,79 €\n",
      "11,99 €\n",
      "13,19 €\n",
      "13,59 €\n",
      "14,39 €\n",
      "1,79 €\n",
      "2,02 €\n",
      "2,09 €\n",
      "3,14 €\n",
      "38,99 €\n",
      "62,99 €\n",
      "38,69 €\n",
      "37,99 €\n",
      "139,00 €\n",
      "89,00 €\n",
      "129,00 €\n",
      "119,00 €\n"
     ]
    }
   ],
   "source": [
    "# récupération mannuelle de tous les prix avec une regex\n",
    "for match in rx.finditer(content):\n",
    "    print(match.group(1))"
   ]
  },
  {
   "cell_type": "markdown",
   "metadata": {},
   "source": [
    "La technique est très fragile car elle s'appuie sur la syntaxe HTML exacte et non sur la sémantique..."
   ]
  },
  {
   "cell_type": "code",
   "execution_count": 44,
   "metadata": {},
   "outputs": [
    {
     "name": "stdout",
     "output_type": "stream",
     "text": [
      "22,99 €\n",
      "18,99 €\n",
      "21,99 €\n",
      "15,99 €\n",
      "16,49 €\n",
      "16,99 €\n",
      "17,99 €\n",
      "2,39 €\n",
      "2,69 €\n",
      "2,79 €\n",
      "3,49 €\n",
      "42,99 €\n",
      "202,96 €\n",
      "129,00 €\n",
      "169,00 €\n",
      "169,00 €\n"
     ]
    }
   ],
   "source": [
    "# récupération mannuelle de tous les prix avec une regex\n",
    "rx = re.compile('<span class=\"price from-price\">([^<]+)</span>')\n",
    "for match in rx.finditer(content):\n",
    "    print(match.group(1))"
   ]
  },
  {
   "cell_type": "code",
   "execution_count": null,
   "metadata": {},
   "outputs": [],
   "source": [
    "# récupération mannuelle de tous les prix avec une regex\n",
    "# ( from-price)? est une expression de capture\n",
    "# possibilité d'utiliser (?: from-price)? qui n'est pas une expression de capture\n",
    "rx = re.compile('<span class=\"price( from-price)?\">([^<]+)</span>')\n",
    "for match in rx.finditer(content):\n",
    "    print(match.group(1), match.group(2))"
   ]
  },
  {
   "cell_type": "markdown",
   "metadata": {},
   "source": [
    "**Avec pandas.read_html()** recherche des tableaux dans les pages HTML"
   ]
  },
  {
   "cell_type": "markdown",
   "metadata": {},
   "source": [
    "**Exemple**\n",
    "\n",
    "Tableau page wikipédia: https://fr.wikipedia.org/wiki/Liste_des_pays_par_PIB_nominal"
   ]
  },
  {
   "cell_type": "code",
   "execution_count": 49,
   "metadata": {},
   "outputs": [
    {
     "data": {
      "text/plain": [
       "[(1, 1), (195, 3), (211, 3), (213, 3), (12, 2), (4, 2)]"
      ]
     },
     "execution_count": 49,
     "metadata": {},
     "output_type": "execute_result"
    }
   ],
   "source": [
    "# scraping d'une page HTML\n",
    "var = pd.read_html(\"https://fr.wikipedia.org/wiki/Liste_des_pays_par_PIB_nominal\")\n",
    "[df.shape for df in var]"
   ]
  },
  {
   "cell_type": "code",
   "execution_count": 50,
   "metadata": {},
   "outputs": [
    {
     "data": {
      "text/html": [
       "<div>\n",
       "<style scoped>\n",
       "    .dataframe tbody tr th:only-of-type {\n",
       "        vertical-align: middle;\n",
       "    }\n",
       "\n",
       "    .dataframe tbody tr th {\n",
       "        vertical-align: top;\n",
       "    }\n",
       "\n",
       "    .dataframe thead th {\n",
       "        text-align: right;\n",
       "    }\n",
       "</style>\n",
       "<table border=\"1\" class=\"dataframe\">\n",
       "  <thead>\n",
       "    <tr style=\"text-align: right;\">\n",
       "      <th></th>\n",
       "      <th>Rang</th>\n",
       "      <th>Pays ou territoire</th>\n",
       "      <th>PIB (en milliards de dollars/an)</th>\n",
       "    </tr>\n",
       "  </thead>\n",
       "  <tbody>\n",
       "    <tr>\n",
       "      <th>0</th>\n",
       "      <td>1</td>\n",
       "      <td>États-Unis</td>\n",
       "      <td>20 494,05</td>\n",
       "    </tr>\n",
       "    <tr>\n",
       "      <th>1</th>\n",
       "      <td>-</td>\n",
       "      <td>Union européenne[2],[note 1]</td>\n",
       "      <td>18 750,05</td>\n",
       "    </tr>\n",
       "    <tr>\n",
       "      <th>2</th>\n",
       "      <td>2</td>\n",
       "      <td>Chine[note 2]</td>\n",
       "      <td>13 407,40</td>\n",
       "    </tr>\n",
       "    <tr>\n",
       "      <th>3</th>\n",
       "      <td>3</td>\n",
       "      <td>Japon</td>\n",
       "      <td>4 971,93</td>\n",
       "    </tr>\n",
       "    <tr>\n",
       "      <th>4</th>\n",
       "      <td>4</td>\n",
       "      <td>Allemagne</td>\n",
       "      <td>4 000,39</td>\n",
       "    </tr>\n",
       "    <tr>\n",
       "      <th>5</th>\n",
       "      <td>5</td>\n",
       "      <td>Royaume-Uni</td>\n",
       "      <td>2 828,64</td>\n",
       "    </tr>\n",
       "    <tr>\n",
       "      <th>6</th>\n",
       "      <td>6</td>\n",
       "      <td>France</td>\n",
       "      <td>2 775,25</td>\n",
       "    </tr>\n",
       "    <tr>\n",
       "      <th>7</th>\n",
       "      <td>7</td>\n",
       "      <td>Inde</td>\n",
       "      <td>2 716,75</td>\n",
       "    </tr>\n",
       "    <tr>\n",
       "      <th>...</th>\n",
       "      <td>...</td>\n",
       "      <td>...</td>\n",
       "      <td>...</td>\n",
       "    </tr>\n",
       "    <tr>\n",
       "      <th>187</th>\n",
       "      <td>187</td>\n",
       "      <td>Tonga</td>\n",
       "      <td>0470</td>\n",
       "    </tr>\n",
       "    <tr>\n",
       "      <th>188</th>\n",
       "      <td>188</td>\n",
       "      <td>Sao Tomé-et-Principe</td>\n",
       "      <td>0449</td>\n",
       "    </tr>\n",
       "    <tr>\n",
       "      <th>189</th>\n",
       "      <td>189</td>\n",
       "      <td>Micronésie</td>\n",
       "      <td>0374</td>\n",
       "    </tr>\n",
       "    <tr>\n",
       "      <th>190</th>\n",
       "      <td>190</td>\n",
       "      <td>Palaos</td>\n",
       "      <td>0297</td>\n",
       "    </tr>\n",
       "    <tr>\n",
       "      <th>191</th>\n",
       "      <td>191</td>\n",
       "      <td>Îles Marshall</td>\n",
       "      <td>0214</td>\n",
       "    </tr>\n",
       "    <tr>\n",
       "      <th>192</th>\n",
       "      <td>192</td>\n",
       "      <td>Kiribati</td>\n",
       "      <td>0189</td>\n",
       "    </tr>\n",
       "    <tr>\n",
       "      <th>193</th>\n",
       "      <td>193</td>\n",
       "      <td>Nauru</td>\n",
       "      <td>0117</td>\n",
       "    </tr>\n",
       "    <tr>\n",
       "      <th>194</th>\n",
       "      <td>194</td>\n",
       "      <td>Tuvalu</td>\n",
       "      <td>00450</td>\n",
       "    </tr>\n",
       "  </tbody>\n",
       "</table>\n",
       "<p>195 rows × 3 columns</p>\n",
       "</div>"
      ],
      "text/plain": [
       "    Rang            Pays ou territoire PIB (en milliards de dollars/an)\n",
       "0      1                    États-Unis                        20 494,05\n",
       "1      -  Union européenne[2],[note 1]                        18 750,05\n",
       "2      2                 Chine[note 2]                        13 407,40\n",
       "3      3                         Japon                         4 971,93\n",
       "4      4                     Allemagne                         4 000,39\n",
       "5      5                   Royaume-Uni                         2 828,64\n",
       "6      6                        France                         2 775,25\n",
       "7      7                          Inde                         2 716,75\n",
       "..   ...                           ...                              ...\n",
       "187  187                         Tonga                             0470\n",
       "188  188          Sao Tomé-et-Principe                             0449\n",
       "189  189                    Micronésie                             0374\n",
       "190  190                        Palaos                             0297\n",
       "191  191                 Îles Marshall                             0214\n",
       "192  192                      Kiribati                             0189\n",
       "193  193                         Nauru                             0117\n",
       "194  194                        Tuvalu                            00450\n",
       "\n",
       "[195 rows x 3 columns]"
      ]
     },
     "execution_count": 50,
     "metadata": {},
     "output_type": "execute_result"
    }
   ],
   "source": [
    "# accès au n° 2\n",
    "df = var[1]\n",
    "df"
   ]
  },
  {
   "cell_type": "code",
   "execution_count": 53,
   "metadata": {},
   "outputs": [
    {
     "data": {
      "text/plain": [
       "Rang                                         1\n",
       "Pays ou territoire                  États-Unis\n",
       "PIB (en milliards de dollars/an)     20 494,05\n",
       "Name: 0, dtype: object"
      ]
     },
     "execution_count": 53,
     "metadata": {},
     "output_type": "execute_result"
    }
   ],
   "source": [
    "# accès à des valeurs\n",
    "df.iloc[0]"
   ]
  },
  {
   "cell_type": "code",
   "execution_count": 54,
   "metadata": {},
   "outputs": [
    {
     "data": {
      "text/plain": [
       "Index(['Rang', 'Pays ou territoire', 'PIB (en milliards de dollars/an)'], dtype='object')"
      ]
     },
     "execution_count": 54,
     "metadata": {},
     "output_type": "execute_result"
    }
   ],
   "source": [
    "# index = columns du DataFrame\n",
    "df.iloc[0].index"
   ]
  },
  {
   "cell_type": "code",
   "execution_count": 55,
   "metadata": {},
   "outputs": [
    {
     "data": {
      "text/html": [
       "<div>\n",
       "<style scoped>\n",
       "    .dataframe tbody tr th:only-of-type {\n",
       "        vertical-align: middle;\n",
       "    }\n",
       "\n",
       "    .dataframe tbody tr th {\n",
       "        vertical-align: top;\n",
       "    }\n",
       "\n",
       "    .dataframe thead th {\n",
       "        text-align: right;\n",
       "    }\n",
       "</style>\n",
       "<table border=\"1\" class=\"dataframe\">\n",
       "  <thead>\n",
       "    <tr style=\"text-align: right;\">\n",
       "      <th></th>\n",
       "      <th>Rang</th>\n",
       "      <th>Pays ou territoire</th>\n",
       "      <th>PIB (en milliards de dollars/an)</th>\n",
       "    </tr>\n",
       "  </thead>\n",
       "  <tbody>\n",
       "    <tr>\n",
       "      <th>0</th>\n",
       "      <td>1</td>\n",
       "      <td>États-Unis</td>\n",
       "      <td>20 494,05</td>\n",
       "    </tr>\n",
       "    <tr>\n",
       "      <th>1</th>\n",
       "      <td>-</td>\n",
       "      <td>Union européenne[2],[note 1]</td>\n",
       "      <td>18 750,05</td>\n",
       "    </tr>\n",
       "    <tr>\n",
       "      <th>2</th>\n",
       "      <td>2</td>\n",
       "      <td>Chine[note 2]</td>\n",
       "      <td>13 407,40</td>\n",
       "    </tr>\n",
       "    <tr>\n",
       "      <th>76</th>\n",
       "      <td>76</td>\n",
       "      <td>Bulgarie</td>\n",
       "      <td>6496</td>\n",
       "    </tr>\n",
       "    <tr>\n",
       "      <th>194</th>\n",
       "      <td>194</td>\n",
       "      <td>Tuvalu</td>\n",
       "      <td>00450</td>\n",
       "    </tr>\n",
       "  </tbody>\n",
       "</table>\n",
       "</div>"
      ],
      "text/plain": [
       "    Rang            Pays ou territoire PIB (en milliards de dollars/an)\n",
       "0      1                    États-Unis                        20 494,05\n",
       "1      -  Union européenne[2],[note 1]                        18 750,05\n",
       "2      2                 Chine[note 2]                        13 407,40\n",
       "76    76                      Bulgarie                             6496\n",
       "194  194                        Tuvalu                            00450"
      ]
     },
     "execution_count": 55,
     "metadata": {},
     "output_type": "execute_result"
    }
   ],
   "source": [
    "# accès à des valeurs\n",
    "df.iloc[[0, 1, 2, 76, -1]]"
   ]
  },
  {
   "cell_type": "code",
   "execution_count": 56,
   "metadata": {},
   "outputs": [
    {
     "data": {
      "text/plain": [
       "'18\\xa0750,05'"
      ]
     },
     "execution_count": 56,
     "metadata": {},
     "output_type": "execute_result"
    }
   ],
   "source": [
    "# accès à une valeur\n",
    "df.iloc[1, 2]"
   ]
  },
  {
   "cell_type": "markdown",
   "metadata": {},
   "source": [
    "Chercher le code hexa \\xa0 : https://www.codetable.net/hex/a0"
   ]
  },
  {
   "cell_type": "code",
   "execution_count": 57,
   "metadata": {},
   "outputs": [],
   "source": [
    "# aide sur read_html()\n",
    "# pd.read_html?"
   ]
  },
  {
   "cell_type": "code",
   "execution_count": 58,
   "metadata": {},
   "outputs": [
    {
     "data": {
      "text/html": [
       "<div>\n",
       "<style scoped>\n",
       "    .dataframe tbody tr th:only-of-type {\n",
       "        vertical-align: middle;\n",
       "    }\n",
       "\n",
       "    .dataframe tbody tr th {\n",
       "        vertical-align: top;\n",
       "    }\n",
       "\n",
       "    .dataframe thead th {\n",
       "        text-align: right;\n",
       "    }\n",
       "</style>\n",
       "<table border=\"1\" class=\"dataframe\">\n",
       "  <thead>\n",
       "    <tr style=\"text-align: right;\">\n",
       "      <th></th>\n",
       "      <th>Rang</th>\n",
       "      <th>Pays ou territoire</th>\n",
       "      <th>PIB (en milliards de dollars/an)</th>\n",
       "    </tr>\n",
       "  </thead>\n",
       "  <tbody>\n",
       "    <tr>\n",
       "      <th>0</th>\n",
       "      <td>1</td>\n",
       "      <td>États-Unis</td>\n",
       "      <td>20494.05</td>\n",
       "    </tr>\n",
       "    <tr>\n",
       "      <th>1</th>\n",
       "      <td>-</td>\n",
       "      <td>Union européenne[2],[note 1]</td>\n",
       "      <td>18750.05</td>\n",
       "    </tr>\n",
       "    <tr>\n",
       "      <th>2</th>\n",
       "      <td>2</td>\n",
       "      <td>Chine[note 2]</td>\n",
       "      <td>13407.40</td>\n",
       "    </tr>\n",
       "    <tr>\n",
       "      <th>76</th>\n",
       "      <td>76</td>\n",
       "      <td>Bulgarie</td>\n",
       "      <td>64.96</td>\n",
       "    </tr>\n",
       "    <tr>\n",
       "      <th>194</th>\n",
       "      <td>194</td>\n",
       "      <td>Tuvalu</td>\n",
       "      <td>0.0450</td>\n",
       "    </tr>\n",
       "  </tbody>\n",
       "</table>\n",
       "</div>"
      ],
      "text/plain": [
       "    Rang            Pays ou territoire PIB (en milliards de dollars/an)\n",
       "0      1                    États-Unis                         20494.05\n",
       "1      -  Union européenne[2],[note 1]                         18750.05\n",
       "2      2                 Chine[note 2]                         13407.40\n",
       "76    76                      Bulgarie                            64.96\n",
       "194  194                        Tuvalu                           0.0450"
      ]
     },
     "execution_count": 58,
     "metadata": {},
     "output_type": "execute_result"
    }
   ],
   "source": [
    "# conversion automatique du séparateur des milliers\n",
    "var = pd.read_html(\"https://fr.wikipedia.org/wiki/Liste_des_pays_par_PIB_nominal\",\n",
    "                    thousands='\\xa0',\n",
    "                    decimal=',')\n",
    "df = var[1]\n",
    "df.iloc[[0, 1, 2, 76, -1]]"
   ]
  },
  {
   "cell_type": "code",
   "execution_count": 100,
   "metadata": {},
   "outputs": [
    {
     "data": {
      "text/html": [
       "<div>\n",
       "<style scoped>\n",
       "    .dataframe tbody tr th:only-of-type {\n",
       "        vertical-align: middle;\n",
       "    }\n",
       "\n",
       "    .dataframe tbody tr th {\n",
       "        vertical-align: top;\n",
       "    }\n",
       "\n",
       "    .dataframe thead th {\n",
       "        text-align: right;\n",
       "    }\n",
       "</style>\n",
       "<table border=\"1\" class=\"dataframe\">\n",
       "  <thead>\n",
       "    <tr style=\"text-align: right;\">\n",
       "      <th></th>\n",
       "      <th>Rang</th>\n",
       "      <th>Pays ou territoire</th>\n",
       "      <th>PIB (en milliards de dollars/an)</th>\n",
       "    </tr>\n",
       "  </thead>\n",
       "  <tbody>\n",
       "    <tr>\n",
       "      <th>1</th>\n",
       "      <td>-</td>\n",
       "      <td>Union européenne[2],[note 1]</td>\n",
       "      <td>18750.05</td>\n",
       "    </tr>\n",
       "    <tr>\n",
       "      <th>2</th>\n",
       "      <td>2</td>\n",
       "      <td>Chine[note 2]</td>\n",
       "      <td>13407.40</td>\n",
       "    </tr>\n",
       "    <tr>\n",
       "      <th>11</th>\n",
       "      <td>11</td>\n",
       "      <td>Russie[note 3]</td>\n",
       "      <td>1630.66</td>\n",
       "    </tr>\n",
       "  </tbody>\n",
       "</table>\n",
       "</div>"
      ],
      "text/plain": [
       "   Rang            Pays ou territoire PIB (en milliards de dollars/an)\n",
       "1     -  Union européenne[2],[note 1]                         18750.05\n",
       "2     2                 Chine[note 2]                         13407.40\n",
       "11   11                Russie[note 3]                          1630.66"
      ]
     },
     "execution_count": 100,
     "metadata": {},
     "output_type": "execute_result"
    }
   ],
   "source": [
    "# reste à faire\n",
    "test  = df.loc[df['Pays ou territoire'].str.contains(\"[^A-Za-zÀ-ÿ0-9 \\-']\")]\n",
    "test"
   ]
  },
  {
   "cell_type": "markdown",
   "metadata": {},
   "source": [
    "**Exercice 4**\n",
    "\n",
    "Extraire les noms des pays sans les annotations."
   ]
  },
  {
   "cell_type": "code",
   "execution_count": 101,
   "metadata": {},
   "outputs": [
    {
     "data": {
      "text/html": [
       "<div>\n",
       "<style scoped>\n",
       "    .dataframe tbody tr th:only-of-type {\n",
       "        vertical-align: middle;\n",
       "    }\n",
       "\n",
       "    .dataframe tbody tr th {\n",
       "        vertical-align: top;\n",
       "    }\n",
       "\n",
       "    .dataframe thead th {\n",
       "        text-align: right;\n",
       "    }\n",
       "</style>\n",
       "<table border=\"1\" class=\"dataframe\">\n",
       "  <thead>\n",
       "    <tr style=\"text-align: right;\">\n",
       "      <th></th>\n",
       "      <th>Rang</th>\n",
       "      <th>Pays ou territoire</th>\n",
       "      <th>PIB (en milliards de dollars/an)</th>\n",
       "    </tr>\n",
       "  </thead>\n",
       "  <tbody>\n",
       "    <tr>\n",
       "      <th>1</th>\n",
       "      <td>-</td>\n",
       "      <td>Union européenne[2],[note 1]</td>\n",
       "      <td>18750.05</td>\n",
       "    </tr>\n",
       "    <tr>\n",
       "      <th>2</th>\n",
       "      <td>2</td>\n",
       "      <td>Chine[note 2]</td>\n",
       "      <td>13407.40</td>\n",
       "    </tr>\n",
       "    <tr>\n",
       "      <th>11</th>\n",
       "      <td>11</td>\n",
       "      <td>Russie[note 3]</td>\n",
       "      <td>1630.66</td>\n",
       "    </tr>\n",
       "  </tbody>\n",
       "</table>\n",
       "</div>"
      ],
      "text/plain": [
       "   Rang            Pays ou territoire PIB (en milliards de dollars/an)\n",
       "1     -  Union européenne[2],[note 1]                         18750.05\n",
       "2     2                 Chine[note 2]                         13407.40\n",
       "11   11                Russie[note 3]                          1630.66"
      ]
     },
     "execution_count": 101,
     "metadata": {},
     "output_type": "execute_result"
    }
   ],
   "source": [
    "test['Pays ou territoire'].apply(lambda x : x.replace(x[:-8],\"\"))\n",
    "test"
   ]
  },
  {
   "cell_type": "code",
   "execution_count": 91,
   "metadata": {},
   "outputs": [
    {
     "data": {
      "text/plain": [
       "'lut loli'"
      ]
     },
     "execution_count": 91,
     "metadata": {},
     "output_type": "execute_result"
    }
   ],
   "source": [
    "s = 'salut loli'\n",
    "s.replace(s[:2],\"\") "
   ]
  },
  {
   "cell_type": "code",
   "execution_count": 93,
   "metadata": {},
   "outputs": [
    {
     "data": {
      "text/html": [
       "<div>\n",
       "<style scoped>\n",
       "    .dataframe tbody tr th:only-of-type {\n",
       "        vertical-align: middle;\n",
       "    }\n",
       "\n",
       "    .dataframe tbody tr th {\n",
       "        vertical-align: top;\n",
       "    }\n",
       "\n",
       "    .dataframe thead th {\n",
       "        text-align: right;\n",
       "    }\n",
       "</style>\n",
       "<table border=\"1\" class=\"dataframe\">\n",
       "  <thead>\n",
       "    <tr style=\"text-align: right;\">\n",
       "      <th></th>\n",
       "      <th>Rang</th>\n",
       "      <th>Pays ou territoire</th>\n",
       "      <th>PIB (en milliards de dollars/an)</th>\n",
       "    </tr>\n",
       "  </thead>\n",
       "  <tbody>\n",
       "    <tr>\n",
       "      <th>1</th>\n",
       "      <td>-</td>\n",
       "      <td>Union européenne[2],[note 1]</td>\n",
       "      <td>18750.05</td>\n",
       "    </tr>\n",
       "    <tr>\n",
       "      <th>2</th>\n",
       "      <td>2</td>\n",
       "      <td>Chine[note 2]</td>\n",
       "      <td>13407.40</td>\n",
       "    </tr>\n",
       "    <tr>\n",
       "      <th>11</th>\n",
       "      <td>11</td>\n",
       "      <td>Russie[note 3]</td>\n",
       "      <td>1630.66</td>\n",
       "    </tr>\n",
       "  </tbody>\n",
       "</table>\n",
       "</div>"
      ],
      "text/plain": [
       "   Rang            Pays ou territoire PIB (en milliards de dollars/an)\n",
       "1     -  Union européenne[2],[note 1]                         18750.05\n",
       "2     2                 Chine[note 2]                         13407.40\n",
       "11   11                Russie[note 3]                          1630.66"
      ]
     },
     "execution_count": 93,
     "metadata": {},
     "output_type": "execute_result"
    }
   ],
   "source": [
    "df.loc[df['Pays ou territoire'].str.contains(\"[^A-Za-zÀ-ÿ0-9 \\-']\")]"
   ]
  },
  {
   "cell_type": "markdown",
   "metadata": {},
   "source": [
    "**Avec beautifulsoup** parsing HTML"
   ]
  },
  {
   "cell_type": "markdown",
   "metadata": {},
   "source": [
    "Doc :\n",
    "- beautifulsoup : https://www.crummy.com/software/BeautifulSoup/bs4/doc/\n",
    "\n",
    "Installation :\n",
    "- *pip install beautifulsoup4* ou *conda install -c anaconda beautifulsoup4*"
   ]
  },
  {
   "cell_type": "code",
   "execution_count": null,
   "metadata": {},
   "outputs": [],
   "source": [
    "# imports\n",
    "from bs4 import BeautifulSoup"
   ]
  },
  {
   "cell_type": "markdown",
   "metadata": {},
   "source": [
    "**Exemple basique**"
   ]
  },
  {
   "cell_type": "code",
   "execution_count": null,
   "metadata": {},
   "outputs": [],
   "source": [
    "html = \"\"\"\n",
    "<html>\n",
    "    <head>\n",
    "        <style>\n",
    "        h1 { font-size: 50px; }\n",
    "        body { font-family: Verdana; }\n",
    "        li { color: red; }\n",
    "        ul ul li { color: green; }\n",
    "        .highlighted { font-weight: bold; }\n",
    "        .italic { font-style: italic; }\n",
    "        .highlighted.italic { }\n",
    "        </style>\n",
    "    </head>\n",
    "    <body>\n",
    "        <h1>Mon titre</h1>\n",
    "        <p class=\"highlighted\">\n",
    "            Some text with a<br>\n",
    "            <a href=\"https://google.com\">link to google</a>\n",
    "            <img src=\"https://picsum.photos/200/300\">\n",
    "        </p>\n",
    "        <p>Some list:</p>\n",
    "        <ul>\n",
    "            <li>some item</li>\n",
    "            <li class=\"highlighted italic\">some item</li>\n",
    "            <li class=\"italic\">some item</li>\n",
    "            <ul>\n",
    "                <li>some other item 1</li>\n",
    "                <li>some other item 2</li>\n",
    "            </ul>\n",
    "            <li>some item</li>\n",
    "        </ul>\n",
    "    </body>\n",
    "</html>\n",
    "\"\"\""
   ]
  },
  {
   "cell_type": "markdown",
   "metadata": {},
   "source": [
    "A tester sur : https://html.house"
   ]
  },
  {
   "cell_type": "code",
   "execution_count": null,
   "metadata": {},
   "outputs": [],
   "source": [
    "# bs4\n",
    "soup = BeautifulSoup(html)\n",
    "soup"
   ]
  },
  {
   "cell_type": "code",
   "execution_count": null,
   "metadata": {},
   "outputs": [],
   "source": [
    "# type\n",
    "type(soup)"
   ]
  },
  {
   "cell_type": "code",
   "execution_count": null,
   "metadata": {},
   "outputs": [],
   "source": [
    "# find h1\n",
    "titre = soup.find('h1')\n",
    "titre"
   ]
  },
  {
   "cell_type": "code",
   "execution_count": null,
   "metadata": {},
   "outputs": [],
   "source": [
    "# type\n",
    "type(titre)"
   ]
  },
  {
   "cell_type": "code",
   "execution_count": null,
   "metadata": {},
   "outputs": [],
   "source": [
    "# name\n",
    "titre.name"
   ]
  },
  {
   "cell_type": "code",
   "execution_count": null,
   "metadata": {},
   "outputs": [],
   "source": [
    "# text\n",
    "titre.text"
   ]
  },
  {
   "cell_type": "code",
   "execution_count": null,
   "metadata": {},
   "outputs": [],
   "source": [
    "# find a\n",
    "link = soup.find('a')\n",
    "link"
   ]
  },
  {
   "cell_type": "code",
   "execution_count": null,
   "metadata": {},
   "outputs": [],
   "source": [
    "# prochain tag\n",
    "link.find_next()"
   ]
  },
  {
   "cell_type": "code",
   "execution_count": null,
   "metadata": {},
   "outputs": [],
   "source": [
    "# attrs\n",
    "link.attrs"
   ]
  },
  {
   "cell_type": "code",
   "execution_count": null,
   "metadata": {},
   "outputs": [],
   "source": [
    "# text\n",
    "link.text"
   ]
  },
  {
   "cell_type": "code",
   "execution_count": null,
   "metadata": {},
   "outputs": [],
   "source": [
    "# find p\n",
    "paragraph = soup.find('p')\n",
    "paragraph"
   ]
  },
  {
   "cell_type": "code",
   "execution_count": null,
   "metadata": {},
   "outputs": [],
   "source": [
    "# find img in paragraph\n",
    "paragraph.find('img')"
   ]
  },
  {
   "cell_type": "code",
   "execution_count": null,
   "metadata": {},
   "outputs": [],
   "source": [
    "# find_all\n",
    "soup.find_all('li', {'class': \"italic\"})"
   ]
  },
  {
   "cell_type": "code",
   "execution_count": null,
   "metadata": {},
   "outputs": [],
   "source": [
    "# idem avec un sélecteur css:\n",
    "soup.select('li.italic')"
   ]
  },
  {
   "cell_type": "code",
   "execution_count": null,
   "metadata": {},
   "outputs": [],
   "source": [
    "# Récupérer les li de 2e niveau qui sont dans un ul lui-même dans un ul\n",
    "soup.find('ul').find('ul').find_all('li')"
   ]
  },
  {
   "cell_type": "code",
   "execution_count": null,
   "metadata": {},
   "outputs": [],
   "source": [
    "# idem avec un sélecteur css:\n",
    "soup.select('ul ul li')"
   ]
  },
  {
   "cell_type": "code",
   "execution_count": null,
   "metadata": {},
   "outputs": [],
   "source": [
    "# accès au premier li\n",
    "li = soup.select('ul ul li')[0]\n",
    "li"
   ]
  },
  {
   "cell_type": "code",
   "execution_count": null,
   "metadata": {},
   "outputs": [],
   "source": [
    "# prochain tag identique\n",
    "li.find_next_sibling()"
   ]
  },
  {
   "cell_type": "code",
   "execution_count": null,
   "metadata": {},
   "outputs": [],
   "source": [
    "# parent\n",
    "li.parent"
   ]
  },
  {
   "cell_type": "code",
   "execution_count": null,
   "metadata": {},
   "outputs": [],
   "source": [
    "# contents\n",
    "li.parent.contents"
   ]
  },
  {
   "cell_type": "code",
   "execution_count": null,
   "metadata": {},
   "outputs": [],
   "source": [
    "# que les tags\n",
    "li.parent.find_all()"
   ]
  },
  {
   "cell_type": "markdown",
   "metadata": {},
   "source": [
    "**Exemple 1**\n",
    "\n",
    "Le Bon Coin"
   ]
  },
  {
   "cell_type": "code",
   "execution_count": null,
   "metadata": {},
   "outputs": [],
   "source": [
    "# premier essai avec leboncoin\n",
    "\n",
    "r = requests.get('https://www.leboncoin.fr/annonces/offres/ile_de_france/')\n",
    "r"
   ]
  },
  {
   "cell_type": "markdown",
   "metadata": {},
   "source": [
    "Codes erreurs du protocole HTTP : https://developer.mozilla.org/fr/docs/Web/HTTP/Status"
   ]
  },
  {
   "cell_type": "code",
   "execution_count": null,
   "metadata": {},
   "outputs": [],
   "source": [
    "# contenu\n",
    "r.content"
   ]
  },
  {
   "cell_type": "code",
   "execution_count": null,
   "metadata": {},
   "outputs": [],
   "source": [
    "# en str\n",
    "print(r.content.decode('utf-8'))"
   ]
  },
  {
   "cell_type": "markdown",
   "metadata": {},
   "source": [
    "Lancement du script `server.py` lancé dans un terminal avec la commande :\n",
    "<code>python server.py --bind 127.0.0.1</code> sur Windows ou <code>python server.py --bind 0.0.0.0</code> sur MacOS."
   ]
  },
  {
   "cell_type": "code",
   "execution_count": null,
   "metadata": {},
   "outputs": [],
   "source": [
    "# avec run de server.py\n",
    "r = requests.get('http://127.0.0.1:8000')  # http://0.0.0.0:8000\n",
    "r"
   ]
  },
  {
   "cell_type": "code",
   "execution_count": null,
   "metadata": {},
   "outputs": [],
   "source": [
    "# avec run de server.py\n",
    "r.content"
   ]
  },
  {
   "cell_type": "code",
   "execution_count": null,
   "metadata": {},
   "outputs": [],
   "source": [
    "# avec run de server.py\n",
    "from IPython.display import IFrame\n",
    "IFrame('http://127.0.0.1:8000', width=800, height=200)  # http://0.0.0.0:8000"
   ]
  },
  {
   "cell_type": "code",
   "execution_count": null,
   "metadata": {},
   "outputs": [],
   "source": [
    "# headers\n",
    "headers = {\n",
    "'User-Agent': 'Mozilla/5.0 (Windows NT 6.1; Win64; x64; rv:81.0) Gecko/20100101 Firefox/81.0',\n",
    "'Accept': 'text/html,application/xhtml+xml,application/xml;q=0.9,image/webp,*/*;q=0.8',\n",
    "'Accept-Language': 'fr,fr-FR;q=0.8,en-US;q=0.5,en;q=0.3',\n",
    "'Accept-Encoding': 'gzip, deflate',\n",
    "}\n",
    "headers"
   ]
  },
  {
   "cell_type": "code",
   "execution_count": null,
   "metadata": {},
   "outputs": [],
   "source": [
    "# 2nd essai avec leboncoin\n",
    "r = requests.get('https://www.leboncoin.fr/annonces/offres/ile_de_france/',\n",
    "                 headers=headers)\n",
    "r"
   ]
  },
  {
   "cell_type": "code",
   "execution_count": null,
   "metadata": {},
   "outputs": [],
   "source": [
    "# BeautifulSoup\n",
    "soup = BeautifulSoup(r.content)\n",
    "soup"
   ]
  },
  {
   "cell_type": "markdown",
   "metadata": {},
   "source": [
    "**Exemple 2**\n",
    "\n",
    "Craig List"
   ]
  },
  {
   "cell_type": "code",
   "execution_count": null,
   "metadata": {},
   "outputs": [],
   "source": [
    "# essai avec craigslist\n",
    "r = requests.get('https://paris.craigslist.org/d/locations-de-vacances/search/vac')\n",
    "r"
   ]
  },
  {
   "cell_type": "code",
   "execution_count": null,
   "metadata": {},
   "outputs": [],
   "source": [
    "# BeautifulSoup\n",
    "soup = BeautifulSoup(r.content)\n",
    "soup"
   ]
  },
  {
   "cell_type": "markdown",
   "metadata": {},
   "source": [
    "On utilise 2 méthodes :\n",
    "    \n",
    "- find(tag, attrs) : trouve le premier tag avec les attributs spécifiés\n",
    "- findAll(tag, attrs) : trouve tous les tags avec les attributs spécifiés"
   ]
  },
  {
   "cell_type": "code",
   "execution_count": null,
   "metadata": {},
   "outputs": [],
   "source": [
    "# exploration du HTML\n",
    "# tag li avec class=\"result-row\"\n",
    "\n",
    "li_tag = soup.find('li', attrs={'class': 'result-row'})\n",
    "print(li_tag)"
   ]
  },
  {
   "cell_type": "code",
   "execution_count": null,
   "metadata": {},
   "outputs": [],
   "source": [
    "# type\n",
    "type(li_tag)"
   ]
  },
  {
   "cell_type": "markdown",
   "metadata": {},
   "source": [
    "La technique consiste par exemple à alimenter une liste de dictionnaires avec les valeurs trouvées pour chaque item et ensuite à le transformer en DataFrame :\n",
    "- soit en utilisant tag.attrs['attr'] pour collecter la valeur attr du tag <tag attr=value>\n",
    "- soit en utilisant tag.text pour collecter la valeur <tag>text</tag>\n",
    "- éventuellement en recherchant dans un nouveau tag à l'intérieur d'un tag donné"
   ]
  },
  {
   "cell_type": "code",
   "execution_count": null,
   "metadata": {},
   "outputs": [],
   "source": [
    "# collecte des informations\n",
    "# \"data-pid\"\n",
    "# \"time\"\n",
    "# \"title\"\n",
    "# \"price\"\n",
    "# \"housing\"\n",
    "# \"hood\"\n",
    "# \"data-ids\" (images)\n",
    "\n",
    "rows = []\n",
    "\n",
    "for li_tag in soup.findAll('li', attrs={'class': 'result-row'}):\n",
    "    row = {}\n",
    "    row['data-pid'] = li_tag.attrs['data-pid']\n",
    "    # row['time'] = \n",
    "    # à compléter\n",
    "    rows.append(row)\n",
    "    \n",
    "rows"
   ]
  },
  {
   "cell_type": "code",
   "execution_count": null,
   "metadata": {},
   "outputs": [],
   "source": [
    "# en DataFrame\n",
    "df = pd.DataFrame(rows)\n",
    "df"
   ]
  },
  {
   "cell_type": "markdown",
   "metadata": {},
   "source": [
    "**Exercice 5**\n",
    "\n",
    "Compléter le DataFrame (sauf images)"
   ]
  },
  {
   "cell_type": "code",
   "execution_count": null,
   "metadata": {},
   "outputs": [],
   "source": [
    "# collecte des photos\n",
    "# traitement des \"data-ids\"\n",
    "# séparation des formats et des noms de fichier\n",
    "# from javascript\n",
    "imageConfig = {\"1\":{\"hostname\":\"https://images.craigslist.org\",\"sizes\":[\"50x50c\",\"300x300\",\"600x450\",\"1200x900\"]},\n",
    "               \"4\":{\"hostname\":\"https://images.craigslist.org\",\"sizes\":[\"50x50c\",\"300x300\",\"600x450\",\"1200x900\"]},\n",
    "               \"0\":{\"hostname\":\"https://images.craigslist.org\",\"sizes\":[\"50x50c\",\"300x300\",\"600x450\"]},\n",
    "               \"3\":{\"hostname\":\"https://images.craigslist.org\",\"sizes\":[\"50x50c\",\"300x300\",\"600x450\",\"1200x900\"]},\n",
    "               \"2\":{\"hostname\":\"https://images.craigslist.org\",\"sizes\":[\"50x50c\",\"300x300\",\"600x450\",\"1200x900\"]}};"
   ]
  },
  {
   "cell_type": "code",
   "execution_count": null,
   "metadata": {},
   "outputs": [],
   "source": [
    "# récupération des photos\n",
    "from urllib import request\n",
    "from shutil import copyfileobj\n",
    "\n",
    "# data-ids\n",
    "img = '00d0d_3QrOcJHTZgj'\n",
    "size = '300x300'\n",
    "filename = '{}_{}.jpg'.format(img, size)\n",
    "url = 'https://images.craigslist.org/{}'.format(filename)\n",
    "\n",
    "# get the file from the web and save it locally\n",
    "with request.urlopen(url) as response, open(filename, 'wb') as out_file:\n",
    "    copyfileobj(response, out_file)"
   ]
  },
  {
   "cell_type": "code",
   "execution_count": null,
   "metadata": {},
   "outputs": [],
   "source": [
    "from IPython.display import Image\n",
    "Image(filename=filename)"
   ]
  },
  {
   "cell_type": "markdown",
   "metadata": {},
   "source": [
    "#### Inconvénients du web scraping:\n",
    "- plutôt lent (car on parse potentiellement beaucoup de HTML inutile)\n",
    "- ne donne pas les résultats attendus si une partie du contenu est intégré dynamiquement à la page via javascript\n",
    "- un changement dans l'architecture du html ou du css (e.g: refonte du design du site) oblige à réécrire le programme"
   ]
  },
  {
   "cell_type": "markdown",
   "metadata": {},
   "source": [
    "### API\n",
    "\n",
    "Exemple: Deezer\n",
    "\n",
    "Artiste : https://www.deezer.com/fr/artist/3037\n",
    "\n",
    "Récupérer le nombre de fans d'un artiste avec requests :"
   ]
  },
  {
   "cell_type": "code",
   "execution_count": null,
   "metadata": {},
   "outputs": [],
   "source": [
    "# request\n",
    "artist = 3037\n",
    "response = requests.get(f'https://www.deezer.com/fr/artist/{artist}')\n",
    "soup = BeautifulSoup(response.content)\n",
    "nb_fans = int(soup.find('div', id='naboo_artist_social_small').span.text)\n",
    "nb_fans"
   ]
  },
  {
   "cell_type": "markdown",
   "metadata": {},
   "source": [
    "Récupérer le nombre de fans d'un artiste avec l'API :\n",
    "\n",
    "Doc:\n",
    "- https://pypi.org/project/deezer-python/\n",
    "\n",
    "Installation :\n",
    "- *pip install deezer-python*"
   ]
  },
  {
   "cell_type": "markdown",
   "metadata": {},
   "source": [
    "Le terme \"API\" est très générique et peut désigner bien des choses, mais dans le jargon on l'utilise souvent pour désigner un service web qui renvoie non pas:\n",
    "> des pages web au format HTML (destinées à être lues par un humain dans son navigateur)\n",
    "\n",
    "mais:\n",
    "> des données au format JSON (destinées à être traitées par un programme)\n",
    "\n",
    "![img](https://miro.medium.com/max/4238/1*OcmVkcsM5BWRHrg8GC17iw.png)\n",
    "\n",
    "Puisque les API sont dédiées à l'usage via des programmes, elles disposent en général d'une bonne documentation, et sont fiables et stables dans le temps. Tandis que sur des pages web HTML classiques, le design peut par exemple changer du jour au lendemain et rendre votre programme BeautifulSoup obsolète."
   ]
  },
  {
   "cell_type": "code",
   "execution_count": null,
   "metadata": {},
   "outputs": [],
   "source": [
    "# API JSON\n",
    "response = requests.get(f'https://api.deezer.com/artist/{artist}')\n",
    "data = response.json()\n",
    "data"
   ]
  },
  {
   "cell_type": "code",
   "execution_count": null,
   "metadata": {},
   "outputs": [],
   "source": [
    "# nb_fan\n",
    "data['nb_fan']"
   ]
  },
  {
   "cell_type": "code",
   "execution_count": null,
   "metadata": {},
   "outputs": [],
   "source": [
    "# picture\n",
    "url = data['picture']\n",
    "r = requests.get(url)\n",
    "Image(data=r.content)"
   ]
  },
  {
   "cell_type": "markdown",
   "metadata": {},
   "source": [
    "#### Avantages d'une API\n",
    "- renvoie du format JSON, facile et rapide à traiter\n",
    "- renvoie un format stable et documenté (voire versionné)\n",
    "- exemple : https://developer.twitter.com/en/docs/twitter-api/api-reference-index\n",
    "- la documentation indique comment interagir avec l'API:\n",
    "    - quelle url\n",
    "    - quelle méthode http (GET, POST, ...)\n",
    "    - quels paramètres\n",
    "    - ...\n",
    "→ idéal pour les développeurs"
   ]
  },
  {
   "cell_type": "markdown",
   "metadata": {},
   "source": [
    "### Quel intérêt pour le fournisseur d'API ?\n",
    "\n",
    "En général il met en place des quotas de requêtes ou d'autres limitations afin de proposer un service payant qui dispose de possibilités avancées / d'un meilleur support / etc.\n",
    "\n",
    "C'est pourquoi de nombreux services nécessitent de se connecter avec son compte client pour utiliser une API (e.g. https://openweathermap.org/api)"
   ]
  },
  {
   "cell_type": "markdown",
   "metadata": {},
   "source": [
    "#### **Basic Auth**\n",
    "\n",
    "Exemple: accéder à https://kim.fspot.org/private/\n",
    "\n",
    "Pour y accéder il est nécessaire d'utiliser les credentials suivant:\n",
    "- login: admin\n",
    "- password: secret\n",
    "\n",
    "Si on ne les passe pas (ou si on ne passe pas les bons), on a une erreur 401 (= unauthorized)."
   ]
  },
  {
   "cell_type": "code",
   "execution_count": null,
   "metadata": {},
   "outputs": [],
   "source": [
    "# sans login/password\n",
    "res = requests.get('https://kim.fspot.org/private')\n",
    "res"
   ]
  },
  {
   "cell_type": "code",
   "execution_count": null,
   "metadata": {},
   "outputs": [],
   "source": [
    "# avec login password\n",
    "res = requests.get('https://kim.fspot.org/private', auth=('admin', 'secret'))\n",
    "res"
   ]
  },
  {
   "cell_type": "code",
   "execution_count": null,
   "metadata": {},
   "outputs": [],
   "source": [
    "# contenu\n",
    "res.content.decode('utf-8')"
   ]
  },
  {
   "cell_type": "markdown",
   "metadata": {},
   "source": [
    "#### Auth par token\n",
    "\n",
    "Exemple sur openweathermap :\n",
    "- documentation: https://openweathermap.org/appid\n",
    "- mes tokens: https://home.openweathermap.org/api_keys"
   ]
  },
  {
   "cell_type": "code",
   "execution_count": null,
   "metadata": {},
   "outputs": [],
   "source": [
    "# requête avec un token\n",
    "token = ''"
   ]
  },
  {
   "cell_type": "markdown",
   "metadata": {},
   "source": [
    "Avantage des tokens:\n",
    "- évite que les requêtes HTTP contiennent le mot de passe - à la place elles contiennent un token\n",
    "- si je me fais \"voler\" un token, je peux le supprimer de mon compte\n",
    "- certains services fournissent des token plus ou moins limités : ainsi je peux accepter de prêter un token à quelqu'un d'autre si je sais qu'il ne pourra en faire qu'un usage restreint (e.g app facebook: voir mes infos de profil, pas publier des posts à ma place)"
   ]
  },
  {
   "cell_type": "code",
   "execution_count": null,
   "metadata": {},
   "outputs": [],
   "source": [
    "# requête avec un token\n",
    "url = f'http://api.openweathermap.org/data/2.5/weather?APPID={token}&q=Paris'\n",
    "res = requests.get(url)\n",
    "\n",
    "meteo = res.json()\n",
    "meteo"
   ]
  },
  {
   "cell_type": "code",
   "execution_count": null,
   "metadata": {},
   "outputs": [],
   "source": [
    "# type\n",
    "type(meteo)"
   ]
  },
  {
   "cell_type": "code",
   "execution_count": null,
   "metadata": {},
   "outputs": [],
   "source": [
    "# extractions\n",
    "{'city': meteo['name'],\n",
    "'country': meteo['sys']['country'],\n",
    "'date': meteo['dt'],\n",
    "'temp': meteo['main']['temp'] - 273.15,}"
   ]
  },
  {
   "cell_type": "code",
   "execution_count": null,
   "metadata": {},
   "outputs": [],
   "source": [
    "# extractions\n",
    "import time\n",
    "\n",
    "{'city': meteo['name'],\n",
    "'country': meteo['sys']['country'],\n",
    "'date': time.strftime('%Y-%m-%d %H:%M:%S', time.localtime(meteo['dt'])),\n",
    "'temp': meteo['main']['temp'] - 273.15,}"
   ]
  }
 ],
 "metadata": {
  "kernelspec": {
   "display_name": "Python 3",
   "language": "python",
   "name": "python3"
  },
  "language_info": {
   "codemirror_mode": {
    "name": "ipython",
    "version": 3
   },
   "file_extension": ".py",
   "mimetype": "text/x-python",
   "name": "python",
   "nbconvert_exporter": "python",
   "pygments_lexer": "ipython3",
   "version": "3.7.6"
  }
 },
 "nbformat": 4,
 "nbformat_minor": 2
}
