{
 "cells": [
  {
   "cell_type": "code",
   "execution_count": 1,
   "metadata": {},
   "outputs": [],
   "source": [
    "# imports\n",
    "from bs4 import BeautifulSoup"
   ]
  },
  {
   "cell_type": "code",
   "execution_count": 296,
   "metadata": {},
   "outputs": [],
   "source": [
    "import unittest\n",
    "import requests\n",
    "import re\n",
    "\n",
    "URL_PAGE2 = \"https://kim.fspot.org/cours/page2.html\"\n",
    "URL_PAGE3 = \"https://kim.fspot.org/cours/page3.html\"\n",
    "\n",
    "# 1) Ecrire une fonction get_prices_from_url() qui extrait des informations à partir des 2 pages ci-dessus.\n",
    "# Exemple get_prices_from_url(URL_PAGE2) doit retourner :\n",
    "# {'Personal': {'price': '$5', 'storage': '1GB', 'databases': 1},\n",
    "#  'Small Business': {'price': '$25', 'storage': '10GB', 'databases': 5},\n",
    "#  'Enterprise': {'price': '$45', 'storage': '100GB', 'databases': 25}}\n",
    "\n",
    "def get_prices_from_url(url):\n",
    "    prices = {}\n",
    "    r = requests.get(url)\n",
    "    content = r.content.decode('utf-8')\n",
    "    soup = BeautifulSoup(content)\n",
    "    for i in range(len(soup.find_all('h2'))):\n",
    "        prix = soup.find_all('span', {'class': \"pricing-table-price\"})[i].text\n",
    "        tab = soup.find_all('ul', {'class': \"pricing-table-list\"})[i]\n",
    "        stor = tab.find_all('li')[3].text\n",
    "        data = tab.find_all('li')[4].text        \n",
    "        \n",
    "        prices[soup.find_all('h2')[i].text] = {'price': re.findall('[0-9$]+', prix)[0],\n",
    "                                               'storage':re.findall('[0-9A-Z]+', stor)[0],\n",
    "                                              'databases': data}\n",
    "    return prices\n",
    "\n",
    "\n",
    "# 2) Ecrire une fonction qui extrait des informations sur une bière de beowulf\n",
    "# Exemple URL: https://www.beerwulf.com/fr-fr/p/bieres/brouwerij-t-verzet-super-noah.33\n",
    "\n",
    "def extract_beer_infos(url):\n",
    "    r = requests.get(url)\n",
    "    content = r.content.decode('utf-8')\n",
    "    soup = BeautifulSoup(content)\n",
    "    \n",
    "    \n",
    "    infos = {\n",
    "        'name': soup.find_all('h1')[0].text,\n",
    "        'note': soup.find_all('div', {'class' : \"stars\"})[0]['data-percent'],\n",
    "        'price': re.findall('[0-9,]+',soup.find_all('span', {'class' : \"price\"})[0].text)[0],\n",
    "        'volume': re.findall('[0-9 cl]+',soup.find_all('div', {'class' : \"product-subtext\"})[0].text)[-1],\n",
    "    }\n",
    "    return infos\n"
   ]
  },
  {
   "cell_type": "code",
   "execution_count": 297,
   "metadata": {
    "scrolled": true
   },
   "outputs": [
    {
     "data": {
      "text/plain": [
       "{'name': \"Brouwerij 'T Verzet Super NoAH\",\n",
       " 'note': '70',\n",
       " 'price': '2,59',\n",
       " 'volume': ' 33 cl'}"
      ]
     },
     "execution_count": 297,
     "metadata": {},
     "output_type": "execute_result"
    }
   ],
   "source": [
    "infos = extract_beer_infos('https://www.beerwulf.com/fr-fr/p/bieres/brouwerij-t-verzet-super-noah.33')\n",
    "infos"
   ]
  },
  {
   "cell_type": "code",
   "execution_count": 298,
   "metadata": {
    "scrolled": true
   },
   "outputs": [
    {
     "ename": "AttributeError",
     "evalue": "'dict' object has no attribute 'find_all'",
     "output_type": "error",
     "traceback": [
      "\u001b[0;31m---------------------------------------------------------------------------\u001b[0m",
      "\u001b[0;31mAttributeError\u001b[0m                            Traceback (most recent call last)",
      "\u001b[0;32m<ipython-input-298-15feb0f96ff0>\u001b[0m in \u001b[0;36m<module>\u001b[0;34m\u001b[0m\n\u001b[1;32m      1\u001b[0m \u001b[0;31m#re.findall('[0-9]+',infos.find_all('div', {'class' : \"stars\"}))\u001b[0m\u001b[0;34m\u001b[0m\u001b[0;34m\u001b[0m\u001b[0;34m\u001b[0m\u001b[0m\n\u001b[0;32m----> 2\u001b[0;31m \u001b[0minfos\u001b[0m\u001b[0;34m.\u001b[0m\u001b[0mfind_all\u001b[0m\u001b[0;34m(\u001b[0m\u001b[0;34m'div'\u001b[0m\u001b[0;34m,\u001b[0m \u001b[0;34m{\u001b[0m\u001b[0;34m'class'\u001b[0m \u001b[0;34m:\u001b[0m \u001b[0;34m\"stars\"\u001b[0m\u001b[0;34m}\u001b[0m\u001b[0;34m)\u001b[0m\u001b[0;34m[\u001b[0m\u001b[0;36m0\u001b[0m\u001b[0;34m]\u001b[0m\u001b[0;34m[\u001b[0m\u001b[0;34m'data-percent'\u001b[0m\u001b[0;34m]\u001b[0m\u001b[0;34m\u001b[0m\u001b[0;34m\u001b[0m\u001b[0m\n\u001b[0m",
      "\u001b[0;31mAttributeError\u001b[0m: 'dict' object has no attribute 'find_all'"
     ]
    }
   ],
   "source": [
    "#re.findall('[0-9]+',infos.find_all('div', {'class' : \"stars\"}))\n",
    "infos.find_all('div', {'class' : \"stars\"})[0]['data-percent']"
   ]
  },
  {
   "cell_type": "code",
   "execution_count": 141,
   "metadata": {},
   "outputs": [
    {
     "data": {
      "text/plain": [
       "' 33 cl'"
      ]
     },
     "execution_count": 141,
     "metadata": {},
     "output_type": "execute_result"
    }
   ],
   "source": [
    "re.findall('[0-9 cl]+',soup.find_all('div', {'class' : \"product-subtext\"})[0].text)[-1]"
   ]
  },
  {
   "cell_type": "code",
   "execution_count": 68,
   "metadata": {},
   "outputs": [
    {
     "data": {
      "text/plain": [
       "[<span class=\"pricing-table-price\">\n",
       "                         $5 <span>per month</span>\n",
       " </span>,\n",
       " <span class=\"pricing-table-price\">\n",
       "                         $25 <span>per month</span>\n",
       " </span>,\n",
       " <span class=\"pricing-table-price\">\n",
       "                         $45 <span>per month</span>\n",
       " </span>]"
      ]
     },
     "execution_count": 68,
     "metadata": {},
     "output_type": "execute_result"
    }
   ],
   "source": [
    "soup.find_all('span', {'class': \"pricing-table-price\"})"
   ]
  },
  {
   "cell_type": "code",
   "execution_count": null,
   "metadata": {},
   "outputs": [],
   "source": [
    "text = soup.find_all('span', {'class': \"pricing-table-price\"})[1].text\n",
    "text"
   ]
  },
  {
   "cell_type": "code",
   "execution_count": 34,
   "metadata": {},
   "outputs": [
    {
     "data": {
      "text/plain": [
       "['$25']"
      ]
     },
     "execution_count": 34,
     "metadata": {},
     "output_type": "execute_result"
    }
   ],
   "source": [
    "re.findall('[0-9$]+', text)"
   ]
  },
  {
   "cell_type": "code",
   "execution_count": 95,
   "metadata": {},
   "outputs": [
    {
     "data": {
      "text/plain": [
       "'1GB'"
      ]
     },
     "execution_count": 95,
     "metadata": {},
     "output_type": "execute_result"
    }
   ],
   "source": [
    "text = soup.find_all('ul', {'class': \"pricing-table-list\"})[0]\n",
    "text = text.find_all('li')[3].text\n",
    "a = re.findall('[0-9A-Z]+', text)\n",
    "a[0]"
   ]
  },
  {
   "cell_type": "code",
   "execution_count": 302,
   "metadata": {},
   "outputs": [],
   "source": [
    "def get_prices_from_url(url):\n",
    "    prices = {}\n",
    "    r = requests.get(url)\n",
    "    content = r.content.decode('utf-8')\n",
    "    soup = BeautifulSoup(content)\n",
    "    for i in range(len(soup.find_all('h2'))):\n",
    "        prix = soup.find_all('span', {'class': \"pricing-table-price\"})[i].text\n",
    "        tab = soup.find_all('ul', {'class': \"pricing-table-list\"})[i]\n",
    "        stor = tab.find_all('li')[3].text\n",
    "        data = tab.find_all('li')[4].text        \n",
    "        \n",
    "        prices[soup.find_all('h2')[i].text] = {'price': re.findall('[0-9$]+', prix)[0],\n",
    "                                               'storage':re.findall('[0-9A-Z]+', stor)[0],\n",
    "                                              'databases': re.findall('[0-9]+', data)[0]}\n",
    "    return prices\n"
   ]
  },
  {
   "cell_type": "code",
   "execution_count": 303,
   "metadata": {},
   "outputs": [
    {
     "data": {
      "text/plain": [
       "{'Personal': {'price': '$5', 'storage': '1GB', 'databases': '1'},\n",
       " 'Small Business': {'price': '$25', 'storage': '10GB', 'databases': '5'},\n",
       " 'Enterprise': {'price': '$45', 'storage': '100GB', 'databases': '25'}}"
      ]
     },
     "execution_count": 303,
     "metadata": {},
     "output_type": "execute_result"
    }
   ],
   "source": [
    "get_prices_from_url(URL_PAGE2)"
   ]
  },
  {
   "cell_type": "code",
   "execution_count": null,
   "metadata": {},
   "outputs": [],
   "source": []
  },
  {
   "cell_type": "code",
   "execution_count": 290,
   "metadata": {},
   "outputs": [],
   "source": [
    "import json\n",
    "from multiprocessing import Pool\n",
    "# Cette URL retourne un JSON avec une liste de bières\n",
    "URL_BEERLIST_AUTRICHE = \"https://www.beerwulf.com/fr-FR/api/search/searchProducts?country=Autriche&container=Bouteille\"\n",
    "\n",
    "# 3) Ecrire une fonction qui prend l'argument \"url\" retourne les informations sur une liste de bière via l'API de beowulf.\n",
    "# Cette fonction doit retourner la liste des informations obtenues par la fonction extract_beer_infos() définie ci-dessus.\n",
    "# Chercher comment optimiser cette fonction en utilisant multiprocessing.Pool pour paralléliser les accès web.\n",
    "#\n",
    "# Exemple de retour :\n",
    "# [{'name': 'Engelszell Benno', 'note': 70, 'price': 4.29, 'volume': 33},\n",
    "#  {'name': 'Engelszell Trappisten Weiße', 'note': 70, 'price': 3.39, 'volume': 33}\n",
    "#  {'name': 'Engelszell Gregorius', 'note': 70, 'price': 4.49, 'volume': 33}\n",
    "#  {'name': 'Bevog Rudeen Black IPA', 'note': 80, 'price': 4.49, 'volume': 33}\n",
    "#  {'name': 'Bevog Tak Pale Ale', 'note': 70, 'price': 2.79, 'volume': 33}\n",
    "#  {'name': 'Brew Age Affenkönig', 'note': 70, 'price': 3.49, 'volume': 33}\n",
    "#  {'name': 'Stiegl Goldbraü', 'note': 70, 'price': 2.49, 'volume': 33}\n",
    "#  {'name': 'Stiegl Columbus 1492', 'note': 70, 'price': 2.49, 'volume': 33}\n",
    "#  {'name': 'Brew Age Hopfenauflauf', 'note': 70, 'price': 2.99, 'volume': 33}]\n",
    "\n",
    "def extract_beer_list_infos(url):\n",
    "    data = requests.get(url)\n",
    "    data = data.json()\n",
    "    \n",
    "    # API JSON\n",
    "    #response = requests.get(f'https://api.deezer.com/artist/{artist}')\n",
    "    #data = response.json()\n",
    "    #data\n",
    "    \n",
    "    # Collecter les pages de bières à partir du JSON\n",
    "    beer_pages = []\n",
    "    for i in range(len(data['items'])):\n",
    "        beer_pages.append('https://www.beerwulf.com' + data['items'][i]['contentReference'])\n",
    "    \n",
    "    # Sequential version (slow):\n",
    "    #beers = []\n",
    "    #for page in beer_pages:\n",
    "    #    beers.append(extract_beer_infos(page))\n",
    "\n",
    "    # Parallel version (faster):\n",
    "    beers = []\n",
    "    with Pool(processes=9) as pool:\n",
    "        beers = pool.map(extract_beer_infos, beer_pages)\n",
    "    \n",
    "\n",
    "    return beers\n"
   ]
  },
  {
   "cell_type": "code",
   "execution_count": 291,
   "metadata": {},
   "outputs": [
    {
     "data": {
      "text/plain": [
       "<Response [200]>"
      ]
     },
     "execution_count": 291,
     "metadata": {},
     "output_type": "execute_result"
    }
   ],
   "source": [
    "data = requests.get(URL_BEERLIST_AUTRICHE)\n",
    "data"
   ]
  },
  {
   "cell_type": "code",
   "execution_count": 271,
   "metadata": {},
   "outputs": [
    {
     "data": {
      "text/plain": [
       "['https://www.beerwulf.com/fr-fr/p/bieres/engelzell-trappisten-weibe-bottle-.33',\n",
       " 'https://www.beerwulf.com/fr-fr/p/bieres/engelszell-gregorius.33',\n",
       " 'https://www.beerwulf.com/fr-fr/p/bieres/engelszell-benno.33',\n",
       " 'https://www.beerwulf.com/fr-fr/p/bieres/bevog-rudeen-black-ipa.33',\n",
       " 'https://www.beerwulf.com/fr-fr/p/bieres/brew-age-affenkonig.33',\n",
       " 'https://www.beerwulf.com/fr-fr/p/bieres/bevog-tak-pale-ale.33',\n",
       " 'https://www.beerwulf.com/fr-fr/p/bieres/stiegl-goldbrau.33',\n",
       " 'https://www.beerwulf.com/fr-fr/p/bieres/stiegl-columbus-149233',\n",
       " 'https://www.beerwulf.com/fr-fr/p/bieres/brew-age-hopfenauflauf.33']"
      ]
     },
     "execution_count": 271,
     "metadata": {},
     "output_type": "execute_result"
    }
   ],
   "source": [
    "beer_pages = []\n",
    "for i in range(len(data['items'])):\n",
    "    beer_pages.append('https://www.beerwulf.com' + data['items'][i]['contentReference'])\n",
    "beer_pages"
   ]
  },
  {
   "cell_type": "code",
   "execution_count": 286,
   "metadata": {},
   "outputs": [],
   "source": [
    "beers = []\n",
    "for page in beer_pages:\n",
    "    beers.append(extract_beer_infos(page))"
   ]
  },
  {
   "cell_type": "code",
   "execution_count": 292,
   "metadata": {},
   "outputs": [
    {
     "data": {
      "text/plain": [
       "[{'name': 'Engelszell Trappisten Weiße',\n",
       "  'note': '70',\n",
       "  'price': '3,39',\n",
       "  'volume': ' 33 cl'},\n",
       " {'name': 'Engelszell Gregorius',\n",
       "  'note': '70',\n",
       "  'price': '4,49',\n",
       "  'volume': ' 33 cl'},\n",
       " {'name': 'Engelszell Benno',\n",
       "  'note': '70',\n",
       "  'price': '4,29',\n",
       "  'volume': ' 33 cl'},\n",
       " {'name': 'Bevog Rudeen Black IPA',\n",
       "  'note': '80',\n",
       "  'price': '4,49',\n",
       "  'volume': ' 33 cl'},\n",
       " {'name': 'Bevog Tak Pale Ale',\n",
       "  'note': '70',\n",
       "  'price': '2,79',\n",
       "  'volume': ' 33 cl'},\n",
       " {'name': 'Brew Age Affenkönig',\n",
       "  'note': '70',\n",
       "  'price': '3,49',\n",
       "  'volume': ' 33 cl'},\n",
       " {'name': 'Stiegl Goldbraü',\n",
       "  'note': '70',\n",
       "  'price': '2,49',\n",
       "  'volume': ' 33 cl'},\n",
       " {'name': 'Stiegl Columbus 1492',\n",
       "  'note': '70',\n",
       "  'price': '2,49',\n",
       "  'volume': ' 33 cl'},\n",
       " {'name': 'Brew Age Hopfenauflauf',\n",
       "  'note': '70',\n",
       "  'price': '2,99',\n",
       "  'volume': ' 33 cl'}]"
      ]
     },
     "execution_count": 292,
     "metadata": {},
     "output_type": "execute_result"
    }
   ],
   "source": [
    "extract_beer_list_infos(URL_BEERLIST_AUTRICHE)"
   ]
  },
  {
   "cell_type": "code",
   "execution_count": 280,
   "metadata": {},
   "outputs": [],
   "source": [
    "Pool?"
   ]
  },
  {
   "cell_type": "code",
   "execution_count": 289,
   "metadata": {},
   "outputs": [
    {
     "data": {
      "text/plain": [
       "[{'name': 'Engelszell Trappisten Weiße',\n",
       "  'note': '70',\n",
       "  'price': '3,39',\n",
       "  'volume': ' 33 cl'},\n",
       " {'name': 'Engelszell Gregorius',\n",
       "  'note': '70',\n",
       "  'price': '4,49',\n",
       "  'volume': ' 33 cl'},\n",
       " {'name': 'Engelszell Benno',\n",
       "  'note': '70',\n",
       "  'price': '4,29',\n",
       "  'volume': ' 33 cl'},\n",
       " {'name': 'Bevog Rudeen Black IPA',\n",
       "  'note': '80',\n",
       "  'price': '4,49',\n",
       "  'volume': ' 33 cl'},\n",
       " {'name': 'Brew Age Affenkönig',\n",
       "  'note': '70',\n",
       "  'price': '3,49',\n",
       "  'volume': ' 33 cl'},\n",
       " {'name': 'Bevog Tak Pale Ale',\n",
       "  'note': '70',\n",
       "  'price': '2,79',\n",
       "  'volume': ' 33 cl'},\n",
       " {'name': 'Stiegl Goldbraü',\n",
       "  'note': '70',\n",
       "  'price': '2,49',\n",
       "  'volume': ' 33 cl'},\n",
       " {'name': 'Stiegl Columbus 1492',\n",
       "  'note': '70',\n",
       "  'price': '2,49',\n",
       "  'volume': ' 33 cl'},\n",
       " {'name': 'Brew Age Hopfenauflauf',\n",
       "  'note': '70',\n",
       "  'price': '2,99',\n",
       "  'volume': ' 33 cl'}]"
      ]
     },
     "execution_count": 289,
     "metadata": {},
     "output_type": "execute_result"
    }
   ],
   "source": [
    "beers = []\n",
    "with Pool(processes=len(beer_pages)) as pool:\n",
    "    beers = pool.map(extract_beer_infos, beer_pages)\n",
    "beers"
   ]
  },
  {
   "cell_type": "code",
   "execution_count": 288,
   "metadata": {},
   "outputs": [
    {
     "data": {
      "text/plain": [
       "9"
      ]
     },
     "execution_count": 288,
     "metadata": {},
     "output_type": "execute_result"
    }
   ],
   "source": [
    "len(beer_pages)"
   ]
  },
  {
   "cell_type": "code",
   "execution_count": 307,
   "metadata": {},
   "outputs": [
    {
     "name": "stderr",
     "output_type": "stream",
     "text": [
      "test_01_get_prices_from_url_page2 (__main__.Lesson3Tests) ... ok\n",
      "test_02_get_prices_from_url_page3 (__main__.Lesson3Tests) ... ok\n",
      "test_03_extract_beer_list_infos (__main__.Lesson3Tests) ... ok\n",
      "\n",
      "----------------------------------------------------------------------\n",
      "Ran 3 tests in 1.288s\n",
      "\n",
      "OK\n"
     ]
    }
   ],
   "source": [
    "# coding: utf-8\n",
    "\n",
    "import unittest\n",
    "import requests\n",
    "#from bs4 import beautifulsoup\n",
    "\n",
    "URL_PAGE2 = \"https://kim.fspot.org/cours/page2.html\"\n",
    "URL_PAGE3 = \"https://kim.fspot.org/cours/page3.html\"\n",
    "\n",
    "# 1) Ecrire une fonction get_prices_from_url() qui extrait des informations à partir des 2 pages ci-dessus.\n",
    "# Exemple get_prices_from_url(URL_PAGE2) doit retourner :\n",
    "# {'Personal': {'price': '$5', 'storage': '1GB', 'databases': 1},\n",
    "#  'Small Business': {'price': '$25', 'storage': '10GB', 'databases': 5},\n",
    "#  'Enterprise': {'price': '$45', 'storage': '100GB', 'databases': 25}}\n",
    "\n",
    "def get_prices_from_url(url):\n",
    "    prices = {}\n",
    "    r = requests.get(url)\n",
    "    content = r.content.decode('utf-8')\n",
    "    soup = BeautifulSoup(content)\n",
    "    for i in range(len(soup.find_all('h2'))):\n",
    "        prix = soup.find_all('span', {'class': \"pricing-table-price\"})[i].text\n",
    "        tab = soup.find_all('ul', {'class': \"pricing-table-list\"})[i]\n",
    "        stor = tab.find_all('li')[3].text\n",
    "        data = tab.find_all('li')[4].text        \n",
    "        \n",
    "        prices[soup.find_all('h2')[i].text] = {'price': re.findall('[0-9$]+', prix)[0],\n",
    "                                               'storage':re.findall('[0-9A-Z]+', stor)[0],\n",
    "                                              'databases': int(re.findall('[0-9]+', data)[0])}\n",
    "    return prices\n",
    "\n",
    "\n",
    "# 2) Ecrire une fonction qui extrait des informations sur une bière de beowulf\n",
    "# Exemple URL: https://www.beerwulf.com/fr-fr/p/bieres/brouwerij-t-verzet-super-noah.33\n",
    "\n",
    "def extract_beer_infos(url):\n",
    "    r = requests.get(url)\n",
    "    content = r.content.decode('utf-8')\n",
    "    soup = BeautifulSoup(content)\n",
    "       \n",
    "    infos = {\n",
    "        'name': soup.find_all('h1')[0].text,\n",
    "        'note': soup.find_all('div', {'class' : \"stars\"})[0]['data-percent'],\n",
    "        'price': re.findall('[0-9,]+',soup.find_all('span', {'class' : \"price\"})[0].text)[0],\n",
    "        'volume': int(re.findall('[0-9]+',soup.find_all('div', {'class' : \"product-subtext\"})[0].text)[-1]),\n",
    "    }\n",
    "    return infos\n",
    "\n",
    "\n",
    "import json\n",
    "from multiprocessing import Pool\n",
    "# Cette URL retourne un JSON avec une liste de bières\n",
    "URL_BEERLIST_AUTRICHE = \"https://www.beerwulf.com/fr-FR/api/search/searchProducts?country=Autriche&container=Bouteille\"\n",
    "\n",
    "# 3) Ecrire une fonction qui prend l'argument \"url\" retourne les informations sur une liste de bière via l'API de beowulf.\n",
    "# Cette fonction doit retourner la liste des informations obtenues par la fonction extract_beer_infos() définie ci-dessus.\n",
    "# Chercher comment optimiser cette fonction en utilisant multiprocessing.Pool pour paralléliser les accès web.\n",
    "#\n",
    "# Exemple de retour :\n",
    "# [{'name': 'Engelszell Benno', 'note': 70, 'price': 4.29, 'volume': 33},\n",
    "#  {'name': 'Engelszell Trappisten Weiße', 'note': 70, 'price': 3.39, 'volume': 33}\n",
    "#  {'name': 'Engelszell Gregorius', 'note': 70, 'price': 4.49, 'volume': 33}\n",
    "#  {'name': 'Bevog Rudeen Black IPA', 'note': 80, 'price': 4.49, 'volume': 33}\n",
    "#  {'name': 'Bevog Tak Pale Ale', 'note': 70, 'price': 2.79, 'volume': 33}\n",
    "#  {'name': 'Brew Age Affenkönig', 'note': 70, 'price': 3.49, 'volume': 33}\n",
    "#  {'name': 'Stiegl Goldbraü', 'note': 70, 'price': 2.49, 'volume': 33}\n",
    "#  {'name': 'Stiegl Columbus 1492', 'note': 70, 'price': 2.49, 'volume': 33}\n",
    "#  {'name': 'Brew Age Hopfenauflauf', 'note': 70, 'price': 2.99, 'volume': 33}]\n",
    "\n",
    "def extract_beer_list_infos(url):\n",
    "    data = requests.get(url)\n",
    "    data = data.json()\n",
    "    \n",
    "    # API JSON\n",
    "    #response = requests.get(f'https://api.deezer.com/artist/{artist}')\n",
    "    #data = response.json()\n",
    "    #data\n",
    "    \n",
    "    # Collecter les pages de bières à partir du JSON\n",
    "    beer_pages = []\n",
    "    for i in range(len(data['items'])):\n",
    "        beer_pages.append('https://www.beerwulf.com' + data['items'][i]['contentReference'])\n",
    "    \n",
    "    # Sequential version (slow):\n",
    "    #beers = []\n",
    "    #for page in beer_pages:\n",
    "    #    beers.append(extract_beer_infos(page))\n",
    "\n",
    "    # Parallel version (faster):\n",
    "    beers = []\n",
    "    with Pool(processes=9) as pool:\n",
    "        beers = pool.map(extract_beer_infos, beer_pages)\n",
    "    \n",
    "\n",
    "    return beers\n",
    "\n",
    "\n",
    "class Lesson3Tests(unittest.TestCase):\n",
    "    def test_01_get_prices_from_url_page2(self):\n",
    "        prices = get_prices_from_url(URL_PAGE2)\n",
    "        # We should have found 3 products:\n",
    "        self.assertIsInstance(prices, dict)\n",
    "        self.assertEqual(len(prices), 3)\n",
    "        self.assertIn('Personal', prices)\n",
    "        self.assertIn('Small Business', prices)\n",
    "        self.assertIn('Enterprise', prices)\n",
    "\n",
    "        personal = prices['Personal']\n",
    "        self.assertIn('price', personal)\n",
    "        self.assertIn('storage', personal)\n",
    "        self.assertIn('databases', personal)\n",
    "        self.assertEqual(personal['price'], '$5')\n",
    "        self.assertEqual(personal['storage'], '1GB')\n",
    "        self.assertEqual(personal['databases'], 1)\n",
    "\n",
    "    def test_02_get_prices_from_url_page3(self):\n",
    "        prices = get_prices_from_url(URL_PAGE3)\n",
    "        self.assertIsInstance(prices, dict)\n",
    "        self.assertEqual(len(prices), 4)\n",
    "        self.assertEqual(\n",
    "            prices['Privilege'],\n",
    "            {'databases': 100, 'price': '$99', 'storage': '1TB'}\n",
    "        )\n",
    "\n",
    "    def test_03_extract_beer_list_infos(self):\n",
    "        infos = extract_beer_list_infos(URL_BEERLIST_AUTRICHE)\n",
    "        # >Il y a 9 bières autrichiennes :\n",
    "        self.assertIsInstance(infos, list)\n",
    "        self.assertEqual(len(infos), 9)\n",
    "        # toutes ont 33cl :\n",
    "        for beer in infos:\n",
    "            self.assertEqual(beer['volume'], 33)\n",
    "\n",
    "\n",
    "def run_tests():\n",
    "    test_suite = unittest.makeSuite(Lesson3Tests)\n",
    "    runner = unittest.TextTestRunner(verbosity=2)\n",
    "    runner.run(test_suite)\n",
    "\n",
    "\n",
    "if __name__ == '__main__':\n",
    "    run_tests()\n"
   ]
  },
  {
   "cell_type": "code",
   "execution_count": null,
   "metadata": {},
   "outputs": [],
   "source": []
  }
 ],
 "metadata": {
  "kernelspec": {
   "display_name": "Python 3",
   "language": "python",
   "name": "python3"
  },
  "language_info": {
   "codemirror_mode": {
    "name": "ipython",
    "version": 3
   },
   "file_extension": ".py",
   "mimetype": "text/x-python",
   "name": "python",
   "nbconvert_exporter": "python",
   "pygments_lexer": "ipython3",
   "version": "3.7.6"
  }
 },
 "nbformat": 4,
 "nbformat_minor": 4
}
