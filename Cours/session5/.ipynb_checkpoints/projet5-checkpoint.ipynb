{
 "cells": [
  {
   "cell_type": "markdown",
   "metadata": {},
   "source": [
    "# Projet maison n° 5"
   ]
  },
  {
   "cell_type": "markdown",
   "metadata": {},
   "source": [
    "On s'intéresse au fichier sur la Couverture 2G, 3G, 4G en France par opérateur de juillet 2015 fourni par l'ARCEP : \"couverture-2g-3g-4g-en-france-par-operateur-juillet-2015.csv\".\n",
    "\n",
    "[°] Ce fichier donne le taux de couverture par commune, par opérateur (Orange France, Bouygues Telecom, SFR, Free Mobile, Tout Opérateur), par type de couverture (Couverture population, Couverture surfacique) et par réseau (2G, 3G, 4G).\n",
    "\n",
    "1. Chargez le fichier dans un DataFrame.\n",
    "2. Transformez ce DataFrame large en un DataFrame long en isolant les colonnes d'identification d'une part et les colonnes de valeurs de couverture d'autre part.\n",
    "3. Rajoutez 3 colonnes \"Opérateur\", \"Type Couverture\" et \"Réseau\" calculées à partir de la colonne \"variable\" obtenue en 2 (utilisez les valeurs indiquées entre parenthèses ci-dessus [°]).\n",
    "4. A partir de ce DataFrame, obtenez un objet de type Series dont les valeurs correspondent à la colonne \"value\" obtenue en 2 et dont le multi-index contient les autres colonnes du DataFrame sauf la colonne \"variable\" obtenue en 2. Puis remontez les index \"Opérateur\", \"Type Couverture\" et \"Réseau\" en colonnes multi-indexées. Vous devez obtenir un DataFrame avec 7 niveaux d'index et 3 niveaux de colonnes.\n",
    "5. Chargez le DataFrame des communes déjà utilisé (\"correspondance-code-insee-code-postal.csv\") et effectuez une jointure sur le code INSEE avec le DataFrame obtenu en 3.\n",
    "6. Pour le réseau 4G et la couverture surfacique, calculez la moyenne des couvertures par statut de commune et par opérateur. Pour quel couple (statut, opérateur) a-t-on la moyenne de la couverture la plus faible ?"
   ]
  },
  {
   "cell_type": "code",
   "execution_count": 232,
   "metadata": {},
   "outputs": [],
   "source": [
    "# import\n",
    "import pandas as pd\n",
    "import re"
   ]
  },
  {
   "cell_type": "code",
   "execution_count": 233,
   "metadata": {},
   "outputs": [],
   "source": [
    "# 1) Chargez le fichier dans un DataFrame\n",
    "def load_data():\n",
    "    df = pd.read_csv(\"couverture-2g-3g-4g-en-france-par-operateur-juillet-2015.csv\", sep = ';')\n",
    "    return df"
   ]
  },
  {
   "cell_type": "code",
   "execution_count": 241,
   "metadata": {},
   "outputs": [],
   "source": [
    "# 2) Transformez ce DataFrame large en un DataFrame long\n",
    "def data_wide2long():\n",
    "    df = load_data()\n",
    "    df_long = pd.melt(df, id_vars=['CODE POSTAL','CODE INSEE','NOM COMMUNE','CODE DEPARTEMENT','SURFACE COMMUNE (km²)',\n",
    "                              'POPULATION COMMUNE','coordonnees'])\n",
    "    return df_long"
   ]
  },
  {
   "cell_type": "code",
   "execution_count": 242,
   "metadata": {},
   "outputs": [],
   "source": [
    "# 3) Rajoutez 3 colonnes \"Opérateur\", \"Type Couverture\" et \"Réseau\"\n",
    "def data_add3columns():\n",
    "    op = []\n",
    "    type_couv = []\n",
    "    reseau = []\n",
    "\n",
    "    df = data_wide2long()\n",
    "    \n",
    "    for var in df['variable']: #Je n'ai pas réussi à le faire avec une regex\n",
    "        if 'Orange France' in var:\n",
    "            op.append('Orange France')\n",
    "        elif 'SFR' in var:\n",
    "            op.append('SFR')\n",
    "        elif 'Bouygues Telecom' in var:\n",
    "            op.append('Bouygues Telecom')\n",
    "        elif 'Free Mobile' in var:\n",
    "            op.append('Free Mobile')\n",
    "        elif 'Par au moins' in var:\n",
    "            op.append('Tout Opérateur')\n",
    "            \n",
    "        if 'population' in var:\n",
    "            type_couv.append('Couverture population')\n",
    "        else:\n",
    "            type_couv.append('Couverture surfacique')\n",
    "            \n",
    "        reseau.append(re.findall('[0-9G]+',var)[0])\n",
    "        \n",
    "    df['Opérateur'] = op\n",
    "    df['Type Couverture'] = type_couv\n",
    "    df['Réseau'] = reseau\n",
    "    #df = pd.DataFrame(columns=['Opérateur', 'Type Couverture', 'Réseau'])\n",
    "    return df"
   ]
  },
  {
   "cell_type": "code",
   "execution_count": 243,
   "metadata": {},
   "outputs": [],
   "source": [
    "# 4) Transformez ce DataFrame en multi-index\n",
    "def data_multi_index():\n",
    "    df = data_add3columns()\n",
    "    df = df.pivot_table(values='value', index=list(df.columns[:7]), columns=list(df.columns[-3:]))\n",
    "    return df"
   ]
  },
  {
   "cell_type": "code",
   "execution_count": 244,
   "metadata": {},
   "outputs": [],
   "source": [
    "# 5) Effectuez une jointure sur le code INSEE\n",
    "def data_join_geo():\n",
    "    df = data_add3columns()\n",
    "    df2 = pd.read_csv(\"../session2/correspondance-code-insee-code-postal.csv\",sep=';')\n",
    "    df = pd.merge(df,\n",
    "              df2,\n",
    "              left_on='CODE INSEE',\n",
    "              right_on='Code INSEE')\n",
    "    return df"
   ]
  },
  {
   "cell_type": "code",
   "execution_count": 250,
   "metadata": {},
   "outputs": [],
   "source": [
    "# 6) Pour quel couple (statut, opérateur) a-t-on la moyenne de la couverture la plus faible ?\n",
    "def data_get_worst_statut_operateur():\n",
    "    df = data_join_geo()\n",
    "    \n",
    "    worst_statut_operateur = df[(df['Réseau'] == '4G') & (df['Type Couverture'] == 'Couverture surfacique')]\\\n",
    "    .groupby(['Statut','Opérateur']).mean()['value'].idxmin()\n",
    "    \n",
    "    return worst_statut_operateur"
   ]
  },
  {
   "cell_type": "code",
   "execution_count": 251,
   "metadata": {},
   "outputs": [],
   "source": [
    "import unittest\n",
    "\n",
    "class Lesson5Tests(unittest.TestCase):\n",
    "    \n",
    "    def test_01_load_data(self):\n",
    "        df = load_data()\n",
    "        # test shape\n",
    "        self.assertEqual(df.shape, (36594, 37))\n",
    "        \n",
    "    def test_02_data_wide2long(self):\n",
    "        df = data_wide2long()\n",
    "        # test shape\n",
    "        self.assertEqual(df.shape, (1097820, 9))\n",
    "        \n",
    "    def test_03_data_add3columns(self):\n",
    "        df = data_add3columns()\n",
    "        # test \"Opérateur\" values\n",
    "        s1 = set(df['Opérateur'].unique())\n",
    "        s2 = set(['Orange France', 'Bouygues Telecom', 'SFR', 'Free Mobile', 'Tout Opérateur'])\n",
    "        self.assertSetEqual(s1, s2)\n",
    "        # test \"Type Couverture\" values\n",
    "        s1 = set(df['Type Couverture'].unique())\n",
    "        s2 = set(['Couverture population', 'Couverture surfacique'])\n",
    "        self.assertSetEqual(s1, s2)\n",
    "        # test \"Réseau\" values\n",
    "        s1 = set(df['Réseau'].unique())\n",
    "        s2 = set(['2G', '3G', '4G'])\n",
    "        self.assertSetEqual(s1, s2)\n",
    "        \n",
    "    def test_04_data_multi_index(self):\n",
    "        df = data_multi_index()\n",
    "        # test shape\n",
    "        self.assertEqual(df.shape, (36594, 30))\n",
    "        # test multi-index de l'index\n",
    "        self.assertEqual(len(df.index.levels), 7)\n",
    "        # test multi-index des columns\n",
    "        self.assertEqual(len(df.columns.levels), 3)\n",
    "        \n",
    "    def test_05_data_join_geo(self):\n",
    "        df = data_join_geo()\n",
    "        # test length\n",
    "        self.assertEqual(len(df), 1097820)\n",
    "        \n",
    "    def test_06_data_get_worst_statut_operateur(self):\n",
    "        statut_operateur = data_get_worst_statut_operateur()\n",
    "        # test length\n",
    "        self.assertEqual(statut_operateur, ('Commune simple', 'Free Mobile'))\n"
   ]
  },
  {
   "cell_type": "code",
   "execution_count": 252,
   "metadata": {},
   "outputs": [
    {
     "name": "stderr",
     "output_type": "stream",
     "text": [
      "test_01_load_data (__main__.Lesson5Tests) ... ok\n",
      "test_02_data_wide2long (__main__.Lesson5Tests) ... ok\n",
      "test_03_data_add3columns (__main__.Lesson5Tests) ... ok\n",
      "test_04_data_multi_index (__main__.Lesson5Tests) ... ok\n",
      "test_05_data_join_geo (__main__.Lesson5Tests) ... ok\n",
      "test_06_data_get_worst_statut_operateur (__main__.Lesson5Tests) ... ok\n",
      "\n",
      "----------------------------------------------------------------------\n",
      "Ran 6 tests in 27.272s\n",
      "\n",
      "OK\n"
     ]
    },
    {
     "data": {
      "text/plain": [
       "<unittest.runner.TextTestResult run=6 errors=0 failures=0>"
      ]
     },
     "execution_count": 252,
     "metadata": {},
     "output_type": "execute_result"
    }
   ],
   "source": [
    "# run tests\n",
    "test_suite = unittest.makeSuite(Lesson5Tests)\n",
    "runner = unittest.TextTestRunner(verbosity=2)\n",
    "runner.run(test_suite)"
   ]
  },
  {
   "cell_type": "code",
   "execution_count": null,
   "metadata": {},
   "outputs": [],
   "source": []
  }
 ],
 "metadata": {
  "kernelspec": {
   "display_name": "Python 3",
   "language": "python",
   "name": "python3"
  },
  "language_info": {
   "codemirror_mode": {
    "name": "ipython",
    "version": 3
   },
   "file_extension": ".py",
   "mimetype": "text/x-python",
   "name": "python",
   "nbconvert_exporter": "python",
   "pygments_lexer": "ipython3",
   "version": "3.7.6"
  }
 },
 "nbformat": 4,
 "nbformat_minor": 4
}
